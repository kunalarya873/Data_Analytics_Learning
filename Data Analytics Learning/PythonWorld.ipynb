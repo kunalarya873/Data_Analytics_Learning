{
 "cells": [
  {
   "cell_type": "markdown",
   "id": "38a7a471",
   "metadata": {},
   "source": [
    "Hello My First Python Program"
   ]
  },
  {
   "cell_type": "markdown",
   "id": "2d67ced4",
   "metadata": {},
   "source": [
    "# My name is Kunal"
   ]
  },
  {
   "cell_type": "code",
   "execution_count": 2,
   "id": "80f11b3f",
   "metadata": {},
   "outputs": [
    {
     "name": "stdout",
     "output_type": "stream",
     "text": [
      "Hello Python\n"
     ]
    }
   ],
   "source": [
    "print('Hello Python')"
   ]
  },
  {
   "cell_type": "code",
   "execution_count": null,
   "id": "e88ec8cb",
   "metadata": {},
   "outputs": [],
   "source": []
  }
 ],
 "metadata": {
  "kernelspec": {
   "display_name": "Python 3 (ipykernel)",
   "language": "python",
   "name": "python3"
  },
  "language_info": {
   "codemirror_mode": {
    "name": "ipython",
    "version": 3
   },
   "file_extension": ".py",
   "mimetype": "text/x-python",
   "name": "python",
   "nbconvert_exporter": "python",
   "pygments_lexer": "ipython3",
   "version": "3.10.9"
  }
 },
 "nbformat": 4,
 "nbformat_minor": 5
}

{
 "cells": [
  {
   "cell_type": "markdown",
   "id": "38a7a471",
   "metadata": {},
   "source": [
    "Hello My First Python Program"
   ]
  },
  {
   "cell_type": "markdown",
   "id": "2d67ced4",
   "metadata": {},
   "source": [
    "# My name is Kunal"
   ]
  },
  {
   "cell_type": "code",
   "execution_count": 2,
   "id": "80f11b3f",
   "metadata": {},
   "outputs": [
    {
     "name": "stdout",
     "output_type": "stream",
     "text": [
      "Hello Python\n"
     ]
    }
   ],
   "source": [
    "print('Hello Python')"
   ]
  },
  {
   "cell_type": "code",
   "execution_count": 4,
   "id": "e88ec8cb",
   "metadata": {},
   "outputs": [],
   "source": [
    "def sum_digits(n):\n",
    "    digits_n = list(str(n))\n",
    "    pass\n",
    "\n",
    "    my_sum =0\n",
    "    for k in digits_n:\n",
    "        my_sum += int(k)\n",
    "        pass\n",
    "    return my_sum"
   ]
  },
  {
   "cell_type": "code",
   "execution_count": 5,
   "id": "12ddfbc2",
   "metadata": {},
   "outputs": [
    {
     "data": {
      "text/plain": [
       "11"
      ]
     },
     "execution_count": 5,
     "metadata": {},
     "output_type": "execute_result"
    }
   ],
   "source": [
    "sum_digits(128)"
   ]
  },
  {
   "cell_type": "code",
   "execution_count": null,
   "id": "d2d62387",
   "metadata": {},
   "outputs": [],
   "source": []
  }
 ],
 "metadata": {
  "kernelspec": {
   "display_name": "Python 3 (ipykernel)",
   "language": "python",
   "name": "python3"
  },
  "language_info": {
   "codemirror_mode": {
    "name": "ipython",
    "version": 3
   },
   "file_extension": ".py",
   "mimetype": "text/x-python",
   "name": "python",
   "nbconvert_exporter": "python",
   "pygments_lexer": "ipython3",
   "version": "3.10.9"
  }
 },
 "nbformat": 4,
 "nbformat_minor": 5
}

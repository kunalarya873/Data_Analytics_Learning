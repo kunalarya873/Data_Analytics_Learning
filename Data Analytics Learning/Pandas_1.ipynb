{
 "cells": [
  {
   "cell_type": "code",
   "execution_count": 1,
   "id": "fa4f94da",
   "metadata": {},
   "outputs": [],
   "source": [
    "import pandas as pd"
   ]
  },
  {
   "cell_type": "code",
   "execution_count": 2,
   "id": "f0ab4ad1",
   "metadata": {},
   "outputs": [
    {
     "data": {
      "text/plain": [
       "0     5\n",
       "1     7\n",
       "2     9\n",
       "3   -10\n",
       "4    11\n",
       "dtype: int64"
      ]
     },
     "execution_count": 2,
     "metadata": {},
     "output_type": "execute_result"
    }
   ],
   "source": [
    "my_list=[5,7,9,-10,11] \n",
    "ds=pd.Series(my_list)\n",
    "ds"
   ]
  },
  {
   "cell_type": "code",
   "execution_count": 3,
   "id": "a03487d3",
   "metadata": {},
   "outputs": [
    {
     "data": {
      "text/plain": [
       "pandas.core.series.Series"
      ]
     },
     "execution_count": 3,
     "metadata": {},
     "output_type": "execute_result"
    }
   ],
   "source": [
    "type(ds)"
   ]
  },
  {
   "cell_type": "code",
   "execution_count": 4,
   "id": "69d535d5",
   "metadata": {},
   "outputs": [
    {
     "data": {
      "text/plain": [
       "9"
      ]
     },
     "execution_count": 4,
     "metadata": {},
     "output_type": "execute_result"
    }
   ],
   "source": [
    "ds[2]"
   ]
  },
  {
   "cell_type": "code",
   "execution_count": 5,
   "id": "45c2b586",
   "metadata": {},
   "outputs": [
    {
     "data": {
      "text/plain": [
       "1     7\n",
       "2     9\n",
       "3   -10\n",
       "dtype: int64"
      ]
     },
     "execution_count": 5,
     "metadata": {},
     "output_type": "execute_result"
    }
   ],
   "source": [
    "ds[1:4]"
   ]
  },
  {
   "cell_type": "code",
   "execution_count": 6,
   "id": "539ddce9",
   "metadata": {},
   "outputs": [
    {
     "data": {
      "text/plain": [
       "pandas.core.series.Series"
      ]
     },
     "execution_count": 6,
     "metadata": {},
     "output_type": "execute_result"
    }
   ],
   "source": [
    "type(ds[1:4])"
   ]
  },
  {
   "cell_type": "code",
   "execution_count": 7,
   "id": "80f9c523",
   "metadata": {},
   "outputs": [
    {
     "data": {
      "text/plain": [
       "numpy.int64"
      ]
     },
     "execution_count": 7,
     "metadata": {},
     "output_type": "execute_result"
    }
   ],
   "source": [
    "type(ds[2])"
   ]
  },
  {
   "cell_type": "code",
   "execution_count": 8,
   "id": "99fe937c",
   "metadata": {},
   "outputs": [
    {
     "data": {
      "text/plain": [
       "0     5.0\n",
       "1     7.0\n",
       "2     9.0\n",
       "3    10.0\n",
       "4    11.0\n",
       "5     1.2\n",
       "dtype: float64"
      ]
     },
     "execution_count": 8,
     "metadata": {},
     "output_type": "execute_result"
    }
   ],
   "source": [
    "my_list = [5, 7, 9, 10, 11, 1.2]\n",
    "ds=pd.Series(my_list)\n",
    "ds"
   ]
  },
  {
   "cell_type": "code",
   "execution_count": 9,
   "id": "9d96b5d1",
   "metadata": {},
   "outputs": [
    {
     "data": {
      "text/plain": [
       "9.0"
      ]
     },
     "execution_count": 9,
     "metadata": {},
     "output_type": "execute_result"
    }
   ],
   "source": [
    "ds[2]"
   ]
  },
  {
   "cell_type": "code",
   "execution_count": 10,
   "id": "f83858c0",
   "metadata": {},
   "outputs": [
    {
     "data": {
      "text/plain": [
       "1     7.0\n",
       "2     9.0\n",
       "3    10.0\n",
       "dtype: float64"
      ]
     },
     "execution_count": 10,
     "metadata": {},
     "output_type": "execute_result"
    }
   ],
   "source": [
    "ds[1:4]"
   ]
  },
  {
   "cell_type": "code",
   "execution_count": 11,
   "id": "e649441d",
   "metadata": {},
   "outputs": [
    {
     "data": {
      "text/plain": [
       "numpy.float64"
      ]
     },
     "execution_count": 11,
     "metadata": {},
     "output_type": "execute_result"
    }
   ],
   "source": [
    "type(ds[2])"
   ]
  },
  {
   "cell_type": "code",
   "execution_count": 12,
   "id": "4d078724",
   "metadata": {},
   "outputs": [
    {
     "data": {
      "text/plain": [
       "0        5\n",
       "1        7\n",
       "2        9\n",
       "3       10\n",
       "4       11\n",
       "5      1.2\n",
       "6    hello\n",
       "dtype: object"
      ]
     },
     "execution_count": 12,
     "metadata": {},
     "output_type": "execute_result"
    }
   ],
   "source": [
    "my_list = [5, 7, 9, 10, 11, 1.2, 'hello'] \n",
    "ds = pd.Series(my_list)\n",
    "ds"
   ]
  },
  {
   "cell_type": "code",
   "execution_count": 13,
   "id": "37a92bdf",
   "metadata": {},
   "outputs": [
    {
     "data": {
      "text/plain": [
       "9"
      ]
     },
     "execution_count": 13,
     "metadata": {},
     "output_type": "execute_result"
    }
   ],
   "source": [
    "ds[2]"
   ]
  },
  {
   "cell_type": "code",
   "execution_count": 14,
   "id": "45a25fd2",
   "metadata": {},
   "outputs": [
    {
     "data": {
      "text/plain": [
       "1.2"
      ]
     },
     "execution_count": 14,
     "metadata": {},
     "output_type": "execute_result"
    }
   ],
   "source": [
    "ds[5]"
   ]
  },
  {
   "cell_type": "code",
   "execution_count": 15,
   "id": "6368af7f",
   "metadata": {},
   "outputs": [
    {
     "data": {
      "text/plain": [
       "'hello'"
      ]
     },
     "execution_count": 15,
     "metadata": {},
     "output_type": "execute_result"
    }
   ],
   "source": [
    "ds[6]"
   ]
  },
  {
   "cell_type": "code",
   "execution_count": 16,
   "id": "6b485068",
   "metadata": {},
   "outputs": [
    {
     "data": {
      "text/plain": [
       "str"
      ]
     },
     "execution_count": 16,
     "metadata": {},
     "output_type": "execute_result"
    }
   ],
   "source": [
    "type(ds[6])"
   ]
  },
  {
   "cell_type": "code",
   "execution_count": 17,
   "id": "c1082ea7",
   "metadata": {},
   "outputs": [
    {
     "data": {
      "text/plain": [
       "float"
      ]
     },
     "execution_count": 17,
     "metadata": {},
     "output_type": "execute_result"
    }
   ],
   "source": [
    "type(ds[5])"
   ]
  },
  {
   "cell_type": "code",
   "execution_count": 18,
   "id": "2070adbc",
   "metadata": {},
   "outputs": [
    {
     "data": {
      "text/plain": [
       "array([5, 7, 9, 10, 11, 1.2, 'hello'], dtype=object)"
      ]
     },
     "execution_count": 18,
     "metadata": {},
     "output_type": "execute_result"
    }
   ],
   "source": [
    "ds.values"
   ]
  },
  {
   "cell_type": "code",
   "execution_count": 19,
   "id": "41c2b333",
   "metadata": {},
   "outputs": [
    {
     "data": {
      "text/plain": [
       "RangeIndex(start=0, stop=7, step=1)"
      ]
     },
     "execution_count": 19,
     "metadata": {},
     "output_type": "execute_result"
    }
   ],
   "source": [
    "ds.index"
   ]
  },
  {
   "cell_type": "code",
   "execution_count": 20,
   "id": "8c4f8685",
   "metadata": {},
   "outputs": [
    {
     "data": {
      "text/plain": [
       "numpy.ndarray"
      ]
     },
     "execution_count": 20,
     "metadata": {},
     "output_type": "execute_result"
    }
   ],
   "source": [
    "type(ds.values)"
   ]
  },
  {
   "cell_type": "code",
   "execution_count": 21,
   "id": "6f0299b7",
   "metadata": {},
   "outputs": [
    {
     "data": {
      "text/plain": [
       "Joe       5\n",
       "Kathy     7\n",
       "Tim       9\n",
       "Bob      11\n",
       "dtype: int64"
      ]
     },
     "execution_count": 21,
     "metadata": {},
     "output_type": "execute_result"
    }
   ],
   "source": [
    "my_list = [5, 7, 9, 11]\n",
    "my_index = ['Joe', 'Kathy', 'Tim', 'Bob'] \n",
    "ds = pd.Series(my_list, index=my_index) \n",
    "ds"
   ]
  },
  {
   "cell_type": "code",
   "execution_count": 22,
   "id": "4e63bf02",
   "metadata": {},
   "outputs": [
    {
     "data": {
      "text/plain": [
       "5"
      ]
     },
     "execution_count": 22,
     "metadata": {},
     "output_type": "execute_result"
    }
   ],
   "source": [
    "ds['Joe']"
   ]
  },
  {
   "cell_type": "code",
   "execution_count": 23,
   "id": "767a2fae",
   "metadata": {},
   "outputs": [
    {
     "data": {
      "text/plain": [
       "11"
      ]
     },
     "execution_count": 23,
     "metadata": {},
     "output_type": "execute_result"
    }
   ],
   "source": [
    "ds['Bob']"
   ]
  },
  {
   "cell_type": "code",
   "execution_count": 24,
   "id": "591f6fa2",
   "metadata": {},
   "outputs": [
    {
     "data": {
      "text/plain": [
       "Tim      9\n",
       "Kathy    7\n",
       "dtype: int64"
      ]
     },
     "execution_count": 24,
     "metadata": {},
     "output_type": "execute_result"
    }
   ],
   "source": [
    "ds[['Tim', 'Kathy']]"
   ]
  },
  {
   "cell_type": "code",
   "execution_count": 25,
   "id": "9f42c48c",
   "metadata": {},
   "outputs": [
    {
     "data": {
      "text/plain": [
       "Joe      10\n",
       "Kathy    12\n",
       "Tim      14\n",
       "Bob      16\n",
       "dtype: int64"
      ]
     },
     "execution_count": 25,
     "metadata": {},
     "output_type": "execute_result"
    }
   ],
   "source": [
    "ds+5"
   ]
  },
  {
   "cell_type": "code",
   "execution_count": 26,
   "id": "c235b639",
   "metadata": {},
   "outputs": [
    {
     "data": {
      "text/plain": [
       "Joe      30\n",
       "Kathy    42\n",
       "Tim      54\n",
       "Bob      66\n",
       "dtype: int64"
      ]
     },
     "execution_count": 26,
     "metadata": {},
     "output_type": "execute_result"
    }
   ],
   "source": [
    "ds*6"
   ]
  },
  {
   "cell_type": "code",
   "execution_count": 27,
   "id": "7a717209",
   "metadata": {},
   "outputs": [
    {
     "data": {
      "text/plain": [
       "count     4.000000\n",
       "mean      8.000000\n",
       "std       2.581989\n",
       "min       5.000000\n",
       "25%       6.500000\n",
       "50%       8.000000\n",
       "75%       9.500000\n",
       "max      11.000000\n",
       "dtype: float64"
      ]
     },
     "execution_count": 27,
     "metadata": {},
     "output_type": "execute_result"
    }
   ],
   "source": [
    "ds.describe()"
   ]
  },
  {
   "cell_type": "code",
   "execution_count": 28,
   "id": "ae378711",
   "metadata": {},
   "outputs": [],
   "source": [
    "my_bool=ds.isin([5])"
   ]
  },
  {
   "cell_type": "code",
   "execution_count": 29,
   "id": "ae5543a2",
   "metadata": {},
   "outputs": [
    {
     "data": {
      "text/plain": [
       "Joe       True\n",
       "Kathy    False\n",
       "Tim      False\n",
       "Bob      False\n",
       "dtype: bool"
      ]
     },
     "execution_count": 29,
     "metadata": {},
     "output_type": "execute_result"
    }
   ],
   "source": [
    "my_bool"
   ]
  },
  {
   "cell_type": "code",
   "execution_count": 30,
   "id": "9ff823d1",
   "metadata": {},
   "outputs": [],
   "source": [
    "my_bool=ds.isin([5,7])"
   ]
  },
  {
   "cell_type": "code",
   "execution_count": 31,
   "id": "083d5004",
   "metadata": {},
   "outputs": [
    {
     "data": {
      "text/plain": [
       "Joe      5\n",
       "Kathy    7\n",
       "dtype: int64"
      ]
     },
     "execution_count": 31,
     "metadata": {},
     "output_type": "execute_result"
    }
   ],
   "source": [
    "ds[my_bool]"
   ]
  },
  {
   "cell_type": "code",
   "execution_count": 32,
   "id": "9bd8f44a",
   "metadata": {},
   "outputs": [
    {
     "data": {
      "text/plain": [
       "Joe      False\n",
       "Kathy    False\n",
       "Tim       True\n",
       "Bob       True\n",
       "dtype: bool"
      ]
     },
     "execution_count": 32,
     "metadata": {},
     "output_type": "execute_result"
    }
   ],
   "source": [
    "condition1 = ds >7\n",
    "condition1"
   ]
  },
  {
   "cell_type": "code",
   "execution_count": 33,
   "id": "43b2603d",
   "metadata": {},
   "outputs": [
    {
     "data": {
      "text/plain": [
       "Tim     9\n",
       "Bob    11\n",
       "dtype: int64"
      ]
     },
     "execution_count": 33,
     "metadata": {},
     "output_type": "execute_result"
    }
   ],
   "source": [
    "ds[condition1]"
   ]
  },
  {
   "cell_type": "code",
   "execution_count": 34,
   "id": "d1e96130",
   "metadata": {},
   "outputs": [
    {
     "data": {
      "text/plain": [
       "Joe    5\n",
       "Tim    9\n",
       "dtype: int64"
      ]
     },
     "execution_count": 34,
     "metadata": {},
     "output_type": "execute_result"
    }
   ],
   "source": [
    "ds[ds.isin([5,9])]"
   ]
  },
  {
   "cell_type": "code",
   "execution_count": 35,
   "id": "973f0f25",
   "metadata": {},
   "outputs": [
    {
     "data": {
      "text/plain": [
       "Tim     9\n",
       "Bob    11\n",
       "dtype: int64"
      ]
     },
     "execution_count": 35,
     "metadata": {},
     "output_type": "execute_result"
    }
   ],
   "source": [
    "ds[ds>7]"
   ]
  },
  {
   "cell_type": "code",
   "execution_count": 36,
   "id": "bf23606d",
   "metadata": {},
   "outputs": [
    {
     "data": {
      "text/plain": [
       "True"
      ]
     },
     "execution_count": 36,
     "metadata": {},
     "output_type": "execute_result"
    }
   ],
   "source": [
    "'Tim' in ds"
   ]
  },
  {
   "cell_type": "code",
   "execution_count": 37,
   "id": "0c84d55b",
   "metadata": {},
   "outputs": [
    {
     "data": {
      "text/plain": [
       "Joe       4\n",
       "Kathy     5\n",
       "Tim       9\n",
       "Bob      11\n",
       "dtype: int64"
      ]
     },
     "execution_count": 37,
     "metadata": {},
     "output_type": "execute_result"
    }
   ],
   "source": [
    "my_dict = {'Joe': 4, 'Kathy':5, 'Tim':9, 'Bob': 11}\n",
    "ds = pd.Series(my_dict)\n",
    "ds"
   ]
  },
  {
   "cell_type": "code",
   "execution_count": 38,
   "id": "f57c035c",
   "metadata": {},
   "outputs": [
    {
     "name": "stderr",
     "output_type": "stream",
     "text": [
      "/var/folders/c6/0q4dv4cn42g5_ddh8w5xsb3r0000gn/T/ipykernel_2950/1056641333.py:3: FutureWarning: The series.append method is deprecated and will be removed from pandas in a future version. Use pandas.concat instead.\n",
      "  ds = ds1.append(ds2)\n"
     ]
    },
    {
     "data": {
      "text/plain": [
       "0    a\n",
       "1    b\n",
       "2    c\n",
       "3    d\n",
       "0    e\n",
       "1    f\n",
       "2    g\n",
       "dtype: object"
      ]
     },
     "execution_count": 38,
     "metadata": {},
     "output_type": "execute_result"
    }
   ],
   "source": [
    "ds1 = pd. Series (['a', 'b', 'c', 'd']) \n",
    "ds2 = pd.Series (['e', 'f', 'g']) \n",
    "ds = ds1.append(ds2)\n",
    "ds"
   ]
  },
  {
   "cell_type": "code",
   "execution_count": 39,
   "id": "7f182dca",
   "metadata": {},
   "outputs": [
    {
     "data": {
      "text/plain": [
       "0    a\n",
       "0    e\n",
       "dtype: object"
      ]
     },
     "execution_count": 39,
     "metadata": {},
     "output_type": "execute_result"
    }
   ],
   "source": [
    "ds[0]"
   ]
  },
  {
   "cell_type": "code",
   "execution_count": 40,
   "id": "7595ba17",
   "metadata": {},
   "outputs": [
    {
     "data": {
      "text/plain": [
       "0    a\n",
       "0    e\n",
       "2    c\n",
       "2    g\n",
       "dtype: object"
      ]
     },
     "execution_count": 40,
     "metadata": {},
     "output_type": "execute_result"
    }
   ],
   "source": [
    "ds[[0,2]]"
   ]
  },
  {
   "cell_type": "code",
   "execution_count": 41,
   "id": "cb326f3c",
   "metadata": {},
   "outputs": [
    {
     "data": {
      "text/plain": [
       "0     ae\n",
       "1     bf\n",
       "2     cg\n",
       "3    NaN\n",
       "dtype: object"
      ]
     },
     "execution_count": 41,
     "metadata": {},
     "output_type": "execute_result"
    }
   ],
   "source": [
    "ds1+ds2"
   ]
  },
  {
   "cell_type": "code",
   "execution_count": 42,
   "id": "52493614",
   "metadata": {},
   "outputs": [
    {
     "name": "stderr",
     "output_type": "stream",
     "text": [
      "/var/folders/c6/0q4dv4cn42g5_ddh8w5xsb3r0000gn/T/ipykernel_2950/4233266643.py:1: FutureWarning: The series.append method is deprecated and will be removed from pandas in a future version. Use pandas.concat instead.\n",
      "  ds = ds1.append(ds2, ignore_index=True)\n"
     ]
    },
    {
     "data": {
      "text/plain": [
       "0    a\n",
       "1    b\n",
       "2    c\n",
       "3    d\n",
       "4    e\n",
       "5    f\n",
       "6    g\n",
       "dtype: object"
      ]
     },
     "execution_count": 42,
     "metadata": {},
     "output_type": "execute_result"
    }
   ],
   "source": [
    "ds = ds1.append(ds2, ignore_index=True) \n",
    "ds"
   ]
  },
  {
   "cell_type": "code",
   "execution_count": 43,
   "id": "3e0d63a8",
   "metadata": {},
   "outputs": [],
   "source": [
    "county1= {'Alameda': 25000, \n",
    "         'SantaClara': 30000, \n",
    "         'Solano': 10000, \n",
    "         'Marin': 7500}\n",
    "county2 = {'SantaClara': 20000, \n",
    "            'Solano': 20000, \n",
    "            'Marin': 5000,\n",
    "            'Sonoma': 7500}"
   ]
  },
  {
   "cell_type": "code",
   "execution_count": 44,
   "id": "63a19bed",
   "metadata": {},
   "outputs": [],
   "source": [
    "x= pd.Series(county1)\n",
    "y= pd.Series(county2)"
   ]
  },
  {
   "cell_type": "code",
   "execution_count": 45,
   "id": "5102f503",
   "metadata": {},
   "outputs": [
    {
     "data": {
      "text/plain": [
       "Alameda           NaN\n",
       "Marin         12500.0\n",
       "SantaClara    50000.0\n",
       "Solano        30000.0\n",
       "Sonoma            NaN\n",
       "dtype: float64"
      ]
     },
     "execution_count": 45,
     "metadata": {},
     "output_type": "execute_result"
    }
   ],
   "source": [
    "x+y"
   ]
  },
  {
   "cell_type": "code",
   "execution_count": 46,
   "id": "7f54807b",
   "metadata": {},
   "outputs": [
    {
     "data": {
      "text/plain": [
       "Alameda        True\n",
       "Marin         False\n",
       "SantaClara    False\n",
       "Solano        False\n",
       "Sonoma         True\n",
       "dtype: bool"
      ]
     },
     "execution_count": 46,
     "metadata": {},
     "output_type": "execute_result"
    }
   ],
   "source": [
    "pd.isnull(x+y)"
   ]
  },
  {
   "cell_type": "code",
   "execution_count": 47,
   "id": "d0d5641b",
   "metadata": {},
   "outputs": [
    {
     "data": {
      "text/plain": [
       "Alameda       False\n",
       "Marin          True\n",
       "SantaClara     True\n",
       "Solano         True\n",
       "Sonoma        False\n",
       "dtype: bool"
      ]
     },
     "execution_count": 47,
     "metadata": {},
     "output_type": "execute_result"
    }
   ],
   "source": [
    "pd.notnull(x+y)"
   ]
  },
  {
   "cell_type": "code",
   "execution_count": 48,
   "id": "1b9526c0",
   "metadata": {},
   "outputs": [],
   "source": [
    "#DataFrames Starts now"
   ]
  },
  {
   "cell_type": "code",
   "execution_count": 49,
   "id": "911dfec2",
   "metadata": {},
   "outputs": [
    {
     "data": {
      "text/html": [
       "<div>\n",
       "<style scoped>\n",
       "    .dataframe tbody tr th:only-of-type {\n",
       "        vertical-align: middle;\n",
       "    }\n",
       "\n",
       "    .dataframe tbody tr th {\n",
       "        vertical-align: top;\n",
       "    }\n",
       "\n",
       "    .dataframe thead th {\n",
       "        text-align: right;\n",
       "    }\n",
       "</style>\n",
       "<table border=\"1\" class=\"dataframe\">\n",
       "  <thead>\n",
       "    <tr style=\"text-align: right;\">\n",
       "      <th></th>\n",
       "      <th>name</th>\n",
       "      <th>age</th>\n",
       "      <th>gender</th>\n",
       "      <th>scores</th>\n",
       "    </tr>\n",
       "  </thead>\n",
       "  <tbody>\n",
       "    <tr>\n",
       "      <th>0</th>\n",
       "      <td>John</td>\n",
       "      <td>25</td>\n",
       "      <td>male</td>\n",
       "      <td>23.7</td>\n",
       "    </tr>\n",
       "    <tr>\n",
       "      <th>1</th>\n",
       "      <td>Bob</td>\n",
       "      <td>30</td>\n",
       "      <td>female</td>\n",
       "      <td>67.5</td>\n",
       "    </tr>\n",
       "    <tr>\n",
       "      <th>2</th>\n",
       "      <td>Kathy</td>\n",
       "      <td>45</td>\n",
       "      <td>male</td>\n",
       "      <td>81.0</td>\n",
       "    </tr>\n",
       "  </tbody>\n",
       "</table>\n",
       "</div>"
      ],
      "text/plain": [
       "    name  age  gender  scores\n",
       "0   John   25    male    23.7\n",
       "1    Bob   30  female    67.5\n",
       "2  Kathy   45    male    81.0"
      ]
     },
     "execution_count": 49,
     "metadata": {},
     "output_type": "execute_result"
    }
   ],
   "source": [
    "my_dict = {\n",
    "          'name': ['John', 'Bob', 'Kathy'], \n",
    "          'age': [25,30,45],\n",
    "          'gender': ['male', 'female', 'male'], \n",
    "          'scores': [23.7, 67.5, 81.0]\n",
    "  }\n",
    "df= pd.DataFrame (my_dict)\n",
    "df"
   ]
  },
  {
   "cell_type": "code",
   "execution_count": 50,
   "id": "70acead7",
   "metadata": {},
   "outputs": [
    {
     "data": {
      "text/html": [
       "<div>\n",
       "<style scoped>\n",
       "    .dataframe tbody tr th:only-of-type {\n",
       "        vertical-align: middle;\n",
       "    }\n",
       "\n",
       "    .dataframe tbody tr th {\n",
       "        vertical-align: top;\n",
       "    }\n",
       "\n",
       "    .dataframe thead th {\n",
       "        text-align: right;\n",
       "    }\n",
       "</style>\n",
       "<table border=\"1\" class=\"dataframe\">\n",
       "  <thead>\n",
       "    <tr style=\"text-align: right;\">\n",
       "      <th></th>\n",
       "      <th>name</th>\n",
       "      <th>age</th>\n",
       "      <th>gender</th>\n",
       "      <th>scores</th>\n",
       "    </tr>\n",
       "  </thead>\n",
       "  <tbody>\n",
       "    <tr>\n",
       "      <th>0</th>\n",
       "      <td>John</td>\n",
       "      <td>25</td>\n",
       "      <td>male</td>\n",
       "      <td>23.7</td>\n",
       "    </tr>\n",
       "    <tr>\n",
       "      <th>1</th>\n",
       "      <td>Bob</td>\n",
       "      <td>30</td>\n",
       "      <td>female</td>\n",
       "      <td>67.5</td>\n",
       "    </tr>\n",
       "    <tr>\n",
       "      <th>2</th>\n",
       "      <td>Kathy</td>\n",
       "      <td>45</td>\n",
       "      <td>male</td>\n",
       "      <td>81.0</td>\n",
       "    </tr>\n",
       "  </tbody>\n",
       "</table>\n",
       "</div>"
      ],
      "text/plain": [
       "    name  age  gender  scores\n",
       "0   John   25    male    23.7\n",
       "1    Bob   30  female    67.5\n",
       "2  Kathy   45    male    81.0"
      ]
     },
     "execution_count": 50,
     "metadata": {},
     "output_type": "execute_result"
    }
   ],
   "source": [
    "my_list = [\n",
    "        {'name': 'John', 'age': 25, 'gender': 'male', 'scores': 23.7}, \n",
    "        {'name': 'Bob', 'age': 30, 'gender': 'female', 'scores': 67.5}, \n",
    "        {'name': 'Kathy', 'age': 45, 'gender': 'male', 'scores': 81.0},\n",
    "] \n",
    "df = pd.DataFrame (my_list)\n",
    "df\n",
    "                                 "
   ]
  },
  {
   "cell_type": "code",
   "execution_count": 51,
   "id": "314ce1b6",
   "metadata": {},
   "outputs": [
    {
     "data": {
      "text/html": [
       "<div>\n",
       "<style scoped>\n",
       "    .dataframe tbody tr th:only-of-type {\n",
       "        vertical-align: middle;\n",
       "    }\n",
       "\n",
       "    .dataframe tbody tr th {\n",
       "        vertical-align: top;\n",
       "    }\n",
       "\n",
       "    .dataframe thead th {\n",
       "        text-align: right;\n",
       "    }\n",
       "</style>\n",
       "<table border=\"1\" class=\"dataframe\">\n",
       "  <thead>\n",
       "    <tr style=\"text-align: right;\">\n",
       "      <th></th>\n",
       "      <th>name</th>\n",
       "      <th>age</th>\n",
       "      <th>gender</th>\n",
       "      <th>scores</th>\n",
       "    </tr>\n",
       "  </thead>\n",
       "  <tbody>\n",
       "    <tr>\n",
       "      <th>0</th>\n",
       "      <td>John</td>\n",
       "      <td>25</td>\n",
       "      <td>male</td>\n",
       "      <td>23.7</td>\n",
       "    </tr>\n",
       "    <tr>\n",
       "      <th>1</th>\n",
       "      <td>Bob</td>\n",
       "      <td>30</td>\n",
       "      <td>male</td>\n",
       "      <td>67.5</td>\n",
       "    </tr>\n",
       "    <tr>\n",
       "      <th>2</th>\n",
       "      <td>Kathy</td>\n",
       "      <td>45</td>\n",
       "      <td>female</td>\n",
       "      <td>81.0</td>\n",
       "    </tr>\n",
       "  </tbody>\n",
       "</table>\n",
       "</div>"
      ],
      "text/plain": [
       "    name  age  gender  scores\n",
       "0   John   25    male    23.7\n",
       "1    Bob   30    male    67.5\n",
       "2  Kathy   45  female    81.0"
      ]
     },
     "execution_count": 51,
     "metadata": {},
     "output_type": "execute_result"
    }
   ],
   "source": [
    "x = [['John', 25, 'male', 23.7], \n",
    "       ['Bob', 30, 'male', 67.5], \n",
    "       ['Kathy', 45, 'female', 81.0]\n",
    " ]\n",
    "df = pd.DataFrame(x, columns=['name', 'age', 'gender', 'scores']) \n",
    "df                                                              "
   ]
  },
  {
   "cell_type": "code",
   "execution_count": 52,
   "id": "ef5f75da",
   "metadata": {},
   "outputs": [
    {
     "data": {
      "text/html": [
       "<div>\n",
       "<style scoped>\n",
       "    .dataframe tbody tr th:only-of-type {\n",
       "        vertical-align: middle;\n",
       "    }\n",
       "\n",
       "    .dataframe tbody tr th {\n",
       "        vertical-align: top;\n",
       "    }\n",
       "\n",
       "    .dataframe thead th {\n",
       "        text-align: right;\n",
       "    }\n",
       "</style>\n",
       "<table border=\"1\" class=\"dataframe\">\n",
       "  <thead>\n",
       "    <tr style=\"text-align: right;\">\n",
       "      <th></th>\n",
       "      <th>id</th>\n",
       "      <th>name</th>\n",
       "      <th>age</th>\n",
       "      <th>gender</th>\n",
       "      <th>chem101</th>\n",
       "    </tr>\n",
       "  </thead>\n",
       "  <tbody>\n",
       "    <tr>\n",
       "      <th>0</th>\n",
       "      <td>111</td>\n",
       "      <td>John</td>\n",
       "      <td>25</td>\n",
       "      <td>male</td>\n",
       "      <td>23.7</td>\n",
       "    </tr>\n",
       "    <tr>\n",
       "      <th>1</th>\n",
       "      <td>222</td>\n",
       "      <td>Bob</td>\n",
       "      <td>30</td>\n",
       "      <td>male</td>\n",
       "      <td>67.5</td>\n",
       "    </tr>\n",
       "    <tr>\n",
       "      <th>2</th>\n",
       "      <td>333</td>\n",
       "      <td>Kathy</td>\n",
       "      <td>45</td>\n",
       "      <td>female</td>\n",
       "      <td>81.0</td>\n",
       "    </tr>\n",
       "  </tbody>\n",
       "</table>\n",
       "</div>"
      ],
      "text/plain": [
       "    id   name  age  gender  chem101\n",
       "0  111   John   25    male     23.7\n",
       "1  222    Bob   30    male     67.5\n",
       "2  333  Kathy   45  female     81.0"
      ]
     },
     "execution_count": 52,
     "metadata": {},
     "output_type": "execute_result"
    }
   ],
   "source": [
    "df = pd.read_csv('data-Copy1.csv', index_col=False)\n",
    "df"
   ]
  },
  {
   "cell_type": "code",
   "execution_count": 53,
   "id": "c948cb15",
   "metadata": {},
   "outputs": [
    {
     "data": {
      "text/plain": [
       "RangeIndex(start=0, stop=3, step=1)"
      ]
     },
     "execution_count": 53,
     "metadata": {},
     "output_type": "execute_result"
    }
   ],
   "source": [
    "df.index"
   ]
  },
  {
   "cell_type": "code",
   "execution_count": 54,
   "id": "8d7b3b94",
   "metadata": {},
   "outputs": [
    {
     "data": {
      "text/plain": [
       "pandas.core.indexes.range.RangeIndex"
      ]
     },
     "execution_count": 54,
     "metadata": {},
     "output_type": "execute_result"
    }
   ],
   "source": [
    "type(df.index)"
   ]
  },
  {
   "cell_type": "code",
   "execution_count": 55,
   "id": "ee0963c1",
   "metadata": {},
   "outputs": [
    {
     "data": {
      "text/plain": [
       "Index(['id', 'name', 'age', 'gender', 'chem101'], dtype='object')"
      ]
     },
     "execution_count": 55,
     "metadata": {},
     "output_type": "execute_result"
    }
   ],
   "source": [
    "df.columns"
   ]
  },
  {
   "cell_type": "code",
   "execution_count": 56,
   "id": "f9df22d0",
   "metadata": {},
   "outputs": [
    {
     "data": {
      "text/plain": [
       "pandas.core.indexes.base.Index"
      ]
     },
     "execution_count": 56,
     "metadata": {},
     "output_type": "execute_result"
    }
   ],
   "source": [
    "type(df.columns)"
   ]
  },
  {
   "cell_type": "code",
   "execution_count": 57,
   "id": "5b96a08e",
   "metadata": {},
   "outputs": [
    {
     "data": {
      "text/plain": [
       "array([[111, 'John', 25, 'male', 23.7],\n",
       "       [222, 'Bob', 30, 'male', 67.5],\n",
       "       [333, 'Kathy', 45, 'female', 81.0]], dtype=object)"
      ]
     },
     "execution_count": 57,
     "metadata": {},
     "output_type": "execute_result"
    }
   ],
   "source": [
    "df.values"
   ]
  },
  {
   "cell_type": "code",
   "execution_count": 58,
   "id": "f8d09000",
   "metadata": {},
   "outputs": [
    {
     "data": {
      "text/plain": [
       "numpy.ndarray"
      ]
     },
     "execution_count": 58,
     "metadata": {},
     "output_type": "execute_result"
    }
   ],
   "source": [
    "type(df.values)"
   ]
  },
  {
   "cell_type": "code",
   "execution_count": 59,
   "id": "61a0e204",
   "metadata": {},
   "outputs": [
    {
     "data": {
      "text/plain": [
       "id           int64\n",
       "name        object\n",
       "age          int64\n",
       "gender      object\n",
       "chem101    float64\n",
       "dtype: object"
      ]
     },
     "execution_count": 59,
     "metadata": {},
     "output_type": "execute_result"
    }
   ],
   "source": [
    "df.dtypes"
   ]
  },
  {
   "cell_type": "code",
   "execution_count": 60,
   "id": "3060439e",
   "metadata": {},
   "outputs": [],
   "source": [
    "import numpy as np"
   ]
  },
  {
   "cell_type": "code",
   "execution_count": 61,
   "id": "02a0c26d",
   "metadata": {},
   "outputs": [
    {
     "data": {
      "text/plain": [
       "id           int32\n",
       "name        object\n",
       "age          int32\n",
       "gender      object\n",
       "chem101    float32\n",
       "dtype: object"
      ]
     },
     "execution_count": 61,
     "metadata": {},
     "output_type": "execute_result"
    }
   ],
   "source": [
    "df=df.astype(dtype={ \n",
    "         'age': np.int32, \n",
    "         'chem101': np.float32, \n",
    "         'id': np.int32\n",
    "}) \n",
    "df.dtypes"
   ]
  },
  {
   "cell_type": "code",
   "execution_count": 62,
   "id": "4aa60c97",
   "metadata": {},
   "outputs": [
    {
     "data": {
      "text/plain": [
       "2"
      ]
     },
     "execution_count": 62,
     "metadata": {},
     "output_type": "execute_result"
    }
   ],
   "source": [
    "df.ndim"
   ]
  },
  {
   "cell_type": "code",
   "execution_count": 63,
   "id": "0d968a80",
   "metadata": {},
   "outputs": [
    {
     "data": {
      "text/plain": [
       "(3, 5)"
      ]
     },
     "execution_count": 63,
     "metadata": {},
     "output_type": "execute_result"
    }
   ],
   "source": [
    "df.shape"
   ]
  },
  {
   "cell_type": "code",
   "execution_count": 64,
   "id": "615ada39",
   "metadata": {},
   "outputs": [
    {
     "data": {
      "text/plain": [
       "15"
      ]
     },
     "execution_count": 64,
     "metadata": {},
     "output_type": "execute_result"
    }
   ],
   "source": [
    "df.size"
   ]
  },
  {
   "cell_type": "code",
   "execution_count": 65,
   "id": "e6ca9215",
   "metadata": {},
   "outputs": [
    {
     "data": {
      "text/plain": [
       "Index      128\n",
       "id          12\n",
       "name        24\n",
       "age         12\n",
       "gender      24\n",
       "chem101     12\n",
       "dtype: int64"
      ]
     },
     "execution_count": 65,
     "metadata": {},
     "output_type": "execute_result"
    }
   ],
   "source": [
    "df.memory_usage()"
   ]
  },
  {
   "cell_type": "code",
   "execution_count": 66,
   "id": "5ba16767",
   "metadata": {},
   "outputs": [
    {
     "data": {
      "text/plain": [
       "Index      128\n",
       "id          12\n",
       "name        24\n",
       "age          3\n",
       "gender      24\n",
       "chem101     12\n",
       "dtype: int64"
      ]
     },
     "execution_count": 66,
     "metadata": {},
     "output_type": "execute_result"
    }
   ],
   "source": [
    "df=df.astype(dtype={'age': np.int8})\n",
    "df.memory_usage()"
   ]
  },
  {
   "cell_type": "code",
   "execution_count": 67,
   "id": "c5c114ac",
   "metadata": {},
   "outputs": [
    {
     "data": {
      "text/plain": [
       "0    23.700001\n",
       "1    67.500000\n",
       "2    81.000000\n",
       "Name: chem101, dtype: float32"
      ]
     },
     "execution_count": 67,
     "metadata": {},
     "output_type": "execute_result"
    }
   ],
   "source": [
    "df['chem101']"
   ]
  },
  {
   "cell_type": "code",
   "execution_count": 68,
   "id": "d03ae74d",
   "metadata": {},
   "outputs": [
    {
     "data": {
      "text/plain": [
       "id          222\n",
       "name        Bob\n",
       "age          30\n",
       "gender     male\n",
       "chem101    67.5\n",
       "Name: 1, dtype: object"
      ]
     },
     "execution_count": 68,
     "metadata": {},
     "output_type": "execute_result"
    }
   ],
   "source": [
    "df.loc[1]"
   ]
  },
  {
   "cell_type": "code",
   "execution_count": 69,
   "id": "61c6fe2c",
   "metadata": {},
   "outputs": [
    {
     "data": {
      "text/plain": [
       "id          222\n",
       "name        Bob\n",
       "age          30\n",
       "gender     male\n",
       "chem101    67.5\n",
       "Name: 1, dtype: object"
      ]
     },
     "execution_count": 69,
     "metadata": {},
     "output_type": "execute_result"
    }
   ],
   "source": [
    "df.iloc[1]"
   ]
  },
  {
   "cell_type": "code",
   "execution_count": 70,
   "id": "1605513a",
   "metadata": {},
   "outputs": [
    {
     "data": {
      "text/html": [
       "<div>\n",
       "<style scoped>\n",
       "    .dataframe tbody tr th:only-of-type {\n",
       "        vertical-align: middle;\n",
       "    }\n",
       "\n",
       "    .dataframe tbody tr th {\n",
       "        vertical-align: top;\n",
       "    }\n",
       "\n",
       "    .dataframe thead th {\n",
       "        text-align: right;\n",
       "    }\n",
       "</style>\n",
       "<table border=\"1\" class=\"dataframe\">\n",
       "  <thead>\n",
       "    <tr style=\"text-align: right;\">\n",
       "      <th></th>\n",
       "      <th>id</th>\n",
       "      <th>name</th>\n",
       "      <th>age</th>\n",
       "      <th>gender</th>\n",
       "      <th>chem101</th>\n",
       "    </tr>\n",
       "  </thead>\n",
       "  <tbody>\n",
       "    <tr>\n",
       "      <th>111</th>\n",
       "      <td>John</td>\n",
       "      <td>25</td>\n",
       "      <td>male</td>\n",
       "      <td>23.7</td>\n",
       "      <td>NaN</td>\n",
       "    </tr>\n",
       "    <tr>\n",
       "      <th>222</th>\n",
       "      <td>Bob</td>\n",
       "      <td>30</td>\n",
       "      <td>male</td>\n",
       "      <td>67.5</td>\n",
       "      <td>NaN</td>\n",
       "    </tr>\n",
       "    <tr>\n",
       "      <th>333</th>\n",
       "      <td>Kathy</td>\n",
       "      <td>45</td>\n",
       "      <td>female</td>\n",
       "      <td>81.0</td>\n",
       "      <td>NaN</td>\n",
       "    </tr>\n",
       "  </tbody>\n",
       "</table>\n",
       "</div>"
      ],
      "text/plain": [
       "        id  name     age  gender  chem101\n",
       "111   John    25    male    23.7      NaN\n",
       "222    Bob    30    male    67.5      NaN\n",
       "333  Kathy    45  female    81.0      NaN"
      ]
     },
     "execution_count": 70,
     "metadata": {},
     "output_type": "execute_result"
    }
   ],
   "source": [
    "df2= pd.read_csv('data-Copy1.csv', index_col = 0)\n",
    "df2"
   ]
  },
  {
   "cell_type": "code",
   "execution_count": 71,
   "id": "32036be2",
   "metadata": {},
   "outputs": [],
   "source": [
    "del df2['chem101']"
   ]
  },
  {
   "cell_type": "code",
   "execution_count": 72,
   "id": "e5c178bf",
   "metadata": {},
   "outputs": [
    {
     "data": {
      "text/html": [
       "<div>\n",
       "<style scoped>\n",
       "    .dataframe tbody tr th:only-of-type {\n",
       "        vertical-align: middle;\n",
       "    }\n",
       "\n",
       "    .dataframe tbody tr th {\n",
       "        vertical-align: top;\n",
       "    }\n",
       "\n",
       "    .dataframe thead th {\n",
       "        text-align: right;\n",
       "    }\n",
       "</style>\n",
       "<table border=\"1\" class=\"dataframe\">\n",
       "  <thead>\n",
       "    <tr style=\"text-align: right;\">\n",
       "      <th></th>\n",
       "      <th>id</th>\n",
       "      <th>name</th>\n",
       "      <th>age</th>\n",
       "      <th>gender</th>\n",
       "    </tr>\n",
       "  </thead>\n",
       "  <tbody>\n",
       "    <tr>\n",
       "      <th>111</th>\n",
       "      <td>John</td>\n",
       "      <td>25</td>\n",
       "      <td>male</td>\n",
       "      <td>23.7</td>\n",
       "    </tr>\n",
       "    <tr>\n",
       "      <th>222</th>\n",
       "      <td>Bob</td>\n",
       "      <td>30</td>\n",
       "      <td>male</td>\n",
       "      <td>67.5</td>\n",
       "    </tr>\n",
       "    <tr>\n",
       "      <th>333</th>\n",
       "      <td>Kathy</td>\n",
       "      <td>45</td>\n",
       "      <td>female</td>\n",
       "      <td>81.0</td>\n",
       "    </tr>\n",
       "  </tbody>\n",
       "</table>\n",
       "</div>"
      ],
      "text/plain": [
       "        id  name     age  gender\n",
       "111   John    25    male    23.7\n",
       "222    Bob    30    male    67.5\n",
       "333  Kathy    45  female    81.0"
      ]
     },
     "execution_count": 72,
     "metadata": {},
     "output_type": "execute_result"
    }
   ],
   "source": [
    "df2"
   ]
  },
  {
   "cell_type": "code",
   "execution_count": 73,
   "id": "09c11b67",
   "metadata": {},
   "outputs": [],
   "source": [
    "new_names= {'id':'name',\n",
    "            'name': 'age',\n",
    "            'age': 'gender',\n",
    "            'gender': 'chem101'\n",
    "}"
   ]
  },
  {
   "cell_type": "code",
   "execution_count": 74,
   "id": "c58f9245",
   "metadata": {},
   "outputs": [
    {
     "data": {
      "text/html": [
       "<div>\n",
       "<style scoped>\n",
       "    .dataframe tbody tr th:only-of-type {\n",
       "        vertical-align: middle;\n",
       "    }\n",
       "\n",
       "    .dataframe tbody tr th {\n",
       "        vertical-align: top;\n",
       "    }\n",
       "\n",
       "    .dataframe thead th {\n",
       "        text-align: right;\n",
       "    }\n",
       "</style>\n",
       "<table border=\"1\" class=\"dataframe\">\n",
       "  <thead>\n",
       "    <tr style=\"text-align: right;\">\n",
       "      <th></th>\n",
       "      <th>name</th>\n",
       "      <th>age</th>\n",
       "      <th>gender</th>\n",
       "      <th>chem101</th>\n",
       "    </tr>\n",
       "  </thead>\n",
       "  <tbody>\n",
       "    <tr>\n",
       "      <th>111</th>\n",
       "      <td>John</td>\n",
       "      <td>25</td>\n",
       "      <td>male</td>\n",
       "      <td>23.7</td>\n",
       "    </tr>\n",
       "    <tr>\n",
       "      <th>222</th>\n",
       "      <td>Bob</td>\n",
       "      <td>30</td>\n",
       "      <td>male</td>\n",
       "      <td>67.5</td>\n",
       "    </tr>\n",
       "    <tr>\n",
       "      <th>333</th>\n",
       "      <td>Kathy</td>\n",
       "      <td>45</td>\n",
       "      <td>female</td>\n",
       "      <td>81.0</td>\n",
       "    </tr>\n",
       "  </tbody>\n",
       "</table>\n",
       "</div>"
      ],
      "text/plain": [
       "      name  age  gender  chem101\n",
       "111   John   25    male     23.7\n",
       "222    Bob   30    male     67.5\n",
       "333  Kathy   45  female     81.0"
      ]
     },
     "execution_count": 74,
     "metadata": {},
     "output_type": "execute_result"
    }
   ],
   "source": [
    "df2.rename(columns=new_names, inplace=True)\n",
    "df2"
   ]
  },
  {
   "cell_type": "code",
   "execution_count": 75,
   "id": "baa0fb4a",
   "metadata": {},
   "outputs": [
    {
     "data": {
      "text/plain": [
       "0     John\n",
       "1      Bob\n",
       "2    Kathy\n",
       "Name: name, dtype: object"
      ]
     },
     "execution_count": 75,
     "metadata": {},
     "output_type": "execute_result"
    }
   ],
   "source": [
    "df['name']"
   ]
  },
  {
   "cell_type": "code",
   "execution_count": 76,
   "id": "d42496f6",
   "metadata": {},
   "outputs": [
    {
     "data": {
      "text/plain": [
       "pandas.core.series.Series"
      ]
     },
     "execution_count": 76,
     "metadata": {},
     "output_type": "execute_result"
    }
   ],
   "source": [
    "type(df['name'])"
   ]
  },
  {
   "cell_type": "code",
   "execution_count": 77,
   "id": "a5d8c186",
   "metadata": {},
   "outputs": [],
   "source": [
    "columns_display = ['name', 'chem101']"
   ]
  },
  {
   "cell_type": "code",
   "execution_count": 78,
   "id": "d83b390d",
   "metadata": {},
   "outputs": [
    {
     "data": {
      "text/html": [
       "<div>\n",
       "<style scoped>\n",
       "    .dataframe tbody tr th:only-of-type {\n",
       "        vertical-align: middle;\n",
       "    }\n",
       "\n",
       "    .dataframe tbody tr th {\n",
       "        vertical-align: top;\n",
       "    }\n",
       "\n",
       "    .dataframe thead th {\n",
       "        text-align: right;\n",
       "    }\n",
       "</style>\n",
       "<table border=\"1\" class=\"dataframe\">\n",
       "  <thead>\n",
       "    <tr style=\"text-align: right;\">\n",
       "      <th></th>\n",
       "      <th>name</th>\n",
       "      <th>chem101</th>\n",
       "    </tr>\n",
       "  </thead>\n",
       "  <tbody>\n",
       "    <tr>\n",
       "      <th>0</th>\n",
       "      <td>John</td>\n",
       "      <td>23.700001</td>\n",
       "    </tr>\n",
       "    <tr>\n",
       "      <th>1</th>\n",
       "      <td>Bob</td>\n",
       "      <td>67.500000</td>\n",
       "    </tr>\n",
       "    <tr>\n",
       "      <th>2</th>\n",
       "      <td>Kathy</td>\n",
       "      <td>81.000000</td>\n",
       "    </tr>\n",
       "  </tbody>\n",
       "</table>\n",
       "</div>"
      ],
      "text/plain": [
       "    name    chem101\n",
       "0   John  23.700001\n",
       "1    Bob  67.500000\n",
       "2  Kathy  81.000000"
      ]
     },
     "execution_count": 78,
     "metadata": {},
     "output_type": "execute_result"
    }
   ],
   "source": [
    "df[columns_display]"
   ]
  },
  {
   "cell_type": "code",
   "execution_count": 79,
   "id": "4e78cf73",
   "metadata": {},
   "outputs": [
    {
     "data": {
      "text/html": [
       "<div>\n",
       "<style scoped>\n",
       "    .dataframe tbody tr th:only-of-type {\n",
       "        vertical-align: middle;\n",
       "    }\n",
       "\n",
       "    .dataframe tbody tr th {\n",
       "        vertical-align: top;\n",
       "    }\n",
       "\n",
       "    .dataframe thead th {\n",
       "        text-align: right;\n",
       "    }\n",
       "</style>\n",
       "<table border=\"1\" class=\"dataframe\">\n",
       "  <thead>\n",
       "    <tr style=\"text-align: right;\">\n",
       "      <th></th>\n",
       "      <th>name</th>\n",
       "      <th>chem101</th>\n",
       "    </tr>\n",
       "  </thead>\n",
       "  <tbody>\n",
       "    <tr>\n",
       "      <th>0</th>\n",
       "      <td>John</td>\n",
       "      <td>23.700001</td>\n",
       "    </tr>\n",
       "    <tr>\n",
       "      <th>1</th>\n",
       "      <td>Bob</td>\n",
       "      <td>67.500000</td>\n",
       "    </tr>\n",
       "    <tr>\n",
       "      <th>2</th>\n",
       "      <td>Kathy</td>\n",
       "      <td>81.000000</td>\n",
       "    </tr>\n",
       "  </tbody>\n",
       "</table>\n",
       "</div>"
      ],
      "text/plain": [
       "    name    chem101\n",
       "0   John  23.700001\n",
       "1    Bob  67.500000\n",
       "2  Kathy  81.000000"
      ]
     },
     "execution_count": 79,
     "metadata": {},
     "output_type": "execute_result"
    }
   ],
   "source": [
    "df[['name', 'chem101']]"
   ]
  },
  {
   "cell_type": "code",
   "execution_count": 80,
   "id": "ec0bf88e",
   "metadata": {},
   "outputs": [
    {
     "data": {
      "text/plain": [
       "'John'"
      ]
     },
     "execution_count": 80,
     "metadata": {},
     "output_type": "execute_result"
    }
   ],
   "source": [
    "df['name'].loc[0]"
   ]
  },
  {
   "cell_type": "code",
   "execution_count": 81,
   "id": "5e579168",
   "metadata": {},
   "outputs": [],
   "source": [
    "rows = [0,2]\n",
    "columns = ['name', 'chem101']"
   ]
  },
  {
   "cell_type": "code",
   "execution_count": 82,
   "id": "4f28d772",
   "metadata": {},
   "outputs": [
    {
     "data": {
      "text/html": [
       "<div>\n",
       "<style scoped>\n",
       "    .dataframe tbody tr th:only-of-type {\n",
       "        vertical-align: middle;\n",
       "    }\n",
       "\n",
       "    .dataframe tbody tr th {\n",
       "        vertical-align: top;\n",
       "    }\n",
       "\n",
       "    .dataframe thead th {\n",
       "        text-align: right;\n",
       "    }\n",
       "</style>\n",
       "<table border=\"1\" class=\"dataframe\">\n",
       "  <thead>\n",
       "    <tr style=\"text-align: right;\">\n",
       "      <th></th>\n",
       "      <th>name</th>\n",
       "      <th>chem101</th>\n",
       "    </tr>\n",
       "  </thead>\n",
       "  <tbody>\n",
       "    <tr>\n",
       "      <th>0</th>\n",
       "      <td>John</td>\n",
       "      <td>23.700001</td>\n",
       "    </tr>\n",
       "    <tr>\n",
       "      <th>2</th>\n",
       "      <td>Kathy</td>\n",
       "      <td>81.000000</td>\n",
       "    </tr>\n",
       "  </tbody>\n",
       "</table>\n",
       "</div>"
      ],
      "text/plain": [
       "    name    chem101\n",
       "0   John  23.700001\n",
       "2  Kathy  81.000000"
      ]
     },
     "execution_count": 82,
     "metadata": {},
     "output_type": "execute_result"
    }
   ],
   "source": [
    "df.loc[rows, columns]"
   ]
  },
  {
   "cell_type": "code",
   "execution_count": 83,
   "id": "f9c82584",
   "metadata": {},
   "outputs": [
    {
     "data": {
      "text/html": [
       "<div>\n",
       "<style scoped>\n",
       "    .dataframe tbody tr th:only-of-type {\n",
       "        vertical-align: middle;\n",
       "    }\n",
       "\n",
       "    .dataframe tbody tr th {\n",
       "        vertical-align: top;\n",
       "    }\n",
       "\n",
       "    .dataframe thead th {\n",
       "        text-align: right;\n",
       "    }\n",
       "</style>\n",
       "<table border=\"1\" class=\"dataframe\">\n",
       "  <thead>\n",
       "    <tr style=\"text-align: right;\">\n",
       "      <th></th>\n",
       "      <th>age</th>\n",
       "      <th>chem101</th>\n",
       "      <th>gender</th>\n",
       "      <th>name</th>\n",
       "    </tr>\n",
       "  </thead>\n",
       "  <tbody>\n",
       "    <tr>\n",
       "      <th>0</th>\n",
       "      <td>25</td>\n",
       "      <td>23.700001</td>\n",
       "      <td>male</td>\n",
       "      <td>John</td>\n",
       "    </tr>\n",
       "    <tr>\n",
       "      <th>1</th>\n",
       "      <td>30</td>\n",
       "      <td>67.500000</td>\n",
       "      <td>male</td>\n",
       "      <td>Bob</td>\n",
       "    </tr>\n",
       "    <tr>\n",
       "      <th>2</th>\n",
       "      <td>45</td>\n",
       "      <td>81.000000</td>\n",
       "      <td>female</td>\n",
       "      <td>Kathy</td>\n",
       "    </tr>\n",
       "  </tbody>\n",
       "</table>\n",
       "</div>"
      ],
      "text/plain": [
       "   age    chem101  gender   name\n",
       "0   25  23.700001    male   John\n",
       "1   30  67.500000    male    Bob\n",
       "2   45  81.000000  female  Kathy"
      ]
     },
     "execution_count": 83,
     "metadata": {},
     "output_type": "execute_result"
    }
   ],
   "source": [
    "new_columns = ['age', 'chem101', 'gender', 'name'] \n",
    "df3=df[new_columns]\n",
    "df3"
   ]
  },
  {
   "cell_type": "code",
   "execution_count": 84,
   "id": "166a78fb",
   "metadata": {},
   "outputs": [
    {
     "data": {
      "text/html": [
       "<div>\n",
       "<style scoped>\n",
       "    .dataframe tbody tr th:only-of-type {\n",
       "        vertical-align: middle;\n",
       "    }\n",
       "\n",
       "    .dataframe tbody tr th {\n",
       "        vertical-align: top;\n",
       "    }\n",
       "\n",
       "    .dataframe thead th {\n",
       "        text-align: right;\n",
       "    }\n",
       "</style>\n",
       "<table border=\"1\" class=\"dataframe\">\n",
       "  <thead>\n",
       "    <tr style=\"text-align: right;\">\n",
       "      <th></th>\n",
       "      <th>id</th>\n",
       "      <th>name</th>\n",
       "      <th>age</th>\n",
       "      <th>gender</th>\n",
       "      <th>chem101</th>\n",
       "      <th>phys101</th>\n",
       "    </tr>\n",
       "  </thead>\n",
       "  <tbody>\n",
       "    <tr>\n",
       "      <th>0</th>\n",
       "      <td>111</td>\n",
       "      <td>John</td>\n",
       "      <td>25</td>\n",
       "      <td>male</td>\n",
       "      <td>23.700001</td>\n",
       "      <td>0</td>\n",
       "    </tr>\n",
       "    <tr>\n",
       "      <th>1</th>\n",
       "      <td>222</td>\n",
       "      <td>Bob</td>\n",
       "      <td>30</td>\n",
       "      <td>male</td>\n",
       "      <td>67.500000</td>\n",
       "      <td>0</td>\n",
       "    </tr>\n",
       "    <tr>\n",
       "      <th>2</th>\n",
       "      <td>333</td>\n",
       "      <td>Kathy</td>\n",
       "      <td>45</td>\n",
       "      <td>female</td>\n",
       "      <td>81.000000</td>\n",
       "      <td>0</td>\n",
       "    </tr>\n",
       "  </tbody>\n",
       "</table>\n",
       "</div>"
      ],
      "text/plain": [
       "    id   name  age  gender    chem101  phys101\n",
       "0  111   John   25    male  23.700001        0\n",
       "1  222    Bob   30    male  67.500000        0\n",
       "2  333  Kathy   45  female  81.000000        0"
      ]
     },
     "execution_count": 84,
     "metadata": {},
     "output_type": "execute_result"
    }
   ],
   "source": [
    "df['phys101']= 0\n",
    "df"
   ]
  },
  {
   "cell_type": "code",
   "execution_count": 85,
   "id": "f602ecaa",
   "metadata": {},
   "outputs": [],
   "source": [
    "df.loc[3] = [444, 'James', 22, 'male', 45.7 , 0]"
   ]
  },
  {
   "cell_type": "code",
   "execution_count": 86,
   "id": "10bd19c3",
   "metadata": {},
   "outputs": [
    {
     "data": {
      "text/html": [
       "<div>\n",
       "<style scoped>\n",
       "    .dataframe tbody tr th:only-of-type {\n",
       "        vertical-align: middle;\n",
       "    }\n",
       "\n",
       "    .dataframe tbody tr th {\n",
       "        vertical-align: top;\n",
       "    }\n",
       "\n",
       "    .dataframe thead th {\n",
       "        text-align: right;\n",
       "    }\n",
       "</style>\n",
       "<table border=\"1\" class=\"dataframe\">\n",
       "  <thead>\n",
       "    <tr style=\"text-align: right;\">\n",
       "      <th></th>\n",
       "      <th>id</th>\n",
       "      <th>name</th>\n",
       "      <th>age</th>\n",
       "      <th>gender</th>\n",
       "      <th>chem101</th>\n",
       "      <th>phys101</th>\n",
       "    </tr>\n",
       "  </thead>\n",
       "  <tbody>\n",
       "    <tr>\n",
       "      <th>0</th>\n",
       "      <td>111</td>\n",
       "      <td>John</td>\n",
       "      <td>25</td>\n",
       "      <td>male</td>\n",
       "      <td>23.700001</td>\n",
       "      <td>0</td>\n",
       "    </tr>\n",
       "    <tr>\n",
       "      <th>1</th>\n",
       "      <td>222</td>\n",
       "      <td>Bob</td>\n",
       "      <td>30</td>\n",
       "      <td>male</td>\n",
       "      <td>67.500000</td>\n",
       "      <td>0</td>\n",
       "    </tr>\n",
       "    <tr>\n",
       "      <th>2</th>\n",
       "      <td>333</td>\n",
       "      <td>Kathy</td>\n",
       "      <td>45</td>\n",
       "      <td>female</td>\n",
       "      <td>81.000000</td>\n",
       "      <td>0</td>\n",
       "    </tr>\n",
       "    <tr>\n",
       "      <th>3</th>\n",
       "      <td>444</td>\n",
       "      <td>James</td>\n",
       "      <td>22</td>\n",
       "      <td>male</td>\n",
       "      <td>45.700000</td>\n",
       "      <td>0</td>\n",
       "    </tr>\n",
       "  </tbody>\n",
       "</table>\n",
       "</div>"
      ],
      "text/plain": [
       "    id   name  age  gender    chem101  phys101\n",
       "0  111   John   25    male  23.700001        0\n",
       "1  222    Bob   30    male  67.500000        0\n",
       "2  333  Kathy   45  female  81.000000        0\n",
       "3  444  James   22    male  45.700000        0"
      ]
     },
     "execution_count": 86,
     "metadata": {},
     "output_type": "execute_result"
    }
   ],
   "source": [
    "df"
   ]
  },
  {
   "cell_type": "code",
   "execution_count": 87,
   "id": "78f0d1dc",
   "metadata": {},
   "outputs": [],
   "source": [
    "new_row = pd.Series(\n",
    "                    ['Holly', 555,28,'female', 23.7],\n",
    "                    index=['name', 'id', 'age', 'gender','chem101']\n",
    ")"
   ]
  },
  {
   "cell_type": "code",
   "execution_count": 88,
   "id": "db9f6cc7",
   "metadata": {},
   "outputs": [
    {
     "name": "stderr",
     "output_type": "stream",
     "text": [
      "/var/folders/c6/0q4dv4cn42g5_ddh8w5xsb3r0000gn/T/ipykernel_2950/442321768.py:1: FutureWarning: The frame.append method is deprecated and will be removed from pandas in a future version. Use pandas.concat instead.\n",
      "  df= df.append(new_row, ignore_index= True)\n"
     ]
    },
    {
     "data": {
      "text/html": [
       "<div>\n",
       "<style scoped>\n",
       "    .dataframe tbody tr th:only-of-type {\n",
       "        vertical-align: middle;\n",
       "    }\n",
       "\n",
       "    .dataframe tbody tr th {\n",
       "        vertical-align: top;\n",
       "    }\n",
       "\n",
       "    .dataframe thead th {\n",
       "        text-align: right;\n",
       "    }\n",
       "</style>\n",
       "<table border=\"1\" class=\"dataframe\">\n",
       "  <thead>\n",
       "    <tr style=\"text-align: right;\">\n",
       "      <th></th>\n",
       "      <th>id</th>\n",
       "      <th>name</th>\n",
       "      <th>age</th>\n",
       "      <th>gender</th>\n",
       "      <th>chem101</th>\n",
       "      <th>phys101</th>\n",
       "    </tr>\n",
       "  </thead>\n",
       "  <tbody>\n",
       "    <tr>\n",
       "      <th>0</th>\n",
       "      <td>111</td>\n",
       "      <td>John</td>\n",
       "      <td>25</td>\n",
       "      <td>male</td>\n",
       "      <td>23.700001</td>\n",
       "      <td>0.0</td>\n",
       "    </tr>\n",
       "    <tr>\n",
       "      <th>1</th>\n",
       "      <td>222</td>\n",
       "      <td>Bob</td>\n",
       "      <td>30</td>\n",
       "      <td>male</td>\n",
       "      <td>67.500000</td>\n",
       "      <td>0.0</td>\n",
       "    </tr>\n",
       "    <tr>\n",
       "      <th>2</th>\n",
       "      <td>333</td>\n",
       "      <td>Kathy</td>\n",
       "      <td>45</td>\n",
       "      <td>female</td>\n",
       "      <td>81.000000</td>\n",
       "      <td>0.0</td>\n",
       "    </tr>\n",
       "    <tr>\n",
       "      <th>3</th>\n",
       "      <td>444</td>\n",
       "      <td>James</td>\n",
       "      <td>22</td>\n",
       "      <td>male</td>\n",
       "      <td>45.700000</td>\n",
       "      <td>0.0</td>\n",
       "    </tr>\n",
       "    <tr>\n",
       "      <th>4</th>\n",
       "      <td>555</td>\n",
       "      <td>Holly</td>\n",
       "      <td>28</td>\n",
       "      <td>female</td>\n",
       "      <td>23.700000</td>\n",
       "      <td>NaN</td>\n",
       "    </tr>\n",
       "  </tbody>\n",
       "</table>\n",
       "</div>"
      ],
      "text/plain": [
       "    id   name  age  gender    chem101  phys101\n",
       "0  111   John   25    male  23.700001      0.0\n",
       "1  222    Bob   30    male  67.500000      0.0\n",
       "2  333  Kathy   45  female  81.000000      0.0\n",
       "3  444  James   22    male  45.700000      0.0\n",
       "4  555  Holly   28  female  23.700000      NaN"
      ]
     },
     "execution_count": 88,
     "metadata": {},
     "output_type": "execute_result"
    }
   ],
   "source": [
    "df= df.append(new_row, ignore_index= True)\n",
    "df"
   ]
  },
  {
   "cell_type": "code",
   "execution_count": 89,
   "id": "2694f315",
   "metadata": {},
   "outputs": [],
   "source": [
    "import numpy as np\n",
    "df['phys101'] = [82.1, 59.2, 70.1, 32.9,  np.nan]"
   ]
  },
  {
   "cell_type": "code",
   "execution_count": 90,
   "id": "2a6cbbb6",
   "metadata": {},
   "outputs": [
    {
     "data": {
      "text/html": [
       "<div>\n",
       "<style scoped>\n",
       "    .dataframe tbody tr th:only-of-type {\n",
       "        vertical-align: middle;\n",
       "    }\n",
       "\n",
       "    .dataframe tbody tr th {\n",
       "        vertical-align: top;\n",
       "    }\n",
       "\n",
       "    .dataframe thead th {\n",
       "        text-align: right;\n",
       "    }\n",
       "</style>\n",
       "<table border=\"1\" class=\"dataframe\">\n",
       "  <thead>\n",
       "    <tr style=\"text-align: right;\">\n",
       "      <th></th>\n",
       "      <th>id</th>\n",
       "      <th>name</th>\n",
       "      <th>age</th>\n",
       "      <th>gender</th>\n",
       "      <th>chem101</th>\n",
       "      <th>phys101</th>\n",
       "    </tr>\n",
       "  </thead>\n",
       "  <tbody>\n",
       "    <tr>\n",
       "      <th>0</th>\n",
       "      <td>111</td>\n",
       "      <td>John</td>\n",
       "      <td>25</td>\n",
       "      <td>male</td>\n",
       "      <td>23.700001</td>\n",
       "      <td>82.1</td>\n",
       "    </tr>\n",
       "    <tr>\n",
       "      <th>1</th>\n",
       "      <td>222</td>\n",
       "      <td>Bob</td>\n",
       "      <td>30</td>\n",
       "      <td>male</td>\n",
       "      <td>67.500000</td>\n",
       "      <td>59.2</td>\n",
       "    </tr>\n",
       "    <tr>\n",
       "      <th>2</th>\n",
       "      <td>333</td>\n",
       "      <td>Kathy</td>\n",
       "      <td>45</td>\n",
       "      <td>female</td>\n",
       "      <td>81.000000</td>\n",
       "      <td>70.1</td>\n",
       "    </tr>\n",
       "    <tr>\n",
       "      <th>3</th>\n",
       "      <td>444</td>\n",
       "      <td>James</td>\n",
       "      <td>22</td>\n",
       "      <td>male</td>\n",
       "      <td>45.700000</td>\n",
       "      <td>32.9</td>\n",
       "    </tr>\n",
       "    <tr>\n",
       "      <th>4</th>\n",
       "      <td>555</td>\n",
       "      <td>Holly</td>\n",
       "      <td>28</td>\n",
       "      <td>female</td>\n",
       "      <td>23.700000</td>\n",
       "      <td>NaN</td>\n",
       "    </tr>\n",
       "  </tbody>\n",
       "</table>\n",
       "</div>"
      ],
      "text/plain": [
       "    id   name  age  gender    chem101  phys101\n",
       "0  111   John   25    male  23.700001     82.1\n",
       "1  222    Bob   30    male  67.500000     59.2\n",
       "2  333  Kathy   45  female  81.000000     70.1\n",
       "3  444  James   22    male  45.700000     32.9\n",
       "4  555  Holly   28  female  23.700000      NaN"
      ]
     },
     "execution_count": 90,
     "metadata": {},
     "output_type": "execute_result"
    }
   ],
   "source": [
    "df"
   ]
  },
  {
   "cell_type": "code",
   "execution_count": 91,
   "id": "31a89c5d",
   "metadata": {},
   "outputs": [],
   "source": [
    "new_list = [\n",
    "             {'id': 666, 'name': 'Tim','age':26, 'gender': 'male', 'chem101':33.7}, \n",
    "             {'id': 777, 'name': 'Mike', 'age':30, 'gender': 'male', 'phys101':87.5}, \n",
    "             {'id': 888, 'name': 'Marla', 'age':45, 'gender': 'female', 'phys101':91.0}\n",
    "]"
   ]
  },
  {
   "cell_type": "code",
   "execution_count": 92,
   "id": "0e5b3169",
   "metadata": {},
   "outputs": [
    {
     "data": {
      "text/html": [
       "<div>\n",
       "<style scoped>\n",
       "    .dataframe tbody tr th:only-of-type {\n",
       "        vertical-align: middle;\n",
       "    }\n",
       "\n",
       "    .dataframe tbody tr th {\n",
       "        vertical-align: top;\n",
       "    }\n",
       "\n",
       "    .dataframe thead th {\n",
       "        text-align: right;\n",
       "    }\n",
       "</style>\n",
       "<table border=\"1\" class=\"dataframe\">\n",
       "  <thead>\n",
       "    <tr style=\"text-align: right;\">\n",
       "      <th></th>\n",
       "      <th>id</th>\n",
       "      <th>name</th>\n",
       "      <th>age</th>\n",
       "      <th>gender</th>\n",
       "      <th>chem101</th>\n",
       "      <th>phys101</th>\n",
       "    </tr>\n",
       "  </thead>\n",
       "  <tbody>\n",
       "    <tr>\n",
       "      <th>0</th>\n",
       "      <td>666</td>\n",
       "      <td>Tim</td>\n",
       "      <td>26</td>\n",
       "      <td>male</td>\n",
       "      <td>33.7</td>\n",
       "      <td>NaN</td>\n",
       "    </tr>\n",
       "    <tr>\n",
       "      <th>1</th>\n",
       "      <td>777</td>\n",
       "      <td>Mike</td>\n",
       "      <td>30</td>\n",
       "      <td>male</td>\n",
       "      <td>NaN</td>\n",
       "      <td>87.5</td>\n",
       "    </tr>\n",
       "    <tr>\n",
       "      <th>2</th>\n",
       "      <td>888</td>\n",
       "      <td>Marla</td>\n",
       "      <td>45</td>\n",
       "      <td>female</td>\n",
       "      <td>NaN</td>\n",
       "      <td>91.0</td>\n",
       "    </tr>\n",
       "  </tbody>\n",
       "</table>\n",
       "</div>"
      ],
      "text/plain": [
       "    id   name  age  gender  chem101  phys101\n",
       "0  666    Tim   26    male     33.7      NaN\n",
       "1  777   Mike   30    male      NaN     87.5\n",
       "2  888  Marla   45  female      NaN     91.0"
      ]
     },
     "execution_count": 92,
     "metadata": {},
     "output_type": "execute_result"
    }
   ],
   "source": [
    "df2 = pd.DataFrame(new_list)\n",
    "df2"
   ]
  },
  {
   "cell_type": "code",
   "execution_count": 93,
   "id": "8818476b",
   "metadata": {},
   "outputs": [
    {
     "name": "stderr",
     "output_type": "stream",
     "text": [
      "/var/folders/c6/0q4dv4cn42g5_ddh8w5xsb3r0000gn/T/ipykernel_2950/2094904254.py:1: FutureWarning: The frame.append method is deprecated and will be removed from pandas in a future version. Use pandas.concat instead.\n",
      "  df.append(df2)\n"
     ]
    },
    {
     "data": {
      "text/html": [
       "<div>\n",
       "<style scoped>\n",
       "    .dataframe tbody tr th:only-of-type {\n",
       "        vertical-align: middle;\n",
       "    }\n",
       "\n",
       "    .dataframe tbody tr th {\n",
       "        vertical-align: top;\n",
       "    }\n",
       "\n",
       "    .dataframe thead th {\n",
       "        text-align: right;\n",
       "    }\n",
       "</style>\n",
       "<table border=\"1\" class=\"dataframe\">\n",
       "  <thead>\n",
       "    <tr style=\"text-align: right;\">\n",
       "      <th></th>\n",
       "      <th>id</th>\n",
       "      <th>name</th>\n",
       "      <th>age</th>\n",
       "      <th>gender</th>\n",
       "      <th>chem101</th>\n",
       "      <th>phys101</th>\n",
       "    </tr>\n",
       "  </thead>\n",
       "  <tbody>\n",
       "    <tr>\n",
       "      <th>0</th>\n",
       "      <td>111</td>\n",
       "      <td>John</td>\n",
       "      <td>25</td>\n",
       "      <td>male</td>\n",
       "      <td>23.700001</td>\n",
       "      <td>82.1</td>\n",
       "    </tr>\n",
       "    <tr>\n",
       "      <th>1</th>\n",
       "      <td>222</td>\n",
       "      <td>Bob</td>\n",
       "      <td>30</td>\n",
       "      <td>male</td>\n",
       "      <td>67.500000</td>\n",
       "      <td>59.2</td>\n",
       "    </tr>\n",
       "    <tr>\n",
       "      <th>2</th>\n",
       "      <td>333</td>\n",
       "      <td>Kathy</td>\n",
       "      <td>45</td>\n",
       "      <td>female</td>\n",
       "      <td>81.000000</td>\n",
       "      <td>70.1</td>\n",
       "    </tr>\n",
       "    <tr>\n",
       "      <th>3</th>\n",
       "      <td>444</td>\n",
       "      <td>James</td>\n",
       "      <td>22</td>\n",
       "      <td>male</td>\n",
       "      <td>45.700000</td>\n",
       "      <td>32.9</td>\n",
       "    </tr>\n",
       "    <tr>\n",
       "      <th>4</th>\n",
       "      <td>555</td>\n",
       "      <td>Holly</td>\n",
       "      <td>28</td>\n",
       "      <td>female</td>\n",
       "      <td>23.700000</td>\n",
       "      <td>NaN</td>\n",
       "    </tr>\n",
       "    <tr>\n",
       "      <th>0</th>\n",
       "      <td>666</td>\n",
       "      <td>Tim</td>\n",
       "      <td>26</td>\n",
       "      <td>male</td>\n",
       "      <td>33.700000</td>\n",
       "      <td>NaN</td>\n",
       "    </tr>\n",
       "    <tr>\n",
       "      <th>1</th>\n",
       "      <td>777</td>\n",
       "      <td>Mike</td>\n",
       "      <td>30</td>\n",
       "      <td>male</td>\n",
       "      <td>NaN</td>\n",
       "      <td>87.5</td>\n",
       "    </tr>\n",
       "    <tr>\n",
       "      <th>2</th>\n",
       "      <td>888</td>\n",
       "      <td>Marla</td>\n",
       "      <td>45</td>\n",
       "      <td>female</td>\n",
       "      <td>NaN</td>\n",
       "      <td>91.0</td>\n",
       "    </tr>\n",
       "  </tbody>\n",
       "</table>\n",
       "</div>"
      ],
      "text/plain": [
       "    id   name  age  gender    chem101  phys101\n",
       "0  111   John   25    male  23.700001     82.1\n",
       "1  222    Bob   30    male  67.500000     59.2\n",
       "2  333  Kathy   45  female  81.000000     70.1\n",
       "3  444  James   22    male  45.700000     32.9\n",
       "4  555  Holly   28  female  23.700000      NaN\n",
       "0  666    Tim   26    male  33.700000      NaN\n",
       "1  777   Mike   30    male        NaN     87.5\n",
       "2  888  Marla   45  female        NaN     91.0"
      ]
     },
     "execution_count": 93,
     "metadata": {},
     "output_type": "execute_result"
    }
   ],
   "source": [
    "df.append(df2)"
   ]
  },
  {
   "cell_type": "code",
   "execution_count": 94,
   "id": "50fd9c6b",
   "metadata": {},
   "outputs": [
    {
     "name": "stderr",
     "output_type": "stream",
     "text": [
      "/var/folders/c6/0q4dv4cn42g5_ddh8w5xsb3r0000gn/T/ipykernel_2950/26416246.py:1: FutureWarning: The frame.append method is deprecated and will be removed from pandas in a future version. Use pandas.concat instead.\n",
      "  df.append(df2, ignore_index=True)\n"
     ]
    },
    {
     "data": {
      "text/html": [
       "<div>\n",
       "<style scoped>\n",
       "    .dataframe tbody tr th:only-of-type {\n",
       "        vertical-align: middle;\n",
       "    }\n",
       "\n",
       "    .dataframe tbody tr th {\n",
       "        vertical-align: top;\n",
       "    }\n",
       "\n",
       "    .dataframe thead th {\n",
       "        text-align: right;\n",
       "    }\n",
       "</style>\n",
       "<table border=\"1\" class=\"dataframe\">\n",
       "  <thead>\n",
       "    <tr style=\"text-align: right;\">\n",
       "      <th></th>\n",
       "      <th>id</th>\n",
       "      <th>name</th>\n",
       "      <th>age</th>\n",
       "      <th>gender</th>\n",
       "      <th>chem101</th>\n",
       "      <th>phys101</th>\n",
       "    </tr>\n",
       "  </thead>\n",
       "  <tbody>\n",
       "    <tr>\n",
       "      <th>0</th>\n",
       "      <td>111</td>\n",
       "      <td>John</td>\n",
       "      <td>25</td>\n",
       "      <td>male</td>\n",
       "      <td>23.700001</td>\n",
       "      <td>82.1</td>\n",
       "    </tr>\n",
       "    <tr>\n",
       "      <th>1</th>\n",
       "      <td>222</td>\n",
       "      <td>Bob</td>\n",
       "      <td>30</td>\n",
       "      <td>male</td>\n",
       "      <td>67.500000</td>\n",
       "      <td>59.2</td>\n",
       "    </tr>\n",
       "    <tr>\n",
       "      <th>2</th>\n",
       "      <td>333</td>\n",
       "      <td>Kathy</td>\n",
       "      <td>45</td>\n",
       "      <td>female</td>\n",
       "      <td>81.000000</td>\n",
       "      <td>70.1</td>\n",
       "    </tr>\n",
       "    <tr>\n",
       "      <th>3</th>\n",
       "      <td>444</td>\n",
       "      <td>James</td>\n",
       "      <td>22</td>\n",
       "      <td>male</td>\n",
       "      <td>45.700000</td>\n",
       "      <td>32.9</td>\n",
       "    </tr>\n",
       "    <tr>\n",
       "      <th>4</th>\n",
       "      <td>555</td>\n",
       "      <td>Holly</td>\n",
       "      <td>28</td>\n",
       "      <td>female</td>\n",
       "      <td>23.700000</td>\n",
       "      <td>NaN</td>\n",
       "    </tr>\n",
       "    <tr>\n",
       "      <th>5</th>\n",
       "      <td>666</td>\n",
       "      <td>Tim</td>\n",
       "      <td>26</td>\n",
       "      <td>male</td>\n",
       "      <td>33.700000</td>\n",
       "      <td>NaN</td>\n",
       "    </tr>\n",
       "    <tr>\n",
       "      <th>6</th>\n",
       "      <td>777</td>\n",
       "      <td>Mike</td>\n",
       "      <td>30</td>\n",
       "      <td>male</td>\n",
       "      <td>NaN</td>\n",
       "      <td>87.5</td>\n",
       "    </tr>\n",
       "    <tr>\n",
       "      <th>7</th>\n",
       "      <td>888</td>\n",
       "      <td>Marla</td>\n",
       "      <td>45</td>\n",
       "      <td>female</td>\n",
       "      <td>NaN</td>\n",
       "      <td>91.0</td>\n",
       "    </tr>\n",
       "  </tbody>\n",
       "</table>\n",
       "</div>"
      ],
      "text/plain": [
       "    id   name  age  gender    chem101  phys101\n",
       "0  111   John   25    male  23.700001     82.1\n",
       "1  222    Bob   30    male  67.500000     59.2\n",
       "2  333  Kathy   45  female  81.000000     70.1\n",
       "3  444  James   22    male  45.700000     32.9\n",
       "4  555  Holly   28  female  23.700000      NaN\n",
       "5  666    Tim   26    male  33.700000      NaN\n",
       "6  777   Mike   30    male        NaN     87.5\n",
       "7  888  Marla   45  female        NaN     91.0"
      ]
     },
     "execution_count": 94,
     "metadata": {},
     "output_type": "execute_result"
    }
   ],
   "source": [
    "df.append(df2, ignore_index=True)"
   ]
  },
  {
   "cell_type": "code",
   "execution_count": 95,
   "id": "9f2fcb0e",
   "metadata": {},
   "outputs": [],
   "source": [
    "df= pd.read_csv('students.csv')"
   ]
  },
  {
   "cell_type": "code",
   "execution_count": 96,
   "id": "0426e151",
   "metadata": {},
   "outputs": [
    {
     "data": {
      "text/html": [
       "<div>\n",
       "<style scoped>\n",
       "    .dataframe tbody tr th:only-of-type {\n",
       "        vertical-align: middle;\n",
       "    }\n",
       "\n",
       "    .dataframe tbody tr th {\n",
       "        vertical-align: top;\n",
       "    }\n",
       "\n",
       "    .dataframe thead th {\n",
       "        text-align: right;\n",
       "    }\n",
       "</style>\n",
       "<table border=\"1\" class=\"dataframe\">\n",
       "  <thead>\n",
       "    <tr style=\"text-align: right;\">\n",
       "      <th></th>\n",
       "      <th>id</th>\n",
       "      <th>name</th>\n",
       "      <th>age</th>\n",
       "      <th>gender</th>\n",
       "      <th>chem101</th>\n",
       "      <th>phys101</th>\n",
       "      <th>math101</th>\n",
       "    </tr>\n",
       "  </thead>\n",
       "  <tbody>\n",
       "    <tr>\n",
       "      <th>0</th>\n",
       "      <td>111</td>\n",
       "      <td>John</td>\n",
       "      <td>25</td>\n",
       "      <td>male</td>\n",
       "      <td>23.7</td>\n",
       "      <td>34.2</td>\n",
       "      <td>64.1</td>\n",
       "    </tr>\n",
       "    <tr>\n",
       "      <th>1</th>\n",
       "      <td>222</td>\n",
       "      <td>Bob</td>\n",
       "      <td>30</td>\n",
       "      <td>male</td>\n",
       "      <td>67.5</td>\n",
       "      <td>76.2</td>\n",
       "      <td>89.1</td>\n",
       "    </tr>\n",
       "    <tr>\n",
       "      <th>2</th>\n",
       "      <td>333</td>\n",
       "      <td>Kathy</td>\n",
       "      <td>45</td>\n",
       "      <td>female</td>\n",
       "      <td>81.0</td>\n",
       "      <td>91.8</td>\n",
       "      <td>98.8</td>\n",
       "    </tr>\n",
       "    <tr>\n",
       "      <th>3</th>\n",
       "      <td>444</td>\n",
       "      <td>James</td>\n",
       "      <td>22</td>\n",
       "      <td>male</td>\n",
       "      <td>45.7</td>\n",
       "      <td>32.9</td>\n",
       "      <td>12.3</td>\n",
       "    </tr>\n",
       "    <tr>\n",
       "      <th>4</th>\n",
       "      <td>555</td>\n",
       "      <td>Holly</td>\n",
       "      <td>28</td>\n",
       "      <td>female</td>\n",
       "      <td>23.7</td>\n",
       "      <td>NaN</td>\n",
       "      <td>34.9</td>\n",
       "    </tr>\n",
       "    <tr>\n",
       "      <th>5</th>\n",
       "      <td>666</td>\n",
       "      <td>Tim</td>\n",
       "      <td>26</td>\n",
       "      <td>male</td>\n",
       "      <td>33.7</td>\n",
       "      <td>78.1</td>\n",
       "      <td>NaN</td>\n",
       "    </tr>\n",
       "    <tr>\n",
       "      <th>6</th>\n",
       "      <td>777</td>\n",
       "      <td>Mike</td>\n",
       "      <td>30</td>\n",
       "      <td>male</td>\n",
       "      <td>NaN</td>\n",
       "      <td>87.5</td>\n",
       "      <td>98.1</td>\n",
       "    </tr>\n",
       "    <tr>\n",
       "      <th>7</th>\n",
       "      <td>888</td>\n",
       "      <td>Marla</td>\n",
       "      <td>45</td>\n",
       "      <td>female</td>\n",
       "      <td>67.1</td>\n",
       "      <td>56.9</td>\n",
       "      <td>NaN</td>\n",
       "    </tr>\n",
       "  </tbody>\n",
       "</table>\n",
       "</div>"
      ],
      "text/plain": [
       "    id   name  age  gender  chem101  phys101  math101\n",
       "0  111   John   25    male     23.7     34.2     64.1\n",
       "1  222    Bob   30    male     67.5     76.2     89.1\n",
       "2  333  Kathy   45  female     81.0     91.8     98.8\n",
       "3  444  James   22    male     45.7     32.9     12.3\n",
       "4  555  Holly   28  female     23.7      NaN     34.9\n",
       "5  666    Tim   26    male     33.7     78.1      NaN\n",
       "6  777   Mike   30    male      NaN     87.5     98.1\n",
       "7  888  Marla   45  female     67.1     56.9      NaN"
      ]
     },
     "execution_count": 96,
     "metadata": {},
     "output_type": "execute_result"
    }
   ],
   "source": [
    "df"
   ]
  },
  {
   "cell_type": "code",
   "execution_count": 97,
   "id": "b46a9a87",
   "metadata": {},
   "outputs": [
    {
     "name": "stderr",
     "output_type": "stream",
     "text": [
      "/var/folders/c6/0q4dv4cn42g5_ddh8w5xsb3r0000gn/T/ipykernel_2950/3698961737.py:1: FutureWarning: The default value of numeric_only in DataFrame.mean is deprecated. In a future version, it will default to False. In addition, specifying 'numeric_only=None' is deprecated. Select only valid columns or specify the value of numeric_only to silence this warning.\n",
      "  df.mean()\n"
     ]
    },
    {
     "data": {
      "text/plain": [
       "id         499.500000\n",
       "age         31.375000\n",
       "chem101     48.914286\n",
       "phys101     65.371429\n",
       "math101     66.216667\n",
       "dtype: float64"
      ]
     },
     "execution_count": 97,
     "metadata": {},
     "output_type": "execute_result"
    }
   ],
   "source": [
    "df.mean()"
   ]
  },
  {
   "cell_type": "code",
   "execution_count": 98,
   "id": "e7c8b04e",
   "metadata": {},
   "outputs": [
    {
     "data": {
      "text/html": [
       "<div>\n",
       "<style scoped>\n",
       "    .dataframe tbody tr th:only-of-type {\n",
       "        vertical-align: middle;\n",
       "    }\n",
       "\n",
       "    .dataframe tbody tr th {\n",
       "        vertical-align: top;\n",
       "    }\n",
       "\n",
       "    .dataframe thead th {\n",
       "        text-align: right;\n",
       "    }\n",
       "</style>\n",
       "<table border=\"1\" class=\"dataframe\">\n",
       "  <thead>\n",
       "    <tr style=\"text-align: right;\">\n",
       "      <th></th>\n",
       "      <th>id</th>\n",
       "      <th>age</th>\n",
       "      <th>chem101</th>\n",
       "      <th>phys101</th>\n",
       "      <th>math101</th>\n",
       "    </tr>\n",
       "  </thead>\n",
       "  <tbody>\n",
       "    <tr>\n",
       "      <th>count</th>\n",
       "      <td>8.000000</td>\n",
       "      <td>8.000000</td>\n",
       "      <td>7.000000</td>\n",
       "      <td>7.000000</td>\n",
       "      <td>6.000000</td>\n",
       "    </tr>\n",
       "    <tr>\n",
       "      <th>mean</th>\n",
       "      <td>499.500000</td>\n",
       "      <td>31.375000</td>\n",
       "      <td>48.914286</td>\n",
       "      <td>65.371429</td>\n",
       "      <td>66.216667</td>\n",
       "    </tr>\n",
       "    <tr>\n",
       "      <th>std</th>\n",
       "      <td>271.893361</td>\n",
       "      <td>8.814558</td>\n",
       "      <td>23.162357</td>\n",
       "      <td>24.376335</td>\n",
       "      <td>36.039113</td>\n",
       "    </tr>\n",
       "    <tr>\n",
       "      <th>min</th>\n",
       "      <td>111.000000</td>\n",
       "      <td>22.000000</td>\n",
       "      <td>23.700000</td>\n",
       "      <td>32.900000</td>\n",
       "      <td>12.300000</td>\n",
       "    </tr>\n",
       "    <tr>\n",
       "      <th>25%</th>\n",
       "      <td>305.250000</td>\n",
       "      <td>25.750000</td>\n",
       "      <td>28.700000</td>\n",
       "      <td>45.550000</td>\n",
       "      <td>42.200000</td>\n",
       "    </tr>\n",
       "    <tr>\n",
       "      <th>50%</th>\n",
       "      <td>499.500000</td>\n",
       "      <td>29.000000</td>\n",
       "      <td>45.700000</td>\n",
       "      <td>76.200000</td>\n",
       "      <td>76.600000</td>\n",
       "    </tr>\n",
       "    <tr>\n",
       "      <th>75%</th>\n",
       "      <td>693.750000</td>\n",
       "      <td>33.750000</td>\n",
       "      <td>67.300000</td>\n",
       "      <td>82.800000</td>\n",
       "      <td>95.850000</td>\n",
       "    </tr>\n",
       "    <tr>\n",
       "      <th>max</th>\n",
       "      <td>888.000000</td>\n",
       "      <td>45.000000</td>\n",
       "      <td>81.000000</td>\n",
       "      <td>91.800000</td>\n",
       "      <td>98.800000</td>\n",
       "    </tr>\n",
       "  </tbody>\n",
       "</table>\n",
       "</div>"
      ],
      "text/plain": [
       "               id        age    chem101    phys101    math101\n",
       "count    8.000000   8.000000   7.000000   7.000000   6.000000\n",
       "mean   499.500000  31.375000  48.914286  65.371429  66.216667\n",
       "std    271.893361   8.814558  23.162357  24.376335  36.039113\n",
       "min    111.000000  22.000000  23.700000  32.900000  12.300000\n",
       "25%    305.250000  25.750000  28.700000  45.550000  42.200000\n",
       "50%    499.500000  29.000000  45.700000  76.200000  76.600000\n",
       "75%    693.750000  33.750000  67.300000  82.800000  95.850000\n",
       "max    888.000000  45.000000  81.000000  91.800000  98.800000"
      ]
     },
     "execution_count": 98,
     "metadata": {},
     "output_type": "execute_result"
    }
   ],
   "source": [
    "df.describe()"
   ]
  },
  {
   "cell_type": "code",
   "execution_count": 99,
   "id": "fb96451a",
   "metadata": {},
   "outputs": [
    {
     "name": "stderr",
     "output_type": "stream",
     "text": [
      "/var/folders/c6/0q4dv4cn42g5_ddh8w5xsb3r0000gn/T/ipykernel_2950/3676274908.py:1: FutureWarning: Dropping of nuisance columns in DataFrame reductions (with 'numeric_only=None') is deprecated; in a future version this will raise TypeError.  Select only valid columns before calling the reduction.\n",
      "  df.mean(axis=1)\n"
     ]
    },
    {
     "data": {
      "text/plain": [
       "0     51.60\n",
       "1     96.96\n",
       "2    129.92\n",
       "3    111.38\n",
       "4    160.40\n",
       "5    200.95\n",
       "6    248.15\n",
       "7    264.25\n",
       "dtype: float64"
      ]
     },
     "execution_count": 99,
     "metadata": {},
     "output_type": "execute_result"
    }
   ],
   "source": [
    "df.mean(axis=1)"
   ]
  },
  {
   "cell_type": "code",
   "execution_count": 100,
   "id": "8e22c464",
   "metadata": {},
   "outputs": [
    {
     "data": {
      "text/html": [
       "<div>\n",
       "<style scoped>\n",
       "    .dataframe tbody tr th:only-of-type {\n",
       "        vertical-align: middle;\n",
       "    }\n",
       "\n",
       "    .dataframe tbody tr th {\n",
       "        vertical-align: top;\n",
       "    }\n",
       "\n",
       "    .dataframe thead th {\n",
       "        text-align: right;\n",
       "    }\n",
       "</style>\n",
       "<table border=\"1\" class=\"dataframe\">\n",
       "  <thead>\n",
       "    <tr style=\"text-align: right;\">\n",
       "      <th></th>\n",
       "      <th>chem101</th>\n",
       "      <th>phys101</th>\n",
       "      <th>math101</th>\n",
       "    </tr>\n",
       "  </thead>\n",
       "  <tbody>\n",
       "    <tr>\n",
       "      <th>0</th>\n",
       "      <td>23.7</td>\n",
       "      <td>34.2</td>\n",
       "      <td>64.1</td>\n",
       "    </tr>\n",
       "    <tr>\n",
       "      <th>1</th>\n",
       "      <td>67.5</td>\n",
       "      <td>76.2</td>\n",
       "      <td>89.1</td>\n",
       "    </tr>\n",
       "    <tr>\n",
       "      <th>2</th>\n",
       "      <td>81.0</td>\n",
       "      <td>91.8</td>\n",
       "      <td>98.8</td>\n",
       "    </tr>\n",
       "    <tr>\n",
       "      <th>3</th>\n",
       "      <td>45.7</td>\n",
       "      <td>32.9</td>\n",
       "      <td>12.3</td>\n",
       "    </tr>\n",
       "    <tr>\n",
       "      <th>4</th>\n",
       "      <td>23.7</td>\n",
       "      <td>NaN</td>\n",
       "      <td>34.9</td>\n",
       "    </tr>\n",
       "    <tr>\n",
       "      <th>5</th>\n",
       "      <td>33.7</td>\n",
       "      <td>78.1</td>\n",
       "      <td>NaN</td>\n",
       "    </tr>\n",
       "    <tr>\n",
       "      <th>6</th>\n",
       "      <td>NaN</td>\n",
       "      <td>87.5</td>\n",
       "      <td>98.1</td>\n",
       "    </tr>\n",
       "    <tr>\n",
       "      <th>7</th>\n",
       "      <td>67.1</td>\n",
       "      <td>56.9</td>\n",
       "      <td>NaN</td>\n",
       "    </tr>\n",
       "  </tbody>\n",
       "</table>\n",
       "</div>"
      ],
      "text/plain": [
       "   chem101  phys101  math101\n",
       "0     23.7     34.2     64.1\n",
       "1     67.5     76.2     89.1\n",
       "2     81.0     91.8     98.8\n",
       "3     45.7     32.9     12.3\n",
       "4     23.7      NaN     34.9\n",
       "5     33.7     78.1      NaN\n",
       "6      NaN     87.5     98.1\n",
       "7     67.1     56.9      NaN"
      ]
     },
     "execution_count": 100,
     "metadata": {},
     "output_type": "execute_result"
    }
   ],
   "source": [
    "scores = df[['chem101', 'phys101', 'math101']]\n",
    "scores"
   ]
  },
  {
   "cell_type": "code",
   "execution_count": 101,
   "id": "e27f1a71",
   "metadata": {},
   "outputs": [],
   "source": [
    "av_score = scores.mean(axis=1)"
   ]
  },
  {
   "cell_type": "code",
   "execution_count": 102,
   "id": "bb39a2f4",
   "metadata": {},
   "outputs": [
    {
     "data": {
      "text/plain": [
       "0    40.666667\n",
       "1    77.600000\n",
       "2    90.533333\n",
       "3    30.300000\n",
       "4    29.300000\n",
       "5    55.900000\n",
       "6    92.800000\n",
       "7    62.000000\n",
       "dtype: float64"
      ]
     },
     "execution_count": 102,
     "metadata": {},
     "output_type": "execute_result"
    }
   ],
   "source": [
    "av_score"
   ]
  },
  {
   "cell_type": "code",
   "execution_count": 103,
   "id": "5973cd4e",
   "metadata": {},
   "outputs": [],
   "source": [
    "df['average']= av_score"
   ]
  },
  {
   "cell_type": "code",
   "execution_count": 104,
   "id": "312fd624",
   "metadata": {},
   "outputs": [
    {
     "data": {
      "text/html": [
       "<div>\n",
       "<style scoped>\n",
       "    .dataframe tbody tr th:only-of-type {\n",
       "        vertical-align: middle;\n",
       "    }\n",
       "\n",
       "    .dataframe tbody tr th {\n",
       "        vertical-align: top;\n",
       "    }\n",
       "\n",
       "    .dataframe thead th {\n",
       "        text-align: right;\n",
       "    }\n",
       "</style>\n",
       "<table border=\"1\" class=\"dataframe\">\n",
       "  <thead>\n",
       "    <tr style=\"text-align: right;\">\n",
       "      <th></th>\n",
       "      <th>id</th>\n",
       "      <th>name</th>\n",
       "      <th>age</th>\n",
       "      <th>gender</th>\n",
       "      <th>chem101</th>\n",
       "      <th>phys101</th>\n",
       "      <th>math101</th>\n",
       "      <th>average</th>\n",
       "    </tr>\n",
       "  </thead>\n",
       "  <tbody>\n",
       "    <tr>\n",
       "      <th>0</th>\n",
       "      <td>111</td>\n",
       "      <td>John</td>\n",
       "      <td>25</td>\n",
       "      <td>male</td>\n",
       "      <td>23.7</td>\n",
       "      <td>34.2</td>\n",
       "      <td>64.1</td>\n",
       "      <td>40.666667</td>\n",
       "    </tr>\n",
       "    <tr>\n",
       "      <th>1</th>\n",
       "      <td>222</td>\n",
       "      <td>Bob</td>\n",
       "      <td>30</td>\n",
       "      <td>male</td>\n",
       "      <td>67.5</td>\n",
       "      <td>76.2</td>\n",
       "      <td>89.1</td>\n",
       "      <td>77.600000</td>\n",
       "    </tr>\n",
       "    <tr>\n",
       "      <th>2</th>\n",
       "      <td>333</td>\n",
       "      <td>Kathy</td>\n",
       "      <td>45</td>\n",
       "      <td>female</td>\n",
       "      <td>81.0</td>\n",
       "      <td>91.8</td>\n",
       "      <td>98.8</td>\n",
       "      <td>90.533333</td>\n",
       "    </tr>\n",
       "    <tr>\n",
       "      <th>3</th>\n",
       "      <td>444</td>\n",
       "      <td>James</td>\n",
       "      <td>22</td>\n",
       "      <td>male</td>\n",
       "      <td>45.7</td>\n",
       "      <td>32.9</td>\n",
       "      <td>12.3</td>\n",
       "      <td>30.300000</td>\n",
       "    </tr>\n",
       "    <tr>\n",
       "      <th>4</th>\n",
       "      <td>555</td>\n",
       "      <td>Holly</td>\n",
       "      <td>28</td>\n",
       "      <td>female</td>\n",
       "      <td>23.7</td>\n",
       "      <td>NaN</td>\n",
       "      <td>34.9</td>\n",
       "      <td>29.300000</td>\n",
       "    </tr>\n",
       "    <tr>\n",
       "      <th>5</th>\n",
       "      <td>666</td>\n",
       "      <td>Tim</td>\n",
       "      <td>26</td>\n",
       "      <td>male</td>\n",
       "      <td>33.7</td>\n",
       "      <td>78.1</td>\n",
       "      <td>NaN</td>\n",
       "      <td>55.900000</td>\n",
       "    </tr>\n",
       "    <tr>\n",
       "      <th>6</th>\n",
       "      <td>777</td>\n",
       "      <td>Mike</td>\n",
       "      <td>30</td>\n",
       "      <td>male</td>\n",
       "      <td>NaN</td>\n",
       "      <td>87.5</td>\n",
       "      <td>98.1</td>\n",
       "      <td>92.800000</td>\n",
       "    </tr>\n",
       "    <tr>\n",
       "      <th>7</th>\n",
       "      <td>888</td>\n",
       "      <td>Marla</td>\n",
       "      <td>45</td>\n",
       "      <td>female</td>\n",
       "      <td>67.1</td>\n",
       "      <td>56.9</td>\n",
       "      <td>NaN</td>\n",
       "      <td>62.000000</td>\n",
       "    </tr>\n",
       "  </tbody>\n",
       "</table>\n",
       "</div>"
      ],
      "text/plain": [
       "    id   name  age  gender  chem101  phys101  math101    average\n",
       "0  111   John   25    male     23.7     34.2     64.1  40.666667\n",
       "1  222    Bob   30    male     67.5     76.2     89.1  77.600000\n",
       "2  333  Kathy   45  female     81.0     91.8     98.8  90.533333\n",
       "3  444  James   22    male     45.7     32.9     12.3  30.300000\n",
       "4  555  Holly   28  female     23.7      NaN     34.9  29.300000\n",
       "5  666    Tim   26    male     33.7     78.1      NaN  55.900000\n",
       "6  777   Mike   30    male      NaN     87.5     98.1  92.800000\n",
       "7  888  Marla   45  female     67.1     56.9      NaN  62.000000"
      ]
     },
     "execution_count": 104,
     "metadata": {},
     "output_type": "execute_result"
    }
   ],
   "source": [
    "df"
   ]
  },
  {
   "cell_type": "code",
   "execution_count": 105,
   "id": "a1f502dc",
   "metadata": {},
   "outputs": [],
   "source": [
    "df['average'] = df[['chem101', 'phys101', 'math101']].mean(axis=1)"
   ]
  },
  {
   "cell_type": "code",
   "execution_count": 106,
   "id": "bcd067c1",
   "metadata": {},
   "outputs": [
    {
     "data": {
      "text/html": [
       "<div>\n",
       "<style scoped>\n",
       "    .dataframe tbody tr th:only-of-type {\n",
       "        vertical-align: middle;\n",
       "    }\n",
       "\n",
       "    .dataframe tbody tr th {\n",
       "        vertical-align: top;\n",
       "    }\n",
       "\n",
       "    .dataframe thead th {\n",
       "        text-align: right;\n",
       "    }\n",
       "</style>\n",
       "<table border=\"1\" class=\"dataframe\">\n",
       "  <thead>\n",
       "    <tr style=\"text-align: right;\">\n",
       "      <th></th>\n",
       "      <th>id</th>\n",
       "      <th>name</th>\n",
       "      <th>age</th>\n",
       "      <th>gender</th>\n",
       "      <th>chem101</th>\n",
       "      <th>phys101</th>\n",
       "      <th>math101</th>\n",
       "      <th>average</th>\n",
       "    </tr>\n",
       "  </thead>\n",
       "  <tbody>\n",
       "    <tr>\n",
       "      <th>0</th>\n",
       "      <td>111</td>\n",
       "      <td>John</td>\n",
       "      <td>25</td>\n",
       "      <td>male</td>\n",
       "      <td>23.7</td>\n",
       "      <td>34.2</td>\n",
       "      <td>64.1</td>\n",
       "      <td>40.666667</td>\n",
       "    </tr>\n",
       "    <tr>\n",
       "      <th>1</th>\n",
       "      <td>222</td>\n",
       "      <td>Bob</td>\n",
       "      <td>30</td>\n",
       "      <td>male</td>\n",
       "      <td>67.5</td>\n",
       "      <td>76.2</td>\n",
       "      <td>89.1</td>\n",
       "      <td>77.600000</td>\n",
       "    </tr>\n",
       "    <tr>\n",
       "      <th>2</th>\n",
       "      <td>333</td>\n",
       "      <td>Kathy</td>\n",
       "      <td>45</td>\n",
       "      <td>female</td>\n",
       "      <td>81.0</td>\n",
       "      <td>91.8</td>\n",
       "      <td>98.8</td>\n",
       "      <td>90.533333</td>\n",
       "    </tr>\n",
       "    <tr>\n",
       "      <th>3</th>\n",
       "      <td>444</td>\n",
       "      <td>James</td>\n",
       "      <td>22</td>\n",
       "      <td>male</td>\n",
       "      <td>45.7</td>\n",
       "      <td>32.9</td>\n",
       "      <td>12.3</td>\n",
       "      <td>30.300000</td>\n",
       "    </tr>\n",
       "    <tr>\n",
       "      <th>4</th>\n",
       "      <td>555</td>\n",
       "      <td>Holly</td>\n",
       "      <td>28</td>\n",
       "      <td>female</td>\n",
       "      <td>23.7</td>\n",
       "      <td>NaN</td>\n",
       "      <td>34.9</td>\n",
       "      <td>29.300000</td>\n",
       "    </tr>\n",
       "    <tr>\n",
       "      <th>5</th>\n",
       "      <td>666</td>\n",
       "      <td>Tim</td>\n",
       "      <td>26</td>\n",
       "      <td>male</td>\n",
       "      <td>33.7</td>\n",
       "      <td>78.1</td>\n",
       "      <td>NaN</td>\n",
       "      <td>55.900000</td>\n",
       "    </tr>\n",
       "    <tr>\n",
       "      <th>6</th>\n",
       "      <td>777</td>\n",
       "      <td>Mike</td>\n",
       "      <td>30</td>\n",
       "      <td>male</td>\n",
       "      <td>NaN</td>\n",
       "      <td>87.5</td>\n",
       "      <td>98.1</td>\n",
       "      <td>92.800000</td>\n",
       "    </tr>\n",
       "    <tr>\n",
       "      <th>7</th>\n",
       "      <td>888</td>\n",
       "      <td>Marla</td>\n",
       "      <td>45</td>\n",
       "      <td>female</td>\n",
       "      <td>67.1</td>\n",
       "      <td>56.9</td>\n",
       "      <td>NaN</td>\n",
       "      <td>62.000000</td>\n",
       "    </tr>\n",
       "  </tbody>\n",
       "</table>\n",
       "</div>"
      ],
      "text/plain": [
       "    id   name  age  gender  chem101  phys101  math101    average\n",
       "0  111   John   25    male     23.7     34.2     64.1  40.666667\n",
       "1  222    Bob   30    male     67.5     76.2     89.1  77.600000\n",
       "2  333  Kathy   45  female     81.0     91.8     98.8  90.533333\n",
       "3  444  James   22    male     45.7     32.9     12.3  30.300000\n",
       "4  555  Holly   28  female     23.7      NaN     34.9  29.300000\n",
       "5  666    Tim   26    male     33.7     78.1      NaN  55.900000\n",
       "6  777   Mike   30    male      NaN     87.5     98.1  92.800000\n",
       "7  888  Marla   45  female     67.1     56.9      NaN  62.000000"
      ]
     },
     "execution_count": 106,
     "metadata": {},
     "output_type": "execute_result"
    }
   ],
   "source": [
    "df"
   ]
  },
  {
   "cell_type": "code",
   "execution_count": 107,
   "id": "5d2202ec",
   "metadata": {},
   "outputs": [
    {
     "data": {
      "text/html": [
       "<div>\n",
       "<style scoped>\n",
       "    .dataframe tbody tr th:only-of-type {\n",
       "        vertical-align: middle;\n",
       "    }\n",
       "\n",
       "    .dataframe tbody tr th {\n",
       "        vertical-align: top;\n",
       "    }\n",
       "\n",
       "    .dataframe thead th {\n",
       "        text-align: right;\n",
       "    }\n",
       "</style>\n",
       "<table border=\"1\" class=\"dataframe\">\n",
       "  <thead>\n",
       "    <tr style=\"text-align: right;\">\n",
       "      <th></th>\n",
       "      <th>id</th>\n",
       "      <th>name</th>\n",
       "      <th>age</th>\n",
       "      <th>gender</th>\n",
       "      <th>chem101</th>\n",
       "      <th>phys101</th>\n",
       "      <th>math101</th>\n",
       "      <th>average</th>\n",
       "    </tr>\n",
       "  </thead>\n",
       "  <tbody>\n",
       "    <tr>\n",
       "      <th>3</th>\n",
       "      <td>444</td>\n",
       "      <td>James</td>\n",
       "      <td>22</td>\n",
       "      <td>male</td>\n",
       "      <td>45.7</td>\n",
       "      <td>32.9</td>\n",
       "      <td>12.3</td>\n",
       "      <td>30.300000</td>\n",
       "    </tr>\n",
       "    <tr>\n",
       "      <th>0</th>\n",
       "      <td>111</td>\n",
       "      <td>John</td>\n",
       "      <td>25</td>\n",
       "      <td>male</td>\n",
       "      <td>23.7</td>\n",
       "      <td>34.2</td>\n",
       "      <td>64.1</td>\n",
       "      <td>40.666667</td>\n",
       "    </tr>\n",
       "    <tr>\n",
       "      <th>5</th>\n",
       "      <td>666</td>\n",
       "      <td>Tim</td>\n",
       "      <td>26</td>\n",
       "      <td>male</td>\n",
       "      <td>33.7</td>\n",
       "      <td>78.1</td>\n",
       "      <td>NaN</td>\n",
       "      <td>55.900000</td>\n",
       "    </tr>\n",
       "    <tr>\n",
       "      <th>4</th>\n",
       "      <td>555</td>\n",
       "      <td>Holly</td>\n",
       "      <td>28</td>\n",
       "      <td>female</td>\n",
       "      <td>23.7</td>\n",
       "      <td>NaN</td>\n",
       "      <td>34.9</td>\n",
       "      <td>29.300000</td>\n",
       "    </tr>\n",
       "    <tr>\n",
       "      <th>1</th>\n",
       "      <td>222</td>\n",
       "      <td>Bob</td>\n",
       "      <td>30</td>\n",
       "      <td>male</td>\n",
       "      <td>67.5</td>\n",
       "      <td>76.2</td>\n",
       "      <td>89.1</td>\n",
       "      <td>77.600000</td>\n",
       "    </tr>\n",
       "    <tr>\n",
       "      <th>6</th>\n",
       "      <td>777</td>\n",
       "      <td>Mike</td>\n",
       "      <td>30</td>\n",
       "      <td>male</td>\n",
       "      <td>NaN</td>\n",
       "      <td>87.5</td>\n",
       "      <td>98.1</td>\n",
       "      <td>92.800000</td>\n",
       "    </tr>\n",
       "    <tr>\n",
       "      <th>2</th>\n",
       "      <td>333</td>\n",
       "      <td>Kathy</td>\n",
       "      <td>45</td>\n",
       "      <td>female</td>\n",
       "      <td>81.0</td>\n",
       "      <td>91.8</td>\n",
       "      <td>98.8</td>\n",
       "      <td>90.533333</td>\n",
       "    </tr>\n",
       "    <tr>\n",
       "      <th>7</th>\n",
       "      <td>888</td>\n",
       "      <td>Marla</td>\n",
       "      <td>45</td>\n",
       "      <td>female</td>\n",
       "      <td>67.1</td>\n",
       "      <td>56.9</td>\n",
       "      <td>NaN</td>\n",
       "      <td>62.000000</td>\n",
       "    </tr>\n",
       "  </tbody>\n",
       "</table>\n",
       "</div>"
      ],
      "text/plain": [
       "    id   name  age  gender  chem101  phys101  math101    average\n",
       "3  444  James   22    male     45.7     32.9     12.3  30.300000\n",
       "0  111   John   25    male     23.7     34.2     64.1  40.666667\n",
       "5  666    Tim   26    male     33.7     78.1      NaN  55.900000\n",
       "4  555  Holly   28  female     23.7      NaN     34.9  29.300000\n",
       "1  222    Bob   30    male     67.5     76.2     89.1  77.600000\n",
       "6  777   Mike   30    male      NaN     87.5     98.1  92.800000\n",
       "2  333  Kathy   45  female     81.0     91.8     98.8  90.533333\n",
       "7  888  Marla   45  female     67.1     56.9      NaN  62.000000"
      ]
     },
     "execution_count": 107,
     "metadata": {},
     "output_type": "execute_result"
    }
   ],
   "source": [
    "df.sort_values(by='age')"
   ]
  },
  {
   "cell_type": "code",
   "execution_count": 108,
   "id": "e16796f1",
   "metadata": {},
   "outputs": [
    {
     "data": {
      "text/html": [
       "<div>\n",
       "<style scoped>\n",
       "    .dataframe tbody tr th:only-of-type {\n",
       "        vertical-align: middle;\n",
       "    }\n",
       "\n",
       "    .dataframe tbody tr th {\n",
       "        vertical-align: top;\n",
       "    }\n",
       "\n",
       "    .dataframe thead th {\n",
       "        text-align: right;\n",
       "    }\n",
       "</style>\n",
       "<table border=\"1\" class=\"dataframe\">\n",
       "  <thead>\n",
       "    <tr style=\"text-align: right;\">\n",
       "      <th></th>\n",
       "      <th>id</th>\n",
       "      <th>name</th>\n",
       "      <th>age</th>\n",
       "      <th>gender</th>\n",
       "      <th>chem101</th>\n",
       "      <th>phys101</th>\n",
       "      <th>math101</th>\n",
       "      <th>average</th>\n",
       "    </tr>\n",
       "  </thead>\n",
       "  <tbody>\n",
       "    <tr>\n",
       "      <th>2</th>\n",
       "      <td>333</td>\n",
       "      <td>Kathy</td>\n",
       "      <td>45</td>\n",
       "      <td>female</td>\n",
       "      <td>81.0</td>\n",
       "      <td>91.8</td>\n",
       "      <td>98.8</td>\n",
       "      <td>90.533333</td>\n",
       "    </tr>\n",
       "    <tr>\n",
       "      <th>7</th>\n",
       "      <td>888</td>\n",
       "      <td>Marla</td>\n",
       "      <td>45</td>\n",
       "      <td>female</td>\n",
       "      <td>67.1</td>\n",
       "      <td>56.9</td>\n",
       "      <td>NaN</td>\n",
       "      <td>62.000000</td>\n",
       "    </tr>\n",
       "    <tr>\n",
       "      <th>1</th>\n",
       "      <td>222</td>\n",
       "      <td>Bob</td>\n",
       "      <td>30</td>\n",
       "      <td>male</td>\n",
       "      <td>67.5</td>\n",
       "      <td>76.2</td>\n",
       "      <td>89.1</td>\n",
       "      <td>77.600000</td>\n",
       "    </tr>\n",
       "    <tr>\n",
       "      <th>6</th>\n",
       "      <td>777</td>\n",
       "      <td>Mike</td>\n",
       "      <td>30</td>\n",
       "      <td>male</td>\n",
       "      <td>NaN</td>\n",
       "      <td>87.5</td>\n",
       "      <td>98.1</td>\n",
       "      <td>92.800000</td>\n",
       "    </tr>\n",
       "    <tr>\n",
       "      <th>4</th>\n",
       "      <td>555</td>\n",
       "      <td>Holly</td>\n",
       "      <td>28</td>\n",
       "      <td>female</td>\n",
       "      <td>23.7</td>\n",
       "      <td>NaN</td>\n",
       "      <td>34.9</td>\n",
       "      <td>29.300000</td>\n",
       "    </tr>\n",
       "    <tr>\n",
       "      <th>5</th>\n",
       "      <td>666</td>\n",
       "      <td>Tim</td>\n",
       "      <td>26</td>\n",
       "      <td>male</td>\n",
       "      <td>33.7</td>\n",
       "      <td>78.1</td>\n",
       "      <td>NaN</td>\n",
       "      <td>55.900000</td>\n",
       "    </tr>\n",
       "    <tr>\n",
       "      <th>0</th>\n",
       "      <td>111</td>\n",
       "      <td>John</td>\n",
       "      <td>25</td>\n",
       "      <td>male</td>\n",
       "      <td>23.7</td>\n",
       "      <td>34.2</td>\n",
       "      <td>64.1</td>\n",
       "      <td>40.666667</td>\n",
       "    </tr>\n",
       "    <tr>\n",
       "      <th>3</th>\n",
       "      <td>444</td>\n",
       "      <td>James</td>\n",
       "      <td>22</td>\n",
       "      <td>male</td>\n",
       "      <td>45.7</td>\n",
       "      <td>32.9</td>\n",
       "      <td>12.3</td>\n",
       "      <td>30.300000</td>\n",
       "    </tr>\n",
       "  </tbody>\n",
       "</table>\n",
       "</div>"
      ],
      "text/plain": [
       "    id   name  age  gender  chem101  phys101  math101    average\n",
       "2  333  Kathy   45  female     81.0     91.8     98.8  90.533333\n",
       "7  888  Marla   45  female     67.1     56.9      NaN  62.000000\n",
       "1  222    Bob   30    male     67.5     76.2     89.1  77.600000\n",
       "6  777   Mike   30    male      NaN     87.5     98.1  92.800000\n",
       "4  555  Holly   28  female     23.7      NaN     34.9  29.300000\n",
       "5  666    Tim   26    male     33.7     78.1      NaN  55.900000\n",
       "0  111   John   25    male     23.7     34.2     64.1  40.666667\n",
       "3  444  James   22    male     45.7     32.9     12.3  30.300000"
      ]
     },
     "execution_count": 108,
     "metadata": {},
     "output_type": "execute_result"
    }
   ],
   "source": [
    "df.sort_values(by='age', ascending=False)"
   ]
  },
  {
   "cell_type": "code",
   "execution_count": 109,
   "id": "24303fb2",
   "metadata": {},
   "outputs": [
    {
     "data": {
      "text/html": [
       "<div>\n",
       "<style scoped>\n",
       "    .dataframe tbody tr th:only-of-type {\n",
       "        vertical-align: middle;\n",
       "    }\n",
       "\n",
       "    .dataframe tbody tr th {\n",
       "        vertical-align: top;\n",
       "    }\n",
       "\n",
       "    .dataframe thead th {\n",
       "        text-align: right;\n",
       "    }\n",
       "</style>\n",
       "<table border=\"1\" class=\"dataframe\">\n",
       "  <thead>\n",
       "    <tr style=\"text-align: right;\">\n",
       "      <th></th>\n",
       "      <th>id</th>\n",
       "      <th>name</th>\n",
       "      <th>age</th>\n",
       "      <th>gender</th>\n",
       "      <th>chem101</th>\n",
       "      <th>phys101</th>\n",
       "      <th>math101</th>\n",
       "      <th>average</th>\n",
       "    </tr>\n",
       "  </thead>\n",
       "  <tbody>\n",
       "    <tr>\n",
       "      <th>7</th>\n",
       "      <td>888</td>\n",
       "      <td>Marla</td>\n",
       "      <td>45</td>\n",
       "      <td>female</td>\n",
       "      <td>67.1</td>\n",
       "      <td>56.9</td>\n",
       "      <td>NaN</td>\n",
       "      <td>62.000000</td>\n",
       "    </tr>\n",
       "    <tr>\n",
       "      <th>2</th>\n",
       "      <td>333</td>\n",
       "      <td>Kathy</td>\n",
       "      <td>45</td>\n",
       "      <td>female</td>\n",
       "      <td>81.0</td>\n",
       "      <td>91.8</td>\n",
       "      <td>98.8</td>\n",
       "      <td>90.533333</td>\n",
       "    </tr>\n",
       "    <tr>\n",
       "      <th>6</th>\n",
       "      <td>777</td>\n",
       "      <td>Mike</td>\n",
       "      <td>30</td>\n",
       "      <td>male</td>\n",
       "      <td>NaN</td>\n",
       "      <td>87.5</td>\n",
       "      <td>98.1</td>\n",
       "      <td>92.800000</td>\n",
       "    </tr>\n",
       "    <tr>\n",
       "      <th>1</th>\n",
       "      <td>222</td>\n",
       "      <td>Bob</td>\n",
       "      <td>30</td>\n",
       "      <td>male</td>\n",
       "      <td>67.5</td>\n",
       "      <td>76.2</td>\n",
       "      <td>89.1</td>\n",
       "      <td>77.600000</td>\n",
       "    </tr>\n",
       "    <tr>\n",
       "      <th>4</th>\n",
       "      <td>555</td>\n",
       "      <td>Holly</td>\n",
       "      <td>28</td>\n",
       "      <td>female</td>\n",
       "      <td>23.7</td>\n",
       "      <td>NaN</td>\n",
       "      <td>34.9</td>\n",
       "      <td>29.300000</td>\n",
       "    </tr>\n",
       "    <tr>\n",
       "      <th>5</th>\n",
       "      <td>666</td>\n",
       "      <td>Tim</td>\n",
       "      <td>26</td>\n",
       "      <td>male</td>\n",
       "      <td>33.7</td>\n",
       "      <td>78.1</td>\n",
       "      <td>NaN</td>\n",
       "      <td>55.900000</td>\n",
       "    </tr>\n",
       "    <tr>\n",
       "      <th>0</th>\n",
       "      <td>111</td>\n",
       "      <td>John</td>\n",
       "      <td>25</td>\n",
       "      <td>male</td>\n",
       "      <td>23.7</td>\n",
       "      <td>34.2</td>\n",
       "      <td>64.1</td>\n",
       "      <td>40.666667</td>\n",
       "    </tr>\n",
       "    <tr>\n",
       "      <th>3</th>\n",
       "      <td>444</td>\n",
       "      <td>James</td>\n",
       "      <td>22</td>\n",
       "      <td>male</td>\n",
       "      <td>45.7</td>\n",
       "      <td>32.9</td>\n",
       "      <td>12.3</td>\n",
       "      <td>30.300000</td>\n",
       "    </tr>\n",
       "  </tbody>\n",
       "</table>\n",
       "</div>"
      ],
      "text/plain": [
       "    id   name  age  gender  chem101  phys101  math101    average\n",
       "7  888  Marla   45  female     67.1     56.9      NaN  62.000000\n",
       "2  333  Kathy   45  female     81.0     91.8     98.8  90.533333\n",
       "6  777   Mike   30    male      NaN     87.5     98.1  92.800000\n",
       "1  222    Bob   30    male     67.5     76.2     89.1  77.600000\n",
       "4  555  Holly   28  female     23.7      NaN     34.9  29.300000\n",
       "5  666    Tim   26    male     33.7     78.1      NaN  55.900000\n",
       "0  111   John   25    male     23.7     34.2     64.1  40.666667\n",
       "3  444  James   22    male     45.7     32.9     12.3  30.300000"
      ]
     },
     "execution_count": 109,
     "metadata": {},
     "output_type": "execute_result"
    }
   ],
   "source": [
    "df.sort_values(by=['age', 'id'], ascending=[False, False])"
   ]
  },
  {
   "cell_type": "code",
   "execution_count": 110,
   "id": "a1745512",
   "metadata": {},
   "outputs": [
    {
     "data": {
      "text/plain": [
       "0    False\n",
       "1     True\n",
       "2     True\n",
       "3    False\n",
       "4    False\n",
       "5     True\n",
       "6     True\n",
       "7     True\n",
       "Name: average, dtype: bool"
      ]
     },
     "execution_count": 110,
     "metadata": {},
     "output_type": "execute_result"
    }
   ],
   "source": [
    "df['average']>50"
   ]
  },
  {
   "cell_type": "code",
   "execution_count": 111,
   "id": "28ee0846",
   "metadata": {},
   "outputs": [
    {
     "data": {
      "text/html": [
       "<div>\n",
       "<style scoped>\n",
       "    .dataframe tbody tr th:only-of-type {\n",
       "        vertical-align: middle;\n",
       "    }\n",
       "\n",
       "    .dataframe tbody tr th {\n",
       "        vertical-align: top;\n",
       "    }\n",
       "\n",
       "    .dataframe thead th {\n",
       "        text-align: right;\n",
       "    }\n",
       "</style>\n",
       "<table border=\"1\" class=\"dataframe\">\n",
       "  <thead>\n",
       "    <tr style=\"text-align: right;\">\n",
       "      <th></th>\n",
       "      <th>id</th>\n",
       "      <th>name</th>\n",
       "      <th>age</th>\n",
       "      <th>gender</th>\n",
       "      <th>chem101</th>\n",
       "      <th>phys101</th>\n",
       "      <th>math101</th>\n",
       "      <th>average</th>\n",
       "    </tr>\n",
       "  </thead>\n",
       "  <tbody>\n",
       "    <tr>\n",
       "      <th>0</th>\n",
       "      <td>111</td>\n",
       "      <td>John</td>\n",
       "      <td>25</td>\n",
       "      <td>male</td>\n",
       "      <td>23.7</td>\n",
       "      <td>34.2</td>\n",
       "      <td>64.1</td>\n",
       "      <td>40.666667</td>\n",
       "    </tr>\n",
       "    <tr>\n",
       "      <th>3</th>\n",
       "      <td>444</td>\n",
       "      <td>James</td>\n",
       "      <td>22</td>\n",
       "      <td>male</td>\n",
       "      <td>45.7</td>\n",
       "      <td>32.9</td>\n",
       "      <td>12.3</td>\n",
       "      <td>30.300000</td>\n",
       "    </tr>\n",
       "    <tr>\n",
       "      <th>4</th>\n",
       "      <td>555</td>\n",
       "      <td>Holly</td>\n",
       "      <td>28</td>\n",
       "      <td>female</td>\n",
       "      <td>23.7</td>\n",
       "      <td>NaN</td>\n",
       "      <td>34.9</td>\n",
       "      <td>29.300000</td>\n",
       "    </tr>\n",
       "  </tbody>\n",
       "</table>\n",
       "</div>"
      ],
      "text/plain": [
       "    id   name  age  gender  chem101  phys101  math101    average\n",
       "0  111   John   25    male     23.7     34.2     64.1  40.666667\n",
       "3  444  James   22    male     45.7     32.9     12.3  30.300000\n",
       "4  555  Holly   28  female     23.7      NaN     34.9  29.300000"
      ]
     },
     "execution_count": 111,
     "metadata": {},
     "output_type": "execute_result"
    }
   ],
   "source": [
    "condition = df['average']<50\n",
    "df[condition]"
   ]
  },
  {
   "cell_type": "code",
   "execution_count": 112,
   "id": "082ff054",
   "metadata": {},
   "outputs": [
    {
     "data": {
      "text/html": [
       "<div>\n",
       "<style scoped>\n",
       "    .dataframe tbody tr th:only-of-type {\n",
       "        vertical-align: middle;\n",
       "    }\n",
       "\n",
       "    .dataframe tbody tr th {\n",
       "        vertical-align: top;\n",
       "    }\n",
       "\n",
       "    .dataframe thead th {\n",
       "        text-align: right;\n",
       "    }\n",
       "</style>\n",
       "<table border=\"1\" class=\"dataframe\">\n",
       "  <thead>\n",
       "    <tr style=\"text-align: right;\">\n",
       "      <th></th>\n",
       "      <th>name</th>\n",
       "      <th>id</th>\n",
       "    </tr>\n",
       "  </thead>\n",
       "  <tbody>\n",
       "    <tr>\n",
       "      <th>0</th>\n",
       "      <td>John</td>\n",
       "      <td>111</td>\n",
       "    </tr>\n",
       "    <tr>\n",
       "      <th>3</th>\n",
       "      <td>James</td>\n",
       "      <td>444</td>\n",
       "    </tr>\n",
       "    <tr>\n",
       "      <th>4</th>\n",
       "      <td>Holly</td>\n",
       "      <td>555</td>\n",
       "    </tr>\n",
       "  </tbody>\n",
       "</table>\n",
       "</div>"
      ],
      "text/plain": [
       "    name   id\n",
       "0   John  111\n",
       "3  James  444\n",
       "4  Holly  555"
      ]
     },
     "execution_count": 112,
     "metadata": {},
     "output_type": "execute_result"
    }
   ],
   "source": [
    "df[condition][['name', 'id']]"
   ]
  },
  {
   "cell_type": "markdown",
   "id": "9abbf760",
   "metadata": {},
   "source": [
    "# Filling Out the missing Data"
   ]
  },
  {
   "cell_type": "code",
   "execution_count": 113,
   "id": "f312c92a",
   "metadata": {},
   "outputs": [
    {
     "data": {
      "text/html": [
       "<div>\n",
       "<style scoped>\n",
       "    .dataframe tbody tr th:only-of-type {\n",
       "        vertical-align: middle;\n",
       "    }\n",
       "\n",
       "    .dataframe tbody tr th {\n",
       "        vertical-align: top;\n",
       "    }\n",
       "\n",
       "    .dataframe thead th {\n",
       "        text-align: right;\n",
       "    }\n",
       "</style>\n",
       "<table border=\"1\" class=\"dataframe\">\n",
       "  <thead>\n",
       "    <tr style=\"text-align: right;\">\n",
       "      <th></th>\n",
       "      <th>id</th>\n",
       "      <th>name</th>\n",
       "      <th>age</th>\n",
       "      <th>gender</th>\n",
       "      <th>chem101</th>\n",
       "      <th>phys101</th>\n",
       "      <th>math101</th>\n",
       "      <th>average</th>\n",
       "    </tr>\n",
       "  </thead>\n",
       "  <tbody>\n",
       "    <tr>\n",
       "      <th>0</th>\n",
       "      <td>111</td>\n",
       "      <td>John</td>\n",
       "      <td>25</td>\n",
       "      <td>male</td>\n",
       "      <td>23.7</td>\n",
       "      <td>34.2</td>\n",
       "      <td>64.1</td>\n",
       "      <td>40.666667</td>\n",
       "    </tr>\n",
       "    <tr>\n",
       "      <th>1</th>\n",
       "      <td>222</td>\n",
       "      <td>Bob</td>\n",
       "      <td>30</td>\n",
       "      <td>male</td>\n",
       "      <td>67.5</td>\n",
       "      <td>76.2</td>\n",
       "      <td>89.1</td>\n",
       "      <td>77.600000</td>\n",
       "    </tr>\n",
       "    <tr>\n",
       "      <th>2</th>\n",
       "      <td>333</td>\n",
       "      <td>Kathy</td>\n",
       "      <td>45</td>\n",
       "      <td>female</td>\n",
       "      <td>81.0</td>\n",
       "      <td>91.8</td>\n",
       "      <td>98.8</td>\n",
       "      <td>90.533333</td>\n",
       "    </tr>\n",
       "    <tr>\n",
       "      <th>3</th>\n",
       "      <td>444</td>\n",
       "      <td>James</td>\n",
       "      <td>22</td>\n",
       "      <td>male</td>\n",
       "      <td>45.7</td>\n",
       "      <td>32.9</td>\n",
       "      <td>12.3</td>\n",
       "      <td>30.300000</td>\n",
       "    </tr>\n",
       "    <tr>\n",
       "      <th>4</th>\n",
       "      <td>555</td>\n",
       "      <td>Holly</td>\n",
       "      <td>28</td>\n",
       "      <td>female</td>\n",
       "      <td>23.7</td>\n",
       "      <td>NaN</td>\n",
       "      <td>34.9</td>\n",
       "      <td>29.300000</td>\n",
       "    </tr>\n",
       "    <tr>\n",
       "      <th>5</th>\n",
       "      <td>666</td>\n",
       "      <td>Tim</td>\n",
       "      <td>26</td>\n",
       "      <td>male</td>\n",
       "      <td>33.7</td>\n",
       "      <td>78.1</td>\n",
       "      <td>NaN</td>\n",
       "      <td>55.900000</td>\n",
       "    </tr>\n",
       "    <tr>\n",
       "      <th>6</th>\n",
       "      <td>777</td>\n",
       "      <td>Mike</td>\n",
       "      <td>30</td>\n",
       "      <td>male</td>\n",
       "      <td>NaN</td>\n",
       "      <td>87.5</td>\n",
       "      <td>98.1</td>\n",
       "      <td>92.800000</td>\n",
       "    </tr>\n",
       "    <tr>\n",
       "      <th>7</th>\n",
       "      <td>888</td>\n",
       "      <td>Marla</td>\n",
       "      <td>45</td>\n",
       "      <td>female</td>\n",
       "      <td>67.1</td>\n",
       "      <td>56.9</td>\n",
       "      <td>NaN</td>\n",
       "      <td>62.000000</td>\n",
       "    </tr>\n",
       "  </tbody>\n",
       "</table>\n",
       "</div>"
      ],
      "text/plain": [
       "    id   name  age  gender  chem101  phys101  math101    average\n",
       "0  111   John   25    male     23.7     34.2     64.1  40.666667\n",
       "1  222    Bob   30    male     67.5     76.2     89.1  77.600000\n",
       "2  333  Kathy   45  female     81.0     91.8     98.8  90.533333\n",
       "3  444  James   22    male     45.7     32.9     12.3  30.300000\n",
       "4  555  Holly   28  female     23.7      NaN     34.9  29.300000\n",
       "5  666    Tim   26    male     33.7     78.1      NaN  55.900000\n",
       "6  777   Mike   30    male      NaN     87.5     98.1  92.800000\n",
       "7  888  Marla   45  female     67.1     56.9      NaN  62.000000"
      ]
     },
     "execution_count": 113,
     "metadata": {},
     "output_type": "execute_result"
    }
   ],
   "source": [
    "df"
   ]
  },
  {
   "cell_type": "code",
   "execution_count": 114,
   "id": "1b095ae0",
   "metadata": {},
   "outputs": [
    {
     "name": "stderr",
     "output_type": "stream",
     "text": [
      "/var/folders/c6/0q4dv4cn42g5_ddh8w5xsb3r0000gn/T/ipykernel_2950/2167959751.py:1: FutureWarning: The default value of numeric_only in DataFrame.mean is deprecated. In a future version, it will default to False. In addition, specifying 'numeric_only=None' is deprecated. Select only valid columns or specify the value of numeric_only to silence this warning.\n",
      "  df.mean(skipna=False)\n"
     ]
    },
    {
     "data": {
      "text/plain": [
       "id         499.5000\n",
       "age         31.3750\n",
       "chem101         NaN\n",
       "phys101         NaN\n",
       "math101         NaN\n",
       "average     59.8875\n",
       "dtype: float64"
      ]
     },
     "execution_count": 114,
     "metadata": {},
     "output_type": "execute_result"
    }
   ],
   "source": [
    "df.mean(skipna=False)"
   ]
  },
  {
   "cell_type": "code",
   "execution_count": 115,
   "id": "811cec0c",
   "metadata": {},
   "outputs": [
    {
     "data": {
      "text/plain": [
       "nan"
      ]
     },
     "execution_count": 115,
     "metadata": {},
     "output_type": "execute_result"
    }
   ],
   "source": [
    "df['chem101'].mean(skipna=False)"
   ]
  },
  {
   "cell_type": "code",
   "execution_count": 116,
   "id": "a2816d26",
   "metadata": {},
   "outputs": [
    {
     "data": {
      "text/plain": [
       "48.91428571428571"
      ]
     },
     "execution_count": 116,
     "metadata": {},
     "output_type": "execute_result"
    }
   ],
   "source": [
    "df['chem101'].mean()"
   ]
  },
  {
   "cell_type": "code",
   "execution_count": 117,
   "id": "43d3cd98",
   "metadata": {},
   "outputs": [
    {
     "data": {
      "text/html": [
       "<div>\n",
       "<style scoped>\n",
       "    .dataframe tbody tr th:only-of-type {\n",
       "        vertical-align: middle;\n",
       "    }\n",
       "\n",
       "    .dataframe tbody tr th {\n",
       "        vertical-align: top;\n",
       "    }\n",
       "\n",
       "    .dataframe thead th {\n",
       "        text-align: right;\n",
       "    }\n",
       "</style>\n",
       "<table border=\"1\" class=\"dataframe\">\n",
       "  <thead>\n",
       "    <tr style=\"text-align: right;\">\n",
       "      <th></th>\n",
       "      <th>id</th>\n",
       "      <th>name</th>\n",
       "      <th>age</th>\n",
       "      <th>gender</th>\n",
       "      <th>chem101</th>\n",
       "      <th>phys101</th>\n",
       "      <th>math101</th>\n",
       "      <th>average</th>\n",
       "    </tr>\n",
       "  </thead>\n",
       "  <tbody>\n",
       "    <tr>\n",
       "      <th>0</th>\n",
       "      <td>111</td>\n",
       "      <td>John</td>\n",
       "      <td>25</td>\n",
       "      <td>male</td>\n",
       "      <td>23.7</td>\n",
       "      <td>34.2</td>\n",
       "      <td>64.1</td>\n",
       "      <td>40.666667</td>\n",
       "    </tr>\n",
       "    <tr>\n",
       "      <th>1</th>\n",
       "      <td>222</td>\n",
       "      <td>Bob</td>\n",
       "      <td>30</td>\n",
       "      <td>male</td>\n",
       "      <td>67.5</td>\n",
       "      <td>76.2</td>\n",
       "      <td>89.1</td>\n",
       "      <td>77.600000</td>\n",
       "    </tr>\n",
       "    <tr>\n",
       "      <th>2</th>\n",
       "      <td>333</td>\n",
       "      <td>Kathy</td>\n",
       "      <td>45</td>\n",
       "      <td>female</td>\n",
       "      <td>81.0</td>\n",
       "      <td>91.8</td>\n",
       "      <td>98.8</td>\n",
       "      <td>90.533333</td>\n",
       "    </tr>\n",
       "    <tr>\n",
       "      <th>3</th>\n",
       "      <td>444</td>\n",
       "      <td>James</td>\n",
       "      <td>22</td>\n",
       "      <td>male</td>\n",
       "      <td>45.7</td>\n",
       "      <td>32.9</td>\n",
       "      <td>12.3</td>\n",
       "      <td>30.300000</td>\n",
       "    </tr>\n",
       "  </tbody>\n",
       "</table>\n",
       "</div>"
      ],
      "text/plain": [
       "    id   name  age  gender  chem101  phys101  math101    average\n",
       "0  111   John   25    male     23.7     34.2     64.1  40.666667\n",
       "1  222    Bob   30    male     67.5     76.2     89.1  77.600000\n",
       "2  333  Kathy   45  female     81.0     91.8     98.8  90.533333\n",
       "3  444  James   22    male     45.7     32.9     12.3  30.300000"
      ]
     },
     "execution_count": 117,
     "metadata": {},
     "output_type": "execute_result"
    }
   ],
   "source": [
    "df.dropna()"
   ]
  },
  {
   "cell_type": "code",
   "execution_count": 118,
   "id": "88de33da",
   "metadata": {},
   "outputs": [],
   "source": [
    "df= pd.read_csv('students.csv', index_col=False)"
   ]
  },
  {
   "cell_type": "code",
   "execution_count": 119,
   "id": "eb440b45",
   "metadata": {},
   "outputs": [
    {
     "data": {
      "text/html": [
       "<div>\n",
       "<style scoped>\n",
       "    .dataframe tbody tr th:only-of-type {\n",
       "        vertical-align: middle;\n",
       "    }\n",
       "\n",
       "    .dataframe tbody tr th {\n",
       "        vertical-align: top;\n",
       "    }\n",
       "\n",
       "    .dataframe thead th {\n",
       "        text-align: right;\n",
       "    }\n",
       "</style>\n",
       "<table border=\"1\" class=\"dataframe\">\n",
       "  <thead>\n",
       "    <tr style=\"text-align: right;\">\n",
       "      <th></th>\n",
       "      <th>id</th>\n",
       "      <th>name</th>\n",
       "      <th>age</th>\n",
       "      <th>gender</th>\n",
       "      <th>chem101</th>\n",
       "      <th>phys101</th>\n",
       "      <th>math101</th>\n",
       "    </tr>\n",
       "  </thead>\n",
       "  <tbody>\n",
       "    <tr>\n",
       "      <th>0</th>\n",
       "      <td>111</td>\n",
       "      <td>John</td>\n",
       "      <td>25</td>\n",
       "      <td>male</td>\n",
       "      <td>23.7</td>\n",
       "      <td>34.2</td>\n",
       "      <td>64.1</td>\n",
       "    </tr>\n",
       "    <tr>\n",
       "      <th>1</th>\n",
       "      <td>222</td>\n",
       "      <td>Bob</td>\n",
       "      <td>30</td>\n",
       "      <td>male</td>\n",
       "      <td>67.5</td>\n",
       "      <td>76.2</td>\n",
       "      <td>89.1</td>\n",
       "    </tr>\n",
       "    <tr>\n",
       "      <th>2</th>\n",
       "      <td>333</td>\n",
       "      <td>Kathy</td>\n",
       "      <td>45</td>\n",
       "      <td>female</td>\n",
       "      <td>81.0</td>\n",
       "      <td>91.8</td>\n",
       "      <td>98.8</td>\n",
       "    </tr>\n",
       "    <tr>\n",
       "      <th>3</th>\n",
       "      <td>444</td>\n",
       "      <td>James</td>\n",
       "      <td>22</td>\n",
       "      <td>male</td>\n",
       "      <td>45.7</td>\n",
       "      <td>32.9</td>\n",
       "      <td>12.3</td>\n",
       "    </tr>\n",
       "    <tr>\n",
       "      <th>4</th>\n",
       "      <td>555</td>\n",
       "      <td>Holly</td>\n",
       "      <td>28</td>\n",
       "      <td>female</td>\n",
       "      <td>23.7</td>\n",
       "      <td>NaN</td>\n",
       "      <td>34.9</td>\n",
       "    </tr>\n",
       "    <tr>\n",
       "      <th>5</th>\n",
       "      <td>666</td>\n",
       "      <td>Tim</td>\n",
       "      <td>26</td>\n",
       "      <td>male</td>\n",
       "      <td>33.7</td>\n",
       "      <td>78.1</td>\n",
       "      <td>NaN</td>\n",
       "    </tr>\n",
       "    <tr>\n",
       "      <th>6</th>\n",
       "      <td>777</td>\n",
       "      <td>Mike</td>\n",
       "      <td>30</td>\n",
       "      <td>male</td>\n",
       "      <td>NaN</td>\n",
       "      <td>87.5</td>\n",
       "      <td>98.1</td>\n",
       "    </tr>\n",
       "    <tr>\n",
       "      <th>7</th>\n",
       "      <td>888</td>\n",
       "      <td>Marla</td>\n",
       "      <td>45</td>\n",
       "      <td>female</td>\n",
       "      <td>67.1</td>\n",
       "      <td>56.9</td>\n",
       "      <td>NaN</td>\n",
       "    </tr>\n",
       "  </tbody>\n",
       "</table>\n",
       "</div>"
      ],
      "text/plain": [
       "    id   name  age  gender  chem101  phys101  math101\n",
       "0  111   John   25    male     23.7     34.2     64.1\n",
       "1  222    Bob   30    male     67.5     76.2     89.1\n",
       "2  333  Kathy   45  female     81.0     91.8     98.8\n",
       "3  444  James   22    male     45.7     32.9     12.3\n",
       "4  555  Holly   28  female     23.7      NaN     34.9\n",
       "5  666    Tim   26    male     33.7     78.1      NaN\n",
       "6  777   Mike   30    male      NaN     87.5     98.1\n",
       "7  888  Marla   45  female     67.1     56.9      NaN"
      ]
     },
     "execution_count": 119,
     "metadata": {},
     "output_type": "execute_result"
    }
   ],
   "source": [
    "df"
   ]
  },
  {
   "cell_type": "code",
   "execution_count": 120,
   "id": "ffe9502f",
   "metadata": {},
   "outputs": [
    {
     "name": "stdout",
     "output_type": "stream",
     "text": [
      "0 \n",
      " id          111\n",
      "name       John\n",
      "age          25\n",
      "gender     male\n",
      "chem101    23.7\n",
      "phys101    34.2\n",
      "math101    64.1\n",
      "Name: 0, dtype: object\n",
      "1 \n",
      " id          222\n",
      "name        Bob\n",
      "age          30\n",
      "gender     male\n",
      "chem101    67.5\n",
      "phys101    76.2\n",
      "math101    89.1\n",
      "Name: 1, dtype: object\n",
      "2 \n",
      " id            333\n",
      "name        Kathy\n",
      "age            45\n",
      "gender     female\n",
      "chem101      81.0\n",
      "phys101      91.8\n",
      "math101      98.8\n",
      "Name: 2, dtype: object\n",
      "3 \n",
      " id           444\n",
      "name       James\n",
      "age           22\n",
      "gender      male\n",
      "chem101     45.7\n",
      "phys101     32.9\n",
      "math101     12.3\n",
      "Name: 3, dtype: object\n",
      "4 \n",
      " id            555\n",
      "name        Holly\n",
      "age            28\n",
      "gender     female\n",
      "chem101      23.7\n",
      "phys101       NaN\n",
      "math101      34.9\n",
      "Name: 4, dtype: object\n",
      "5 \n",
      " id          666\n",
      "name        Tim\n",
      "age          26\n",
      "gender     male\n",
      "chem101    33.7\n",
      "phys101    78.1\n",
      "math101     NaN\n",
      "Name: 5, dtype: object\n",
      "6 \n",
      " id          777\n",
      "name       Mike\n",
      "age          30\n",
      "gender     male\n",
      "chem101     NaN\n",
      "phys101    87.5\n",
      "math101    98.1\n",
      "Name: 6, dtype: object\n",
      "7 \n",
      " id            888\n",
      "name        Marla\n",
      "age            45\n",
      "gender     female\n",
      "chem101      67.1\n",
      "phys101      56.9\n",
      "math101       NaN\n",
      "Name: 7, dtype: object\n"
     ]
    }
   ],
   "source": [
    "for row_name, row in df.iterrows():\n",
    "    print(row_name, '\\n', row)"
   ]
  },
  {
   "cell_type": "code",
   "execution_count": 121,
   "id": "a7451ba5",
   "metadata": {},
   "outputs": [
    {
     "name": "stdout",
     "output_type": "stream",
     "text": [
      "0 \n",
      " <class 'pandas.core.series.Series'>\n",
      "1 \n",
      " <class 'pandas.core.series.Series'>\n",
      "2 \n",
      " <class 'pandas.core.series.Series'>\n",
      "3 \n",
      " <class 'pandas.core.series.Series'>\n",
      "4 \n",
      " <class 'pandas.core.series.Series'>\n",
      "5 \n",
      " <class 'pandas.core.series.Series'>\n",
      "6 \n",
      " <class 'pandas.core.series.Series'>\n",
      "7 \n",
      " <class 'pandas.core.series.Series'>\n"
     ]
    }
   ],
   "source": [
    "for row_name, row in df.iterrows():\n",
    "    print(row_name, '\\n', type(row))"
   ]
  },
  {
   "cell_type": "code",
   "execution_count": 122,
   "id": "f2770d66",
   "metadata": {
    "scrolled": true
   },
   "outputs": [
    {
     "name": "stdout",
     "output_type": "stream",
     "text": [
      "0 John 23.7\n",
      "1 Bob 67.5\n",
      "2 Kathy 81.0\n",
      "3 James 45.7\n",
      "4 Holly 23.7\n",
      "5 Tim 33.7\n",
      "6 Mike nan\n",
      "7 Marla 67.1\n"
     ]
    }
   ],
   "source": [
    "for row in df.itertuples():\n",
    "    print(row.Index, row.name, row.chem101)"
   ]
  },
  {
   "cell_type": "code",
   "execution_count": 123,
   "id": "853d0127",
   "metadata": {},
   "outputs": [
    {
     "data": {
      "text/plain": [
       "<pandas.core.groupby.generic.DataFrameGroupBy object at 0x1201ecdc0>"
      ]
     },
     "execution_count": 123,
     "metadata": {},
     "output_type": "execute_result"
    }
   ],
   "source": [
    "df.groupby('gender')"
   ]
  },
  {
   "cell_type": "code",
   "execution_count": 124,
   "id": "cfb6af58",
   "metadata": {},
   "outputs": [
    {
     "data": {
      "text/plain": [
       "{'female': [2, 4, 7], 'male': [0, 1, 3, 5, 6]}"
      ]
     },
     "execution_count": 124,
     "metadata": {},
     "output_type": "execute_result"
    }
   ],
   "source": [
    "df.groupby('gender').groups"
   ]
  },
  {
   "cell_type": "code",
   "execution_count": 125,
   "id": "84eb2d00",
   "metadata": {},
   "outputs": [
    {
     "data": {
      "text/plain": [
       "gender\n",
       "female    3\n",
       "male      5\n",
       "dtype: int64"
      ]
     },
     "execution_count": 125,
     "metadata": {},
     "output_type": "execute_result"
    }
   ],
   "source": [
    "df.groupby('gender').size()"
   ]
  },
  {
   "cell_type": "code",
   "execution_count": 126,
   "id": "593ed993",
   "metadata": {},
   "outputs": [
    {
     "name": "stderr",
     "output_type": "stream",
     "text": [
      "/var/folders/c6/0q4dv4cn42g5_ddh8w5xsb3r0000gn/T/ipykernel_2950/1544238222.py:1: FutureWarning: The default value of numeric_only in DataFrameGroupBy.mean is deprecated. In a future version, numeric_only will default to False. Either specify numeric_only or select only columns which should be valid for the function.\n",
      "  df.groupby('gender').mean()\n"
     ]
    },
    {
     "data": {
      "text/html": [
       "<div>\n",
       "<style scoped>\n",
       "    .dataframe tbody tr th:only-of-type {\n",
       "        vertical-align: middle;\n",
       "    }\n",
       "\n",
       "    .dataframe tbody tr th {\n",
       "        vertical-align: top;\n",
       "    }\n",
       "\n",
       "    .dataframe thead th {\n",
       "        text-align: right;\n",
       "    }\n",
       "</style>\n",
       "<table border=\"1\" class=\"dataframe\">\n",
       "  <thead>\n",
       "    <tr style=\"text-align: right;\">\n",
       "      <th></th>\n",
       "      <th>id</th>\n",
       "      <th>age</th>\n",
       "      <th>chem101</th>\n",
       "      <th>phys101</th>\n",
       "      <th>math101</th>\n",
       "    </tr>\n",
       "    <tr>\n",
       "      <th>gender</th>\n",
       "      <th></th>\n",
       "      <th></th>\n",
       "      <th></th>\n",
       "      <th></th>\n",
       "      <th></th>\n",
       "    </tr>\n",
       "  </thead>\n",
       "  <tbody>\n",
       "    <tr>\n",
       "      <th>female</th>\n",
       "      <td>592.0</td>\n",
       "      <td>39.333333</td>\n",
       "      <td>57.266667</td>\n",
       "      <td>74.35</td>\n",
       "      <td>66.85</td>\n",
       "    </tr>\n",
       "    <tr>\n",
       "      <th>male</th>\n",
       "      <td>444.0</td>\n",
       "      <td>26.600000</td>\n",
       "      <td>42.650000</td>\n",
       "      <td>61.78</td>\n",
       "      <td>65.90</td>\n",
       "    </tr>\n",
       "  </tbody>\n",
       "</table>\n",
       "</div>"
      ],
      "text/plain": [
       "           id        age    chem101  phys101  math101\n",
       "gender                                               \n",
       "female  592.0  39.333333  57.266667    74.35    66.85\n",
       "male    444.0  26.600000  42.650000    61.78    65.90"
      ]
     },
     "execution_count": 126,
     "metadata": {},
     "output_type": "execute_result"
    }
   ],
   "source": [
    "df.groupby('gender').mean()"
   ]
  },
  {
   "cell_type": "code",
   "execution_count": 127,
   "id": "1946b4c6",
   "metadata": {},
   "outputs": [
    {
     "data": {
      "text/html": [
       "<div>\n",
       "<style scoped>\n",
       "    .dataframe tbody tr th:only-of-type {\n",
       "        vertical-align: middle;\n",
       "    }\n",
       "\n",
       "    .dataframe tbody tr th {\n",
       "        vertical-align: top;\n",
       "    }\n",
       "\n",
       "    .dataframe thead th {\n",
       "        text-align: right;\n",
       "    }\n",
       "</style>\n",
       "<table border=\"1\" class=\"dataframe\">\n",
       "  <thead>\n",
       "    <tr style=\"text-align: right;\">\n",
       "      <th></th>\n",
       "      <th>chem101</th>\n",
       "      <th>phys101</th>\n",
       "    </tr>\n",
       "    <tr>\n",
       "      <th>gender</th>\n",
       "      <th></th>\n",
       "      <th></th>\n",
       "    </tr>\n",
       "  </thead>\n",
       "  <tbody>\n",
       "    <tr>\n",
       "      <th>female</th>\n",
       "      <td>57.266667</td>\n",
       "      <td>74.35</td>\n",
       "    </tr>\n",
       "    <tr>\n",
       "      <th>male</th>\n",
       "      <td>42.650000</td>\n",
       "      <td>61.78</td>\n",
       "    </tr>\n",
       "  </tbody>\n",
       "</table>\n",
       "</div>"
      ],
      "text/plain": [
       "          chem101  phys101\n",
       "gender                    \n",
       "female  57.266667    74.35\n",
       "male    42.650000    61.78"
      ]
     },
     "execution_count": 127,
     "metadata": {},
     "output_type": "execute_result"
    }
   ],
   "source": [
    "df.groupby('gender')[['chem101','phys101']].mean()"
   ]
  },
  {
   "cell_type": "code",
   "execution_count": 128,
   "id": "9a7045ed",
   "metadata": {},
   "outputs": [
    {
     "data": {
      "text/html": [
       "<div>\n",
       "<style scoped>\n",
       "    .dataframe tbody tr th:only-of-type {\n",
       "        vertical-align: middle;\n",
       "    }\n",
       "\n",
       "    .dataframe tbody tr th {\n",
       "        vertical-align: top;\n",
       "    }\n",
       "\n",
       "    .dataframe thead th {\n",
       "        text-align: right;\n",
       "    }\n",
       "</style>\n",
       "<table border=\"1\" class=\"dataframe\">\n",
       "  <thead>\n",
       "    <tr style=\"text-align: right;\">\n",
       "      <th></th>\n",
       "      <th>id</th>\n",
       "      <th>name</th>\n",
       "      <th>age</th>\n",
       "      <th>chem101</th>\n",
       "      <th>phys101</th>\n",
       "      <th>math101</th>\n",
       "    </tr>\n",
       "    <tr>\n",
       "      <th>gender</th>\n",
       "      <th></th>\n",
       "      <th></th>\n",
       "      <th></th>\n",
       "      <th></th>\n",
       "      <th></th>\n",
       "      <th></th>\n",
       "    </tr>\n",
       "  </thead>\n",
       "  <tbody>\n",
       "    <tr>\n",
       "      <th>female</th>\n",
       "      <td>333</td>\n",
       "      <td>Holly</td>\n",
       "      <td>28</td>\n",
       "      <td>23.7</td>\n",
       "      <td>56.9</td>\n",
       "      <td>34.9</td>\n",
       "    </tr>\n",
       "    <tr>\n",
       "      <th>male</th>\n",
       "      <td>111</td>\n",
       "      <td>Bob</td>\n",
       "      <td>22</td>\n",
       "      <td>23.7</td>\n",
       "      <td>32.9</td>\n",
       "      <td>12.3</td>\n",
       "    </tr>\n",
       "  </tbody>\n",
       "</table>\n",
       "</div>"
      ],
      "text/plain": [
       "         id   name  age  chem101  phys101  math101\n",
       "gender                                            \n",
       "female  333  Holly   28     23.7     56.9     34.9\n",
       "male    111    Bob   22     23.7     32.9     12.3"
      ]
     },
     "execution_count": 128,
     "metadata": {},
     "output_type": "execute_result"
    }
   ],
   "source": [
    "df.groupby('gender').min()"
   ]
  },
  {
   "cell_type": "code",
   "execution_count": 129,
   "id": "c141771e",
   "metadata": {},
   "outputs": [
    {
     "data": {
      "text/html": [
       "<div>\n",
       "<style scoped>\n",
       "    .dataframe tbody tr th:only-of-type {\n",
       "        vertical-align: middle;\n",
       "    }\n",
       "\n",
       "    .dataframe tbody tr th {\n",
       "        vertical-align: top;\n",
       "    }\n",
       "\n",
       "    .dataframe thead th {\n",
       "        text-align: right;\n",
       "    }\n",
       "</style>\n",
       "<table border=\"1\" class=\"dataframe\">\n",
       "  <thead>\n",
       "    <tr style=\"text-align: right;\">\n",
       "      <th></th>\n",
       "      <th>id</th>\n",
       "      <th>name</th>\n",
       "      <th>age</th>\n",
       "      <th>chem101</th>\n",
       "      <th>phys101</th>\n",
       "      <th>math101</th>\n",
       "    </tr>\n",
       "    <tr>\n",
       "      <th>gender</th>\n",
       "      <th></th>\n",
       "      <th></th>\n",
       "      <th></th>\n",
       "      <th></th>\n",
       "      <th></th>\n",
       "      <th></th>\n",
       "    </tr>\n",
       "  </thead>\n",
       "  <tbody>\n",
       "    <tr>\n",
       "      <th>female</th>\n",
       "      <td>888</td>\n",
       "      <td>Marla</td>\n",
       "      <td>45</td>\n",
       "      <td>81.0</td>\n",
       "      <td>91.8</td>\n",
       "      <td>98.8</td>\n",
       "    </tr>\n",
       "    <tr>\n",
       "      <th>male</th>\n",
       "      <td>777</td>\n",
       "      <td>Tim</td>\n",
       "      <td>30</td>\n",
       "      <td>67.5</td>\n",
       "      <td>87.5</td>\n",
       "      <td>98.1</td>\n",
       "    </tr>\n",
       "  </tbody>\n",
       "</table>\n",
       "</div>"
      ],
      "text/plain": [
       "         id   name  age  chem101  phys101  math101\n",
       "gender                                            \n",
       "female  888  Marla   45     81.0     91.8     98.8\n",
       "male    777    Tim   30     67.5     87.5     98.1"
      ]
     },
     "execution_count": 129,
     "metadata": {},
     "output_type": "execute_result"
    }
   ],
   "source": [
    "df.groupby('gender').max()"
   ]
  },
  {
   "cell_type": "code",
   "execution_count": 130,
   "id": "f7e325e4",
   "metadata": {},
   "outputs": [],
   "source": [
    "df= pd.read_csv('covid.csv')"
   ]
  },
  {
   "cell_type": "code",
   "execution_count": 131,
   "id": "65ae73e5",
   "metadata": {},
   "outputs": [
    {
     "data": {
      "text/html": [
       "<div>\n",
       "<style scoped>\n",
       "    .dataframe tbody tr th:only-of-type {\n",
       "        vertical-align: middle;\n",
       "    }\n",
       "\n",
       "    .dataframe tbody tr th {\n",
       "        vertical-align: top;\n",
       "    }\n",
       "\n",
       "    .dataframe thead th {\n",
       "        text-align: right;\n",
       "    }\n",
       "</style>\n",
       "<table border=\"1\" class=\"dataframe\">\n",
       "  <thead>\n",
       "    <tr style=\"text-align: right;\">\n",
       "      <th></th>\n",
       "      <th>Province/State</th>\n",
       "      <th>Country/Region</th>\n",
       "      <th>Lat</th>\n",
       "      <th>Long</th>\n",
       "      <th>1/22/20</th>\n",
       "      <th>1/23/20</th>\n",
       "      <th>1/24/20</th>\n",
       "      <th>1/25/20</th>\n",
       "      <th>1/26/20</th>\n",
       "      <th>1/27/20</th>\n",
       "      <th>...</th>\n",
       "      <th>5/26/21</th>\n",
       "      <th>5/27/21</th>\n",
       "      <th>5/28/21</th>\n",
       "      <th>5/29/21</th>\n",
       "      <th>5/30/21</th>\n",
       "      <th>5/31/21</th>\n",
       "      <th>6/1/21</th>\n",
       "      <th>6/2/21</th>\n",
       "      <th>6/3/21</th>\n",
       "      <th>6/4/21</th>\n",
       "    </tr>\n",
       "  </thead>\n",
       "  <tbody>\n",
       "    <tr>\n",
       "      <th>0</th>\n",
       "      <td>NaN</td>\n",
       "      <td>Afghanistan</td>\n",
       "      <td>33.939110</td>\n",
       "      <td>67.709953</td>\n",
       "      <td>0</td>\n",
       "      <td>0</td>\n",
       "      <td>0</td>\n",
       "      <td>0</td>\n",
       "      <td>0</td>\n",
       "      <td>0</td>\n",
       "      <td>...</td>\n",
       "      <td>67743</td>\n",
       "      <td>68366</td>\n",
       "      <td>69130</td>\n",
       "      <td>70111</td>\n",
       "      <td>70761</td>\n",
       "      <td>71838</td>\n",
       "      <td>72977</td>\n",
       "      <td>74026</td>\n",
       "      <td>75119</td>\n",
       "      <td>76628</td>\n",
       "    </tr>\n",
       "    <tr>\n",
       "      <th>1</th>\n",
       "      <td>NaN</td>\n",
       "      <td>Albania</td>\n",
       "      <td>41.153300</td>\n",
       "      <td>20.168300</td>\n",
       "      <td>0</td>\n",
       "      <td>0</td>\n",
       "      <td>0</td>\n",
       "      <td>0</td>\n",
       "      <td>0</td>\n",
       "      <td>0</td>\n",
       "      <td>...</td>\n",
       "      <td>132244</td>\n",
       "      <td>132264</td>\n",
       "      <td>132285</td>\n",
       "      <td>132297</td>\n",
       "      <td>132309</td>\n",
       "      <td>132315</td>\n",
       "      <td>132337</td>\n",
       "      <td>132351</td>\n",
       "      <td>132360</td>\n",
       "      <td>132372</td>\n",
       "    </tr>\n",
       "    <tr>\n",
       "      <th>2</th>\n",
       "      <td>NaN</td>\n",
       "      <td>Algeria</td>\n",
       "      <td>28.033900</td>\n",
       "      <td>1.659600</td>\n",
       "      <td>0</td>\n",
       "      <td>0</td>\n",
       "      <td>0</td>\n",
       "      <td>0</td>\n",
       "      <td>0</td>\n",
       "      <td>0</td>\n",
       "      <td>...</td>\n",
       "      <td>127646</td>\n",
       "      <td>127926</td>\n",
       "      <td>128198</td>\n",
       "      <td>128456</td>\n",
       "      <td>128725</td>\n",
       "      <td>128913</td>\n",
       "      <td>129218</td>\n",
       "      <td>129640</td>\n",
       "      <td>129976</td>\n",
       "      <td>130361</td>\n",
       "    </tr>\n",
       "    <tr>\n",
       "      <th>3</th>\n",
       "      <td>NaN</td>\n",
       "      <td>Andorra</td>\n",
       "      <td>42.506300</td>\n",
       "      <td>1.521800</td>\n",
       "      <td>0</td>\n",
       "      <td>0</td>\n",
       "      <td>0</td>\n",
       "      <td>0</td>\n",
       "      <td>0</td>\n",
       "      <td>0</td>\n",
       "      <td>...</td>\n",
       "      <td>13671</td>\n",
       "      <td>13682</td>\n",
       "      <td>13693</td>\n",
       "      <td>13693</td>\n",
       "      <td>13693</td>\n",
       "      <td>13727</td>\n",
       "      <td>13729</td>\n",
       "      <td>13744</td>\n",
       "      <td>13752</td>\n",
       "      <td>13758</td>\n",
       "    </tr>\n",
       "    <tr>\n",
       "      <th>4</th>\n",
       "      <td>NaN</td>\n",
       "      <td>Angola</td>\n",
       "      <td>-11.202700</td>\n",
       "      <td>17.873900</td>\n",
       "      <td>0</td>\n",
       "      <td>0</td>\n",
       "      <td>0</td>\n",
       "      <td>0</td>\n",
       "      <td>0</td>\n",
       "      <td>0</td>\n",
       "      <td>...</td>\n",
       "      <td>33338</td>\n",
       "      <td>33607</td>\n",
       "      <td>33944</td>\n",
       "      <td>34180</td>\n",
       "      <td>34366</td>\n",
       "      <td>34551</td>\n",
       "      <td>34752</td>\n",
       "      <td>34960</td>\n",
       "      <td>35140</td>\n",
       "      <td>35307</td>\n",
       "    </tr>\n",
       "    <tr>\n",
       "      <th>...</th>\n",
       "      <td>...</td>\n",
       "      <td>...</td>\n",
       "      <td>...</td>\n",
       "      <td>...</td>\n",
       "      <td>...</td>\n",
       "      <td>...</td>\n",
       "      <td>...</td>\n",
       "      <td>...</td>\n",
       "      <td>...</td>\n",
       "      <td>...</td>\n",
       "      <td>...</td>\n",
       "      <td>...</td>\n",
       "      <td>...</td>\n",
       "      <td>...</td>\n",
       "      <td>...</td>\n",
       "      <td>...</td>\n",
       "      <td>...</td>\n",
       "      <td>...</td>\n",
       "      <td>...</td>\n",
       "      <td>...</td>\n",
       "      <td>...</td>\n",
       "    </tr>\n",
       "    <tr>\n",
       "      <th>271</th>\n",
       "      <td>NaN</td>\n",
       "      <td>Vietnam</td>\n",
       "      <td>14.058324</td>\n",
       "      <td>108.277199</td>\n",
       "      <td>0</td>\n",
       "      <td>2</td>\n",
       "      <td>2</td>\n",
       "      <td>2</td>\n",
       "      <td>2</td>\n",
       "      <td>2</td>\n",
       "      <td>...</td>\n",
       "      <td>6086</td>\n",
       "      <td>6356</td>\n",
       "      <td>6396</td>\n",
       "      <td>6908</td>\n",
       "      <td>7107</td>\n",
       "      <td>7432</td>\n",
       "      <td>7625</td>\n",
       "      <td>7870</td>\n",
       "      <td>8063</td>\n",
       "      <td>8364</td>\n",
       "    </tr>\n",
       "    <tr>\n",
       "      <th>272</th>\n",
       "      <td>NaN</td>\n",
       "      <td>West Bank and Gaza</td>\n",
       "      <td>31.952200</td>\n",
       "      <td>35.233200</td>\n",
       "      <td>0</td>\n",
       "      <td>0</td>\n",
       "      <td>0</td>\n",
       "      <td>0</td>\n",
       "      <td>0</td>\n",
       "      <td>0</td>\n",
       "      <td>...</td>\n",
       "      <td>306795</td>\n",
       "      <td>306795</td>\n",
       "      <td>307569</td>\n",
       "      <td>307838</td>\n",
       "      <td>308048</td>\n",
       "      <td>308350</td>\n",
       "      <td>308732</td>\n",
       "      <td>309036</td>\n",
       "      <td>309333</td>\n",
       "      <td>309644</td>\n",
       "    </tr>\n",
       "    <tr>\n",
       "      <th>273</th>\n",
       "      <td>NaN</td>\n",
       "      <td>Yemen</td>\n",
       "      <td>15.552727</td>\n",
       "      <td>48.516388</td>\n",
       "      <td>0</td>\n",
       "      <td>0</td>\n",
       "      <td>0</td>\n",
       "      <td>0</td>\n",
       "      <td>0</td>\n",
       "      <td>0</td>\n",
       "      <td>...</td>\n",
       "      <td>6688</td>\n",
       "      <td>6696</td>\n",
       "      <td>6723</td>\n",
       "      <td>6731</td>\n",
       "      <td>6737</td>\n",
       "      <td>6742</td>\n",
       "      <td>6751</td>\n",
       "      <td>6759</td>\n",
       "      <td>6767</td>\n",
       "      <td>6773</td>\n",
       "    </tr>\n",
       "    <tr>\n",
       "      <th>274</th>\n",
       "      <td>NaN</td>\n",
       "      <td>Zambia</td>\n",
       "      <td>-13.133897</td>\n",
       "      <td>27.849332</td>\n",
       "      <td>0</td>\n",
       "      <td>0</td>\n",
       "      <td>0</td>\n",
       "      <td>0</td>\n",
       "      <td>0</td>\n",
       "      <td>0</td>\n",
       "      <td>...</td>\n",
       "      <td>93627</td>\n",
       "      <td>93947</td>\n",
       "      <td>94430</td>\n",
       "      <td>94751</td>\n",
       "      <td>95050</td>\n",
       "      <td>95263</td>\n",
       "      <td>95821</td>\n",
       "      <td>96563</td>\n",
       "      <td>97388</td>\n",
       "      <td>98376</td>\n",
       "    </tr>\n",
       "    <tr>\n",
       "      <th>275</th>\n",
       "      <td>NaN</td>\n",
       "      <td>Zimbabwe</td>\n",
       "      <td>-19.015438</td>\n",
       "      <td>29.154857</td>\n",
       "      <td>0</td>\n",
       "      <td>0</td>\n",
       "      <td>0</td>\n",
       "      <td>0</td>\n",
       "      <td>0</td>\n",
       "      <td>0</td>\n",
       "      <td>...</td>\n",
       "      <td>38819</td>\n",
       "      <td>38854</td>\n",
       "      <td>38918</td>\n",
       "      <td>38933</td>\n",
       "      <td>38944</td>\n",
       "      <td>38961</td>\n",
       "      <td>38998</td>\n",
       "      <td>39031</td>\n",
       "      <td>39092</td>\n",
       "      <td>39144</td>\n",
       "    </tr>\n",
       "  </tbody>\n",
       "</table>\n",
       "<p>276 rows × 504 columns</p>\n",
       "</div>"
      ],
      "text/plain": [
       "    Province/State      Country/Region        Lat        Long  1/22/20  \\\n",
       "0              NaN         Afghanistan  33.939110   67.709953        0   \n",
       "1              NaN             Albania  41.153300   20.168300        0   \n",
       "2              NaN             Algeria  28.033900    1.659600        0   \n",
       "3              NaN             Andorra  42.506300    1.521800        0   \n",
       "4              NaN              Angola -11.202700   17.873900        0   \n",
       "..             ...                 ...        ...         ...      ...   \n",
       "271            NaN             Vietnam  14.058324  108.277199        0   \n",
       "272            NaN  West Bank and Gaza  31.952200   35.233200        0   \n",
       "273            NaN               Yemen  15.552727   48.516388        0   \n",
       "274            NaN              Zambia -13.133897   27.849332        0   \n",
       "275            NaN            Zimbabwe -19.015438   29.154857        0   \n",
       "\n",
       "     1/23/20  1/24/20  1/25/20  1/26/20  1/27/20  ...  5/26/21  5/27/21  \\\n",
       "0          0        0        0        0        0  ...    67743    68366   \n",
       "1          0        0        0        0        0  ...   132244   132264   \n",
       "2          0        0        0        0        0  ...   127646   127926   \n",
       "3          0        0        0        0        0  ...    13671    13682   \n",
       "4          0        0        0        0        0  ...    33338    33607   \n",
       "..       ...      ...      ...      ...      ...  ...      ...      ...   \n",
       "271        2        2        2        2        2  ...     6086     6356   \n",
       "272        0        0        0        0        0  ...   306795   306795   \n",
       "273        0        0        0        0        0  ...     6688     6696   \n",
       "274        0        0        0        0        0  ...    93627    93947   \n",
       "275        0        0        0        0        0  ...    38819    38854   \n",
       "\n",
       "     5/28/21  5/29/21  5/30/21  5/31/21  6/1/21  6/2/21  6/3/21  6/4/21  \n",
       "0      69130    70111    70761    71838   72977   74026   75119   76628  \n",
       "1     132285   132297   132309   132315  132337  132351  132360  132372  \n",
       "2     128198   128456   128725   128913  129218  129640  129976  130361  \n",
       "3      13693    13693    13693    13727   13729   13744   13752   13758  \n",
       "4      33944    34180    34366    34551   34752   34960   35140   35307  \n",
       "..       ...      ...      ...      ...     ...     ...     ...     ...  \n",
       "271     6396     6908     7107     7432    7625    7870    8063    8364  \n",
       "272   307569   307838   308048   308350  308732  309036  309333  309644  \n",
       "273     6723     6731     6737     6742    6751    6759    6767    6773  \n",
       "274    94430    94751    95050    95263   95821   96563   97388   98376  \n",
       "275    38918    38933    38944    38961   38998   39031   39092   39144  \n",
       "\n",
       "[276 rows x 504 columns]"
      ]
     },
     "execution_count": 131,
     "metadata": {},
     "output_type": "execute_result"
    }
   ],
   "source": [
    "df"
   ]
  },
  {
   "cell_type": "code",
   "execution_count": 132,
   "id": "63d050a7",
   "metadata": {},
   "outputs": [
    {
     "data": {
      "text/plain": [
       "Index              128\n",
       "Province/State    2208\n",
       "Country/Region    2208\n",
       "Lat               2208\n",
       "Long              2208\n",
       "                  ... \n",
       "5/31/21           2208\n",
       "6/1/21            2208\n",
       "6/2/21            2208\n",
       "6/3/21            2208\n",
       "6/4/21            2208\n",
       "Length: 505, dtype: int64"
      ]
     },
     "execution_count": 132,
     "metadata": {},
     "output_type": "execute_result"
    }
   ],
   "source": [
    "df.memory_usage()"
   ]
  },
  {
   "cell_type": "code",
   "execution_count": 133,
   "id": "b75c1768",
   "metadata": {},
   "outputs": [
    {
     "data": {
      "text/plain": [
       "1112960"
      ]
     },
     "execution_count": 133,
     "metadata": {},
     "output_type": "execute_result"
    }
   ],
   "source": [
    "df.memory_usage().sum()"
   ]
  },
  {
   "cell_type": "code",
   "execution_count": 134,
   "id": "67dc8efe",
   "metadata": {},
   "outputs": [
    {
     "data": {
      "text/html": [
       "<div>\n",
       "<style scoped>\n",
       "    .dataframe tbody tr th:only-of-type {\n",
       "        vertical-align: middle;\n",
       "    }\n",
       "\n",
       "    .dataframe tbody tr th {\n",
       "        vertical-align: top;\n",
       "    }\n",
       "\n",
       "    .dataframe thead th {\n",
       "        text-align: right;\n",
       "    }\n",
       "</style>\n",
       "<table border=\"1\" class=\"dataframe\">\n",
       "  <thead>\n",
       "    <tr style=\"text-align: right;\">\n",
       "      <th></th>\n",
       "      <th>Province/State</th>\n",
       "      <th>Country/Region</th>\n",
       "      <th>Lat</th>\n",
       "      <th>Long</th>\n",
       "      <th>1/22/20</th>\n",
       "      <th>1/23/20</th>\n",
       "      <th>1/24/20</th>\n",
       "      <th>1/25/20</th>\n",
       "      <th>1/26/20</th>\n",
       "      <th>1/27/20</th>\n",
       "      <th>...</th>\n",
       "      <th>5/26/21</th>\n",
       "      <th>5/27/21</th>\n",
       "      <th>5/28/21</th>\n",
       "      <th>5/29/21</th>\n",
       "      <th>5/30/21</th>\n",
       "      <th>5/31/21</th>\n",
       "      <th>6/1/21</th>\n",
       "      <th>6/2/21</th>\n",
       "      <th>6/3/21</th>\n",
       "      <th>6/4/21</th>\n",
       "    </tr>\n",
       "  </thead>\n",
       "  <tbody>\n",
       "    <tr>\n",
       "      <th>0</th>\n",
       "      <td>NaN</td>\n",
       "      <td>Afghanistan</td>\n",
       "      <td>33.93911</td>\n",
       "      <td>67.709953</td>\n",
       "      <td>0</td>\n",
       "      <td>0</td>\n",
       "      <td>0</td>\n",
       "      <td>0</td>\n",
       "      <td>0</td>\n",
       "      <td>0</td>\n",
       "      <td>...</td>\n",
       "      <td>67743</td>\n",
       "      <td>68366</td>\n",
       "      <td>69130</td>\n",
       "      <td>70111</td>\n",
       "      <td>70761</td>\n",
       "      <td>71838</td>\n",
       "      <td>72977</td>\n",
       "      <td>74026</td>\n",
       "      <td>75119</td>\n",
       "      <td>76628</td>\n",
       "    </tr>\n",
       "    <tr>\n",
       "      <th>1</th>\n",
       "      <td>NaN</td>\n",
       "      <td>Albania</td>\n",
       "      <td>41.15330</td>\n",
       "      <td>20.168300</td>\n",
       "      <td>0</td>\n",
       "      <td>0</td>\n",
       "      <td>0</td>\n",
       "      <td>0</td>\n",
       "      <td>0</td>\n",
       "      <td>0</td>\n",
       "      <td>...</td>\n",
       "      <td>132244</td>\n",
       "      <td>132264</td>\n",
       "      <td>132285</td>\n",
       "      <td>132297</td>\n",
       "      <td>132309</td>\n",
       "      <td>132315</td>\n",
       "      <td>132337</td>\n",
       "      <td>132351</td>\n",
       "      <td>132360</td>\n",
       "      <td>132372</td>\n",
       "    </tr>\n",
       "    <tr>\n",
       "      <th>2</th>\n",
       "      <td>NaN</td>\n",
       "      <td>Algeria</td>\n",
       "      <td>28.03390</td>\n",
       "      <td>1.659600</td>\n",
       "      <td>0</td>\n",
       "      <td>0</td>\n",
       "      <td>0</td>\n",
       "      <td>0</td>\n",
       "      <td>0</td>\n",
       "      <td>0</td>\n",
       "      <td>...</td>\n",
       "      <td>127646</td>\n",
       "      <td>127926</td>\n",
       "      <td>128198</td>\n",
       "      <td>128456</td>\n",
       "      <td>128725</td>\n",
       "      <td>128913</td>\n",
       "      <td>129218</td>\n",
       "      <td>129640</td>\n",
       "      <td>129976</td>\n",
       "      <td>130361</td>\n",
       "    </tr>\n",
       "    <tr>\n",
       "      <th>3</th>\n",
       "      <td>NaN</td>\n",
       "      <td>Andorra</td>\n",
       "      <td>42.50630</td>\n",
       "      <td>1.521800</td>\n",
       "      <td>0</td>\n",
       "      <td>0</td>\n",
       "      <td>0</td>\n",
       "      <td>0</td>\n",
       "      <td>0</td>\n",
       "      <td>0</td>\n",
       "      <td>...</td>\n",
       "      <td>13671</td>\n",
       "      <td>13682</td>\n",
       "      <td>13693</td>\n",
       "      <td>13693</td>\n",
       "      <td>13693</td>\n",
       "      <td>13727</td>\n",
       "      <td>13729</td>\n",
       "      <td>13744</td>\n",
       "      <td>13752</td>\n",
       "      <td>13758</td>\n",
       "    </tr>\n",
       "    <tr>\n",
       "      <th>4</th>\n",
       "      <td>NaN</td>\n",
       "      <td>Angola</td>\n",
       "      <td>-11.20270</td>\n",
       "      <td>17.873900</td>\n",
       "      <td>0</td>\n",
       "      <td>0</td>\n",
       "      <td>0</td>\n",
       "      <td>0</td>\n",
       "      <td>0</td>\n",
       "      <td>0</td>\n",
       "      <td>...</td>\n",
       "      <td>33338</td>\n",
       "      <td>33607</td>\n",
       "      <td>33944</td>\n",
       "      <td>34180</td>\n",
       "      <td>34366</td>\n",
       "      <td>34551</td>\n",
       "      <td>34752</td>\n",
       "      <td>34960</td>\n",
       "      <td>35140</td>\n",
       "      <td>35307</td>\n",
       "    </tr>\n",
       "  </tbody>\n",
       "</table>\n",
       "<p>5 rows × 504 columns</p>\n",
       "</div>"
      ],
      "text/plain": [
       "  Province/State Country/Region       Lat       Long  1/22/20  1/23/20  \\\n",
       "0            NaN    Afghanistan  33.93911  67.709953        0        0   \n",
       "1            NaN        Albania  41.15330  20.168300        0        0   \n",
       "2            NaN        Algeria  28.03390   1.659600        0        0   \n",
       "3            NaN        Andorra  42.50630   1.521800        0        0   \n",
       "4            NaN         Angola -11.20270  17.873900        0        0   \n",
       "\n",
       "   1/24/20  1/25/20  1/26/20  1/27/20  ...  5/26/21  5/27/21  5/28/21  \\\n",
       "0        0        0        0        0  ...    67743    68366    69130   \n",
       "1        0        0        0        0  ...   132244   132264   132285   \n",
       "2        0        0        0        0  ...   127646   127926   128198   \n",
       "3        0        0        0        0  ...    13671    13682    13693   \n",
       "4        0        0        0        0  ...    33338    33607    33944   \n",
       "\n",
       "   5/29/21  5/30/21  5/31/21  6/1/21  6/2/21  6/3/21  6/4/21  \n",
       "0    70111    70761    71838   72977   74026   75119   76628  \n",
       "1   132297   132309   132315  132337  132351  132360  132372  \n",
       "2   128456   128725   128913  129218  129640  129976  130361  \n",
       "3    13693    13693    13727   13729   13744   13752   13758  \n",
       "4    34180    34366    34551   34752   34960   35140   35307  \n",
       "\n",
       "[5 rows x 504 columns]"
      ]
     },
     "execution_count": 134,
     "metadata": {},
     "output_type": "execute_result"
    }
   ],
   "source": [
    "df.head()"
   ]
  },
  {
   "cell_type": "code",
   "execution_count": 135,
   "id": "5056a2f0",
   "metadata": {},
   "outputs": [
    {
     "data": {
      "text/html": [
       "<div>\n",
       "<style scoped>\n",
       "    .dataframe tbody tr th:only-of-type {\n",
       "        vertical-align: middle;\n",
       "    }\n",
       "\n",
       "    .dataframe tbody tr th {\n",
       "        vertical-align: top;\n",
       "    }\n",
       "\n",
       "    .dataframe thead th {\n",
       "        text-align: right;\n",
       "    }\n",
       "</style>\n",
       "<table border=\"1\" class=\"dataframe\">\n",
       "  <thead>\n",
       "    <tr style=\"text-align: right;\">\n",
       "      <th></th>\n",
       "      <th>Province/State</th>\n",
       "      <th>Country/Region</th>\n",
       "      <th>1/22/20</th>\n",
       "      <th>1/23/20</th>\n",
       "      <th>1/24/20</th>\n",
       "      <th>1/25/20</th>\n",
       "      <th>1/26/20</th>\n",
       "      <th>1/27/20</th>\n",
       "      <th>1/28/20</th>\n",
       "      <th>1/29/20</th>\n",
       "      <th>...</th>\n",
       "      <th>5/26/21</th>\n",
       "      <th>5/27/21</th>\n",
       "      <th>5/28/21</th>\n",
       "      <th>5/29/21</th>\n",
       "      <th>5/30/21</th>\n",
       "      <th>5/31/21</th>\n",
       "      <th>6/1/21</th>\n",
       "      <th>6/2/21</th>\n",
       "      <th>6/3/21</th>\n",
       "      <th>6/4/21</th>\n",
       "    </tr>\n",
       "  </thead>\n",
       "  <tbody>\n",
       "    <tr>\n",
       "      <th>0</th>\n",
       "      <td>NaN</td>\n",
       "      <td>Afghanistan</td>\n",
       "      <td>0</td>\n",
       "      <td>0</td>\n",
       "      <td>0</td>\n",
       "      <td>0</td>\n",
       "      <td>0</td>\n",
       "      <td>0</td>\n",
       "      <td>0</td>\n",
       "      <td>0</td>\n",
       "      <td>...</td>\n",
       "      <td>67743</td>\n",
       "      <td>68366</td>\n",
       "      <td>69130</td>\n",
       "      <td>70111</td>\n",
       "      <td>70761</td>\n",
       "      <td>71838</td>\n",
       "      <td>72977</td>\n",
       "      <td>74026</td>\n",
       "      <td>75119</td>\n",
       "      <td>76628</td>\n",
       "    </tr>\n",
       "    <tr>\n",
       "      <th>1</th>\n",
       "      <td>NaN</td>\n",
       "      <td>Albania</td>\n",
       "      <td>0</td>\n",
       "      <td>0</td>\n",
       "      <td>0</td>\n",
       "      <td>0</td>\n",
       "      <td>0</td>\n",
       "      <td>0</td>\n",
       "      <td>0</td>\n",
       "      <td>0</td>\n",
       "      <td>...</td>\n",
       "      <td>132244</td>\n",
       "      <td>132264</td>\n",
       "      <td>132285</td>\n",
       "      <td>132297</td>\n",
       "      <td>132309</td>\n",
       "      <td>132315</td>\n",
       "      <td>132337</td>\n",
       "      <td>132351</td>\n",
       "      <td>132360</td>\n",
       "      <td>132372</td>\n",
       "    </tr>\n",
       "    <tr>\n",
       "      <th>2</th>\n",
       "      <td>NaN</td>\n",
       "      <td>Algeria</td>\n",
       "      <td>0</td>\n",
       "      <td>0</td>\n",
       "      <td>0</td>\n",
       "      <td>0</td>\n",
       "      <td>0</td>\n",
       "      <td>0</td>\n",
       "      <td>0</td>\n",
       "      <td>0</td>\n",
       "      <td>...</td>\n",
       "      <td>127646</td>\n",
       "      <td>127926</td>\n",
       "      <td>128198</td>\n",
       "      <td>128456</td>\n",
       "      <td>128725</td>\n",
       "      <td>128913</td>\n",
       "      <td>129218</td>\n",
       "      <td>129640</td>\n",
       "      <td>129976</td>\n",
       "      <td>130361</td>\n",
       "    </tr>\n",
       "    <tr>\n",
       "      <th>3</th>\n",
       "      <td>NaN</td>\n",
       "      <td>Andorra</td>\n",
       "      <td>0</td>\n",
       "      <td>0</td>\n",
       "      <td>0</td>\n",
       "      <td>0</td>\n",
       "      <td>0</td>\n",
       "      <td>0</td>\n",
       "      <td>0</td>\n",
       "      <td>0</td>\n",
       "      <td>...</td>\n",
       "      <td>13671</td>\n",
       "      <td>13682</td>\n",
       "      <td>13693</td>\n",
       "      <td>13693</td>\n",
       "      <td>13693</td>\n",
       "      <td>13727</td>\n",
       "      <td>13729</td>\n",
       "      <td>13744</td>\n",
       "      <td>13752</td>\n",
       "      <td>13758</td>\n",
       "    </tr>\n",
       "    <tr>\n",
       "      <th>4</th>\n",
       "      <td>NaN</td>\n",
       "      <td>Angola</td>\n",
       "      <td>0</td>\n",
       "      <td>0</td>\n",
       "      <td>0</td>\n",
       "      <td>0</td>\n",
       "      <td>0</td>\n",
       "      <td>0</td>\n",
       "      <td>0</td>\n",
       "      <td>0</td>\n",
       "      <td>...</td>\n",
       "      <td>33338</td>\n",
       "      <td>33607</td>\n",
       "      <td>33944</td>\n",
       "      <td>34180</td>\n",
       "      <td>34366</td>\n",
       "      <td>34551</td>\n",
       "      <td>34752</td>\n",
       "      <td>34960</td>\n",
       "      <td>35140</td>\n",
       "      <td>35307</td>\n",
       "    </tr>\n",
       "  </tbody>\n",
       "</table>\n",
       "<p>5 rows × 502 columns</p>\n",
       "</div>"
      ],
      "text/plain": [
       "  Province/State Country/Region  1/22/20  1/23/20  1/24/20  1/25/20  1/26/20  \\\n",
       "0            NaN    Afghanistan        0        0        0        0        0   \n",
       "1            NaN        Albania        0        0        0        0        0   \n",
       "2            NaN        Algeria        0        0        0        0        0   \n",
       "3            NaN        Andorra        0        0        0        0        0   \n",
       "4            NaN         Angola        0        0        0        0        0   \n",
       "\n",
       "   1/27/20  1/28/20  1/29/20  ...  5/26/21  5/27/21  5/28/21  5/29/21  \\\n",
       "0        0        0        0  ...    67743    68366    69130    70111   \n",
       "1        0        0        0  ...   132244   132264   132285   132297   \n",
       "2        0        0        0  ...   127646   127926   128198   128456   \n",
       "3        0        0        0  ...    13671    13682    13693    13693   \n",
       "4        0        0        0  ...    33338    33607    33944    34180   \n",
       "\n",
       "   5/30/21  5/31/21  6/1/21  6/2/21  6/3/21  6/4/21  \n",
       "0    70761    71838   72977   74026   75119   76628  \n",
       "1   132309   132315  132337  132351  132360  132372  \n",
       "2   128725   128913  129218  129640  129976  130361  \n",
       "3    13693    13727   13729   13744   13752   13758  \n",
       "4    34366    34551   34752   34960   35140   35307  \n",
       "\n",
       "[5 rows x 502 columns]"
      ]
     },
     "execution_count": 135,
     "metadata": {},
     "output_type": "execute_result"
    }
   ],
   "source": [
    "df.drop(['Lat','Long'], axis=1, inplace = True)\n",
    "df.head()"
   ]
  },
  {
   "cell_type": "code",
   "execution_count": 136,
   "id": "9ae1fc14",
   "metadata": {},
   "outputs": [],
   "source": [
    "df_orignal = df.copy(deep= True)"
   ]
  },
  {
   "cell_type": "code",
   "execution_count": 137,
   "id": "6321fe5f",
   "metadata": {},
   "outputs": [
    {
     "data": {
      "text/plain": [
       "0      False\n",
       "1      False\n",
       "2      False\n",
       "3      False\n",
       "4      False\n",
       "       ...  \n",
       "271    False\n",
       "272    False\n",
       "273    False\n",
       "274    False\n",
       "275    False\n",
       "Name: Province/State, Length: 276, dtype: bool"
      ]
     },
     "execution_count": 137,
     "metadata": {},
     "output_type": "execute_result"
    }
   ],
   "source": [
    "df['Province/State'].notnull()"
   ]
  },
  {
   "cell_type": "code",
   "execution_count": 138,
   "id": "290b7dae",
   "metadata": {},
   "outputs": [
    {
     "data": {
      "text/html": [
       "<div>\n",
       "<style scoped>\n",
       "    .dataframe tbody tr th:only-of-type {\n",
       "        vertical-align: middle;\n",
       "    }\n",
       "\n",
       "    .dataframe tbody tr th {\n",
       "        vertical-align: top;\n",
       "    }\n",
       "\n",
       "    .dataframe thead th {\n",
       "        text-align: right;\n",
       "    }\n",
       "</style>\n",
       "<table border=\"1\" class=\"dataframe\">\n",
       "  <thead>\n",
       "    <tr style=\"text-align: right;\">\n",
       "      <th></th>\n",
       "      <th>Province/State</th>\n",
       "      <th>Country/Region</th>\n",
       "      <th>1/22/20</th>\n",
       "      <th>1/23/20</th>\n",
       "      <th>1/24/20</th>\n",
       "      <th>1/25/20</th>\n",
       "      <th>1/26/20</th>\n",
       "      <th>1/27/20</th>\n",
       "      <th>1/28/20</th>\n",
       "      <th>1/29/20</th>\n",
       "      <th>...</th>\n",
       "      <th>5/26/21</th>\n",
       "      <th>5/27/21</th>\n",
       "      <th>5/28/21</th>\n",
       "      <th>5/29/21</th>\n",
       "      <th>5/30/21</th>\n",
       "      <th>5/31/21</th>\n",
       "      <th>6/1/21</th>\n",
       "      <th>6/2/21</th>\n",
       "      <th>6/3/21</th>\n",
       "      <th>6/4/21</th>\n",
       "    </tr>\n",
       "  </thead>\n",
       "  <tbody>\n",
       "    <tr>\n",
       "      <th>8</th>\n",
       "      <td>Australian Capital Territory</td>\n",
       "      <td>Australia</td>\n",
       "      <td>0</td>\n",
       "      <td>0</td>\n",
       "      <td>0</td>\n",
       "      <td>0</td>\n",
       "      <td>0</td>\n",
       "      <td>0</td>\n",
       "      <td>0</td>\n",
       "      <td>0</td>\n",
       "      <td>...</td>\n",
       "      <td>124</td>\n",
       "      <td>124</td>\n",
       "      <td>124</td>\n",
       "      <td>124</td>\n",
       "      <td>124</td>\n",
       "      <td>124</td>\n",
       "      <td>124</td>\n",
       "      <td>124</td>\n",
       "      <td>124</td>\n",
       "      <td>124</td>\n",
       "    </tr>\n",
       "    <tr>\n",
       "      <th>9</th>\n",
       "      <td>New South Wales</td>\n",
       "      <td>Australia</td>\n",
       "      <td>0</td>\n",
       "      <td>0</td>\n",
       "      <td>0</td>\n",
       "      <td>0</td>\n",
       "      <td>3</td>\n",
       "      <td>4</td>\n",
       "      <td>4</td>\n",
       "      <td>4</td>\n",
       "      <td>...</td>\n",
       "      <td>5576</td>\n",
       "      <td>5579</td>\n",
       "      <td>5580</td>\n",
       "      <td>5585</td>\n",
       "      <td>5587</td>\n",
       "      <td>5587</td>\n",
       "      <td>5588</td>\n",
       "      <td>5590</td>\n",
       "      <td>5590</td>\n",
       "      <td>5590</td>\n",
       "    </tr>\n",
       "    <tr>\n",
       "      <th>10</th>\n",
       "      <td>Northern Territory</td>\n",
       "      <td>Australia</td>\n",
       "      <td>0</td>\n",
       "      <td>0</td>\n",
       "      <td>0</td>\n",
       "      <td>0</td>\n",
       "      <td>0</td>\n",
       "      <td>0</td>\n",
       "      <td>0</td>\n",
       "      <td>0</td>\n",
       "      <td>...</td>\n",
       "      <td>172</td>\n",
       "      <td>172</td>\n",
       "      <td>173</td>\n",
       "      <td>173</td>\n",
       "      <td>173</td>\n",
       "      <td>173</td>\n",
       "      <td>173</td>\n",
       "      <td>173</td>\n",
       "      <td>173</td>\n",
       "      <td>173</td>\n",
       "    </tr>\n",
       "    <tr>\n",
       "      <th>11</th>\n",
       "      <td>Queensland</td>\n",
       "      <td>Australia</td>\n",
       "      <td>0</td>\n",
       "      <td>0</td>\n",
       "      <td>0</td>\n",
       "      <td>0</td>\n",
       "      <td>0</td>\n",
       "      <td>0</td>\n",
       "      <td>0</td>\n",
       "      <td>1</td>\n",
       "      <td>...</td>\n",
       "      <td>1613</td>\n",
       "      <td>1615</td>\n",
       "      <td>1616</td>\n",
       "      <td>1618</td>\n",
       "      <td>1618</td>\n",
       "      <td>1618</td>\n",
       "      <td>1619</td>\n",
       "      <td>1621</td>\n",
       "      <td>1621</td>\n",
       "      <td>1630</td>\n",
       "    </tr>\n",
       "    <tr>\n",
       "      <th>12</th>\n",
       "      <td>South Australia</td>\n",
       "      <td>Australia</td>\n",
       "      <td>0</td>\n",
       "      <td>0</td>\n",
       "      <td>0</td>\n",
       "      <td>0</td>\n",
       "      <td>0</td>\n",
       "      <td>0</td>\n",
       "      <td>0</td>\n",
       "      <td>0</td>\n",
       "      <td>...</td>\n",
       "      <td>752</td>\n",
       "      <td>752</td>\n",
       "      <td>752</td>\n",
       "      <td>752</td>\n",
       "      <td>754</td>\n",
       "      <td>754</td>\n",
       "      <td>754</td>\n",
       "      <td>760</td>\n",
       "      <td>760</td>\n",
       "      <td>761</td>\n",
       "    </tr>\n",
       "    <tr>\n",
       "      <th>...</th>\n",
       "      <td>...</td>\n",
       "      <td>...</td>\n",
       "      <td>...</td>\n",
       "      <td>...</td>\n",
       "      <td>...</td>\n",
       "      <td>...</td>\n",
       "      <td>...</td>\n",
       "      <td>...</td>\n",
       "      <td>...</td>\n",
       "      <td>...</td>\n",
       "      <td>...</td>\n",
       "      <td>...</td>\n",
       "      <td>...</td>\n",
       "      <td>...</td>\n",
       "      <td>...</td>\n",
       "      <td>...</td>\n",
       "      <td>...</td>\n",
       "      <td>...</td>\n",
       "      <td>...</td>\n",
       "      <td>...</td>\n",
       "      <td>...</td>\n",
       "    </tr>\n",
       "    <tr>\n",
       "      <th>261</th>\n",
       "      <td>Gibraltar</td>\n",
       "      <td>United Kingdom</td>\n",
       "      <td>0</td>\n",
       "      <td>0</td>\n",
       "      <td>0</td>\n",
       "      <td>0</td>\n",
       "      <td>0</td>\n",
       "      <td>0</td>\n",
       "      <td>0</td>\n",
       "      <td>0</td>\n",
       "      <td>...</td>\n",
       "      <td>4290</td>\n",
       "      <td>4292</td>\n",
       "      <td>4293</td>\n",
       "      <td>4293</td>\n",
       "      <td>4293</td>\n",
       "      <td>4295</td>\n",
       "      <td>4296</td>\n",
       "      <td>4298</td>\n",
       "      <td>4299</td>\n",
       "      <td>4300</td>\n",
       "    </tr>\n",
       "    <tr>\n",
       "      <th>262</th>\n",
       "      <td>Isle of Man</td>\n",
       "      <td>United Kingdom</td>\n",
       "      <td>0</td>\n",
       "      <td>0</td>\n",
       "      <td>0</td>\n",
       "      <td>0</td>\n",
       "      <td>0</td>\n",
       "      <td>0</td>\n",
       "      <td>0</td>\n",
       "      <td>0</td>\n",
       "      <td>...</td>\n",
       "      <td>1591</td>\n",
       "      <td>1591</td>\n",
       "      <td>1592</td>\n",
       "      <td>1592</td>\n",
       "      <td>1592</td>\n",
       "      <td>1592</td>\n",
       "      <td>1594</td>\n",
       "      <td>1594</td>\n",
       "      <td>1595</td>\n",
       "      <td>1597</td>\n",
       "    </tr>\n",
       "    <tr>\n",
       "      <th>263</th>\n",
       "      <td>Montserrat</td>\n",
       "      <td>United Kingdom</td>\n",
       "      <td>0</td>\n",
       "      <td>0</td>\n",
       "      <td>0</td>\n",
       "      <td>0</td>\n",
       "      <td>0</td>\n",
       "      <td>0</td>\n",
       "      <td>0</td>\n",
       "      <td>0</td>\n",
       "      <td>...</td>\n",
       "      <td>20</td>\n",
       "      <td>20</td>\n",
       "      <td>20</td>\n",
       "      <td>20</td>\n",
       "      <td>20</td>\n",
       "      <td>20</td>\n",
       "      <td>20</td>\n",
       "      <td>20</td>\n",
       "      <td>20</td>\n",
       "      <td>20</td>\n",
       "    </tr>\n",
       "    <tr>\n",
       "      <th>264</th>\n",
       "      <td>Saint Helena, Ascension and Tristan da Cunha</td>\n",
       "      <td>United Kingdom</td>\n",
       "      <td>0</td>\n",
       "      <td>0</td>\n",
       "      <td>0</td>\n",
       "      <td>0</td>\n",
       "      <td>0</td>\n",
       "      <td>0</td>\n",
       "      <td>0</td>\n",
       "      <td>0</td>\n",
       "      <td>...</td>\n",
       "      <td>4</td>\n",
       "      <td>4</td>\n",
       "      <td>4</td>\n",
       "      <td>4</td>\n",
       "      <td>4</td>\n",
       "      <td>4</td>\n",
       "      <td>4</td>\n",
       "      <td>4</td>\n",
       "      <td>4</td>\n",
       "      <td>4</td>\n",
       "    </tr>\n",
       "    <tr>\n",
       "      <th>265</th>\n",
       "      <td>Turks and Caicos Islands</td>\n",
       "      <td>United Kingdom</td>\n",
       "      <td>0</td>\n",
       "      <td>0</td>\n",
       "      <td>0</td>\n",
       "      <td>0</td>\n",
       "      <td>0</td>\n",
       "      <td>0</td>\n",
       "      <td>0</td>\n",
       "      <td>0</td>\n",
       "      <td>...</td>\n",
       "      <td>2409</td>\n",
       "      <td>2411</td>\n",
       "      <td>2411</td>\n",
       "      <td>2412</td>\n",
       "      <td>2415</td>\n",
       "      <td>2417</td>\n",
       "      <td>2417</td>\n",
       "      <td>2418</td>\n",
       "      <td>2418</td>\n",
       "      <td>2419</td>\n",
       "    </tr>\n",
       "  </tbody>\n",
       "</table>\n",
       "<p>86 rows × 502 columns</p>\n",
       "</div>"
      ],
      "text/plain": [
       "                                   Province/State  Country/Region  1/22/20  \\\n",
       "8                    Australian Capital Territory       Australia        0   \n",
       "9                                 New South Wales       Australia        0   \n",
       "10                             Northern Territory       Australia        0   \n",
       "11                                     Queensland       Australia        0   \n",
       "12                                South Australia       Australia        0   \n",
       "..                                            ...             ...      ...   \n",
       "261                                     Gibraltar  United Kingdom        0   \n",
       "262                                   Isle of Man  United Kingdom        0   \n",
       "263                                    Montserrat  United Kingdom        0   \n",
       "264  Saint Helena, Ascension and Tristan da Cunha  United Kingdom        0   \n",
       "265                      Turks and Caicos Islands  United Kingdom        0   \n",
       "\n",
       "     1/23/20  1/24/20  1/25/20  1/26/20  1/27/20  1/28/20  1/29/20  ...  \\\n",
       "8          0        0        0        0        0        0        0  ...   \n",
       "9          0        0        0        3        4        4        4  ...   \n",
       "10         0        0        0        0        0        0        0  ...   \n",
       "11         0        0        0        0        0        0        1  ...   \n",
       "12         0        0        0        0        0        0        0  ...   \n",
       "..       ...      ...      ...      ...      ...      ...      ...  ...   \n",
       "261        0        0        0        0        0        0        0  ...   \n",
       "262        0        0        0        0        0        0        0  ...   \n",
       "263        0        0        0        0        0        0        0  ...   \n",
       "264        0        0        0        0        0        0        0  ...   \n",
       "265        0        0        0        0        0        0        0  ...   \n",
       "\n",
       "     5/26/21  5/27/21  5/28/21  5/29/21  5/30/21  5/31/21  6/1/21  6/2/21  \\\n",
       "8        124      124      124      124      124      124     124     124   \n",
       "9       5576     5579     5580     5585     5587     5587    5588    5590   \n",
       "10       172      172      173      173      173      173     173     173   \n",
       "11      1613     1615     1616     1618     1618     1618    1619    1621   \n",
       "12       752      752      752      752      754      754     754     760   \n",
       "..       ...      ...      ...      ...      ...      ...     ...     ...   \n",
       "261     4290     4292     4293     4293     4293     4295    4296    4298   \n",
       "262     1591     1591     1592     1592     1592     1592    1594    1594   \n",
       "263       20       20       20       20       20       20      20      20   \n",
       "264        4        4        4        4        4        4       4       4   \n",
       "265     2409     2411     2411     2412     2415     2417    2417    2418   \n",
       "\n",
       "     6/3/21  6/4/21  \n",
       "8       124     124  \n",
       "9      5590    5590  \n",
       "10      173     173  \n",
       "11     1621    1630  \n",
       "12      760     761  \n",
       "..      ...     ...  \n",
       "261    4299    4300  \n",
       "262    1595    1597  \n",
       "263      20      20  \n",
       "264       4       4  \n",
       "265    2418    2419  \n",
       "\n",
       "[86 rows x 502 columns]"
      ]
     },
     "execution_count": 138,
     "metadata": {},
     "output_type": "execute_result"
    }
   ],
   "source": [
    "df[df['Province/State'].notnull()]"
   ]
  },
  {
   "cell_type": "code",
   "execution_count": 139,
   "id": "59660b7e",
   "metadata": {},
   "outputs": [
    {
     "name": "stderr",
     "output_type": "stream",
     "text": [
      "/var/folders/c6/0q4dv4cn42g5_ddh8w5xsb3r0000gn/T/ipykernel_2950/1999653484.py:1: FutureWarning: The default value of numeric_only in DataFrameGroupBy.sum is deprecated. In a future version, numeric_only will default to False. Either specify numeric_only or select only columns which should be valid for the function.\n",
      "  df = df.groupby('Country/Region').sum()\n"
     ]
    }
   ],
   "source": [
    "df = df.groupby('Country/Region').sum()"
   ]
  },
  {
   "cell_type": "code",
   "execution_count": 140,
   "id": "6ab971ba",
   "metadata": {},
   "outputs": [
    {
     "data": {
      "text/html": [
       "<div>\n",
       "<style scoped>\n",
       "    .dataframe tbody tr th:only-of-type {\n",
       "        vertical-align: middle;\n",
       "    }\n",
       "\n",
       "    .dataframe tbody tr th {\n",
       "        vertical-align: top;\n",
       "    }\n",
       "\n",
       "    .dataframe thead th {\n",
       "        text-align: right;\n",
       "    }\n",
       "</style>\n",
       "<table border=\"1\" class=\"dataframe\">\n",
       "  <thead>\n",
       "    <tr style=\"text-align: right;\">\n",
       "      <th></th>\n",
       "      <th>1/22/20</th>\n",
       "      <th>1/23/20</th>\n",
       "      <th>1/24/20</th>\n",
       "      <th>1/25/20</th>\n",
       "      <th>1/26/20</th>\n",
       "      <th>1/27/20</th>\n",
       "      <th>1/28/20</th>\n",
       "      <th>1/29/20</th>\n",
       "      <th>1/30/20</th>\n",
       "      <th>1/31/20</th>\n",
       "      <th>...</th>\n",
       "      <th>5/26/21</th>\n",
       "      <th>5/27/21</th>\n",
       "      <th>5/28/21</th>\n",
       "      <th>5/29/21</th>\n",
       "      <th>5/30/21</th>\n",
       "      <th>5/31/21</th>\n",
       "      <th>6/1/21</th>\n",
       "      <th>6/2/21</th>\n",
       "      <th>6/3/21</th>\n",
       "      <th>6/4/21</th>\n",
       "    </tr>\n",
       "    <tr>\n",
       "      <th>Country/Region</th>\n",
       "      <th></th>\n",
       "      <th></th>\n",
       "      <th></th>\n",
       "      <th></th>\n",
       "      <th></th>\n",
       "      <th></th>\n",
       "      <th></th>\n",
       "      <th></th>\n",
       "      <th></th>\n",
       "      <th></th>\n",
       "      <th></th>\n",
       "      <th></th>\n",
       "      <th></th>\n",
       "      <th></th>\n",
       "      <th></th>\n",
       "      <th></th>\n",
       "      <th></th>\n",
       "      <th></th>\n",
       "      <th></th>\n",
       "      <th></th>\n",
       "      <th></th>\n",
       "    </tr>\n",
       "  </thead>\n",
       "  <tbody>\n",
       "    <tr>\n",
       "      <th>Afghanistan</th>\n",
       "      <td>0</td>\n",
       "      <td>0</td>\n",
       "      <td>0</td>\n",
       "      <td>0</td>\n",
       "      <td>0</td>\n",
       "      <td>0</td>\n",
       "      <td>0</td>\n",
       "      <td>0</td>\n",
       "      <td>0</td>\n",
       "      <td>0</td>\n",
       "      <td>...</td>\n",
       "      <td>67743</td>\n",
       "      <td>68366</td>\n",
       "      <td>69130</td>\n",
       "      <td>70111</td>\n",
       "      <td>70761</td>\n",
       "      <td>71838</td>\n",
       "      <td>72977</td>\n",
       "      <td>74026</td>\n",
       "      <td>75119</td>\n",
       "      <td>76628</td>\n",
       "    </tr>\n",
       "    <tr>\n",
       "      <th>Albania</th>\n",
       "      <td>0</td>\n",
       "      <td>0</td>\n",
       "      <td>0</td>\n",
       "      <td>0</td>\n",
       "      <td>0</td>\n",
       "      <td>0</td>\n",
       "      <td>0</td>\n",
       "      <td>0</td>\n",
       "      <td>0</td>\n",
       "      <td>0</td>\n",
       "      <td>...</td>\n",
       "      <td>132244</td>\n",
       "      <td>132264</td>\n",
       "      <td>132285</td>\n",
       "      <td>132297</td>\n",
       "      <td>132309</td>\n",
       "      <td>132315</td>\n",
       "      <td>132337</td>\n",
       "      <td>132351</td>\n",
       "      <td>132360</td>\n",
       "      <td>132372</td>\n",
       "    </tr>\n",
       "    <tr>\n",
       "      <th>Algeria</th>\n",
       "      <td>0</td>\n",
       "      <td>0</td>\n",
       "      <td>0</td>\n",
       "      <td>0</td>\n",
       "      <td>0</td>\n",
       "      <td>0</td>\n",
       "      <td>0</td>\n",
       "      <td>0</td>\n",
       "      <td>0</td>\n",
       "      <td>0</td>\n",
       "      <td>...</td>\n",
       "      <td>127646</td>\n",
       "      <td>127926</td>\n",
       "      <td>128198</td>\n",
       "      <td>128456</td>\n",
       "      <td>128725</td>\n",
       "      <td>128913</td>\n",
       "      <td>129218</td>\n",
       "      <td>129640</td>\n",
       "      <td>129976</td>\n",
       "      <td>130361</td>\n",
       "    </tr>\n",
       "    <tr>\n",
       "      <th>Andorra</th>\n",
       "      <td>0</td>\n",
       "      <td>0</td>\n",
       "      <td>0</td>\n",
       "      <td>0</td>\n",
       "      <td>0</td>\n",
       "      <td>0</td>\n",
       "      <td>0</td>\n",
       "      <td>0</td>\n",
       "      <td>0</td>\n",
       "      <td>0</td>\n",
       "      <td>...</td>\n",
       "      <td>13671</td>\n",
       "      <td>13682</td>\n",
       "      <td>13693</td>\n",
       "      <td>13693</td>\n",
       "      <td>13693</td>\n",
       "      <td>13727</td>\n",
       "      <td>13729</td>\n",
       "      <td>13744</td>\n",
       "      <td>13752</td>\n",
       "      <td>13758</td>\n",
       "    </tr>\n",
       "    <tr>\n",
       "      <th>Angola</th>\n",
       "      <td>0</td>\n",
       "      <td>0</td>\n",
       "      <td>0</td>\n",
       "      <td>0</td>\n",
       "      <td>0</td>\n",
       "      <td>0</td>\n",
       "      <td>0</td>\n",
       "      <td>0</td>\n",
       "      <td>0</td>\n",
       "      <td>0</td>\n",
       "      <td>...</td>\n",
       "      <td>33338</td>\n",
       "      <td>33607</td>\n",
       "      <td>33944</td>\n",
       "      <td>34180</td>\n",
       "      <td>34366</td>\n",
       "      <td>34551</td>\n",
       "      <td>34752</td>\n",
       "      <td>34960</td>\n",
       "      <td>35140</td>\n",
       "      <td>35307</td>\n",
       "    </tr>\n",
       "  </tbody>\n",
       "</table>\n",
       "<p>5 rows × 500 columns</p>\n",
       "</div>"
      ],
      "text/plain": [
       "                1/22/20  1/23/20  1/24/20  1/25/20  1/26/20  1/27/20  1/28/20  \\\n",
       "Country/Region                                                                  \n",
       "Afghanistan           0        0        0        0        0        0        0   \n",
       "Albania               0        0        0        0        0        0        0   \n",
       "Algeria               0        0        0        0        0        0        0   \n",
       "Andorra               0        0        0        0        0        0        0   \n",
       "Angola                0        0        0        0        0        0        0   \n",
       "\n",
       "                1/29/20  1/30/20  1/31/20  ...  5/26/21  5/27/21  5/28/21  \\\n",
       "Country/Region                             ...                              \n",
       "Afghanistan           0        0        0  ...    67743    68366    69130   \n",
       "Albania               0        0        0  ...   132244   132264   132285   \n",
       "Algeria               0        0        0  ...   127646   127926   128198   \n",
       "Andorra               0        0        0  ...    13671    13682    13693   \n",
       "Angola                0        0        0  ...    33338    33607    33944   \n",
       "\n",
       "                5/29/21  5/30/21  5/31/21  6/1/21  6/2/21  6/3/21  6/4/21  \n",
       "Country/Region                                                             \n",
       "Afghanistan       70111    70761    71838   72977   74026   75119   76628  \n",
       "Albania          132297   132309   132315  132337  132351  132360  132372  \n",
       "Algeria          128456   128725   128913  129218  129640  129976  130361  \n",
       "Andorra           13693    13693    13727   13729   13744   13752   13758  \n",
       "Angola            34180    34366    34551   34752   34960   35140   35307  \n",
       "\n",
       "[5 rows x 500 columns]"
      ]
     },
     "execution_count": 140,
     "metadata": {},
     "output_type": "execute_result"
    }
   ],
   "source": [
    "df.head()"
   ]
  },
  {
   "cell_type": "code",
   "execution_count": 141,
   "id": "ba9a015b",
   "metadata": {},
   "outputs": [
    {
     "data": {
      "text/plain": [
       "1/22/20        0\n",
       "1/23/20        0\n",
       "1/24/20        0\n",
       "1/25/20        0\n",
       "1/26/20        4\n",
       "           ...  \n",
       "5/31/21    30118\n",
       "6/1/21     30124\n",
       "6/2/21     30137\n",
       "6/3/21     30141\n",
       "6/4/21     30157\n",
       "Name: Australia, Length: 500, dtype: int64"
      ]
     },
     "execution_count": 141,
     "metadata": {},
     "output_type": "execute_result"
    }
   ],
   "source": [
    "df.loc['Australia']"
   ]
  },
  {
   "cell_type": "code",
   "execution_count": 142,
   "id": "ab342d2e",
   "metadata": {},
   "outputs": [
    {
     "data": {
      "text/html": [
       "<div>\n",
       "<style scoped>\n",
       "    .dataframe tbody tr th:only-of-type {\n",
       "        vertical-align: middle;\n",
       "    }\n",
       "\n",
       "    .dataframe tbody tr th {\n",
       "        vertical-align: top;\n",
       "    }\n",
       "\n",
       "    .dataframe thead th {\n",
       "        text-align: right;\n",
       "    }\n",
       "</style>\n",
       "<table border=\"1\" class=\"dataframe\">\n",
       "  <thead>\n",
       "    <tr style=\"text-align: right;\">\n",
       "      <th></th>\n",
       "      <th>Province/State</th>\n",
       "      <th>Country/Region</th>\n",
       "      <th>1/22/20</th>\n",
       "      <th>1/23/20</th>\n",
       "      <th>1/24/20</th>\n",
       "      <th>1/25/20</th>\n",
       "      <th>1/26/20</th>\n",
       "      <th>1/27/20</th>\n",
       "      <th>1/28/20</th>\n",
       "      <th>1/29/20</th>\n",
       "      <th>...</th>\n",
       "      <th>5/26/21</th>\n",
       "      <th>5/27/21</th>\n",
       "      <th>5/28/21</th>\n",
       "      <th>5/29/21</th>\n",
       "      <th>5/30/21</th>\n",
       "      <th>5/31/21</th>\n",
       "      <th>6/1/21</th>\n",
       "      <th>6/2/21</th>\n",
       "      <th>6/3/21</th>\n",
       "      <th>6/4/21</th>\n",
       "    </tr>\n",
       "  </thead>\n",
       "  <tbody>\n",
       "    <tr>\n",
       "      <th>8</th>\n",
       "      <td>Australian Capital Territory</td>\n",
       "      <td>Australia</td>\n",
       "      <td>0</td>\n",
       "      <td>0</td>\n",
       "      <td>0</td>\n",
       "      <td>0</td>\n",
       "      <td>0</td>\n",
       "      <td>0</td>\n",
       "      <td>0</td>\n",
       "      <td>0</td>\n",
       "      <td>...</td>\n",
       "      <td>124</td>\n",
       "      <td>124</td>\n",
       "      <td>124</td>\n",
       "      <td>124</td>\n",
       "      <td>124</td>\n",
       "      <td>124</td>\n",
       "      <td>124</td>\n",
       "      <td>124</td>\n",
       "      <td>124</td>\n",
       "      <td>124</td>\n",
       "    </tr>\n",
       "    <tr>\n",
       "      <th>9</th>\n",
       "      <td>New South Wales</td>\n",
       "      <td>Australia</td>\n",
       "      <td>0</td>\n",
       "      <td>0</td>\n",
       "      <td>0</td>\n",
       "      <td>0</td>\n",
       "      <td>3</td>\n",
       "      <td>4</td>\n",
       "      <td>4</td>\n",
       "      <td>4</td>\n",
       "      <td>...</td>\n",
       "      <td>5576</td>\n",
       "      <td>5579</td>\n",
       "      <td>5580</td>\n",
       "      <td>5585</td>\n",
       "      <td>5587</td>\n",
       "      <td>5587</td>\n",
       "      <td>5588</td>\n",
       "      <td>5590</td>\n",
       "      <td>5590</td>\n",
       "      <td>5590</td>\n",
       "    </tr>\n",
       "    <tr>\n",
       "      <th>10</th>\n",
       "      <td>Northern Territory</td>\n",
       "      <td>Australia</td>\n",
       "      <td>0</td>\n",
       "      <td>0</td>\n",
       "      <td>0</td>\n",
       "      <td>0</td>\n",
       "      <td>0</td>\n",
       "      <td>0</td>\n",
       "      <td>0</td>\n",
       "      <td>0</td>\n",
       "      <td>...</td>\n",
       "      <td>172</td>\n",
       "      <td>172</td>\n",
       "      <td>173</td>\n",
       "      <td>173</td>\n",
       "      <td>173</td>\n",
       "      <td>173</td>\n",
       "      <td>173</td>\n",
       "      <td>173</td>\n",
       "      <td>173</td>\n",
       "      <td>173</td>\n",
       "    </tr>\n",
       "    <tr>\n",
       "      <th>11</th>\n",
       "      <td>Queensland</td>\n",
       "      <td>Australia</td>\n",
       "      <td>0</td>\n",
       "      <td>0</td>\n",
       "      <td>0</td>\n",
       "      <td>0</td>\n",
       "      <td>0</td>\n",
       "      <td>0</td>\n",
       "      <td>0</td>\n",
       "      <td>1</td>\n",
       "      <td>...</td>\n",
       "      <td>1613</td>\n",
       "      <td>1615</td>\n",
       "      <td>1616</td>\n",
       "      <td>1618</td>\n",
       "      <td>1618</td>\n",
       "      <td>1618</td>\n",
       "      <td>1619</td>\n",
       "      <td>1621</td>\n",
       "      <td>1621</td>\n",
       "      <td>1630</td>\n",
       "    </tr>\n",
       "    <tr>\n",
       "      <th>12</th>\n",
       "      <td>South Australia</td>\n",
       "      <td>Australia</td>\n",
       "      <td>0</td>\n",
       "      <td>0</td>\n",
       "      <td>0</td>\n",
       "      <td>0</td>\n",
       "      <td>0</td>\n",
       "      <td>0</td>\n",
       "      <td>0</td>\n",
       "      <td>0</td>\n",
       "      <td>...</td>\n",
       "      <td>752</td>\n",
       "      <td>752</td>\n",
       "      <td>752</td>\n",
       "      <td>752</td>\n",
       "      <td>754</td>\n",
       "      <td>754</td>\n",
       "      <td>754</td>\n",
       "      <td>760</td>\n",
       "      <td>760</td>\n",
       "      <td>761</td>\n",
       "    </tr>\n",
       "    <tr>\n",
       "      <th>13</th>\n",
       "      <td>Tasmania</td>\n",
       "      <td>Australia</td>\n",
       "      <td>0</td>\n",
       "      <td>0</td>\n",
       "      <td>0</td>\n",
       "      <td>0</td>\n",
       "      <td>0</td>\n",
       "      <td>0</td>\n",
       "      <td>0</td>\n",
       "      <td>0</td>\n",
       "      <td>...</td>\n",
       "      <td>234</td>\n",
       "      <td>234</td>\n",
       "      <td>234</td>\n",
       "      <td>234</td>\n",
       "      <td>234</td>\n",
       "      <td>234</td>\n",
       "      <td>234</td>\n",
       "      <td>234</td>\n",
       "      <td>234</td>\n",
       "      <td>234</td>\n",
       "    </tr>\n",
       "    <tr>\n",
       "      <th>14</th>\n",
       "      <td>Victoria</td>\n",
       "      <td>Australia</td>\n",
       "      <td>0</td>\n",
       "      <td>0</td>\n",
       "      <td>0</td>\n",
       "      <td>0</td>\n",
       "      <td>1</td>\n",
       "      <td>1</td>\n",
       "      <td>1</td>\n",
       "      <td>1</td>\n",
       "      <td>...</td>\n",
       "      <td>20575</td>\n",
       "      <td>20581</td>\n",
       "      <td>20587</td>\n",
       "      <td>20593</td>\n",
       "      <td>20598</td>\n",
       "      <td>20609</td>\n",
       "      <td>20614</td>\n",
       "      <td>20617</td>\n",
       "      <td>20621</td>\n",
       "      <td>20627</td>\n",
       "    </tr>\n",
       "    <tr>\n",
       "      <th>15</th>\n",
       "      <td>Western Australia</td>\n",
       "      <td>Australia</td>\n",
       "      <td>0</td>\n",
       "      <td>0</td>\n",
       "      <td>0</td>\n",
       "      <td>0</td>\n",
       "      <td>0</td>\n",
       "      <td>0</td>\n",
       "      <td>0</td>\n",
       "      <td>0</td>\n",
       "      <td>...</td>\n",
       "      <td>1017</td>\n",
       "      <td>1017</td>\n",
       "      <td>1017</td>\n",
       "      <td>1017</td>\n",
       "      <td>1017</td>\n",
       "      <td>1019</td>\n",
       "      <td>1018</td>\n",
       "      <td>1018</td>\n",
       "      <td>1018</td>\n",
       "      <td>1018</td>\n",
       "    </tr>\n",
       "  </tbody>\n",
       "</table>\n",
       "<p>8 rows × 502 columns</p>\n",
       "</div>"
      ],
      "text/plain": [
       "                  Province/State Country/Region  1/22/20  1/23/20  1/24/20  \\\n",
       "8   Australian Capital Territory      Australia        0        0        0   \n",
       "9                New South Wales      Australia        0        0        0   \n",
       "10            Northern Territory      Australia        0        0        0   \n",
       "11                    Queensland      Australia        0        0        0   \n",
       "12               South Australia      Australia        0        0        0   \n",
       "13                      Tasmania      Australia        0        0        0   \n",
       "14                      Victoria      Australia        0        0        0   \n",
       "15             Western Australia      Australia        0        0        0   \n",
       "\n",
       "    1/25/20  1/26/20  1/27/20  1/28/20  1/29/20  ...  5/26/21  5/27/21  \\\n",
       "8         0        0        0        0        0  ...      124      124   \n",
       "9         0        3        4        4        4  ...     5576     5579   \n",
       "10        0        0        0        0        0  ...      172      172   \n",
       "11        0        0        0        0        1  ...     1613     1615   \n",
       "12        0        0        0        0        0  ...      752      752   \n",
       "13        0        0        0        0        0  ...      234      234   \n",
       "14        0        1        1        1        1  ...    20575    20581   \n",
       "15        0        0        0        0        0  ...     1017     1017   \n",
       "\n",
       "    5/28/21  5/29/21  5/30/21  5/31/21  6/1/21  6/2/21  6/3/21  6/4/21  \n",
       "8       124      124      124      124     124     124     124     124  \n",
       "9      5580     5585     5587     5587    5588    5590    5590    5590  \n",
       "10      173      173      173      173     173     173     173     173  \n",
       "11     1616     1618     1618     1618    1619    1621    1621    1630  \n",
       "12      752      752      754      754     754     760     760     761  \n",
       "13      234      234      234      234     234     234     234     234  \n",
       "14    20587    20593    20598    20609   20614   20617   20621   20627  \n",
       "15     1017     1017     1017     1019    1018    1018    1018    1018  \n",
       "\n",
       "[8 rows x 502 columns]"
      ]
     },
     "execution_count": 142,
     "metadata": {},
     "output_type": "execute_result"
    }
   ],
   "source": [
    "df_orignal[df_orignal['Country/Region']=='Australia']"
   ]
  },
  {
   "cell_type": "code",
   "execution_count": 143,
   "id": "68cc394f",
   "metadata": {},
   "outputs": [
    {
     "data": {
      "text/plain": [
       "Province/State    Australian Capital TerritoryNew South WalesNor...\n",
       "Country/Region    AustraliaAustraliaAustraliaAustraliaAustraliaA...\n",
       "1/22/20                                                           0\n",
       "1/23/20                                                           0\n",
       "1/24/20                                                           0\n",
       "                                        ...                        \n",
       "5/31/21                                                       30118\n",
       "6/1/21                                                        30124\n",
       "6/2/21                                                        30137\n",
       "6/3/21                                                        30141\n",
       "6/4/21                                                        30157\n",
       "Length: 502, dtype: object"
      ]
     },
     "execution_count": 143,
     "metadata": {},
     "output_type": "execute_result"
    }
   ],
   "source": [
    "df_orignal[df_orignal['Country/Region']=='Australia'].sum()"
   ]
  },
  {
   "cell_type": "code",
   "execution_count": 144,
   "id": "4311e333",
   "metadata": {},
   "outputs": [],
   "source": [
    "df=df.T"
   ]
  },
  {
   "cell_type": "code",
   "execution_count": 145,
   "id": "8d8b6fbd",
   "metadata": {},
   "outputs": [
    {
     "data": {
      "text/html": [
       "<div>\n",
       "<style scoped>\n",
       "    .dataframe tbody tr th:only-of-type {\n",
       "        vertical-align: middle;\n",
       "    }\n",
       "\n",
       "    .dataframe tbody tr th {\n",
       "        vertical-align: top;\n",
       "    }\n",
       "\n",
       "    .dataframe thead th {\n",
       "        text-align: right;\n",
       "    }\n",
       "</style>\n",
       "<table border=\"1\" class=\"dataframe\">\n",
       "  <thead>\n",
       "    <tr style=\"text-align: right;\">\n",
       "      <th>Country/Region</th>\n",
       "      <th>Afghanistan</th>\n",
       "      <th>Albania</th>\n",
       "      <th>Algeria</th>\n",
       "      <th>Andorra</th>\n",
       "      <th>Angola</th>\n",
       "      <th>Antigua and Barbuda</th>\n",
       "      <th>Argentina</th>\n",
       "      <th>Armenia</th>\n",
       "      <th>Australia</th>\n",
       "      <th>Austria</th>\n",
       "      <th>...</th>\n",
       "      <th>United Kingdom</th>\n",
       "      <th>Uruguay</th>\n",
       "      <th>Uzbekistan</th>\n",
       "      <th>Vanuatu</th>\n",
       "      <th>Venezuela</th>\n",
       "      <th>Vietnam</th>\n",
       "      <th>West Bank and Gaza</th>\n",
       "      <th>Yemen</th>\n",
       "      <th>Zambia</th>\n",
       "      <th>Zimbabwe</th>\n",
       "    </tr>\n",
       "  </thead>\n",
       "  <tbody>\n",
       "    <tr>\n",
       "      <th>1/22/20</th>\n",
       "      <td>0</td>\n",
       "      <td>0</td>\n",
       "      <td>0</td>\n",
       "      <td>0</td>\n",
       "      <td>0</td>\n",
       "      <td>0</td>\n",
       "      <td>0</td>\n",
       "      <td>0</td>\n",
       "      <td>0</td>\n",
       "      <td>0</td>\n",
       "      <td>...</td>\n",
       "      <td>0</td>\n",
       "      <td>0</td>\n",
       "      <td>0</td>\n",
       "      <td>0</td>\n",
       "      <td>0</td>\n",
       "      <td>0</td>\n",
       "      <td>0</td>\n",
       "      <td>0</td>\n",
       "      <td>0</td>\n",
       "      <td>0</td>\n",
       "    </tr>\n",
       "    <tr>\n",
       "      <th>1/23/20</th>\n",
       "      <td>0</td>\n",
       "      <td>0</td>\n",
       "      <td>0</td>\n",
       "      <td>0</td>\n",
       "      <td>0</td>\n",
       "      <td>0</td>\n",
       "      <td>0</td>\n",
       "      <td>0</td>\n",
       "      <td>0</td>\n",
       "      <td>0</td>\n",
       "      <td>...</td>\n",
       "      <td>0</td>\n",
       "      <td>0</td>\n",
       "      <td>0</td>\n",
       "      <td>0</td>\n",
       "      <td>0</td>\n",
       "      <td>2</td>\n",
       "      <td>0</td>\n",
       "      <td>0</td>\n",
       "      <td>0</td>\n",
       "      <td>0</td>\n",
       "    </tr>\n",
       "    <tr>\n",
       "      <th>1/24/20</th>\n",
       "      <td>0</td>\n",
       "      <td>0</td>\n",
       "      <td>0</td>\n",
       "      <td>0</td>\n",
       "      <td>0</td>\n",
       "      <td>0</td>\n",
       "      <td>0</td>\n",
       "      <td>0</td>\n",
       "      <td>0</td>\n",
       "      <td>0</td>\n",
       "      <td>...</td>\n",
       "      <td>0</td>\n",
       "      <td>0</td>\n",
       "      <td>0</td>\n",
       "      <td>0</td>\n",
       "      <td>0</td>\n",
       "      <td>2</td>\n",
       "      <td>0</td>\n",
       "      <td>0</td>\n",
       "      <td>0</td>\n",
       "      <td>0</td>\n",
       "    </tr>\n",
       "    <tr>\n",
       "      <th>1/25/20</th>\n",
       "      <td>0</td>\n",
       "      <td>0</td>\n",
       "      <td>0</td>\n",
       "      <td>0</td>\n",
       "      <td>0</td>\n",
       "      <td>0</td>\n",
       "      <td>0</td>\n",
       "      <td>0</td>\n",
       "      <td>0</td>\n",
       "      <td>0</td>\n",
       "      <td>...</td>\n",
       "      <td>0</td>\n",
       "      <td>0</td>\n",
       "      <td>0</td>\n",
       "      <td>0</td>\n",
       "      <td>0</td>\n",
       "      <td>2</td>\n",
       "      <td>0</td>\n",
       "      <td>0</td>\n",
       "      <td>0</td>\n",
       "      <td>0</td>\n",
       "    </tr>\n",
       "    <tr>\n",
       "      <th>1/26/20</th>\n",
       "      <td>0</td>\n",
       "      <td>0</td>\n",
       "      <td>0</td>\n",
       "      <td>0</td>\n",
       "      <td>0</td>\n",
       "      <td>0</td>\n",
       "      <td>0</td>\n",
       "      <td>0</td>\n",
       "      <td>4</td>\n",
       "      <td>0</td>\n",
       "      <td>...</td>\n",
       "      <td>0</td>\n",
       "      <td>0</td>\n",
       "      <td>0</td>\n",
       "      <td>0</td>\n",
       "      <td>0</td>\n",
       "      <td>2</td>\n",
       "      <td>0</td>\n",
       "      <td>0</td>\n",
       "      <td>0</td>\n",
       "      <td>0</td>\n",
       "    </tr>\n",
       "    <tr>\n",
       "      <th>...</th>\n",
       "      <td>...</td>\n",
       "      <td>...</td>\n",
       "      <td>...</td>\n",
       "      <td>...</td>\n",
       "      <td>...</td>\n",
       "      <td>...</td>\n",
       "      <td>...</td>\n",
       "      <td>...</td>\n",
       "      <td>...</td>\n",
       "      <td>...</td>\n",
       "      <td>...</td>\n",
       "      <td>...</td>\n",
       "      <td>...</td>\n",
       "      <td>...</td>\n",
       "      <td>...</td>\n",
       "      <td>...</td>\n",
       "      <td>...</td>\n",
       "      <td>...</td>\n",
       "      <td>...</td>\n",
       "      <td>...</td>\n",
       "      <td>...</td>\n",
       "    </tr>\n",
       "    <tr>\n",
       "      <th>5/31/21</th>\n",
       "      <td>71838</td>\n",
       "      <td>132315</td>\n",
       "      <td>128913</td>\n",
       "      <td>13727</td>\n",
       "      <td>34551</td>\n",
       "      <td>1260</td>\n",
       "      <td>3781784</td>\n",
       "      <td>222670</td>\n",
       "      <td>30118</td>\n",
       "      <td>644815</td>\n",
       "      <td>...</td>\n",
       "      <td>4503231</td>\n",
       "      <td>294503</td>\n",
       "      <td>100335</td>\n",
       "      <td>4</td>\n",
       "      <td>234165</td>\n",
       "      <td>7432</td>\n",
       "      <td>308350</td>\n",
       "      <td>6742</td>\n",
       "      <td>95263</td>\n",
       "      <td>38961</td>\n",
       "    </tr>\n",
       "    <tr>\n",
       "      <th>6/1/21</th>\n",
       "      <td>72977</td>\n",
       "      <td>132337</td>\n",
       "      <td>129218</td>\n",
       "      <td>13729</td>\n",
       "      <td>34752</td>\n",
       "      <td>1260</td>\n",
       "      <td>3817139</td>\n",
       "      <td>222778</td>\n",
       "      <td>30124</td>\n",
       "      <td>645152</td>\n",
       "      <td>...</td>\n",
       "      <td>4506333</td>\n",
       "      <td>298006</td>\n",
       "      <td>100495</td>\n",
       "      <td>4</td>\n",
       "      <td>235567</td>\n",
       "      <td>7625</td>\n",
       "      <td>308732</td>\n",
       "      <td>6751</td>\n",
       "      <td>95821</td>\n",
       "      <td>38998</td>\n",
       "    </tr>\n",
       "    <tr>\n",
       "      <th>6/2/21</th>\n",
       "      <td>74026</td>\n",
       "      <td>132351</td>\n",
       "      <td>129640</td>\n",
       "      <td>13744</td>\n",
       "      <td>34960</td>\n",
       "      <td>1262</td>\n",
       "      <td>3852156</td>\n",
       "      <td>222870</td>\n",
       "      <td>30137</td>\n",
       "      <td>645552</td>\n",
       "      <td>...</td>\n",
       "      <td>4510597</td>\n",
       "      <td>301524</td>\n",
       "      <td>100726</td>\n",
       "      <td>4</td>\n",
       "      <td>236755</td>\n",
       "      <td>7870</td>\n",
       "      <td>309036</td>\n",
       "      <td>6759</td>\n",
       "      <td>96563</td>\n",
       "      <td>39031</td>\n",
       "    </tr>\n",
       "    <tr>\n",
       "      <th>6/3/21</th>\n",
       "      <td>75119</td>\n",
       "      <td>132360</td>\n",
       "      <td>129976</td>\n",
       "      <td>13752</td>\n",
       "      <td>35140</td>\n",
       "      <td>1262</td>\n",
       "      <td>3884447</td>\n",
       "      <td>222978</td>\n",
       "      <td>30141</td>\n",
       "      <td>645834</td>\n",
       "      <td>...</td>\n",
       "      <td>4515778</td>\n",
       "      <td>304411</td>\n",
       "      <td>100997</td>\n",
       "      <td>4</td>\n",
       "      <td>238013</td>\n",
       "      <td>8063</td>\n",
       "      <td>309333</td>\n",
       "      <td>6767</td>\n",
       "      <td>97388</td>\n",
       "      <td>39092</td>\n",
       "    </tr>\n",
       "    <tr>\n",
       "      <th>6/4/21</th>\n",
       "      <td>76628</td>\n",
       "      <td>132372</td>\n",
       "      <td>130361</td>\n",
       "      <td>13758</td>\n",
       "      <td>35307</td>\n",
       "      <td>1263</td>\n",
       "      <td>3915397</td>\n",
       "      <td>223050</td>\n",
       "      <td>30157</td>\n",
       "      <td>646167</td>\n",
       "      <td>...</td>\n",
       "      <td>4521922</td>\n",
       "      <td>308490</td>\n",
       "      <td>101198</td>\n",
       "      <td>4</td>\n",
       "      <td>239252</td>\n",
       "      <td>8364</td>\n",
       "      <td>309644</td>\n",
       "      <td>6773</td>\n",
       "      <td>98376</td>\n",
       "      <td>39144</td>\n",
       "    </tr>\n",
       "  </tbody>\n",
       "</table>\n",
       "<p>500 rows × 193 columns</p>\n",
       "</div>"
      ],
      "text/plain": [
       "Country/Region  Afghanistan  Albania  Algeria  Andorra  Angola  \\\n",
       "1/22/20                   0        0        0        0       0   \n",
       "1/23/20                   0        0        0        0       0   \n",
       "1/24/20                   0        0        0        0       0   \n",
       "1/25/20                   0        0        0        0       0   \n",
       "1/26/20                   0        0        0        0       0   \n",
       "...                     ...      ...      ...      ...     ...   \n",
       "5/31/21               71838   132315   128913    13727   34551   \n",
       "6/1/21                72977   132337   129218    13729   34752   \n",
       "6/2/21                74026   132351   129640    13744   34960   \n",
       "6/3/21                75119   132360   129976    13752   35140   \n",
       "6/4/21                76628   132372   130361    13758   35307   \n",
       "\n",
       "Country/Region  Antigua and Barbuda  Argentina  Armenia  Australia  Austria  \\\n",
       "1/22/20                           0          0        0          0        0   \n",
       "1/23/20                           0          0        0          0        0   \n",
       "1/24/20                           0          0        0          0        0   \n",
       "1/25/20                           0          0        0          0        0   \n",
       "1/26/20                           0          0        0          4        0   \n",
       "...                             ...        ...      ...        ...      ...   \n",
       "5/31/21                        1260    3781784   222670      30118   644815   \n",
       "6/1/21                         1260    3817139   222778      30124   645152   \n",
       "6/2/21                         1262    3852156   222870      30137   645552   \n",
       "6/3/21                         1262    3884447   222978      30141   645834   \n",
       "6/4/21                         1263    3915397   223050      30157   646167   \n",
       "\n",
       "Country/Region  ...  United Kingdom  Uruguay  Uzbekistan  Vanuatu  Venezuela  \\\n",
       "1/22/20         ...               0        0           0        0          0   \n",
       "1/23/20         ...               0        0           0        0          0   \n",
       "1/24/20         ...               0        0           0        0          0   \n",
       "1/25/20         ...               0        0           0        0          0   \n",
       "1/26/20         ...               0        0           0        0          0   \n",
       "...             ...             ...      ...         ...      ...        ...   \n",
       "5/31/21         ...         4503231   294503      100335        4     234165   \n",
       "6/1/21          ...         4506333   298006      100495        4     235567   \n",
       "6/2/21          ...         4510597   301524      100726        4     236755   \n",
       "6/3/21          ...         4515778   304411      100997        4     238013   \n",
       "6/4/21          ...         4521922   308490      101198        4     239252   \n",
       "\n",
       "Country/Region  Vietnam  West Bank and Gaza  Yemen  Zambia  Zimbabwe  \n",
       "1/22/20               0                   0      0       0         0  \n",
       "1/23/20               2                   0      0       0         0  \n",
       "1/24/20               2                   0      0       0         0  \n",
       "1/25/20               2                   0      0       0         0  \n",
       "1/26/20               2                   0      0       0         0  \n",
       "...                 ...                 ...    ...     ...       ...  \n",
       "5/31/21            7432              308350   6742   95263     38961  \n",
       "6/1/21             7625              308732   6751   95821     38998  \n",
       "6/2/21             7870              309036   6759   96563     39031  \n",
       "6/3/21             8063              309333   6767   97388     39092  \n",
       "6/4/21             8364              309644   6773   98376     39144  \n",
       "\n",
       "[500 rows x 193 columns]"
      ]
     },
     "execution_count": 145,
     "metadata": {},
     "output_type": "execute_result"
    }
   ],
   "source": [
    "df"
   ]
  },
  {
   "cell_type": "code",
   "execution_count": 146,
   "id": "2ef23be1",
   "metadata": {},
   "outputs": [
    {
     "data": {
      "text/plain": [
       "Country/Region\n",
       "Afghanistan           int64\n",
       "Albania               int64\n",
       "Algeria               int64\n",
       "Andorra               int64\n",
       "Angola                int64\n",
       "                      ...  \n",
       "Vietnam               int64\n",
       "West Bank and Gaza    int64\n",
       "Yemen                 int64\n",
       "Zambia                int64\n",
       "Zimbabwe              int64\n",
       "Length: 193, dtype: object"
      ]
     },
     "execution_count": 146,
     "metadata": {},
     "output_type": "execute_result"
    }
   ],
   "source": [
    "df.dtypes"
   ]
  },
  {
   "cell_type": "code",
   "execution_count": 147,
   "id": "e1b37df2",
   "metadata": {},
   "outputs": [
    {
     "data": {
      "text/plain": [
       "Index(['Afghanistan', 'Albania', 'Algeria', 'Andorra', 'Angola',\n",
       "       'Antigua and Barbuda', 'Argentina', 'Armenia', 'Australia', 'Austria',\n",
       "       ...\n",
       "       'United Kingdom', 'Uruguay', 'Uzbekistan', 'Vanuatu', 'Venezuela',\n",
       "       'Vietnam', 'West Bank and Gaza', 'Yemen', 'Zambia', 'Zimbabwe'],\n",
       "      dtype='object', name='Country/Region', length=193)"
      ]
     },
     "execution_count": 147,
     "metadata": {},
     "output_type": "execute_result"
    }
   ],
   "source": [
    "df.columns"
   ]
  },
  {
   "cell_type": "code",
   "execution_count": 148,
   "id": "c3f5a228",
   "metadata": {},
   "outputs": [
    {
     "data": {
      "text/plain": [
       "Country/Region\n",
       "Afghanistan           uint32\n",
       "Albania               uint32\n",
       "Algeria               uint32\n",
       "Andorra               uint32\n",
       "Angola                uint32\n",
       "                       ...  \n",
       "Vietnam               uint32\n",
       "West Bank and Gaza    uint32\n",
       "Yemen                 uint32\n",
       "Zambia                uint32\n",
       "Zimbabwe              uint32\n",
       "Length: 193, dtype: object"
      ]
     },
     "execution_count": 148,
     "metadata": {},
     "output_type": "execute_result"
    }
   ],
   "source": [
    "df= df[df.columns].astype(np.uint32)\n",
    "df.dtypes"
   ]
  },
  {
   "cell_type": "code",
   "execution_count": 149,
   "id": "e72eb45c",
   "metadata": {},
   "outputs": [
    {
     "data": {
      "text/plain": [
       "Index(['1/22/20', '1/23/20', '1/24/20', '1/25/20', '1/26/20', '1/27/20',\n",
       "       '1/28/20', '1/29/20', '1/30/20', '1/31/20',\n",
       "       ...\n",
       "       '5/26/21', '5/27/21', '5/28/21', '5/29/21', '5/30/21', '5/31/21',\n",
       "       '6/1/21', '6/2/21', '6/3/21', '6/4/21'],\n",
       "      dtype='object', length=500)"
      ]
     },
     "execution_count": 149,
     "metadata": {},
     "output_type": "execute_result"
    }
   ],
   "source": [
    "df.index"
   ]
  },
  {
   "cell_type": "code",
   "execution_count": 150,
   "id": "a268e11e",
   "metadata": {},
   "outputs": [],
   "source": [
    "dt_index = pd.to_datetime(df.index)"
   ]
  },
  {
   "cell_type": "code",
   "execution_count": 151,
   "id": "827a9d29",
   "metadata": {},
   "outputs": [
    {
     "data": {
      "text/plain": [
       "pandas.core.indexes.datetimes.DatetimeIndex"
      ]
     },
     "execution_count": 151,
     "metadata": {},
     "output_type": "execute_result"
    }
   ],
   "source": [
    "type(dt_index)"
   ]
  },
  {
   "cell_type": "code",
   "execution_count": 152,
   "id": "e7e2bb7e",
   "metadata": {},
   "outputs": [
    {
     "data": {
      "text/plain": [
       "Timestamp('2020-01-22 00:00:00')"
      ]
     },
     "execution_count": 152,
     "metadata": {},
     "output_type": "execute_result"
    }
   ],
   "source": [
    "dt_index[0]"
   ]
  },
  {
   "cell_type": "code",
   "execution_count": 153,
   "id": "57d9dde9",
   "metadata": {},
   "outputs": [
    {
     "data": {
      "text/plain": [
       "pandas._libs.tslibs.timestamps.Timestamp"
      ]
     },
     "execution_count": 153,
     "metadata": {},
     "output_type": "execute_result"
    }
   ],
   "source": [
    "type(dt_index[0])"
   ]
  },
  {
   "cell_type": "code",
   "execution_count": 155,
   "id": "a9888076",
   "metadata": {},
   "outputs": [
    {
     "data": {
      "text/plain": [
       "DatetimeIndex(['2020-01-22', '2020-01-23', '2020-01-24', '2020-01-25',\n",
       "               '2020-01-26', '2020-01-27', '2020-01-28', '2020-01-29',\n",
       "               '2020-01-30', '2020-01-31',\n",
       "               ...\n",
       "               '2021-05-26', '2021-05-27', '2021-05-28', '2021-05-29',\n",
       "               '2021-05-30', '2021-05-31', '2021-06-01', '2021-06-02',\n",
       "               '2021-06-03', '2021-06-04'],\n",
       "              dtype='datetime64[ns]', length=500, freq=None)"
      ]
     },
     "execution_count": 155,
     "metadata": {},
     "output_type": "execute_result"
    }
   ],
   "source": [
    "df= df.set_index(dt_index)\n",
    "df.index"
   ]
  },
  {
   "cell_type": "code",
   "execution_count": 156,
   "id": "a4082fed",
   "metadata": {},
   "outputs": [
    {
     "data": {
      "text/html": [
       "<div>\n",
       "<style scoped>\n",
       "    .dataframe tbody tr th:only-of-type {\n",
       "        vertical-align: middle;\n",
       "    }\n",
       "\n",
       "    .dataframe tbody tr th {\n",
       "        vertical-align: top;\n",
       "    }\n",
       "\n",
       "    .dataframe thead th {\n",
       "        text-align: right;\n",
       "    }\n",
       "</style>\n",
       "<table border=\"1\" class=\"dataframe\">\n",
       "  <thead>\n",
       "    <tr style=\"text-align: right;\">\n",
       "      <th>Country/Region</th>\n",
       "      <th>Afghanistan</th>\n",
       "      <th>Albania</th>\n",
       "      <th>Algeria</th>\n",
       "      <th>Andorra</th>\n",
       "      <th>Angola</th>\n",
       "      <th>Antigua and Barbuda</th>\n",
       "      <th>Argentina</th>\n",
       "      <th>Armenia</th>\n",
       "      <th>Australia</th>\n",
       "      <th>Austria</th>\n",
       "      <th>...</th>\n",
       "      <th>United Kingdom</th>\n",
       "      <th>Uruguay</th>\n",
       "      <th>Uzbekistan</th>\n",
       "      <th>Vanuatu</th>\n",
       "      <th>Venezuela</th>\n",
       "      <th>Vietnam</th>\n",
       "      <th>West Bank and Gaza</th>\n",
       "      <th>Yemen</th>\n",
       "      <th>Zambia</th>\n",
       "      <th>Zimbabwe</th>\n",
       "    </tr>\n",
       "  </thead>\n",
       "  <tbody>\n",
       "    <tr>\n",
       "      <th>2020-06-01</th>\n",
       "      <td>15753</td>\n",
       "      <td>1143</td>\n",
       "      <td>9513</td>\n",
       "      <td>765</td>\n",
       "      <td>86</td>\n",
       "      <td>26</td>\n",
       "      <td>17415</td>\n",
       "      <td>9492</td>\n",
       "      <td>7221</td>\n",
       "      <td>16733</td>\n",
       "      <td>...</td>\n",
       "      <td>258983</td>\n",
       "      <td>825</td>\n",
       "      <td>3702</td>\n",
       "      <td>0</td>\n",
       "      <td>1662</td>\n",
       "      <td>328</td>\n",
       "      <td>449</td>\n",
       "      <td>354</td>\n",
       "      <td>1089</td>\n",
       "      <td>203</td>\n",
       "    </tr>\n",
       "    <tr>\n",
       "      <th>2020-06-02</th>\n",
       "      <td>16512</td>\n",
       "      <td>1164</td>\n",
       "      <td>9626</td>\n",
       "      <td>844</td>\n",
       "      <td>86</td>\n",
       "      <td>26</td>\n",
       "      <td>18319</td>\n",
       "      <td>10009</td>\n",
       "      <td>7229</td>\n",
       "      <td>16759</td>\n",
       "      <td>...</td>\n",
       "      <td>260453</td>\n",
       "      <td>826</td>\n",
       "      <td>3760</td>\n",
       "      <td>0</td>\n",
       "      <td>1819</td>\n",
       "      <td>328</td>\n",
       "      <td>451</td>\n",
       "      <td>399</td>\n",
       "      <td>1089</td>\n",
       "      <td>206</td>\n",
       "    </tr>\n",
       "    <tr>\n",
       "      <th>2020-06-03</th>\n",
       "      <td>17270</td>\n",
       "      <td>1184</td>\n",
       "      <td>9733</td>\n",
       "      <td>851</td>\n",
       "      <td>86</td>\n",
       "      <td>26</td>\n",
       "      <td>19268</td>\n",
       "      <td>10524</td>\n",
       "      <td>7240</td>\n",
       "      <td>16771</td>\n",
       "      <td>...</td>\n",
       "      <td>261802</td>\n",
       "      <td>828</td>\n",
       "      <td>3843</td>\n",
       "      <td>0</td>\n",
       "      <td>1952</td>\n",
       "      <td>328</td>\n",
       "      <td>457</td>\n",
       "      <td>419</td>\n",
       "      <td>1089</td>\n",
       "      <td>222</td>\n",
       "    </tr>\n",
       "    <tr>\n",
       "      <th>2020-06-04</th>\n",
       "      <td>18057</td>\n",
       "      <td>1197</td>\n",
       "      <td>9831</td>\n",
       "      <td>852</td>\n",
       "      <td>86</td>\n",
       "      <td>26</td>\n",
       "      <td>20197</td>\n",
       "      <td>11221</td>\n",
       "      <td>7247</td>\n",
       "      <td>16805</td>\n",
       "      <td>...</td>\n",
       "      <td>263040</td>\n",
       "      <td>832</td>\n",
       "      <td>3939</td>\n",
       "      <td>0</td>\n",
       "      <td>2087</td>\n",
       "      <td>328</td>\n",
       "      <td>464</td>\n",
       "      <td>453</td>\n",
       "      <td>1089</td>\n",
       "      <td>237</td>\n",
       "    </tr>\n",
       "    <tr>\n",
       "      <th>2020-06-05</th>\n",
       "      <td>18972</td>\n",
       "      <td>1212</td>\n",
       "      <td>9935</td>\n",
       "      <td>852</td>\n",
       "      <td>86</td>\n",
       "      <td>26</td>\n",
       "      <td>21037</td>\n",
       "      <td>11817</td>\n",
       "      <td>7252</td>\n",
       "      <td>16843</td>\n",
       "      <td>...</td>\n",
       "      <td>264150</td>\n",
       "      <td>834</td>\n",
       "      <td>4007</td>\n",
       "      <td>0</td>\n",
       "      <td>2145</td>\n",
       "      <td>328</td>\n",
       "      <td>464</td>\n",
       "      <td>469</td>\n",
       "      <td>1089</td>\n",
       "      <td>265</td>\n",
       "    </tr>\n",
       "    <tr>\n",
       "      <th>...</th>\n",
       "      <td>...</td>\n",
       "      <td>...</td>\n",
       "      <td>...</td>\n",
       "      <td>...</td>\n",
       "      <td>...</td>\n",
       "      <td>...</td>\n",
       "      <td>...</td>\n",
       "      <td>...</td>\n",
       "      <td>...</td>\n",
       "      <td>...</td>\n",
       "      <td>...</td>\n",
       "      <td>...</td>\n",
       "      <td>...</td>\n",
       "      <td>...</td>\n",
       "      <td>...</td>\n",
       "      <td>...</td>\n",
       "      <td>...</td>\n",
       "      <td>...</td>\n",
       "      <td>...</td>\n",
       "      <td>...</td>\n",
       "      <td>...</td>\n",
       "    </tr>\n",
       "    <tr>\n",
       "      <th>2020-12-11</th>\n",
       "      <td>48116</td>\n",
       "      <td>46863</td>\n",
       "      <td>91121</td>\n",
       "      <td>7236</td>\n",
       "      <td>16061</td>\n",
       "      <td>147</td>\n",
       "      <td>1489328</td>\n",
       "      <td>146317</td>\n",
       "      <td>28025</td>\n",
       "      <td>316581</td>\n",
       "      <td>...</td>\n",
       "      <td>1814398</td>\n",
       "      <td>8849</td>\n",
       "      <td>74811</td>\n",
       "      <td>1</td>\n",
       "      <td>106715</td>\n",
       "      <td>1391</td>\n",
       "      <td>106622</td>\n",
       "      <td>2082</td>\n",
       "      <td>18161</td>\n",
       "      <td>11162</td>\n",
       "    </tr>\n",
       "    <tr>\n",
       "      <th>2020-12-12</th>\n",
       "      <td>48229</td>\n",
       "      <td>47742</td>\n",
       "      <td>91638</td>\n",
       "      <td>7288</td>\n",
       "      <td>16161</td>\n",
       "      <td>148</td>\n",
       "      <td>1494602</td>\n",
       "      <td>147312</td>\n",
       "      <td>28030</td>\n",
       "      <td>319822</td>\n",
       "      <td>...</td>\n",
       "      <td>1835952</td>\n",
       "      <td>9180</td>\n",
       "      <td>74811</td>\n",
       "      <td>1</td>\n",
       "      <td>107177</td>\n",
       "      <td>1395</td>\n",
       "      <td>108099</td>\n",
       "      <td>2083</td>\n",
       "      <td>18217</td>\n",
       "      <td>11219</td>\n",
       "    </tr>\n",
       "    <tr>\n",
       "      <th>2020-12-13</th>\n",
       "      <td>48527</td>\n",
       "      <td>48530</td>\n",
       "      <td>92102</td>\n",
       "      <td>7338</td>\n",
       "      <td>16188</td>\n",
       "      <td>148</td>\n",
       "      <td>1498160</td>\n",
       "      <td>148325</td>\n",
       "      <td>28037</td>\n",
       "      <td>322463</td>\n",
       "      <td>...</td>\n",
       "      <td>1854493</td>\n",
       "      <td>9708</td>\n",
       "      <td>74956</td>\n",
       "      <td>1</td>\n",
       "      <td>107786</td>\n",
       "      <td>1397</td>\n",
       "      <td>109738</td>\n",
       "      <td>2083</td>\n",
       "      <td>18274</td>\n",
       "      <td>11246</td>\n",
       "    </tr>\n",
       "    <tr>\n",
       "      <th>2020-12-14</th>\n",
       "      <td>48718</td>\n",
       "      <td>49191</td>\n",
       "      <td>92597</td>\n",
       "      <td>7382</td>\n",
       "      <td>16277</td>\n",
       "      <td>148</td>\n",
       "      <td>1503222</td>\n",
       "      <td>148682</td>\n",
       "      <td>28048</td>\n",
       "      <td>325051</td>\n",
       "      <td>...</td>\n",
       "      <td>1874870</td>\n",
       "      <td>10029</td>\n",
       "      <td>75094</td>\n",
       "      <td>1</td>\n",
       "      <td>108125</td>\n",
       "      <td>1402</td>\n",
       "      <td>111102</td>\n",
       "      <td>2084</td>\n",
       "      <td>18322</td>\n",
       "      <td>11358</td>\n",
       "    </tr>\n",
       "    <tr>\n",
       "      <th>2020-12-15</th>\n",
       "      <td>48952</td>\n",
       "      <td>50000</td>\n",
       "      <td>93065</td>\n",
       "      <td>7382</td>\n",
       "      <td>16362</td>\n",
       "      <td>148</td>\n",
       "      <td>1510203</td>\n",
       "      <td>149120</td>\n",
       "      <td>28060</td>\n",
       "      <td>327679</td>\n",
       "      <td>...</td>\n",
       "      <td>1893439</td>\n",
       "      <td>10418</td>\n",
       "      <td>75241</td>\n",
       "      <td>1</td>\n",
       "      <td>108480</td>\n",
       "      <td>1405</td>\n",
       "      <td>113409</td>\n",
       "      <td>2085</td>\n",
       "      <td>18428</td>\n",
       "      <td>11522</td>\n",
       "    </tr>\n",
       "  </tbody>\n",
       "</table>\n",
       "<p>198 rows × 193 columns</p>\n",
       "</div>"
      ],
      "text/plain": [
       "Country/Region  Afghanistan  Albania  Algeria  Andorra  Angola  \\\n",
       "2020-06-01            15753     1143     9513      765      86   \n",
       "2020-06-02            16512     1164     9626      844      86   \n",
       "2020-06-03            17270     1184     9733      851      86   \n",
       "2020-06-04            18057     1197     9831      852      86   \n",
       "2020-06-05            18972     1212     9935      852      86   \n",
       "...                     ...      ...      ...      ...     ...   \n",
       "2020-12-11            48116    46863    91121     7236   16061   \n",
       "2020-12-12            48229    47742    91638     7288   16161   \n",
       "2020-12-13            48527    48530    92102     7338   16188   \n",
       "2020-12-14            48718    49191    92597     7382   16277   \n",
       "2020-12-15            48952    50000    93065     7382   16362   \n",
       "\n",
       "Country/Region  Antigua and Barbuda  Argentina  Armenia  Australia  Austria  \\\n",
       "2020-06-01                       26      17415     9492       7221    16733   \n",
       "2020-06-02                       26      18319    10009       7229    16759   \n",
       "2020-06-03                       26      19268    10524       7240    16771   \n",
       "2020-06-04                       26      20197    11221       7247    16805   \n",
       "2020-06-05                       26      21037    11817       7252    16843   \n",
       "...                             ...        ...      ...        ...      ...   \n",
       "2020-12-11                      147    1489328   146317      28025   316581   \n",
       "2020-12-12                      148    1494602   147312      28030   319822   \n",
       "2020-12-13                      148    1498160   148325      28037   322463   \n",
       "2020-12-14                      148    1503222   148682      28048   325051   \n",
       "2020-12-15                      148    1510203   149120      28060   327679   \n",
       "\n",
       "Country/Region  ...  United Kingdom  Uruguay  Uzbekistan  Vanuatu  Venezuela  \\\n",
       "2020-06-01      ...          258983      825        3702        0       1662   \n",
       "2020-06-02      ...          260453      826        3760        0       1819   \n",
       "2020-06-03      ...          261802      828        3843        0       1952   \n",
       "2020-06-04      ...          263040      832        3939        0       2087   \n",
       "2020-06-05      ...          264150      834        4007        0       2145   \n",
       "...             ...             ...      ...         ...      ...        ...   \n",
       "2020-12-11      ...         1814398     8849       74811        1     106715   \n",
       "2020-12-12      ...         1835952     9180       74811        1     107177   \n",
       "2020-12-13      ...         1854493     9708       74956        1     107786   \n",
       "2020-12-14      ...         1874870    10029       75094        1     108125   \n",
       "2020-12-15      ...         1893439    10418       75241        1     108480   \n",
       "\n",
       "Country/Region  Vietnam  West Bank and Gaza  Yemen  Zambia  Zimbabwe  \n",
       "2020-06-01          328                 449    354    1089       203  \n",
       "2020-06-02          328                 451    399    1089       206  \n",
       "2020-06-03          328                 457    419    1089       222  \n",
       "2020-06-04          328                 464    453    1089       237  \n",
       "2020-06-05          328                 464    469    1089       265  \n",
       "...                 ...                 ...    ...     ...       ...  \n",
       "2020-12-11         1391              106622   2082   18161     11162  \n",
       "2020-12-12         1395              108099   2083   18217     11219  \n",
       "2020-12-13         1397              109738   2083   18274     11246  \n",
       "2020-12-14         1402              111102   2084   18322     11358  \n",
       "2020-12-15         1405              113409   2085   18428     11522  \n",
       "\n",
       "[198 rows x 193 columns]"
      ]
     },
     "execution_count": 156,
     "metadata": {},
     "output_type": "execute_result"
    }
   ],
   "source": [
    "df['2020-06-01':'2020-12-15']"
   ]
  },
  {
   "cell_type": "code",
   "execution_count": 157,
   "id": "b25951a6",
   "metadata": {},
   "outputs": [
    {
     "data": {
      "text/plain": [
       "Country/Region\n",
       "Afghanistan           15753\n",
       "Albania                1143\n",
       "Algeria                9513\n",
       "Andorra                 765\n",
       "Angola                   86\n",
       "                      ...  \n",
       "Vietnam                 328\n",
       "West Bank and Gaza      449\n",
       "Yemen                   354\n",
       "Zambia                 1089\n",
       "Zimbabwe                203\n",
       "Name: 2020-06-01 00:00:00, Length: 193, dtype: uint32"
      ]
     },
     "execution_count": 157,
     "metadata": {},
     "output_type": "execute_result"
    }
   ],
   "source": [
    "df.loc['2020-06-01']"
   ]
  },
  {
   "cell_type": "code",
   "execution_count": 158,
   "id": "1fa61787",
   "metadata": {
    "scrolled": true
   },
   "outputs": [
    {
     "data": {
      "text/plain": [
       "Country/Region\n",
       "US                  1816207\n",
       "Brazil               526447\n",
       "Russia               414328\n",
       "United Kingdom       258983\n",
       "Spain                239638\n",
       "                     ...   \n",
       "Marshall Islands          0\n",
       "Micronesia                0\n",
       "Solomon Islands           0\n",
       "Vanuatu                   0\n",
       "Samoa                     0\n",
       "Name: 2020-06-01 00:00:00, Length: 193, dtype: uint32"
      ]
     },
     "execution_count": 158,
     "metadata": {},
     "output_type": "execute_result"
    }
   ],
   "source": [
    "df.loc['2020-06-01'].sort_values(ascending=False)"
   ]
  },
  {
   "cell_type": "code",
   "execution_count": 159,
   "id": "8b21de0b",
   "metadata": {},
   "outputs": [
    {
     "data": {
      "text/plain": [
       "Country/Region\n",
       "US                1816207\n",
       "Brazil             526447\n",
       "Russia             414328\n",
       "United Kingdom     258983\n",
       "Spain              239638\n",
       "Italy              233197\n",
       "India              198370\n",
       "France             191382\n",
       "Germany            183594\n",
       "Peru               170039\n",
       "Name: 2020-06-01 00:00:00, dtype: uint32"
      ]
     },
     "execution_count": 159,
     "metadata": {},
     "output_type": "execute_result"
    }
   ],
   "source": [
    "df.loc['2020-06-01'].sort_values(ascending=False)[0:10]"
   ]
  },
  {
   "cell_type": "code",
   "execution_count": 163,
   "id": "97e12473",
   "metadata": {},
   "outputs": [],
   "source": [
    "top5 = ['US', 'India', 'Brazil', 'France', 'Russia']"
   ]
  },
  {
   "cell_type": "code",
   "execution_count": 164,
   "id": "187b5423",
   "metadata": {},
   "outputs": [
    {
     "data": {
      "text/html": [
       "<div>\n",
       "<style scoped>\n",
       "    .dataframe tbody tr th:only-of-type {\n",
       "        vertical-align: middle;\n",
       "    }\n",
       "\n",
       "    .dataframe tbody tr th {\n",
       "        vertical-align: top;\n",
       "    }\n",
       "\n",
       "    .dataframe thead th {\n",
       "        text-align: right;\n",
       "    }\n",
       "</style>\n",
       "<table border=\"1\" class=\"dataframe\">\n",
       "  <thead>\n",
       "    <tr style=\"text-align: right;\">\n",
       "      <th>Country/Region</th>\n",
       "      <th>US</th>\n",
       "      <th>India</th>\n",
       "      <th>Brazil</th>\n",
       "      <th>France</th>\n",
       "      <th>Russia</th>\n",
       "    </tr>\n",
       "  </thead>\n",
       "  <tbody>\n",
       "    <tr>\n",
       "      <th>2020-01-26</th>\n",
       "      <td>2.200000e+00</td>\n",
       "      <td>0.000000e+00</td>\n",
       "      <td>0.000000e+00</td>\n",
       "      <td>1.600000e+00</td>\n",
       "      <td>0.000000e+00</td>\n",
       "    </tr>\n",
       "    <tr>\n",
       "      <th>2020-02-02</th>\n",
       "      <td>6.571429e+00</td>\n",
       "      <td>7.142857e-01</td>\n",
       "      <td>0.000000e+00</td>\n",
       "      <td>4.857143e+00</td>\n",
       "      <td>8.571429e-01</td>\n",
       "    </tr>\n",
       "    <tr>\n",
       "      <th>2020-02-09</th>\n",
       "      <td>1.157143e+01</td>\n",
       "      <td>3.000000e+00</td>\n",
       "      <td>0.000000e+00</td>\n",
       "      <td>7.428571e+00</td>\n",
       "      <td>2.000000e+00</td>\n",
       "    </tr>\n",
       "    <tr>\n",
       "      <th>2020-02-16</th>\n",
       "      <td>1.342857e+01</td>\n",
       "      <td>3.000000e+00</td>\n",
       "      <td>0.000000e+00</td>\n",
       "      <td>1.128571e+01</td>\n",
       "      <td>2.000000e+00</td>\n",
       "    </tr>\n",
       "    <tr>\n",
       "      <th>2020-02-23</th>\n",
       "      <td>1.485714e+01</td>\n",
       "      <td>3.000000e+00</td>\n",
       "      <td>0.000000e+00</td>\n",
       "      <td>1.200000e+01</td>\n",
       "      <td>2.000000e+00</td>\n",
       "    </tr>\n",
       "    <tr>\n",
       "      <th>...</th>\n",
       "      <td>...</td>\n",
       "      <td>...</td>\n",
       "      <td>...</td>\n",
       "      <td>...</td>\n",
       "      <td>...</td>\n",
       "    </tr>\n",
       "    <tr>\n",
       "      <th>2021-05-09</th>\n",
       "      <td>3.260336e+07</td>\n",
       "      <td>2.148116e+07</td>\n",
       "      <td>1.499761e+07</td>\n",
       "      <td>5.784486e+06</td>\n",
       "      <td>4.800379e+06</td>\n",
       "    </tr>\n",
       "    <tr>\n",
       "      <th>2021-05-16</th>\n",
       "      <td>3.285403e+07</td>\n",
       "      <td>2.401520e+07</td>\n",
       "      <td>1.543134e+07</td>\n",
       "      <td>5.894525e+06</td>\n",
       "      <td>4.857991e+06</td>\n",
       "    </tr>\n",
       "    <tr>\n",
       "      <th>2021-05-23</th>\n",
       "      <td>3.305473e+07</td>\n",
       "      <td>2.601452e+07</td>\n",
       "      <td>1.588543e+07</td>\n",
       "      <td>5.781983e+06</td>\n",
       "      <td>4.918112e+06</td>\n",
       "    </tr>\n",
       "    <tr>\n",
       "      <th>2021-05-30</th>\n",
       "      <td>3.321304e+07</td>\n",
       "      <td>2.752897e+07</td>\n",
       "      <td>1.633007e+07</td>\n",
       "      <td>5.696383e+06</td>\n",
       "      <td>4.977940e+06</td>\n",
       "    </tr>\n",
       "    <tr>\n",
       "      <th>2021-06-06</th>\n",
       "      <td>3.330701e+07</td>\n",
       "      <td>2.843882e+07</td>\n",
       "      <td>1.670700e+07</td>\n",
       "      <td>5.745148e+06</td>\n",
       "      <td>5.031515e+06</td>\n",
       "    </tr>\n",
       "  </tbody>\n",
       "</table>\n",
       "<p>72 rows × 5 columns</p>\n",
       "</div>"
      ],
      "text/plain": [
       "Country/Region            US         India        Brazil        France  \\\n",
       "2020-01-26      2.200000e+00  0.000000e+00  0.000000e+00  1.600000e+00   \n",
       "2020-02-02      6.571429e+00  7.142857e-01  0.000000e+00  4.857143e+00   \n",
       "2020-02-09      1.157143e+01  3.000000e+00  0.000000e+00  7.428571e+00   \n",
       "2020-02-16      1.342857e+01  3.000000e+00  0.000000e+00  1.128571e+01   \n",
       "2020-02-23      1.485714e+01  3.000000e+00  0.000000e+00  1.200000e+01   \n",
       "...                      ...           ...           ...           ...   \n",
       "2021-05-09      3.260336e+07  2.148116e+07  1.499761e+07  5.784486e+06   \n",
       "2021-05-16      3.285403e+07  2.401520e+07  1.543134e+07  5.894525e+06   \n",
       "2021-05-23      3.305473e+07  2.601452e+07  1.588543e+07  5.781983e+06   \n",
       "2021-05-30      3.321304e+07  2.752897e+07  1.633007e+07  5.696383e+06   \n",
       "2021-06-06      3.330701e+07  2.843882e+07  1.670700e+07  5.745148e+06   \n",
       "\n",
       "Country/Region        Russia  \n",
       "2020-01-26      0.000000e+00  \n",
       "2020-02-02      8.571429e-01  \n",
       "2020-02-09      2.000000e+00  \n",
       "2020-02-16      2.000000e+00  \n",
       "2020-02-23      2.000000e+00  \n",
       "...                      ...  \n",
       "2021-05-09      4.800379e+06  \n",
       "2021-05-16      4.857991e+06  \n",
       "2021-05-23      4.918112e+06  \n",
       "2021-05-30      4.977940e+06  \n",
       "2021-06-06      5.031515e+06  \n",
       "\n",
       "[72 rows x 5 columns]"
      ]
     },
     "execution_count": 164,
     "metadata": {},
     "output_type": "execute_result"
    }
   ],
   "source": [
    "df[top5].resample('W').mean()# For taking ouut the mean in Weekly basis"
   ]
  },
  {
   "cell_type": "code",
   "execution_count": 165,
   "id": "2b97b162",
   "metadata": {},
   "outputs": [
    {
     "data": {
      "text/plain": [
       "<Axes: >"
      ]
     },
     "execution_count": 165,
     "metadata": {},
     "output_type": "execute_result"
    },
    {
     "data": {
      "image/png": "[encoded data removed]",
      "text/plain": [
       "<Figure size 640x480 with 1 Axes>"
      ]
     },
     "metadata": {},
     "output_type": "display_data"
    }
   ],
   "source": [
    "df[top5].resample('W').mean().plot()"
   ]
  },
  {
   "cell_type": "code",
   "execution_count": 168,
   "id": "5d8ab3ba",
   "metadata": {},
   "outputs": [
    {
     "data": {
      "text/plain": [
       "<Axes: >"
      ]
     },
     "execution_count": 168,
     "metadata": {},
     "output_type": "execute_result"
    },
    {
     "data": {
      "image/png": "[encoded data removed]",
      "text/plain": [
       "<Figure size 640x480 with 1 Axes>"
      ]
     },
     "metadata": {},
     "output_type": "display_data"
    }
   ],
   "source": [
    "df[top5].resample('W').mean().pct_change().plot()"
   ]
  },
  {
   "cell_type": "code",
   "execution_count": 169,
   "id": "ab65821e",
   "metadata": {},
   "outputs": [
    {
     "data": {
      "text/plain": [
       "<Axes: >"
      ]
     },
     "execution_count": 169,
     "metadata": {},
     "output_type": "execute_result"
    },
    {
     "data": {
      "image/png": "[encoded data removed]",
      "text/plain": [
       "<Figure size 640x480 with 1 Axes>"
      ]
     },
     "metadata": {},
     "output_type": "display_data"
    }
   ],
   "source": [
    "df[top5].resample('W').mean().pct_change().iloc[16:].plot()"
   ]
  },
  {
   "cell_type": "code",
   "execution_count": 170,
   "id": "beceb391",
   "metadata": {},
   "outputs": [
    {
     "data": {
      "text/plain": [
       "<Axes: >"
      ]
     },
     "execution_count": 170,
     "metadata": {},
     "output_type": "execute_result"
    },
    {
     "data": {
      "image/png": "[encoded data removed]",
      "text/plain": [
       "<Figure size 640x480 with 1 Axes>"
      ]
     },
     "metadata": {},
     "output_type": "display_data"
    }
   ],
   "source": [
    "df[top5].rolling('7D').mean().plot()"
   ]
  },
  {
   "cell_type": "code",
   "execution_count": null,
   "id": "3bd9b820",
   "metadata": {},
   "outputs": [],
   "source": []
  }
 ],
 "metadata": {
  "kernelspec": {
   "display_name": "Python 3 (ipykernel)",
   "language": "python",
   "name": "python3"
  },
  "language_info": {
   "codemirror_mode": {
    "name": "ipython",
    "version": 3
   },
   "file_extension": ".py",
   "mimetype": "text/x-python",
   "name": "python",
   "nbconvert_exporter": "python",
   "pygments_lexer": "ipython3",
   "version": "3.10.9"
  }
 },
 "nbformat": 4,
 "nbformat_minor": 5
}

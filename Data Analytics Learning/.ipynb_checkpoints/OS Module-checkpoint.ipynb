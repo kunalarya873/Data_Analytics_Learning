{
 "cells": [
  {
   "cell_type": "code",
   "execution_count": 1,
   "id": "2bd4acd0",
   "metadata": {},
   "outputs": [],
   "source": [
    "import os"
   ]
  },
  {
   "cell_type": "code",
   "execution_count": 2,
   "id": "63ef294c",
   "metadata": {},
   "outputs": [
    {
     "data": {
      "text/plain": [
       "posix.uname_result(sysname='Darwin', nodename='Kunals-MacBook-Air.local', release='22.5.0', version='Darwin Kernel Version 22.5.0: Thu Jun  8 22:21:34 PDT 2023; root:xnu-8796.121.3~7/RELEASE_ARM64_T8112', machine='arm64')"
      ]
     },
     "execution_count": 2,
     "metadata": {},
     "output_type": "execute_result"
    }
   ],
   "source": [
    "os.uname()"
   ]
  },
  {
   "cell_type": "code",
   "execution_count": 4,
   "id": "6be086c8",
   "metadata": {},
   "outputs": [
    {
     "data": {
      "text/plain": [
       "'22.5.0'"
      ]
     },
     "execution_count": 4,
     "metadata": {},
     "output_type": "execute_result"
    }
   ],
   "source": [
    "os.uname().release"
   ]
  },
  {
   "cell_type": "code",
   "execution_count": 5,
   "id": "b2e39d5e",
   "metadata": {},
   "outputs": [
    {
     "data": {
      "text/plain": [
       "'arm64'"
      ]
     },
     "execution_count": 5,
     "metadata": {},
     "output_type": "execute_result"
    }
   ],
   "source": [
    "os.uname().machine"
   ]
  },
  {
   "cell_type": "code",
   "execution_count": 6,
   "id": "eecf9087",
   "metadata": {},
   "outputs": [
    {
     "data": {
      "text/plain": [
       "environ{'__CFBundleIdentifier': 'com.apple.Terminal',\n",
       "        'TMPDIR': '/var/folders/c6/0q4dv4cn42g5_ddh8w5xsb3r0000gn/T/',\n",
       "        'XPC_FLAGS': '0x0',\n",
       "        'TERM': 'xterm-color',\n",
       "        'SSH_AUTH_SOCK': '/private/tmp/com.apple.launchd.8TWcTfPtKy/Listeners',\n",
       "        'XPC_SERVICE_NAME': '0',\n",
       "        'TERM_PROGRAM': 'Apple_Terminal',\n",
       "        'TERM_PROGRAM_VERSION': '447',\n",
       "        'TERM_SESSION_ID': '9C29B4F4-9D2A-41DB-8D99-7EC7E95585DC',\n",
       "        'SHELL': '/bin/zsh',\n",
       "        'HOME': '/Users/kunalarya',\n",
       "        'LOGNAME': 'kunalarya',\n",
       "        'USER': 'kunalarya',\n",
       "        'PATH': '/Users/kunalarya/anaconda3/bin:/Users/kunalarya/anaconda3/condabin:/Library/Frameworks/Python.framework/Versions/3.11/bin:/opt/homebrew/bin:/opt/homebrew/sbin:/usr/local/bin:/System/Cryptexes/App/usr/bin:/usr/bin:/bin:/usr/sbin:/sbin:/Applications/Postgres.app/Contents/Versions/latest/bin:/var/run/com.apple.security.cryptexd/codex.system/bootstrap/usr/local/bin:/var/run/com.apple.security.cryptexd/codex.system/bootstrap/usr/bin:/var/run/com.apple.security.cryptexd/codex.system/bootstrap/usr/appleinternal/bin',\n",
       "        'SHLVL': '1',\n",
       "        'PWD': '/Users/kunalarya',\n",
       "        'OLDPWD': '/Users/kunalarya',\n",
       "        'HOMEBREW_PREFIX': '/opt/homebrew',\n",
       "        'HOMEBREW_CELLAR': '/opt/homebrew/Cellar',\n",
       "        'HOMEBREW_REPOSITORY': '/opt/homebrew',\n",
       "        'MANPATH': '/opt/homebrew/share/man::',\n",
       "        'INFOPATH': '/opt/homebrew/share/info:',\n",
       "        'CONDA_EXE': '/Users/kunalarya/anaconda3/bin/conda',\n",
       "        '_CE_M': '',\n",
       "        '_CE_CONDA': '',\n",
       "        'CONDA_PYTHON_EXE': '/Users/kunalarya/anaconda3/bin/python',\n",
       "        'CONDA_SHLVL': '1',\n",
       "        'CONDA_PREFIX': '/Users/kunalarya/anaconda3',\n",
       "        'CONDA_DEFAULT_ENV': 'base',\n",
       "        'CONDA_PROMPT_MODIFIER': '(base) ',\n",
       "        'LC_CTYPE': 'UTF-8',\n",
       "        '_': '/Users/kunalarya/anaconda3/bin/jupyter',\n",
       "        'PYDEVD_USE_FRAME_EVAL': 'NO',\n",
       "        'JPY_PARENT_PID': '14873',\n",
       "        'CLICOLOR': '1',\n",
       "        'FORCE_COLOR': '1',\n",
       "        'CLICOLOR_FORCE': '1',\n",
       "        'PAGER': 'cat',\n",
       "        'GIT_PAGER': 'cat',\n",
       "        'MPLBACKEND': 'module://matplotlib_inline.backend_inline'}"
      ]
     },
     "execution_count": 6,
     "metadata": {},
     "output_type": "execute_result"
    }
   ],
   "source": [
    "os.environ"
   ]
  },
  {
   "cell_type": "code",
   "execution_count": 8,
   "id": "834e4e53",
   "metadata": {},
   "outputs": [
    {
     "data": {
      "text/plain": [
       "'/Users/kunalarya'"
      ]
     },
     "execution_count": 8,
     "metadata": {},
     "output_type": "execute_result"
    }
   ],
   "source": [
    "os.getcwd()"
   ]
  },
  {
   "cell_type": "code",
   "execution_count": 9,
   "id": "62a001ad",
   "metadata": {},
   "outputs": [
    {
     "ename": "FileNotFoundError",
     "evalue": "[Errno 2] No such file or directory: 't1'",
     "output_type": "error",
     "traceback": [
      "\u001b[0;31m---------------------------------------------------------------------------\u001b[0m",
      "\u001b[0;31mFileNotFoundError\u001b[0m                         Traceback (most recent call last)",
      "Cell \u001b[0;32mIn[9], line 1\u001b[0m\n\u001b[0;32m----> 1\u001b[0m \u001b[43mos\u001b[49m\u001b[38;5;241;43m.\u001b[39;49m\u001b[43mchdir\u001b[49m\u001b[43m(\u001b[49m\u001b[38;5;124;43m'\u001b[39;49m\u001b[38;5;124;43mt1\u001b[39;49m\u001b[38;5;124;43m'\u001b[39;49m\u001b[43m)\u001b[49m\n\u001b[1;32m      2\u001b[0m os\u001b[38;5;241m.\u001b[39mgetcwd()\n",
      "\u001b[0;31mFileNotFoundError\u001b[0m: [Errno 2] No such file or directory: 't1'"
     ]
    }
   ],
   "source": [
    "os.chdir('t1')\n",
    "os.getcwd()"
   ]
  },
  {
   "cell_type": "code",
   "execution_count": 1,
   "id": "69c2078e",
   "metadata": {},
   "outputs": [
    {
     "name": "stdout",
     "output_type": "stream",
     "text": [
      "Please enter a number between 0 and 10: q to exit1\n",
      "You entered: 1\n",
      "Please enter a number between 0 and 10: q to exitq\n"
     ]
    },
    {
     "ename": "SystemExit",
     "evalue": "",
     "output_type": "error",
     "traceback": [
      "An exception has occurred, use %tb to see the full traceback.\n",
      "\u001b[0;31mSystemExit\u001b[0m\n"
     ]
    },
    {
     "name": "stderr",
     "output_type": "stream",
     "text": [
      "/Users/kunalarya/anaconda3/lib/python3.10/site-packages/IPython/core/interactiveshell.py:3468: UserWarning: To exit: use 'exit', 'quit', or Ctrl-D.\n",
      "  warn(\"To exit: use 'exit', 'quit', or Ctrl-D.\", stacklevel=1)\n"
     ]
    }
   ],
   "source": [
    "import sys\n",
    "while True:\n",
    "    x = input('Please enter a number between 0 and 10: q to exit') \n",
    "    if x == 'q':\n",
    "         sys.exit()\n",
    "    else:\n",
    "        print('You entered:', x)"
   ]
  },
  {
   "cell_type": "code",
   "execution_count": 2,
   "id": "964da338",
   "metadata": {},
   "outputs": [
    {
     "data": {
      "text/plain": [
       "['/Users/kunalarya',\n",
       " '/Users/kunalarya/anaconda3/lib/python310.zip',\n",
       " '/Users/kunalarya/anaconda3/lib/python3.10',\n",
       " '/Users/kunalarya/anaconda3/lib/python3.10/lib-dynload',\n",
       " '',\n",
       " '/Users/kunalarya/anaconda3/lib/python3.10/site-packages',\n",
       " '/Users/kunalarya/anaconda3/lib/python3.10/site-packages/PyQt5_sip-12.11.0-py3.10-macosx-11.1-arm64.egg',\n",
       " '/Users/kunalarya/anaconda3/lib/python3.10/site-packages/aeosa',\n",
       " '/Users/kunalarya/anaconda3/lib/python3.10/site-packages/mpmath-1.2.1-py3.10.egg',\n",
       " '/Users/kunalarya/anaconda3/lib/python3.10/site-packages/pycurl-7.45.1-py3.10-macosx-11.1-arm64.egg']"
      ]
     },
     "execution_count": 2,
     "metadata": {},
     "output_type": "execute_result"
    }
   ],
   "source": [
    "import sys\n",
    "sys.path"
   ]
  },
  {
   "cell_type": "code",
   "execution_count": 3,
   "id": "9bf453eb",
   "metadata": {},
   "outputs": [],
   "source": [
    "import sys"
   ]
  },
  {
   "cell_type": "code",
   "execution_count": 4,
   "id": "69744e9f",
   "metadata": {},
   "outputs": [
    {
     "data": {
      "text/plain": [
       "sys.version_info(major=3, minor=10, micro=9, releaselevel='final', serial=0)"
      ]
     },
     "execution_count": 4,
     "metadata": {},
     "output_type": "execute_result"
    }
   ],
   "source": [
    "sys.version_info"
   ]
  },
  {
   "cell_type": "code",
   "execution_count": 5,
   "id": "1dbadda5",
   "metadata": {},
   "outputs": [
    {
     "data": {
      "text/plain": [
       "3"
      ]
     },
     "execution_count": 5,
     "metadata": {},
     "output_type": "execute_result"
    }
   ],
   "source": [
    "sys.version_info.major"
   ]
  },
  {
   "cell_type": "code",
   "execution_count": 6,
   "id": "8782e57f",
   "metadata": {},
   "outputs": [
    {
     "name": "stdout",
     "output_type": "stream",
     "text": [
      "Python is greater or equal than 3.5\n"
     ]
    }
   ],
   "source": [
    "if sys.version_info.major >=3:\n",
    "    if sys.version_info.minor >=5:\n",
    "        print('Python is greater or equal than 3.5')"
   ]
  },
  {
   "cell_type": "code",
   "execution_count": 7,
   "id": "129779d4",
   "metadata": {},
   "outputs": [
    {
     "data": {
      "text/plain": [
       "['/Users/kunalarya',\n",
       " '/Users/kunalarya/anaconda3/lib/python310.zip',\n",
       " '/Users/kunalarya/anaconda3/lib/python3.10',\n",
       " '/Users/kunalarya/anaconda3/lib/python3.10/lib-dynload',\n",
       " '',\n",
       " '/Users/kunalarya/anaconda3/lib/python3.10/site-packages',\n",
       " '/Users/kunalarya/anaconda3/lib/python3.10/site-packages/PyQt5_sip-12.11.0-py3.10-macosx-11.1-arm64.egg',\n",
       " '/Users/kunalarya/anaconda3/lib/python3.10/site-packages/aeosa',\n",
       " '/Users/kunalarya/anaconda3/lib/python3.10/site-packages/mpmath-1.2.1-py3.10.egg',\n",
       " '/Users/kunalarya/anaconda3/lib/python3.10/site-packages/pycurl-7.45.1-py3.10-macosx-11.1-arm64.egg']"
      ]
     },
     "execution_count": 7,
     "metadata": {},
     "output_type": "execute_result"
    }
   ],
   "source": [
    "sys.path"
   ]
  },
  {
   "cell_type": "code",
   "execution_count": 8,
   "id": "56fee3bf",
   "metadata": {},
   "outputs": [
    {
     "data": {
      "text/plain": [
       "'/Users/kunalarya/anaconda3/bin/python'"
      ]
     },
     "execution_count": 8,
     "metadata": {},
     "output_type": "execute_result"
    }
   ],
   "source": [
    "sys.executable"
   ]
  },
  {
   "cell_type": "code",
   "execution_count": null,
   "id": "40c6e6c3",
   "metadata": {},
   "outputs": [],
   "source": []
  }
 ],
 "metadata": {
  "kernelspec": {
   "display_name": "Python 3 (ipykernel)",
   "language": "python",
   "name": "python3"
  },
  "language_info": {
   "codemirror_mode": {
    "name": "ipython",
    "version": 3
   },
   "file_extension": ".py",
   "mimetype": "text/x-python",
   "name": "python",
   "nbconvert_exporter": "python",
   "pygments_lexer": "ipython3",
   "version": "3.10.9"
  }
 },
 "nbformat": 4,
 "nbformat_minor": 5
}

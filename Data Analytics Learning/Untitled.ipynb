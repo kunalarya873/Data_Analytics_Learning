{
 "cells": [
  {
   "cell_type": "code",
   "execution_count": 1,
   "id": "ae6de23e",
   "metadata": {},
   "outputs": [
    {
     "data": {
      "text/plain": [
       "0.5"
      ]
     },
     "execution_count": 1,
     "metadata": {},
     "output_type": "execute_result"
    }
   ],
   "source": [
    "1/2"
   ]
  },
  {
   "cell_type": "code",
   "execution_count": 2,
   "id": "2a42bbf7",
   "metadata": {},
   "outputs": [
    {
     "data": {
      "text/plain": [
       "0"
      ]
     },
     "execution_count": 2,
     "metadata": {},
     "output_type": "execute_result"
    }
   ],
   "source": [
    "1//2"
   ]
  },
  {
   "cell_type": "code",
   "execution_count": 3,
   "id": "fc0e017b",
   "metadata": {},
   "outputs": [
    {
     "data": {
      "text/plain": [
       "(3+0j)"
      ]
     },
     "execution_count": 3,
     "metadata": {},
     "output_type": "execute_result"
    }
   ],
   "source": [
    "1+3j+2-3j"
   ]
  },
  {
   "cell_type": "code",
   "execution_count": 4,
   "id": "6290bd78",
   "metadata": {},
   "outputs": [
    {
     "ename": "NameError",
     "evalue": "name 'MAX' is not defined",
     "output_type": "error",
     "traceback": [
      "\u001b[0;31m---------------------------------------------------------------------------\u001b[0m",
      "\u001b[0;31mNameError\u001b[0m                                 Traceback (most recent call last)",
      "Cell \u001b[0;32mIn[4], line 1\u001b[0m\n\u001b[0;32m----> 1\u001b[0m \u001b[43mMAX\u001b[49m(\u001b[38;5;28mint\u001b[39m)\n",
      "\u001b[0;31mNameError\u001b[0m: name 'MAX' is not defined"
     ]
    }
   ],
   "source": [
    "MAX(int)"
   ]
  },
  {
   "cell_type": "code",
   "execution_count": null,
   "id": "8c9b5c4a",
   "metadata": {},
   "outputs": [],
   "source": []
  },
  {
   "cell_type": "code",
   "execution_count": null,
   "id": "262b1c59",
   "metadata": {},
   "outputs": [],
   "source": [
    "1.0000000000000000003 + 1.0000000000000000003"
   ]
  },
  {
   "cell_type": "code",
   "execution_count": null,
   "id": "2d17314f",
   "metadata": {},
   "outputs": [],
   "source": [
    "1+2"
   ]
  },
  {
   "cell_type": "code",
   "execution_count": null,
   "id": "f9387a5c",
   "metadata": {},
   "outputs": [],
   "source": [
    "1.0+2"
   ]
  },
  {
   "cell_type": "code",
   "execution_count": null,
   "id": "a928015d",
   "metadata": {},
   "outputs": [],
   "source": [
    "1+2.0"
   ]
  },
  {
   "cell_type": "code",
   "execution_count": null,
   "id": "a3d3da82",
   "metadata": {},
   "outputs": [],
   "source": [
    "10%3"
   ]
  },
  {
   "cell_type": "code",
   "execution_count": null,
   "id": "a0eca915",
   "metadata": {},
   "outputs": [],
   "source": [
    "10.0%3.0"
   ]
  },
  {
   "cell_type": "code",
   "execution_count": null,
   "id": "197cdd39",
   "metadata": {},
   "outputs": [],
   "source": [
    "int(10.1+0.8)"
   ]
  },
  {
   "cell_type": "code",
   "execution_count": null,
   "id": "7a5a2c0a",
   "metadata": {},
   "outputs": [],
   "source": [
    "abs('-1')"
   ]
  },
  {
   "cell_type": "code",
   "execution_count": null,
   "id": "ec03fdf9",
   "metadata": {},
   "outputs": [],
   "source": [
    "3+2*3/4/10%3"
   ]
  },
  {
   "cell_type": "code",
   "execution_count": null,
   "id": "19a05f79",
   "metadata": {},
   "outputs": [],
   "source": [
    "5 ** 2 ** -4"
   ]
  },
  {
   "cell_type": "code",
   "execution_count": null,
   "id": "ee503223",
   "metadata": {},
   "outputs": [],
   "source": [
    "5 % 3 * - 2 - 4.5 / 9 * 2 + 2"
   ]
  },
  {
   "cell_type": "code",
   "execution_count": null,
   "id": "05e62d38",
   "metadata": {},
   "outputs": [],
   "source": [
    "print('There are', end= '#', flush = True)\n",
    "print('many ways')"
   ]
  },
  {
   "cell_type": "code",
   "execution_count": null,
   "id": "3f1ea0cc",
   "metadata": {},
   "outputs": [],
   "source": [
    "a= 'How are y\\'all doing?'"
   ]
  },
  {
   "cell_type": "code",
   "execution_count": null,
   "id": "744c22c5",
   "metadata": {},
   "outputs": [],
   "source": [
    "print(a)"
   ]
  },
  {
   "cell_type": "code",
   "execution_count": null,
   "id": "4ec1e3a8",
   "metadata": {},
   "outputs": [],
   "source": [
    "x= 'Kunal'\n",
    "y= 'Arya'"
   ]
  },
  {
   "cell_type": "code",
   "execution_count": null,
   "id": "d8235c1c",
   "metadata": {},
   "outputs": [],
   "source": [
    "print(x+' '+y)"
   ]
  },
  {
   "cell_type": "code",
   "execution_count": null,
   "id": "7dd021e6",
   "metadata": {},
   "outputs": [],
   "source": [
    "my_string='akimbo'\n",
    "print(my_string[::-1])\n"
   ]
  },
  {
   "cell_type": "code",
   "execution_count": null,
   "id": "292d61dd",
   "metadata": {},
   "outputs": [],
   "source": [
    "x = 'Hello, Python'\n",
    "print(x.find('l'))"
   ]
  },
  {
   "cell_type": "code",
   "execution_count": null,
   "id": "d1e2825c",
   "metadata": {},
   "outputs": [],
   "source": [
    "print('Hello\\nPython')\n",
    "print(r'Hello\\nPython')"
   ]
  },
  {
   "cell_type": "code",
   "execution_count": null,
   "id": "9e8bc447",
   "metadata": {},
   "outputs": [],
   "source": [
    "print('hello', 'python')\n",
    "print('hello' 'python')"
   ]
  },
  {
   "cell_type": "code",
   "execution_count": null,
   "id": "ae07405c",
   "metadata": {},
   "outputs": [],
   "source": [
    "x= 'axyz'\n",
    "z= x[0] + x[len(x)-1]\n",
    "print(z)"
   ]
  },
  {
   "cell_type": "code",
   "execution_count": null,
   "id": "45428446",
   "metadata": {},
   "outputs": [],
   "source": [
    "print(\"Give me two variable first name and age.\")\n",
    "x= input(str)\n",
    "y= input(int)\n",
    "print('Hello '+x+'!\\n' \"You are \" +y+\" years old\")"
   ]
  },
  {
   "cell_type": "code",
   "execution_count": null,
   "id": "e908e3a9",
   "metadata": {},
   "outputs": [],
   "source": [
    "print(\"Father: 'How are you?' \\nSon: 'I am fine. However, my friend is not doing too well'\")"
   ]
  },
  {
   "cell_type": "code",
   "execution_count": null,
   "id": "4ad47e4a",
   "metadata": {},
   "outputs": [],
   "source": [
    "x=input('Please give me a string')\n",
    "y=x[0].upper()+ x[1:]\n",
    "print(y)"
   ]
  },
  {
   "cell_type": "code",
   "execution_count": 5,
   "id": "a73c1e29",
   "metadata": {},
   "outputs": [
    {
     "name": "stdout",
     "output_type": "stream",
     "text": [
      "STRINGkuNal\n",
      "kuNalNNNNNNNNNNNNNNNNNNNNNNNNNNNNNNNNNNNNNNNNNNNNNNNNNNNNNNNNNNNNNNNNNNNNNNNNNNNNNNNNNNNNNNNNNNNNNNNNNNNN\n"
     ]
    }
   ],
   "source": [
    "x= input('STRING')\n",
    "print(x+ 100*x[2])"
   ]
  },
  {
   "cell_type": "code",
   "execution_count": 6,
   "id": "f0d2d6ec",
   "metadata": {},
   "outputs": [
    {
     "data": {
      "text/plain": [
       "False"
      ]
     },
     "execution_count": 6,
     "metadata": {},
     "output_type": "execute_result"
    }
   ],
   "source": [
    "   x = 'abc123' \n",
    "   y = 'abc 123'\n",
    "   z = '3.14'\n",
    "   x.isalnum()\n",
    "   y.isalnum()\n",
    "   z.isalnum()"
   ]
  },
  {
   "cell_type": "code",
   "execution_count": null,
   "id": "cb663805",
   "metadata": {},
   "outputs": [],
   "source": []
  },
  {
   "cell_type": "code",
   "execution_count": null,
   "id": "9536fa55",
   "metadata": {},
   "outputs": [],
   "source": []
  }
 ],
 "metadata": {
  "kernelspec": {
   "display_name": "Python 3 (ipykernel)",
   "language": "python",
   "name": "python3"
  },
  "language_info": {
   "codemirror_mode": {
    "name": "ipython",
    "version": 3
   },
   "file_extension": ".py",
   "mimetype": "text/x-python",
   "name": "python",
   "nbconvert_exporter": "python",
   "pygments_lexer": "ipython3",
   "version": "3.10.9"
  }
 },
 "nbformat": 4,
 "nbformat_minor": 5
}

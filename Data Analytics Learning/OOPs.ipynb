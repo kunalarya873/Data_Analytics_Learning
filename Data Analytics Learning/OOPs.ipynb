{
 "cells": [
  {
   "cell_type": "code",
   "execution_count": 1,
   "id": "b0d6e64d",
   "metadata": {},
   "outputs": [],
   "source": [
    "class Car:\n",
    "    pass"
   ]
  },
  {
   "cell_type": "code",
   "execution_count": 3,
   "id": "4d00ef0a",
   "metadata": {},
   "outputs": [],
   "source": [
    "car1 = Car()"
   ]
  },
  {
   "cell_type": "code",
   "execution_count": 4,
   "id": "3152c97a",
   "metadata": {},
   "outputs": [
    {
     "data": {
      "text/plain": [
       "__main__.Car"
      ]
     },
     "execution_count": 4,
     "metadata": {},
     "output_type": "execute_result"
    }
   ],
   "source": [
    "type(car1)"
   ]
  },
  {
   "cell_type": "code",
   "execution_count": 5,
   "id": "70a57195",
   "metadata": {},
   "outputs": [],
   "source": [
    "car2= Car()"
   ]
  },
  {
   "cell_type": "code",
   "execution_count": 6,
   "id": "0a65bfcd",
   "metadata": {},
   "outputs": [
    {
     "data": {
      "text/plain": [
       "False"
      ]
     },
     "execution_count": 6,
     "metadata": {},
     "output_type": "execute_result"
    }
   ],
   "source": [
    "car1 is car2"
   ]
  },
  {
   "cell_type": "code",
   "execution_count": 7,
   "id": "7e53a35d",
   "metadata": {},
   "outputs": [
    {
     "data": {
      "text/plain": [
       "False"
      ]
     },
     "execution_count": 7,
     "metadata": {},
     "output_type": "execute_result"
    }
   ],
   "source": [
    "car1== car2"
   ]
  },
  {
   "cell_type": "code",
   "execution_count": 8,
   "id": "c3e43c5f",
   "metadata": {},
   "outputs": [
    {
     "name": "stdout",
     "output_type": "stream",
     "text": [
      "4565893904\n"
     ]
    }
   ],
   "source": [
    "print(id(car1))"
   ]
  },
  {
   "cell_type": "code",
   "execution_count": 9,
   "id": "40b93226",
   "metadata": {},
   "outputs": [
    {
     "name": "stdout",
     "output_type": "stream",
     "text": [
      "4565899568\n"
     ]
    }
   ],
   "source": [
    "print(id(car2))"
   ]
  },
  {
   "cell_type": "code",
   "execution_count": 10,
   "id": "72233d2c",
   "metadata": {},
   "outputs": [],
   "source": [
    "setattr(car1, 'year', 1990)"
   ]
  },
  {
   "cell_type": "code",
   "execution_count": 11,
   "id": "1113a505",
   "metadata": {},
   "outputs": [],
   "source": [
    "car1.year = 1990"
   ]
  },
  {
   "cell_type": "code",
   "execution_count": 12,
   "id": "0fb944a8",
   "metadata": {},
   "outputs": [
    {
     "ename": "AttributeError",
     "evalue": "'Car' object has no attribute 'year'",
     "output_type": "error",
     "traceback": [
      "\u001b[0;31m---------------------------------------------------------------------------\u001b[0m",
      "\u001b[0;31mAttributeError\u001b[0m                            Traceback (most recent call last)",
      "Cell \u001b[0;32mIn[12], line 1\u001b[0m\n\u001b[0;32m----> 1\u001b[0m \u001b[43mcar2\u001b[49m\u001b[38;5;241;43m.\u001b[39;49m\u001b[43myear\u001b[49m\n",
      "\u001b[0;31mAttributeError\u001b[0m: 'Car' object has no attribute 'year'"
     ]
    }
   ],
   "source": [
    "car2.year"
   ]
  },
  {
   "cell_type": "code",
   "execution_count": 13,
   "id": "d088ecf7",
   "metadata": {},
   "outputs": [],
   "source": [
    "car2.year= 2010"
   ]
  },
  {
   "cell_type": "code",
   "execution_count": 14,
   "id": "44e79eeb",
   "metadata": {},
   "outputs": [],
   "source": [
    "car1.make = 'Ford'"
   ]
  },
  {
   "cell_type": "code",
   "execution_count": 15,
   "id": "63ada029",
   "metadata": {},
   "outputs": [],
   "source": [
    "car2.make = 'Honda'"
   ]
  },
  {
   "cell_type": "code",
   "execution_count": 16,
   "id": "8d931ac6",
   "metadata": {},
   "outputs": [],
   "source": [
    "my_attr = 'year'"
   ]
  },
  {
   "cell_type": "code",
   "execution_count": 18,
   "id": "32031068",
   "metadata": {},
   "outputs": [],
   "source": [
    "setattr(car1, my_attr, 1991)"
   ]
  },
  {
   "cell_type": "code",
   "execution_count": 19,
   "id": "b64a0a8c",
   "metadata": {},
   "outputs": [
    {
     "data": {
      "text/plain": [
       "1991"
      ]
     },
     "execution_count": 19,
     "metadata": {},
     "output_type": "execute_result"
    }
   ],
   "source": [
    "car1.year"
   ]
  },
  {
   "cell_type": "code",
   "execution_count": 22,
   "id": "1970e2d0",
   "metadata": {},
   "outputs": [],
   "source": [
    "car1.acceleration =2.1\n",
    "car1.country = ('USA', 'Germany')\n",
    "car1.drive_options = ['FWD', 'RWD', '4x4', 'AWD'] \n",
    "car1.fuel_options= {'gasoline', 'CNG', 'Electric'} \n",
    "car1.suppliers = {'wheels': 'Acme Wheel Company', 'light bulbs': 'Brightness Light Bulbs Inc'}"
   ]
  },
  {
   "cell_type": "code",
   "execution_count": 23,
   "id": "e9477a8d",
   "metadata": {},
   "outputs": [],
   "source": [
    "def drive():\n",
    "       print('Driving the car')"
   ]
  },
  {
   "cell_type": "code",
   "execution_count": 25,
   "id": "47015de0",
   "metadata": {},
   "outputs": [],
   "source": [
    "car1.drive_away= drive"
   ]
  },
  {
   "cell_type": "code",
   "execution_count": 26,
   "id": "73603b35",
   "metadata": {},
   "outputs": [],
   "source": [
    "class Manufacturer:\n",
    "    pass"
   ]
  },
  {
   "cell_type": "code",
   "execution_count": 29,
   "id": "c9c6c3cc",
   "metadata": {},
   "outputs": [],
   "source": [
    "manuf1 = Manufacturer ()"
   ]
  },
  {
   "cell_type": "code",
   "execution_count": 31,
   "id": "8822831f",
   "metadata": {},
   "outputs": [],
   "source": [
    "  manuf1.name      = 'Ford'\n"
   ]
  },
  {
   "cell_type": "code",
   "execution_count": 32,
   "id": "d8122d03",
   "metadata": {},
   "outputs": [],
   "source": [
    "car1.manufacturer=manuf1\n"
   ]
  },
  {
   "cell_type": "code",
   "execution_count": 33,
   "id": "be758dc9",
   "metadata": {},
   "outputs": [
    {
     "data": {
      "text/plain": [
       "<__main__.Manufacturer at 0x107f15c00>"
      ]
     },
     "execution_count": 33,
     "metadata": {},
     "output_type": "execute_result"
    }
   ],
   "source": [
    "car1.manufacturer"
   ]
  },
  {
   "cell_type": "code",
   "execution_count": 35,
   "id": "bdd69380",
   "metadata": {},
   "outputs": [
    {
     "data": {
      "text/plain": [
       "'Ford'"
      ]
     },
     "execution_count": 35,
     "metadata": {},
     "output_type": "execute_result"
    }
   ],
   "source": [
    "car1.manufacturer.name"
   ]
  },
  {
   "cell_type": "code",
   "execution_count": 37,
   "id": "f0eeb82d",
   "metadata": {},
   "outputs": [
    {
     "data": {
      "text/plain": [
       "'Ford'"
      ]
     },
     "execution_count": 37,
     "metadata": {},
     "output_type": "execute_result"
    }
   ],
   "source": [
    "man1= getattr(car1, 'manufacturer')\n",
    "getattr(man1, 'name')"
   ]
  },
  {
   "cell_type": "code",
   "execution_count": 38,
   "id": "086b8a89",
   "metadata": {},
   "outputs": [
    {
     "data": {
      "text/plain": [
       "{'year': 1991,\n",
       " 'make': 'Ford',\n",
       " 'acceleration': 2.1,\n",
       " 'country': ('USA', 'Germany'),\n",
       " 'drive_options': ['FWD', 'RWD', '4x4', 'AWD'],\n",
       " 'fuel_options': {'CNG', 'Electric', 'gasoline'},\n",
       " 'suppliers': {'wheels': 'Acme Wheel Company',\n",
       "  'light bulbs': 'Brightness Light Bulbs Inc'},\n",
       " 'drive_away': <function __main__.drive()>,\n",
       " 'manufacturer': <__main__.Manufacturer at 0x107f15c00>}"
      ]
     },
     "execution_count": 38,
     "metadata": {},
     "output_type": "execute_result"
    }
   ],
   "source": [
    "car1.__dict__"
   ]
  },
  {
   "cell_type": "code",
   "execution_count": 39,
   "id": "f363943d",
   "metadata": {},
   "outputs": [
    {
     "data": {
      "text/plain": [
       "{'name': 'Ford'}"
      ]
     },
     "execution_count": 39,
     "metadata": {},
     "output_type": "execute_result"
    }
   ],
   "source": [
    "man1.__dict__"
   ]
  },
  {
   "cell_type": "code",
   "execution_count": 40,
   "id": "6761471f",
   "metadata": {},
   "outputs": [
    {
     "data": {
      "text/plain": [
       "{'year': 2010, 'make': 'Honda'}"
      ]
     },
     "execution_count": 40,
     "metadata": {},
     "output_type": "execute_result"
    }
   ],
   "source": [
    "car2.__dict__"
   ]
  },
  {
   "cell_type": "code",
   "execution_count": 41,
   "id": "2d934a0f",
   "metadata": {},
   "outputs": [
    {
     "data": {
      "text/plain": [
       "['__class__',\n",
       " '__delattr__',\n",
       " '__dict__',\n",
       " '__dir__',\n",
       " '__doc__',\n",
       " '__eq__',\n",
       " '__format__',\n",
       " '__ge__',\n",
       " '__getattribute__',\n",
       " '__gt__',\n",
       " '__hash__',\n",
       " '__init__',\n",
       " '__init_subclass__',\n",
       " '__le__',\n",
       " '__lt__',\n",
       " '__module__',\n",
       " '__ne__',\n",
       " '__new__',\n",
       " '__reduce__',\n",
       " '__reduce_ex__',\n",
       " '__repr__',\n",
       " '__setattr__',\n",
       " '__sizeof__',\n",
       " '__str__',\n",
       " '__subclasshook__',\n",
       " '__weakref__',\n",
       " 'acceleration',\n",
       " 'country',\n",
       " 'drive_away',\n",
       " 'drive_options',\n",
       " 'fuel_options',\n",
       " 'make',\n",
       " 'manufacturer',\n",
       " 'suppliers',\n",
       " 'year']"
      ]
     },
     "execution_count": 41,
     "metadata": {},
     "output_type": "execute_result"
    }
   ],
   "source": [
    "dir(car1)"
   ]
  },
  {
   "cell_type": "code",
   "execution_count": 44,
   "id": "d405cb60",
   "metadata": {},
   "outputs": [],
   "source": [
    " class Car:\n",
    "            def __init__(self, year): \n",
    "                print (id (self)) \n",
    "                self.year=year"
   ]
  },
  {
   "cell_type": "code",
   "execution_count": 48,
   "id": "f240f62a",
   "metadata": {},
   "outputs": [
    {
     "name": "stdout",
     "output_type": "stream",
     "text": [
      "4566092624\n"
     ]
    }
   ],
   "source": [
    "car1= Car (1990) \n",
    "print(id(car1))"
   ]
  },
  {
   "cell_type": "code",
   "execution_count": 49,
   "id": "f631ec08",
   "metadata": {},
   "outputs": [],
   "source": [
    "class Car:\n",
    "       def __init__(self, year, make, model):\n",
    "           self.year= year\n",
    "           self.make= make\n",
    "           self.model = model"
   ]
  },
  {
   "cell_type": "code",
   "execution_count": 51,
   "id": "b567b413",
   "metadata": {},
   "outputs": [],
   "source": [
    "car1= Car(1990,'Ford', 'Bronco')"
   ]
  },
  {
   "cell_type": "code",
   "execution_count": 52,
   "id": "86a57da2",
   "metadata": {},
   "outputs": [],
   "source": [
    "car2= Car(2010,'Honda', 'Accord')"
   ]
  },
  {
   "cell_type": "code",
   "execution_count": 53,
   "id": "3266b993",
   "metadata": {},
   "outputs": [
    {
     "data": {
      "text/plain": [
       "{'year': 1990, 'make': 'Ford', 'model': 'Bronco'}"
      ]
     },
     "execution_count": 53,
     "metadata": {},
     "output_type": "execute_result"
    }
   ],
   "source": [
    "car1.__dict__"
   ]
  },
  {
   "cell_type": "code",
   "execution_count": 54,
   "id": "4224d38b",
   "metadata": {},
   "outputs": [
    {
     "data": {
      "text/plain": [
       "{'year': 2010, 'make': 'Honda', 'model': 'Accord'}"
      ]
     },
     "execution_count": 54,
     "metadata": {},
     "output_type": "execute_result"
    }
   ],
   "source": [
    "car2.__dict__"
   ]
  },
  {
   "cell_type": "code",
   "execution_count": 55,
   "id": "00f2c9ac",
   "metadata": {},
   "outputs": [],
   "source": [
    "def drive():\n",
    "    print('Driving a Car')\n",
    "    "
   ]
  },
  {
   "cell_type": "code",
   "execution_count": 56,
   "id": "cca62694",
   "metadata": {},
   "outputs": [],
   "source": [
    "car1.drive_away = drive"
   ]
  },
  {
   "cell_type": "code",
   "execution_count": 58,
   "id": "064dea68",
   "metadata": {},
   "outputs": [
    {
     "data": {
      "text/plain": [
       "<function __main__.drive()>"
      ]
     },
     "execution_count": 58,
     "metadata": {},
     "output_type": "execute_result"
    }
   ],
   "source": [
    "car1.drive_away"
   ]
  },
  {
   "cell_type": "code",
   "execution_count": 66,
   "id": "c4f15fe2",
   "metadata": {},
   "outputs": [],
   "source": [
    "class Car:\n",
    "    def __init__(self, year, mpg):\n",
    "        self.year= year \n",
    "        self.mpg = mpg\n",
    "    def kmpl(self):\n",
    "        return self.mpg*1.6/3.8"
   ]
  },
  {
   "cell_type": "code",
   "execution_count": 67,
   "id": "e2ebd7bc",
   "metadata": {},
   "outputs": [],
   "source": [
    "car1 = Car(1990, 25)"
   ]
  },
  {
   "cell_type": "code",
   "execution_count": 68,
   "id": "76c5cf73",
   "metadata": {},
   "outputs": [
    {
     "data": {
      "text/plain": [
       "25"
      ]
     },
     "execution_count": 68,
     "metadata": {},
     "output_type": "execute_result"
    }
   ],
   "source": [
    "car1.mpg"
   ]
  },
  {
   "cell_type": "code",
   "execution_count": 70,
   "id": "fc333395",
   "metadata": {},
   "outputs": [
    {
     "data": {
      "text/plain": [
       "10.526315789473685"
      ]
     },
     "execution_count": 70,
     "metadata": {},
     "output_type": "execute_result"
    }
   ],
   "source": [
    "car1.kmpl()"
   ]
  },
  {
   "cell_type": "code",
   "execution_count": 71,
   "id": "881c03cc",
   "metadata": {},
   "outputs": [],
   "source": [
    "class car:\n",
    "    n=1\n"
   ]
  },
  {
   "cell_type": "code",
   "execution_count": 72,
   "id": "bd9102f5",
   "metadata": {},
   "outputs": [
    {
     "data": {
      "text/plain": [
       "mappingproxy({'__module__': '__main__',\n",
       "              'n': 1,\n",
       "              '__dict__': <attribute '__dict__' of 'car' objects>,\n",
       "              '__weakref__': <attribute '__weakref__' of 'car' objects>,\n",
       "              '__doc__': None})"
      ]
     },
     "execution_count": 72,
     "metadata": {},
     "output_type": "execute_result"
    }
   ],
   "source": [
    "car.__dict__"
   ]
  },
  {
   "cell_type": "code",
   "execution_count": 42,
   "id": "ab0bf8d1",
   "metadata": {},
   "outputs": [],
   "source": [
    "class Car:\n",
    "    def __init__(self, y):\n",
    "        self.__year=y\n",
    "        \n",
    "    def get_year(self):\n",
    "        print('Inside the getter for year') \n",
    "        return self.__year\n",
    "    \n",
    "    def set_year(self, y):\n",
    "        print('Inside the seeter for year')\n",
    "        self.__year = y \n",
    "    \n",
    "    def del_year(self):\n",
    "        print('Inside the Deleter for year')\n",
    "        del self.__year\n",
    "    \n",
    "    year=property(fget=get_year, fset= set_year, fdel= del_year)"
   ]
  },
  {
   "cell_type": "code",
   "execution_count": 43,
   "id": "537ed747",
   "metadata": {},
   "outputs": [],
   "source": [
    "car1 = Car(1990)"
   ]
  },
  {
   "cell_type": "code",
   "execution_count": 44,
   "id": "29e4aa48",
   "metadata": {},
   "outputs": [
    {
     "name": "stdout",
     "output_type": "stream",
     "text": [
      "Inside the getter for year\n",
      "1990\n"
     ]
    }
   ],
   "source": [
    "print(car1.year)"
   ]
  },
  {
   "cell_type": "code",
   "execution_count": 45,
   "id": "3ad20815",
   "metadata": {},
   "outputs": [
    {
     "name": "stdout",
     "output_type": "stream",
     "text": [
      "Inside the seeter for year\n"
     ]
    }
   ],
   "source": [
    "car1.year = 2999"
   ]
  },
  {
   "cell_type": "code",
   "execution_count": 46,
   "id": "9db96488",
   "metadata": {},
   "outputs": [
    {
     "name": "stdout",
     "output_type": "stream",
     "text": [
      "Inside the Deleter for year\n"
     ]
    }
   ],
   "source": [
    "del car1.year"
   ]
  },
  {
   "cell_type": "code",
   "execution_count": null,
   "id": "f0daa8dc",
   "metadata": {},
   "outputs": [],
   "source": [
    "@year.setter\n",
    "def year(self, y): \n",
    "         if isinstance (y, int):\n",
    "        if (y >= 1940 and y <= 2010):\n",
    "            self. year = y\n",
    "        else: raise ValueError('Year must be between 1940 and 2010') \n",
    "    else: raise AttributeError('Year must be an integer')"
   ]
  },
  {
   "cell_type": "code",
   "execution_count": null,
   "id": "86cbacf0",
   "metadata": {},
   "outputs": [],
   "source": [
    "Inheritance"
   ]
  },
  {
   "cell_type": "code",
   "execution_count": 48,
   "id": "6cd0bb94",
   "metadata": {},
   "outputs": [],
   "source": [
    "class Car:\n",
    "    pass\n",
    "class GasCar(Car):\n",
    "    pass"
   ]
  },
  {
   "cell_type": "code",
   "execution_count": 49,
   "id": "ce7ffcb8",
   "metadata": {},
   "outputs": [],
   "source": [
    "gcar1 = GasCar()\n",
    "car1 = Car()"
   ]
  },
  {
   "cell_type": "code",
   "execution_count": 50,
   "id": "b49aea75",
   "metadata": {},
   "outputs": [
    {
     "data": {
      "text/plain": [
       "__main__.GasCar"
      ]
     },
     "execution_count": 50,
     "metadata": {},
     "output_type": "execute_result"
    }
   ],
   "source": [
    "type(gcar1)"
   ]
  },
  {
   "cell_type": "code",
   "execution_count": 51,
   "id": "50a98d73",
   "metadata": {},
   "outputs": [
    {
     "data": {
      "text/plain": [
       "__main__.GasCar"
      ]
     },
     "execution_count": 51,
     "metadata": {},
     "output_type": "execute_result"
    }
   ],
   "source": [
    "type(gcar1)"
   ]
  },
  {
   "cell_type": "code",
   "execution_count": 52,
   "id": "afd386af",
   "metadata": {},
   "outputs": [
    {
     "data": {
      "text/plain": [
       "True"
      ]
     },
     "execution_count": 52,
     "metadata": {},
     "output_type": "execute_result"
    }
   ],
   "source": [
    "isinstance(gcar1, GasCar)"
   ]
  },
  {
   "cell_type": "code",
   "execution_count": 54,
   "id": "c8bda2dc",
   "metadata": {},
   "outputs": [
    {
     "data": {
      "text/plain": [
       "True"
      ]
     },
     "execution_count": 54,
     "metadata": {},
     "output_type": "execute_result"
    }
   ],
   "source": [
    "isinstance(gcar1, Car)"
   ]
  },
  {
   "cell_type": "code",
   "execution_count": 4,
   "id": "b286c253",
   "metadata": {},
   "outputs": [],
   "source": [
    " class Car:\n",
    "    def __init__(self, year, make, model):\n",
    "        print('Inside Car dunder init')\n",
    "        self.year = year \n",
    "        self.make = make\n",
    "        self.model = model"
   ]
  },
  {
   "cell_type": "code",
   "execution_count": 5,
   "id": "5864838c",
   "metadata": {},
   "outputs": [],
   "source": [
    "class GasCar(Car):\n",
    "    pass"
   ]
  },
  {
   "cell_type": "code",
   "execution_count": 6,
   "id": "2d84405a",
   "metadata": {},
   "outputs": [
    {
     "name": "stdout",
     "output_type": "stream",
     "text": [
      "Inside Car dunder init\n"
     ]
    },
    {
     "data": {
      "text/plain": [
       "{'year': 1990, 'make': 'Ford', 'model': 'Bronco'}"
      ]
     },
     "execution_count": 6,
     "metadata": {},
     "output_type": "execute_result"
    }
   ],
   "source": [
    "gcar1 = GasCar(1990,'Ford', 'Bronco')\n",
    "gcar1.__dict__"
   ]
  },
  {
   "cell_type": "code",
   "execution_count": 9,
   "id": "659b9934",
   "metadata": {},
   "outputs": [
    {
     "name": "stdout",
     "output_type": "stream",
     "text": [
      "20\n"
     ]
    }
   ],
   "source": [
    "def multiply_func(x):\n",
    "    x*=1\n",
    "    return value*2\n",
    "value =10\n",
    "value = multiply_func(value)\n",
    "print(value)"
   ]
  },
  {
   "cell_type": "code",
   "execution_count": 3,
   "id": "82a322de",
   "metadata": {},
   "outputs": [],
   "source": [
    "class Car: \n",
    "       pass \n",
    "class GasCar (Car):\n",
    "       pass \n",
    "class ECar (Car):\n",
    "       pass\n",
    "class HybridCar (GasCar, ECar): \n",
    "       pass"
   ]
  },
  {
   "cell_type": "code",
   "execution_count": 4,
   "id": "6b1607df",
   "metadata": {},
   "outputs": [],
   "source": [
    "hcar1=HybridCar()"
   ]
  },
  {
   "cell_type": "code",
   "execution_count": 9,
   "id": "ae730fce",
   "metadata": {},
   "outputs": [],
   "source": [
    "class Circle:\n",
    "    def __init__(self, radius): \n",
    "        self.radius= radius\n",
    "    @property\n",
    "    def get_area(self):\n",
    "         return 3.14*self.radius ** 2\n",
    "    @property\n",
    "    def get_circum(self):\n",
    "          return 2*3.14*self.radius"
   ]
  },
  {
   "cell_type": "code",
   "execution_count": 10,
   "id": "ecfcf160",
   "metadata": {},
   "outputs": [
    {
     "name": "stdout",
     "output_type": "stream",
     "text": [
      "21.2264\n"
     ]
    }
   ],
   "source": [
    "c1 = Circle(2.6)\n",
    "print(c1.get_area)"
   ]
  },
  {
   "cell_type": "code",
   "execution_count": 38,
   "id": "45ba78b9",
   "metadata": {},
   "outputs": [],
   "source": [
    "class Generate:\n",
    "    def __init__(self, firstName, lastName):\n",
    "        self.firstName= firstName\n",
    "        self.lastName= lastName\n",
    "    def fullname(self):\n",
    "        return (self.firstName+\" \"+ self.lastName).title()\n",
    "    @property\n",
    "    def email(self):\n",
    "        return (self.firstName.lower()+self.lastName.lower()+'@acme.com')\n",
    "\n",
    "        "
   ]
  },
  {
   "cell_type": "code",
   "execution_count": 39,
   "id": "43022d93",
   "metadata": {},
   "outputs": [],
   "source": [
    "d1=Generate(firstName='Kunal', lastName= 'Arya')"
   ]
  },
  {
   "cell_type": "code",
   "execution_count": 40,
   "id": "03dcc0de",
   "metadata": {},
   "outputs": [
    {
     "data": {
      "text/plain": [
       "'kunalarya@acme.com'"
      ]
     },
     "execution_count": 40,
     "metadata": {},
     "output_type": "execute_result"
    }
   ],
   "source": [
    "d1.email"
   ]
  },
  {
   "cell_type": "code",
   "execution_count": 5,
   "id": "902e4474",
   "metadata": {},
   "outputs": [],
   "source": [
    "car1_attr = {\"year\": 1990, \"make\":\"Ford\", \"model\":\"Bronco\"}\n",
    "car2_attr ={\"year\": 2010, \"make\": \"Chevy\", \"model\":\"Blazer\", \"drive\":\"RWD\"} \n",
    "car3_attr= {\"year\": 2020, \"make\":\"Tesla\", \"model\": \"Model3\", \"drive\":\"AWD\", \"range\": 300}"
   ]
  },
  {
   "cell_type": "code",
   "execution_count": 6,
   "id": "25821f49",
   "metadata": {},
   "outputs": [],
   "source": [
    "class Car:\n",
    "    def __init__(self, attr_dict): \n",
    "        for k, v in attr_dict.items(): \n",
    "              setattr(self, k, v)"
   ]
  },
  {
   "cell_type": "code",
   "execution_count": 7,
   "id": "f8fe3dce",
   "metadata": {},
   "outputs": [
    {
     "data": {
      "text/plain": [
       "{'year': 1990, 'make': 'Ford', 'model': 'Bronco'}"
      ]
     },
     "execution_count": 7,
     "metadata": {},
     "output_type": "execute_result"
    }
   ],
   "source": [
    "car1 = Car(car1_attr)\n",
    "car1.__dict__"
   ]
  },
  {
   "cell_type": "code",
   "execution_count": 12,
   "id": "2f0730a2",
   "metadata": {},
   "outputs": [
    {
     "data": {
      "text/plain": [
       "{'year': 2010, 'make': 'Chevy', 'model': 'Blazer', 'drive': 'RWD'}"
      ]
     },
     "execution_count": 12,
     "metadata": {},
     "output_type": "execute_result"
    }
   ],
   "source": [
    "car2 = Car(car2_attr)\n",
    "car2.__dict__"
   ]
  },
  {
   "cell_type": "code",
   "execution_count": 11,
   "id": "a47b0176",
   "metadata": {},
   "outputs": [
    {
     "data": {
      "text/plain": [
       "{'year': 2020,\n",
       " 'make': 'Tesla',\n",
       " 'model': 'Model3',\n",
       " 'drive': 'AWD',\n",
       " 'range': 300}"
      ]
     },
     "execution_count": 11,
     "metadata": {},
     "output_type": "execute_result"
    }
   ],
   "source": [
    "car3 = Car(car3_attr)\n",
    "car3.__dict__"
   ]
  },
  {
   "cell_type": "code",
   "execution_count": null,
   "id": "8b27e8fd",
   "metadata": {},
   "outputs": [],
   "source": [
    "Iterators"
   ]
  },
  {
   "cell_type": "code",
   "execution_count": 13,
   "id": "adaed1f2",
   "metadata": {},
   "outputs": [
    {
     "data": {
      "text/plain": [
       "list_iterator"
      ]
     },
     "execution_count": 13,
     "metadata": {},
     "output_type": "execute_result"
    }
   ],
   "source": [
    " my_list= [1, 2, 3] \n",
    "it = iter(my_list) \n",
    "type(it)"
   ]
  },
  {
   "cell_type": "code",
   "execution_count": 19,
   "id": "333cec92",
   "metadata": {},
   "outputs": [
    {
     "name": "stdout",
     "output_type": "stream",
     "text": [
      "<tuple_iterator object at 0x106815e70>\n",
      "<str_iterator object at 0x106815e70>\n"
     ]
    }
   ],
   "source": [
    "my_tuple=(1, 2, 3) \n",
    "print(iter(my_tuple)) \n",
    "my_string='123' \n",
    "print(iter(my_string))"
   ]
  },
  {
   "cell_type": "code",
   "execution_count": 22,
   "id": "b7fb08e3",
   "metadata": {},
   "outputs": [
    {
     "data": {
      "text/plain": [
       "list_iterator"
      ]
     },
     "execution_count": 22,
     "metadata": {},
     "output_type": "execute_result"
    }
   ],
   "source": [
    "it = my_list.__iter__()\n",
    "type(it)"
   ]
  },
  {
   "cell_type": "code",
   "execution_count": 23,
   "id": "7f7501d3",
   "metadata": {},
   "outputs": [
    {
     "data": {
      "text/plain": [
       "1"
      ]
     },
     "execution_count": 23,
     "metadata": {},
     "output_type": "execute_result"
    }
   ],
   "source": [
    "next(it)"
   ]
  },
  {
   "cell_type": "code",
   "execution_count": 24,
   "id": "e502cf22",
   "metadata": {},
   "outputs": [
    {
     "data": {
      "text/plain": [
       "2"
      ]
     },
     "execution_count": 24,
     "metadata": {},
     "output_type": "execute_result"
    }
   ],
   "source": [
    "next(it)"
   ]
  },
  {
   "cell_type": "code",
   "execution_count": 25,
   "id": "1d6400b2",
   "metadata": {},
   "outputs": [
    {
     "data": {
      "text/plain": [
       "3"
      ]
     },
     "execution_count": 25,
     "metadata": {},
     "output_type": "execute_result"
    }
   ],
   "source": [
    "next(it)"
   ]
  },
  {
   "cell_type": "code",
   "execution_count": 26,
   "id": "cf2a7889",
   "metadata": {},
   "outputs": [
    {
     "ename": "StopIteration",
     "evalue": "",
     "output_type": "error",
     "traceback": [
      "\u001b[0;31m---------------------------------------------------------------------------\u001b[0m",
      "\u001b[0;31mStopIteration\u001b[0m                             Traceback (most recent call last)",
      "Cell \u001b[0;32mIn[26], line 1\u001b[0m\n\u001b[0;32m----> 1\u001b[0m \u001b[38;5;28;43mnext\u001b[39;49m\u001b[43m(\u001b[49m\u001b[43mit\u001b[49m\u001b[43m)\u001b[49m\n",
      "\u001b[0;31mStopIteration\u001b[0m: "
     ]
    }
   ],
   "source": [
    "next(it)"
   ]
  },
  {
   "cell_type": "code",
   "execution_count": 27,
   "id": "9de40b62",
   "metadata": {},
   "outputs": [],
   "source": [
    "my_list = [1, 9, 7, 3, 5] \n",
    "it = iter(my_list)"
   ]
  },
  {
   "cell_type": "code",
   "execution_count": 28,
   "id": "4d6c5aae",
   "metadata": {},
   "outputs": [
    {
     "data": {
      "text/plain": [
       "True"
      ]
     },
     "execution_count": 28,
     "metadata": {},
     "output_type": "execute_result"
    }
   ],
   "source": [
    "7 in it"
   ]
  },
  {
   "cell_type": "code",
   "execution_count": 29,
   "id": "b03bae07",
   "metadata": {},
   "outputs": [
    {
     "data": {
      "text/plain": [
       "False"
      ]
     },
     "execution_count": 29,
     "metadata": {},
     "output_type": "execute_result"
    }
   ],
   "source": [
    "7 in it"
   ]
  },
  {
   "cell_type": "code",
   "execution_count": 30,
   "id": "6406871f",
   "metadata": {},
   "outputs": [],
   "source": [
    "my_tuple=(3, 7, 8, 7, 9, 7)\n",
    "it=iter(my_tuple)"
   ]
  },
  {
   "cell_type": "code",
   "execution_count": 31,
   "id": "43165f1f",
   "metadata": {},
   "outputs": [
    {
     "data": {
      "text/plain": [
       "True"
      ]
     },
     "execution_count": 31,
     "metadata": {},
     "output_type": "execute_result"
    }
   ],
   "source": [
    "7 in it"
   ]
  },
  {
   "cell_type": "code",
   "execution_count": 32,
   "id": "182983d3",
   "metadata": {},
   "outputs": [
    {
     "data": {
      "text/plain": [
       "True"
      ]
     },
     "execution_count": 32,
     "metadata": {},
     "output_type": "execute_result"
    }
   ],
   "source": [
    "7 in it"
   ]
  },
  {
   "cell_type": "code",
   "execution_count": 33,
   "id": "35c100a2",
   "metadata": {},
   "outputs": [
    {
     "data": {
      "text/plain": [
       "True"
      ]
     },
     "execution_count": 33,
     "metadata": {},
     "output_type": "execute_result"
    }
   ],
   "source": [
    "7 in it"
   ]
  },
  {
   "cell_type": "code",
   "execution_count": 39,
   "id": "9735a667",
   "metadata": {},
   "outputs": [
    {
     "name": "stdout",
     "output_type": "stream",
     "text": [
      "1\n",
      "2\n",
      "3\n"
     ]
    }
   ],
   "source": [
    "my_list=[1, 2, 3] \n",
    "it=iter(my_list)\n",
    "for e in it:\n",
    "    print(e)"
   ]
  },
  {
   "cell_type": "code",
   "execution_count": 41,
   "id": "e3e55bdb",
   "metadata": {},
   "outputs": [
    {
     "name": "stdout",
     "output_type": "stream",
     "text": [
      "1\n",
      "2\n",
      "3\n"
     ]
    }
   ],
   "source": [
    "it = iter(my_list)\n",
    "\n",
    "while True: \n",
    "    try:\n",
    "        e = next(it) \n",
    "        print(e)\n",
    "    except StopIteration:\n",
    "        break "
   ]
  },
  {
   "cell_type": "code",
   "execution_count": null,
   "id": "f9268db1",
   "metadata": {},
   "outputs": [],
   "source": []
  }
 ],
 "metadata": {
  "kernelspec": {
   "display_name": "Python 3 (ipykernel)",
   "language": "python",
   "name": "python3"
  },
  "language_info": {
   "codemirror_mode": {
    "name": "ipython",
    "version": 3
   },
   "file_extension": ".py",
   "mimetype": "text/x-python",
   "name": "python",
   "nbconvert_exporter": "python",
   "pygments_lexer": "ipython3",
   "version": "3.10.9"
  }
 },
 "nbformat": 4,
 "nbformat_minor": 5
}

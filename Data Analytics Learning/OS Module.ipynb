{
 "cells": [
  {
   "cell_type": "code",
   "execution_count": 1,
   "id": "2bd4acd0",
   "metadata": {},
   "outputs": [],
   "source": [
    "import os"
   ]
  },
  {
   "cell_type": "code",
   "execution_count": 2,
   "id": "63ef294c",
   "metadata": {},
   "outputs": [
    {
     "data": {
      "text/plain": [
       "posix.uname_result(sysname='Darwin', nodename='Kunals-MacBook-Air.local', release='22.5.0', version='Darwin Kernel Version 22.5.0: Thu Jun  8 22:21:34 PDT 2023; root:xnu-8796.121.3~7/RELEASE_ARM64_T8112', machine='arm64')"
      ]
     },
     "execution_count": 2,
     "metadata": {},
     "output_type": "execute_result"
    }
   ],
   "source": [
    "os.uname()"
   ]
  },
  {
   "cell_type": "code",
   "execution_count": 4,
   "id": "6be086c8",
   "metadata": {},
   "outputs": [
    {
     "data": {
      "text/plain": [
       "'22.5.0'"
      ]
     },
     "execution_count": 4,
     "metadata": {},
     "output_type": "execute_result"
    }
   ],
   "source": [
    "os.uname().release"
   ]
  },
  {
   "cell_type": "code",
   "execution_count": 5,
   "id": "b2e39d5e",
   "metadata": {},
   "outputs": [
    {
     "data": {
      "text/plain": [
       "'arm64'"
      ]
     },
     "execution_count": 5,
     "metadata": {},
     "output_type": "execute_result"
    }
   ],
   "source": [
    "os.uname().machine"
   ]
  },
  {
   "cell_type": "code",
   "execution_count": 6,
   "id": "eecf9087",
   "metadata": {},
   "outputs": [
    {
     "data": {
      "text/plain": [
       "environ{'__CFBundleIdentifier': 'com.apple.Terminal',\n",
       "        'TMPDIR': '/var/folders/c6/0q4dv4cn42g5_ddh8w5xsb3r0000gn/T/',\n",
       "        'XPC_FLAGS': '0x0',\n",
       "        'TERM': 'xterm-color',\n",
       "        'SSH_AUTH_SOCK': '/private/tmp/com.apple.launchd.8TWcTfPtKy/Listeners',\n",
       "        'XPC_SERVICE_NAME': '0',\n",
       "        'TERM_PROGRAM': 'Apple_Terminal',\n",
       "        'TERM_PROGRAM_VERSION': '447',\n",
       "        'TERM_SESSION_ID': '9C29B4F4-9D2A-41DB-8D99-7EC7E95585DC',\n",
       "        'SHELL': '/bin/zsh',\n",
       "        'HOME': '/Users/kunalarya',\n",
       "        'LOGNAME': 'kunalarya',\n",
       "        'USER': 'kunalarya',\n",
       "        'PATH': '/Users/kunalarya/anaconda3/bin:/Users/kunalarya/anaconda3/condabin:/Library/Frameworks/Python.framework/Versions/3.11/bin:/opt/homebrew/bin:/opt/homebrew/sbin:/usr/local/bin:/System/Cryptexes/App/usr/bin:/usr/bin:/bin:/usr/sbin:/sbin:/Applications/Postgres.app/Contents/Versions/latest/bin:/var/run/com.apple.security.cryptexd/codex.system/bootstrap/usr/local/bin:/var/run/com.apple.security.cryptexd/codex.system/bootstrap/usr/bin:/var/run/com.apple.security.cryptexd/codex.system/bootstrap/usr/appleinternal/bin',\n",
       "        'SHLVL': '1',\n",
       "        'PWD': '/Users/kunalarya',\n",
       "        'OLDPWD': '/Users/kunalarya',\n",
       "        'HOMEBREW_PREFIX': '/opt/homebrew',\n",
       "        'HOMEBREW_CELLAR': '/opt/homebrew/Cellar',\n",
       "        'HOMEBREW_REPOSITORY': '/opt/homebrew',\n",
       "        'MANPATH': '/opt/homebrew/share/man::',\n",
       "        'INFOPATH': '/opt/homebrew/share/info:',\n",
       "        'CONDA_EXE': '/Users/kunalarya/anaconda3/bin/conda',\n",
       "        '_CE_M': '',\n",
       "        '_CE_CONDA': '',\n",
       "        'CONDA_PYTHON_EXE': '/Users/kunalarya/anaconda3/bin/python',\n",
       "        'CONDA_SHLVL': '1',\n",
       "        'CONDA_PREFIX': '/Users/kunalarya/anaconda3',\n",
       "        'CONDA_DEFAULT_ENV': 'base',\n",
       "        'CONDA_PROMPT_MODIFIER': '(base) ',\n",
       "        'LC_CTYPE': 'UTF-8',\n",
       "        '_': '/Users/kunalarya/anaconda3/bin/jupyter',\n",
       "        'PYDEVD_USE_FRAME_EVAL': 'NO',\n",
       "        'JPY_PARENT_PID': '14873',\n",
       "        'CLICOLOR': '1',\n",
       "        'FORCE_COLOR': '1',\n",
       "        'CLICOLOR_FORCE': '1',\n",
       "        'PAGER': 'cat',\n",
       "        'GIT_PAGER': 'cat',\n",
       "        'MPLBACKEND': 'module://matplotlib_inline.backend_inline'}"
      ]
     },
     "execution_count": 6,
     "metadata": {},
     "output_type": "execute_result"
    }
   ],
   "source": [
    "os.environ"
   ]
  },
  {
   "cell_type": "code",
   "execution_count": 8,
   "id": "834e4e53",
   "metadata": {},
   "outputs": [
    {
     "data": {
      "text/plain": [
       "'/Users/kunalarya'"
      ]
     },
     "execution_count": 8,
     "metadata": {},
     "output_type": "execute_result"
    }
   ],
   "source": [
    "os.getcwd()"
   ]
  },
  {
   "cell_type": "code",
   "execution_count": 9,
   "id": "62a001ad",
   "metadata": {},
   "outputs": [
    {
     "ename": "FileNotFoundError",
     "evalue": "[Errno 2] No such file or directory: 't1'",
     "output_type": "error",
     "traceback": [
      "\u001b[0;31m---------------------------------------------------------------------------\u001b[0m",
      "\u001b[0;31mFileNotFoundError\u001b[0m                         Traceback (most recent call last)",
      "Cell \u001b[0;32mIn[9], line 1\u001b[0m\n\u001b[0;32m----> 1\u001b[0m \u001b[43mos\u001b[49m\u001b[38;5;241;43m.\u001b[39;49m\u001b[43mchdir\u001b[49m\u001b[43m(\u001b[49m\u001b[38;5;124;43m'\u001b[39;49m\u001b[38;5;124;43mt1\u001b[39;49m\u001b[38;5;124;43m'\u001b[39;49m\u001b[43m)\u001b[49m\n\u001b[1;32m      2\u001b[0m os\u001b[38;5;241m.\u001b[39mgetcwd()\n",
      "\u001b[0;31mFileNotFoundError\u001b[0m: [Errno 2] No such file or directory: 't1'"
     ]
    }
   ],
   "source": [
    "os.chdir('t1')\n",
    "os.getcwd()"
   ]
  },
  {
   "cell_type": "code",
   "execution_count": 1,
   "id": "69c2078e",
   "metadata": {},
   "outputs": [
    {
     "name": "stdout",
     "output_type": "stream",
     "text": [
      "Please enter a number between 0 and 10: q to exit1\n",
      "You entered: 1\n",
      "Please enter a number between 0 and 10: q to exitq\n"
     ]
    },
    {
     "ename": "SystemExit",
     "evalue": "",
     "output_type": "error",
     "traceback": [
      "An exception has occurred, use %tb to see the full traceback.\n",
      "\u001b[0;31mSystemExit\u001b[0m\n"
     ]
    },
    {
     "name": "stderr",
     "output_type": "stream",
     "text": [
      "/Users/kunalarya/anaconda3/lib/python3.10/site-packages/IPython/core/interactiveshell.py:3468: UserWarning: To exit: use 'exit', 'quit', or Ctrl-D.\n",
      "  warn(\"To exit: use 'exit', 'quit', or Ctrl-D.\", stacklevel=1)\n"
     ]
    }
   ],
   "source": [
    "import sys\n",
    "while True:\n",
    "    x = input('Please enter a number between 0 and 10: q to exit') \n",
    "    if x == 'q':\n",
    "         sys.exit()\n",
    "    else:\n",
    "        print('You entered:', x)"
   ]
  },
  {
   "cell_type": "code",
   "execution_count": 2,
   "id": "8fd6733e",
   "metadata": {},
   "outputs": [
    {
     "data": {
      "text/plain": [
       "['/Users/kunalarya',\n",
       " '/Users/kunalarya/anaconda3/lib/python310.zip',\n",
       " '/Users/kunalarya/anaconda3/lib/python3.10',\n",
       " '/Users/kunalarya/anaconda3/lib/python3.10/lib-dynload',\n",
       " '',\n",
       " '/Users/kunalarya/anaconda3/lib/python3.10/site-packages',\n",
       " '/Users/kunalarya/anaconda3/lib/python3.10/site-packages/PyQt5_sip-12.11.0-py3.10-macosx-11.1-arm64.egg',\n",
       " '/Users/kunalarya/anaconda3/lib/python3.10/site-packages/aeosa',\n",
       " '/Users/kunalarya/anaconda3/lib/python3.10/site-packages/mpmath-1.2.1-py3.10.egg',\n",
       " '/Users/kunalarya/anaconda3/lib/python3.10/site-packages/pycurl-7.45.1-py3.10-macosx-11.1-arm64.egg']"
      ]
     },
     "execution_count": 2,
     "metadata": {},
     "output_type": "execute_result"
    }
   ],
   "source": [
    "import sys\n",
    "sys.path"
   ]
  },
  {
   "cell_type": "code",
   "execution_count": 3,
   "id": "609924d5",
   "metadata": {},
   "outputs": [],
   "source": [
    "import sys"
   ]
  },
  {
   "cell_type": "code",
   "execution_count": 4,
   "id": "2c467c61",
   "metadata": {},
   "outputs": [
    {
     "data": {
      "text/plain": [
       "sys.version_info(major=3, minor=10, micro=9, releaselevel='final', serial=0)"
      ]
     },
     "execution_count": 4,
     "metadata": {},
     "output_type": "execute_result"
    }
   ],
   "source": [
    "sys.version_info"
   ]
  },
  {
   "cell_type": "code",
   "execution_count": 5,
   "id": "75a9351c",
   "metadata": {},
   "outputs": [
    {
     "data": {
      "text/plain": [
       "3"
      ]
     },
     "execution_count": 5,
     "metadata": {},
     "output_type": "execute_result"
    }
   ],
   "source": [
    "sys.version_info.major"
   ]
  },
  {
   "cell_type": "code",
   "execution_count": 6,
   "id": "998d1cc1",
   "metadata": {},
   "outputs": [
    {
     "name": "stdout",
     "output_type": "stream",
     "text": [
      "Python is greater or equal than 3.5\n"
     ]
    }
   ],
   "source": [
    "if sys.version_info.major >=3:\n",
    "    if sys.version_info.minor >=5:\n",
    "        print('Python is greater or equal than 3.5')"
   ]
  },
  {
   "cell_type": "code",
   "execution_count": 7,
   "id": "8d113022",
   "metadata": {},
   "outputs": [
    {
     "data": {
      "text/plain": [
       "['/Users/kunalarya',\n",
       " '/Users/kunalarya/anaconda3/lib/python310.zip',\n",
       " '/Users/kunalarya/anaconda3/lib/python3.10',\n",
       " '/Users/kunalarya/anaconda3/lib/python3.10/lib-dynload',\n",
       " '',\n",
       " '/Users/kunalarya/anaconda3/lib/python3.10/site-packages',\n",
       " '/Users/kunalarya/anaconda3/lib/python3.10/site-packages/PyQt5_sip-12.11.0-py3.10-macosx-11.1-arm64.egg',\n",
       " '/Users/kunalarya/anaconda3/lib/python3.10/site-packages/aeosa',\n",
       " '/Users/kunalarya/anaconda3/lib/python3.10/site-packages/mpmath-1.2.1-py3.10.egg',\n",
       " '/Users/kunalarya/anaconda3/lib/python3.10/site-packages/pycurl-7.45.1-py3.10-macosx-11.1-arm64.egg']"
      ]
     },
     "execution_count": 7,
     "metadata": {},
     "output_type": "execute_result"
    }
   ],
   "source": [
    "sys.path"
   ]
  },
  {
   "cell_type": "code",
   "execution_count": 9,
   "id": "b787359e",
   "metadata": {},
   "outputs": [],
   "source": [
    "import random as rn"
   ]
  },
  {
   "cell_type": "code",
   "execution_count": 10,
   "id": "35ec64ad",
   "metadata": {},
   "outputs": [
    {
     "data": {
      "text/plain": [
       "10"
      ]
     },
     "execution_count": 10,
     "metadata": {},
     "output_type": "execute_result"
    }
   ],
   "source": [
    "rn.randint(2,10)"
   ]
  },
  {
   "cell_type": "code",
   "execution_count": 17,
   "id": "71e5ceee",
   "metadata": {},
   "outputs": [
    {
     "name": "stdout",
     "output_type": "stream",
     "text": [
      "24\n"
     ]
    }
   ],
   "source": [
    "x=4\n",
    "i=1\n",
    "for e in range(1,x+1):\n",
    "    i*=e\n",
    "print(i)"
   ]
  },
  {
   "cell_type": "code",
   "execution_count": 18,
   "id": "ffab1b2d",
   "metadata": {},
   "outputs": [
    {
     "name": "stdout",
     "output_type": "stream",
     "text": [
      "15.0\n"
     ]
    }
   ],
   "source": [
    "import math\n",
    "\n",
    "result = math.fsum(range(2, 10, 3))\n",
    "print(result)\n"
   ]
  },
  {
   "cell_type": "code",
   "execution_count": 1,
   "id": "ad652c33",
   "metadata": {},
   "outputs": [],
   "source": [
    "#Date time module"
   ]
  },
  {
   "cell_type": "code",
   "execution_count": 2,
   "id": "5bf55da0",
   "metadata": {},
   "outputs": [],
   "source": [
    "from datetime import date"
   ]
  },
  {
   "cell_type": "code",
   "execution_count": 3,
   "id": "f4ade166",
   "metadata": {},
   "outputs": [],
   "source": [
    "date1= date(1970,10,12)"
   ]
  },
  {
   "cell_type": "code",
   "execution_count": 5,
   "id": "f4bbe5ec",
   "metadata": {},
   "outputs": [
    {
     "name": "stdout",
     "output_type": "stream",
     "text": [
      "1970-10-12\n"
     ]
    }
   ],
   "source": [
    "print(date1)"
   ]
  },
  {
   "cell_type": "code",
   "execution_count": 6,
   "id": "a0f7cfa7",
   "metadata": {},
   "outputs": [],
   "source": [
    "date1= date(year=1970, month=10, day=12)"
   ]
  },
  {
   "cell_type": "code",
   "execution_count": 8,
   "id": "8b163414",
   "metadata": {},
   "outputs": [
    {
     "data": {
      "text/plain": [
       "datetime.date(1970, 10, 12)"
      ]
     },
     "execution_count": 8,
     "metadata": {},
     "output_type": "execute_result"
    }
   ],
   "source": [
    "date1"
   ]
  },
  {
   "cell_type": "code",
   "execution_count": 9,
   "id": "01bfbff0",
   "metadata": {},
   "outputs": [
    {
     "ename": "AttributeError",
     "evalue": "'datetime.date' object has no attribute 'date'",
     "output_type": "error",
     "traceback": [
      "\u001b[0;31m---------------------------------------------------------------------------\u001b[0m",
      "\u001b[0;31mAttributeError\u001b[0m                            Traceback (most recent call last)",
      "Cell \u001b[0;32mIn[9], line 1\u001b[0m\n\u001b[0;32m----> 1\u001b[0m \u001b[43mdate1\u001b[49m\u001b[38;5;241;43m.\u001b[39;49m\u001b[43mdate\u001b[49m\n",
      "\u001b[0;31mAttributeError\u001b[0m: 'datetime.date' object has no attribute 'date'"
     ]
    }
   ],
   "source": [
    "date1.date"
   ]
  },
  {
   "cell_type": "code",
   "execution_count": 10,
   "id": "43f7715d",
   "metadata": {},
   "outputs": [
    {
     "data": {
      "text/plain": [
       "10"
      ]
     },
     "execution_count": 10,
     "metadata": {},
     "output_type": "execute_result"
    }
   ],
   "source": [
    "date1.month"
   ]
  },
  {
   "cell_type": "code",
   "execution_count": 12,
   "id": "94eeeb85",
   "metadata": {},
   "outputs": [
    {
     "name": "stdout",
     "output_type": "stream",
     "text": [
      "Requirement already satisfied: python-dateutil in ./anaconda3/lib/python3.10/site-packages (2.8.2)\r\n",
      "Requirement already satisfied: six>=1.5 in ./anaconda3/lib/python3.10/site-packages (from python-dateutil) (1.16.0)\r\n"
     ]
    }
   ],
   "source": [
    " !pip install python-dateutil"
   ]
  },
  {
   "cell_type": "code",
   "execution_count": 18,
   "id": "708fe749",
   "metadata": {},
   "outputs": [],
   "source": [
    "from dateutil import tz\n",
    "from datetime import datetime"
   ]
  },
  {
   "cell_type": "code",
   "execution_count": 19,
   "id": "7174d3c9",
   "metadata": {},
   "outputs": [],
   "source": [
    "from dateutil import tz\n"
   ]
  },
  {
   "cell_type": "code",
   "execution_count": 20,
   "id": "70d4f66d",
   "metadata": {},
   "outputs": [
    {
     "name": "stdout",
     "output_type": "stream",
     "text": [
      "2023-07-24 03:02:25.121915-04:00\n"
     ]
    }
   ],
   "source": [
    "EDTtz = tz.gettz (\"America/New_York\") \n",
    "now2= datetime.now(tz=EDTtz) \n",
    "print(now2)"
   ]
  },
  {
   "cell_type": "code",
   "execution_count": 24,
   "id": "bfb51e5a",
   "metadata": {},
   "outputs": [
    {
     "name": "stdout",
     "output_type": "stream",
     "text": [
      "2023-07-24 12:33:57.433488+05:30\n"
     ]
    }
   ],
   "source": [
    "mylocaltz =tz.tzlocal()\n",
    "now=datetime.now(tz=mylocaltz) \n",
    "print (now)\n",
    "#2021-03-25 09:42:22.261980-07:00"
   ]
  },
  {
   "cell_type": "code",
   "execution_count": 25,
   "id": "1b64cd8e",
   "metadata": {},
   "outputs": [],
   "source": [
    "from dateutil.relativedelta import relativedelta"
   ]
  },
  {
   "cell_type": "code",
   "execution_count": 29,
   "id": "bfe735e3",
   "metadata": {},
   "outputs": [
    {
     "name": "stderr",
     "output_type": "stream",
     "text": [
      "--- Logging error ---\n",
      "Traceback (most recent call last):\n",
      "  File \"/Users/kunalarya/anaconda3/lib/python3.10/logging/__init__.py\", line 1100, in emit\n",
      "    msg = self.format(record)\n",
      "  File \"/Users/kunalarya/anaconda3/lib/python3.10/logging/__init__.py\", line 943, in format\n",
      "    return fmt.format(record)\n",
      "  File \"/Users/kunalarya/anaconda3/lib/python3.10/logging/__init__.py\", line 681, in format\n",
      "    s = self.formatMessage(record)\n",
      "  File \"/Users/kunalarya/anaconda3/lib/python3.10/logging/__init__.py\", line 650, in formatMessage\n",
      "    return self._style.format(record)\n",
      "  File \"/Users/kunalarya/anaconda3/lib/python3.10/logging/__init__.py\", line 440, in format\n",
      "    return self._format(record)\n",
      "  File \"/Users/kunalarya/anaconda3/lib/python3.10/logging/__init__.py\", line 436, in _format\n",
      "    return self._fmt % values\n",
      "ValueError: unsupported format character '(' (0x28) at index 2\n",
      "Call stack:\n",
      "  File \"/Users/kunalarya/anaconda3/lib/python3.10/runpy.py\", line 196, in _run_module_as_main\n",
      "    return _run_code(code, main_globals, None,\n",
      "  File \"/Users/kunalarya/anaconda3/lib/python3.10/runpy.py\", line 86, in _run_code\n",
      "    exec(code, run_globals)\n",
      "  File \"/Users/kunalarya/anaconda3/lib/python3.10/site-packages/ipykernel_launcher.py\", line 17, in <module>\n",
      "    app.launch_new_instance()\n",
      "  File \"/Users/kunalarya/anaconda3/lib/python3.10/site-packages/traitlets/config/application.py\", line 992, in launch_instance\n",
      "    app.start()\n",
      "  File \"/Users/kunalarya/anaconda3/lib/python3.10/site-packages/ipykernel/kernelapp.py\", line 711, in start\n",
      "    self.io_loop.start()\n",
      "  File \"/Users/kunalarya/anaconda3/lib/python3.10/site-packages/tornado/platform/asyncio.py\", line 199, in start\n",
      "    self.asyncio_loop.run_forever()\n",
      "  File \"/Users/kunalarya/anaconda3/lib/python3.10/asyncio/base_events.py\", line 603, in run_forever\n",
      "    self._run_once()\n",
      "  File \"/Users/kunalarya/anaconda3/lib/python3.10/asyncio/base_events.py\", line 1906, in _run_once\n",
      "    handle._run()\n",
      "  File \"/Users/kunalarya/anaconda3/lib/python3.10/asyncio/events.py\", line 80, in _run\n",
      "    self._context.run(self._callback, *self._args)\n",
      "  File \"/Users/kunalarya/anaconda3/lib/python3.10/site-packages/ipykernel/kernelbase.py\", line 510, in dispatch_queue\n",
      "    await self.process_one()\n",
      "  File \"/Users/kunalarya/anaconda3/lib/python3.10/site-packages/ipykernel/kernelbase.py\", line 499, in process_one\n",
      "    await dispatch(*args)\n",
      "  File \"/Users/kunalarya/anaconda3/lib/python3.10/site-packages/ipykernel/kernelbase.py\", line 406, in dispatch_shell\n",
      "    await result\n",
      "  File \"/Users/kunalarya/anaconda3/lib/python3.10/site-packages/ipykernel/kernelbase.py\", line 729, in execute_request\n",
      "    reply_content = await reply_content\n",
      "  File \"/Users/kunalarya/anaconda3/lib/python3.10/site-packages/ipykernel/ipkernel.py\", line 411, in do_execute\n",
      "    res = shell.run_cell(\n",
      "  File \"/Users/kunalarya/anaconda3/lib/python3.10/site-packages/ipykernel/zmqshell.py\", line 531, in run_cell\n",
      "    return super().run_cell(*args, **kwargs)\n",
      "  File \"/Users/kunalarya/anaconda3/lib/python3.10/site-packages/IPython/core/interactiveshell.py\", line 2961, in run_cell\n",
      "    result = self._run_cell(\n",
      "  File \"/Users/kunalarya/anaconda3/lib/python3.10/site-packages/IPython/core/interactiveshell.py\", line 3016, in _run_cell\n",
      "    result = runner(coro)\n",
      "  File \"/Users/kunalarya/anaconda3/lib/python3.10/site-packages/IPython/core/async_helpers.py\", line 129, in _pseudo_sync_runner\n",
      "    coro.send(None)\n",
      "  File \"/Users/kunalarya/anaconda3/lib/python3.10/site-packages/IPython/core/interactiveshell.py\", line 3221, in run_cell_async\n",
      "    has_raised = await self.run_ast_nodes(code_ast.body, cell_name,\n",
      "  File \"/Users/kunalarya/anaconda3/lib/python3.10/site-packages/IPython/core/interactiveshell.py\", line 3400, in run_ast_nodes\n",
      "    if await self.run_code(code, result, async_=asy):\n",
      "  File \"/Users/kunalarya/anaconda3/lib/python3.10/site-packages/IPython/core/interactiveshell.py\", line 3460, in run_code\n",
      "    exec(code_obj, self.user_global_ns, self.user_ns)\n",
      "  File \"/var/folders/c6/0q4dv4cn42g5_ddh8w5xsb3r0000gn/T/ipykernel_1414/2505791614.py\", line 8, in <module>\n",
      "    logging.info('This is a info message')\n",
      "Message: 'This is a info message'\n",
      "Arguments: ()\n",
      "--- Logging error ---\n",
      "Traceback (most recent call last):\n",
      "  File \"/Users/kunalarya/anaconda3/lib/python3.10/logging/__init__.py\", line 1100, in emit\n",
      "    msg = self.format(record)\n",
      "  File \"/Users/kunalarya/anaconda3/lib/python3.10/logging/__init__.py\", line 943, in format\n",
      "    return fmt.format(record)\n",
      "  File \"/Users/kunalarya/anaconda3/lib/python3.10/logging/__init__.py\", line 681, in format\n",
      "    s = self.formatMessage(record)\n",
      "  File \"/Users/kunalarya/anaconda3/lib/python3.10/logging/__init__.py\", line 650, in formatMessage\n",
      "    return self._style.format(record)\n",
      "  File \"/Users/kunalarya/anaconda3/lib/python3.10/logging/__init__.py\", line 440, in format\n",
      "    return self._format(record)\n",
      "  File \"/Users/kunalarya/anaconda3/lib/python3.10/logging/__init__.py\", line 436, in _format\n",
      "    return self._fmt % values\n",
      "ValueError: unsupported format character '(' (0x28) at index 2\n",
      "Call stack:\n",
      "  File \"/Users/kunalarya/anaconda3/lib/python3.10/runpy.py\", line 196, in _run_module_as_main\n",
      "    return _run_code(code, main_globals, None,\n",
      "  File \"/Users/kunalarya/anaconda3/lib/python3.10/runpy.py\", line 86, in _run_code\n",
      "    exec(code, run_globals)\n",
      "  File \"/Users/kunalarya/anaconda3/lib/python3.10/site-packages/ipykernel_launcher.py\", line 17, in <module>\n",
      "    app.launch_new_instance()\n",
      "  File \"/Users/kunalarya/anaconda3/lib/python3.10/site-packages/traitlets/config/application.py\", line 992, in launch_instance\n",
      "    app.start()\n",
      "  File \"/Users/kunalarya/anaconda3/lib/python3.10/site-packages/ipykernel/kernelapp.py\", line 711, in start\n",
      "    self.io_loop.start()\n",
      "  File \"/Users/kunalarya/anaconda3/lib/python3.10/site-packages/tornado/platform/asyncio.py\", line 199, in start\n",
      "    self.asyncio_loop.run_forever()\n",
      "  File \"/Users/kunalarya/anaconda3/lib/python3.10/asyncio/base_events.py\", line 603, in run_forever\n",
      "    self._run_once()\n",
      "  File \"/Users/kunalarya/anaconda3/lib/python3.10/asyncio/base_events.py\", line 1906, in _run_once\n",
      "    handle._run()\n",
      "  File \"/Users/kunalarya/anaconda3/lib/python3.10/asyncio/events.py\", line 80, in _run\n",
      "    self._context.run(self._callback, *self._args)\n",
      "  File \"/Users/kunalarya/anaconda3/lib/python3.10/site-packages/ipykernel/kernelbase.py\", line 510, in dispatch_queue\n",
      "    await self.process_one()\n",
      "  File \"/Users/kunalarya/anaconda3/lib/python3.10/site-packages/ipykernel/kernelbase.py\", line 499, in process_one\n",
      "    await dispatch(*args)\n",
      "  File \"/Users/kunalarya/anaconda3/lib/python3.10/site-packages/ipykernel/kernelbase.py\", line 406, in dispatch_shell\n",
      "    await result\n",
      "  File \"/Users/kunalarya/anaconda3/lib/python3.10/site-packages/ipykernel/kernelbase.py\", line 729, in execute_request\n",
      "    reply_content = await reply_content\n",
      "  File \"/Users/kunalarya/anaconda3/lib/python3.10/site-packages/ipykernel/ipkernel.py\", line 411, in do_execute\n",
      "    res = shell.run_cell(\n",
      "  File \"/Users/kunalarya/anaconda3/lib/python3.10/site-packages/ipykernel/zmqshell.py\", line 531, in run_cell\n",
      "    return super().run_cell(*args, **kwargs)\n",
      "  File \"/Users/kunalarya/anaconda3/lib/python3.10/site-packages/IPython/core/interactiveshell.py\", line 2961, in run_cell\n",
      "    result = self._run_cell(\n",
      "  File \"/Users/kunalarya/anaconda3/lib/python3.10/site-packages/IPython/core/interactiveshell.py\", line 3016, in _run_cell\n",
      "    result = runner(coro)\n",
      "  File \"/Users/kunalarya/anaconda3/lib/python3.10/site-packages/IPython/core/async_helpers.py\", line 129, in _pseudo_sync_runner\n",
      "    coro.send(None)\n",
      "  File \"/Users/kunalarya/anaconda3/lib/python3.10/site-packages/IPython/core/interactiveshell.py\", line 3221, in run_cell_async\n",
      "    has_raised = await self.run_ast_nodes(code_ast.body, cell_name,\n",
      "  File \"/Users/kunalarya/anaconda3/lib/python3.10/site-packages/IPython/core/interactiveshell.py\", line 3400, in run_ast_nodes\n",
      "    if await self.run_code(code, result, async_=asy):\n",
      "  File \"/Users/kunalarya/anaconda3/lib/python3.10/site-packages/IPython/core/interactiveshell.py\", line 3460, in run_code\n",
      "    exec(code_obj, self.user_global_ns, self.user_ns)\n",
      "  File \"/var/folders/c6/0q4dv4cn42g5_ddh8w5xsb3r0000gn/T/ipykernel_1414/2505791614.py\", line 9, in <module>\n",
      "    logging.warning('This is a warning message')\n",
      "Message: 'This is a warning message'\n",
      "Arguments: ()\n",
      "--- Logging error ---\n",
      "Traceback (most recent call last):\n",
      "  File \"/Users/kunalarya/anaconda3/lib/python3.10/logging/__init__.py\", line 1100, in emit\n",
      "    msg = self.format(record)\n",
      "  File \"/Users/kunalarya/anaconda3/lib/python3.10/logging/__init__.py\", line 943, in format\n",
      "    return fmt.format(record)\n",
      "  File \"/Users/kunalarya/anaconda3/lib/python3.10/logging/__init__.py\", line 681, in format\n",
      "    s = self.formatMessage(record)\n",
      "  File \"/Users/kunalarya/anaconda3/lib/python3.10/logging/__init__.py\", line 650, in formatMessage\n",
      "    return self._style.format(record)\n",
      "  File \"/Users/kunalarya/anaconda3/lib/python3.10/logging/__init__.py\", line 440, in format\n",
      "    return self._format(record)\n",
      "  File \"/Users/kunalarya/anaconda3/lib/python3.10/logging/__init__.py\", line 436, in _format\n",
      "    return self._fmt % values\n",
      "ValueError: unsupported format character '(' (0x28) at index 2\n",
      "Call stack:\n",
      "  File \"/Users/kunalarya/anaconda3/lib/python3.10/runpy.py\", line 196, in _run_module_as_main\n",
      "    return _run_code(code, main_globals, None,\n",
      "  File \"/Users/kunalarya/anaconda3/lib/python3.10/runpy.py\", line 86, in _run_code\n",
      "    exec(code, run_globals)\n",
      "  File \"/Users/kunalarya/anaconda3/lib/python3.10/site-packages/ipykernel_launcher.py\", line 17, in <module>\n",
      "    app.launch_new_instance()\n",
      "  File \"/Users/kunalarya/anaconda3/lib/python3.10/site-packages/traitlets/config/application.py\", line 992, in launch_instance\n",
      "    app.start()\n",
      "  File \"/Users/kunalarya/anaconda3/lib/python3.10/site-packages/ipykernel/kernelapp.py\", line 711, in start\n",
      "    self.io_loop.start()\n",
      "  File \"/Users/kunalarya/anaconda3/lib/python3.10/site-packages/tornado/platform/asyncio.py\", line 199, in start\n",
      "    self.asyncio_loop.run_forever()\n",
      "  File \"/Users/kunalarya/anaconda3/lib/python3.10/asyncio/base_events.py\", line 603, in run_forever\n",
      "    self._run_once()\n",
      "  File \"/Users/kunalarya/anaconda3/lib/python3.10/asyncio/base_events.py\", line 1906, in _run_once\n",
      "    handle._run()\n",
      "  File \"/Users/kunalarya/anaconda3/lib/python3.10/asyncio/events.py\", line 80, in _run\n",
      "    self._context.run(self._callback, *self._args)\n",
      "  File \"/Users/kunalarya/anaconda3/lib/python3.10/site-packages/ipykernel/kernelbase.py\", line 510, in dispatch_queue\n",
      "    await self.process_one()\n",
      "  File \"/Users/kunalarya/anaconda3/lib/python3.10/site-packages/ipykernel/kernelbase.py\", line 499, in process_one\n",
      "    await dispatch(*args)\n",
      "  File \"/Users/kunalarya/anaconda3/lib/python3.10/site-packages/ipykernel/kernelbase.py\", line 406, in dispatch_shell\n",
      "    await result\n",
      "  File \"/Users/kunalarya/anaconda3/lib/python3.10/site-packages/ipykernel/kernelbase.py\", line 729, in execute_request\n",
      "    reply_content = await reply_content\n",
      "  File \"/Users/kunalarya/anaconda3/lib/python3.10/site-packages/ipykernel/ipkernel.py\", line 411, in do_execute\n",
      "    res = shell.run_cell(\n",
      "  File \"/Users/kunalarya/anaconda3/lib/python3.10/site-packages/ipykernel/zmqshell.py\", line 531, in run_cell\n",
      "    return super().run_cell(*args, **kwargs)\n",
      "  File \"/Users/kunalarya/anaconda3/lib/python3.10/site-packages/IPython/core/interactiveshell.py\", line 2961, in run_cell\n",
      "    result = self._run_cell(\n",
      "  File \"/Users/kunalarya/anaconda3/lib/python3.10/site-packages/IPython/core/interactiveshell.py\", line 3016, in _run_cell\n",
      "    result = runner(coro)\n",
      "  File \"/Users/kunalarya/anaconda3/lib/python3.10/site-packages/IPython/core/async_helpers.py\", line 129, in _pseudo_sync_runner\n",
      "    coro.send(None)\n",
      "  File \"/Users/kunalarya/anaconda3/lib/python3.10/site-packages/IPython/core/interactiveshell.py\", line 3221, in run_cell_async\n",
      "    has_raised = await self.run_ast_nodes(code_ast.body, cell_name,\n",
      "  File \"/Users/kunalarya/anaconda3/lib/python3.10/site-packages/IPython/core/interactiveshell.py\", line 3400, in run_ast_nodes\n",
      "    if await self.run_code(code, result, async_=asy):\n",
      "  File \"/Users/kunalarya/anaconda3/lib/python3.10/site-packages/IPython/core/interactiveshell.py\", line 3460, in run_code\n",
      "    exec(code_obj, self.user_global_ns, self.user_ns)\n",
      "  File \"/var/folders/c6/0q4dv4cn42g5_ddh8w5xsb3r0000gn/T/ipykernel_1414/2505791614.py\", line 10, in <module>\n",
      "    logging.error('This is a error message')\n",
      "Message: 'This is a error message'\n",
      "Arguments: ()\n",
      "--- Logging error ---\n",
      "Traceback (most recent call last):\n",
      "  File \"/Users/kunalarya/anaconda3/lib/python3.10/logging/__init__.py\", line 1100, in emit\n",
      "    msg = self.format(record)\n",
      "  File \"/Users/kunalarya/anaconda3/lib/python3.10/logging/__init__.py\", line 943, in format\n",
      "    return fmt.format(record)\n",
      "  File \"/Users/kunalarya/anaconda3/lib/python3.10/logging/__init__.py\", line 681, in format\n",
      "    s = self.formatMessage(record)\n",
      "  File \"/Users/kunalarya/anaconda3/lib/python3.10/logging/__init__.py\", line 650, in formatMessage\n",
      "    return self._style.format(record)\n",
      "  File \"/Users/kunalarya/anaconda3/lib/python3.10/logging/__init__.py\", line 440, in format\n",
      "    return self._format(record)\n",
      "  File \"/Users/kunalarya/anaconda3/lib/python3.10/logging/__init__.py\", line 436, in _format\n",
      "    return self._fmt % values\n",
      "ValueError: unsupported format character '(' (0x28) at index 2\n",
      "Call stack:\n",
      "  File \"/Users/kunalarya/anaconda3/lib/python3.10/runpy.py\", line 196, in _run_module_as_main\n",
      "    return _run_code(code, main_globals, None,\n",
      "  File \"/Users/kunalarya/anaconda3/lib/python3.10/runpy.py\", line 86, in _run_code\n",
      "    exec(code, run_globals)\n",
      "  File \"/Users/kunalarya/anaconda3/lib/python3.10/site-packages/ipykernel_launcher.py\", line 17, in <module>\n",
      "    app.launch_new_instance()\n",
      "  File \"/Users/kunalarya/anaconda3/lib/python3.10/site-packages/traitlets/config/application.py\", line 992, in launch_instance\n",
      "    app.start()\n",
      "  File \"/Users/kunalarya/anaconda3/lib/python3.10/site-packages/ipykernel/kernelapp.py\", line 711, in start\n",
      "    self.io_loop.start()\n",
      "  File \"/Users/kunalarya/anaconda3/lib/python3.10/site-packages/tornado/platform/asyncio.py\", line 199, in start\n",
      "    self.asyncio_loop.run_forever()\n",
      "  File \"/Users/kunalarya/anaconda3/lib/python3.10/asyncio/base_events.py\", line 603, in run_forever\n",
      "    self._run_once()\n",
      "  File \"/Users/kunalarya/anaconda3/lib/python3.10/asyncio/base_events.py\", line 1906, in _run_once\n",
      "    handle._run()\n",
      "  File \"/Users/kunalarya/anaconda3/lib/python3.10/asyncio/events.py\", line 80, in _run\n",
      "    self._context.run(self._callback, *self._args)\n",
      "  File \"/Users/kunalarya/anaconda3/lib/python3.10/site-packages/ipykernel/kernelbase.py\", line 510, in dispatch_queue\n",
      "    await self.process_one()\n",
      "  File \"/Users/kunalarya/anaconda3/lib/python3.10/site-packages/ipykernel/kernelbase.py\", line 499, in process_one\n",
      "    await dispatch(*args)\n",
      "  File \"/Users/kunalarya/anaconda3/lib/python3.10/site-packages/ipykernel/kernelbase.py\", line 406, in dispatch_shell\n",
      "    await result\n",
      "  File \"/Users/kunalarya/anaconda3/lib/python3.10/site-packages/ipykernel/kernelbase.py\", line 729, in execute_request\n",
      "    reply_content = await reply_content\n",
      "  File \"/Users/kunalarya/anaconda3/lib/python3.10/site-packages/ipykernel/ipkernel.py\", line 411, in do_execute\n",
      "    res = shell.run_cell(\n",
      "  File \"/Users/kunalarya/anaconda3/lib/python3.10/site-packages/ipykernel/zmqshell.py\", line 531, in run_cell\n",
      "    return super().run_cell(*args, **kwargs)\n",
      "  File \"/Users/kunalarya/anaconda3/lib/python3.10/site-packages/IPython/core/interactiveshell.py\", line 2961, in run_cell\n",
      "    result = self._run_cell(\n",
      "  File \"/Users/kunalarya/anaconda3/lib/python3.10/site-packages/IPython/core/interactiveshell.py\", line 3016, in _run_cell\n",
      "    result = runner(coro)\n",
      "  File \"/Users/kunalarya/anaconda3/lib/python3.10/site-packages/IPython/core/async_helpers.py\", line 129, in _pseudo_sync_runner\n",
      "    coro.send(None)\n",
      "  File \"/Users/kunalarya/anaconda3/lib/python3.10/site-packages/IPython/core/interactiveshell.py\", line 3221, in run_cell_async\n",
      "    has_raised = await self.run_ast_nodes(code_ast.body, cell_name,\n",
      "  File \"/Users/kunalarya/anaconda3/lib/python3.10/site-packages/IPython/core/interactiveshell.py\", line 3400, in run_ast_nodes\n",
      "    if await self.run_code(code, result, async_=asy):\n",
      "  File \"/Users/kunalarya/anaconda3/lib/python3.10/site-packages/IPython/core/interactiveshell.py\", line 3460, in run_code\n",
      "    exec(code_obj, self.user_global_ns, self.user_ns)\n",
      "  File \"/var/folders/c6/0q4dv4cn42g5_ddh8w5xsb3r0000gn/T/ipykernel_1414/2505791614.py\", line 11, in <module>\n",
      "    logging.critical('This is a critical message')\n",
      "Message: 'This is a critical message'\n",
      "Arguments: ()\n"
     ]
    }
   ],
   "source": [
    "import logging\n",
    "logformat = '% (process)d- %(asctime)s- %( levelname) s-% (funcName)s - %( lineno)s- %( message)s'\n",
    "logging.basicConfig(level=logging. INFO,\n",
    "    filename= 'my Logs.log',\n",
    "    filemode='w', \n",
    "    format=logformat)\n",
    "logging.debug('This is a debug message')\n",
    "logging.info('This is a info message')\n",
    "logging.warning('This is a warning message')\n",
    "logging.error('This is a error message') \n",
    "logging.critical('This is a critical message')"
   ]
  },
  {
   "cell_type": "code",
   "execution_count": 3,
   "id": "7fbcda7c",
   "metadata": {},
   "outputs": [
    {
     "name": "stdout",
     "output_type": "stream",
     "text": [
      "unsupported operand type(s) for +: 'int' and 'str'\n",
      "Something went wrong\n",
      "After risky operation\n"
     ]
    }
   ],
   "source": [
    "a = 1\n",
    "b='hello'\n",
    "try:\n",
    "    c = a + b\n",
    "except TypeError as e: \n",
    "    print (e)\n",
    "    print('Something went wrong')\n",
    "print('After risky operation')\n"
   ]
  },
  {
   "cell_type": "code",
   "execution_count": 5,
   "id": "91baceba",
   "metadata": {},
   "outputs": [
    {
     "ename": "SyntaxError",
     "evalue": "invalid syntax (1861384032.py, line 1)",
     "output_type": "error",
     "traceback": [
      "\u001b[0;36m  Cell \u001b[0;32mIn[5], line 1\u001b[0;36m\u001b[0m\n\u001b[0;31m    install myfunc\u001b[0m\n\u001b[0m            ^\u001b[0m\n\u001b[0;31mSyntaxError\u001b[0m\u001b[0;31m:\u001b[0m invalid syntax\n"
     ]
    }
   ],
   "source": [
    "install myfunc"
   ]
  },
  {
   "cell_type": "code",
   "execution_count": 4,
   "id": "e5b5a3b5",
   "metadata": {},
   "outputs": [
    {
     "ename": "ModuleNotFoundError",
     "evalue": "No module named 'myfunc'",
     "output_type": "error",
     "traceback": [
      "\u001b[0;31m---------------------------------------------------------------------------\u001b[0m",
      "\u001b[0;31mModuleNotFoundError\u001b[0m                       Traceback (most recent call last)",
      "Cell \u001b[0;32mIn[4], line 1\u001b[0m\n\u001b[0;32m----> 1\u001b[0m \u001b[38;5;28;01mimport\u001b[39;00m \u001b[38;5;21;01munittest\u001b[39;00m\u001b[38;5;241m,\u001b[39m \u001b[38;5;21;01mmyfunc\u001b[39;00m\n\u001b[1;32m      2\u001b[0m \u001b[38;5;28;01mclass\u001b[39;00m \u001b[38;5;21;01mTestAdd\u001b[39;00m(unittest\u001b[38;5;241m.\u001b[39mTestCase): \n\u001b[1;32m      3\u001b[0m     \u001b[38;5;28;01mdef\u001b[39;00m \u001b[38;5;21mtest_int\u001b[39m(\u001b[38;5;28mself\u001b[39m):\n",
      "\u001b[0;31mModuleNotFoundError\u001b[0m: No module named 'myfunc'"
     ]
    }
   ],
   "source": [
    "import unittest, myfunc\n",
    "class TestAdd(unittest.TestCase): \n",
    "    def test_int(self):\n",
    "        self.assertEqual(myfunc.add(2,3), 5)\n",
    "if __name__ ==  '__main__':\n",
    "    unittest.main()"
   ]
  },
  {
   "cell_type": "code",
   "execution_count": 14,
   "id": "8fcad2ba",
   "metadata": {},
   "outputs": [],
   "source": [
    "file1 = open('/Users/kunalarya/Downloads/AllRecordFiles/text/myfile.txt')"
   ]
  },
  {
   "cell_type": "code",
   "execution_count": 15,
   "id": "3a8fa09c",
   "metadata": {},
   "outputs": [],
   "source": [
    "file1.close()"
   ]
  },
  {
   "cell_type": "code",
   "execution_count": 16,
   "id": "ff1937ac",
   "metadata": {},
   "outputs": [
    {
     "name": "stdout",
     "output_type": "stream",
     "text": [
      "myFile1:Line 1 \n",
      "myFi\n"
     ]
    }
   ],
   "source": [
    "with open('/Users/kunalarya/Downloads/AllRecordFiles/text/myfile.txt', 'r') as f1:\n",
    "    some_content = f1.read(20)\n",
    "    print(some_content)"
   ]
  },
  {
   "cell_type": "code",
   "execution_count": 17,
   "id": "ca178534",
   "metadata": {},
   "outputs": [],
   "source": [
    "with open('/Users/kunalarya/Downloads/AllRecordFiles/text/myfile.txt', 'w') as f1:\n",
    "    f1.write('Hello python \\n')\n",
    "    f1.write('How are u')"
   ]
  },
  {
   "cell_type": "code",
   "execution_count": 27,
   "id": "cbd22974",
   "metadata": {},
   "outputs": [],
   "source": [
    "import csv"
   ]
  },
  {
   "cell_type": "code",
   "execution_count": 28,
   "id": "010f6679",
   "metadata": {},
   "outputs": [
    {
     "name": "stdout",
     "output_type": "stream",
     "text": [
      "['First Name', ' Last Name', ' Quiz 1 Score', ' Quiz 2 Score', ' Mid Semester Score', ' Final Exam Score ']\n",
      "['John', ' Doe', ' 8', ' 6', ' 67', ' 75']\n",
      "['Jane', ' Roe', ' 5', ' 8', ' 78', ' 90']\n",
      "['Tyler', ' Durden', ' 3', '2', '34', ' 23 ']\n",
      "['Marla', ' Singer', ' 5', '2', ' 56', ' 78']\n"
     ]
    }
   ],
   "source": [
    "with open('', 'r') as f1:\n",
    "    csvf1 = csv.reader(f1, delimiter = ',')\n",
    "    for each_line in csvf1:\n",
    "        print(each_line)"
   ]
  },
  {
   "cell_type": "code",
   "execution_count": 32,
   "id": "9a86b53a",
   "metadata": {},
   "outputs": [
    {
     "name": "stdout",
     "output_type": "stream",
     "text": [
      "{'First Name': 'John', ' Last Name': ' Doe', ' Quiz 1 Score': ' 8', ' Quiz 2 Score': ' 6', ' Mid Semester Score': ' 67', ' Final Exam Score ': ' 75'}\n",
      "{'First Name': 'Jane', ' Last Name': ' Roe', ' Quiz 1 Score': ' 5', ' Quiz 2 Score': ' 8', ' Mid Semester Score': ' 78', ' Final Exam Score ': ' 90'}\n",
      "{'First Name': 'Tyler', ' Last Name': ' Durden', ' Quiz 1 Score': ' 3', ' Quiz 2 Score': '2', ' Mid Semester Score': '34', ' Final Exam Score ': ' 23 '}\n",
      "{'First Name': 'Marla', ' Last Name': ' Singer', ' Quiz 1 Score': ' 5', ' Quiz 2 Score': '2', ' Mid Semester Score': ' 56', ' Final Exam Score ': ' 78'}\n"
     ]
    }
   ],
   "source": [
    "with open('/Users/kunalarya/Downloads/AllRecordFiles/text/scores.csv', 'r') as f1:\n",
    "    csvf1 = csv.DictReader(f1, delimiter=',') \n",
    "    for each_line in csvf1: \n",
    "               print (each_line)"
   ]
  },
  {
   "cell_type": "code",
   "execution_count": 41,
   "id": "b593b80e",
   "metadata": {},
   "outputs": [],
   "source": [
    "header=['First Name', 'Last name', 'Q1', 'Q2', 'MS', 'F']\n",
    "rows = [\n",
    "   ['Sarah', 'Lee', 3,6,45,78], \n",
    "   ['Jack', 'Sparrow', 5,6,34,89], \n",
    "   ['Hector', 'Barbossa', 6,1,78,89]\n",
    "]\n",
    "with open('/Users/kunalarya/Downloads/AllRecordFiles/text/scores.csv', 'w') as f1: \n",
    "    csvf1 = csv.writer (f1) \n",
    "    csvf1.writerow(header)\n",
    "    for each_row in rows:\n",
    "        csvf1.writerow(each_row)"
   ]
  },
  {
   "cell_type": "code",
   "execution_count": 42,
   "id": "437638d7",
   "metadata": {},
   "outputs": [],
   "source": [
    "header=['First Name', 'Last Name', 'Q1', 'Q2', 'MidSem', 'Final']\n",
    "rows = [\n",
    "                                {'First Name': 'Sarah', 'Last Name': 'Lee', 'Q1':3, 'Q2':6, 'MidSem':45, 'Final': 78},\n",
    "                                {'First Name': 'Jack', 'Last Name': 'Sparrow', 'Q1':5, 'Q2':6, 'MidSem': 34,'Final':89}, \n",
    "                                {'First Name': 'Hector', 'Last Name': 'Barbossa', 'Q1':6, 'Q2':1, 'MidSem':78, 'Final':89},\n",
    " ]"
   ]
  },
  {
   "cell_type": "code",
   "execution_count": 45,
   "id": "5a9a46e6",
   "metadata": {},
   "outputs": [],
   "source": [
    "with open('/Users/kunalarya/Downloads/AllRecordFiles/text/scores.csv', 'w') as f1:\n",
    "        csvf1 = csv.DictWriter(f1, fieldnames=header)\n",
    "        csvf1.writeheader() \n",
    "        csvf1.writerows(rows)"
   ]
  },
  {
   "cell_type": "code",
   "execution_count": 9,
   "id": "969e4eb1",
   "metadata": {},
   "outputs": [],
   "source": [
    "a = {\n",
    "    'name': 'John',\n",
    "    'age': 42,\n",
    "     'occupation': 'Programmer' ,\n",
    "     'married':True,\n",
    "     'children': ('john jr', 'Sarah'),\n",
    "     'pets': None,\n",
    "     'address': {\n",
    "        'street': '23 Main Street',\n",
    "        'city': 'Springfield', \n",
    "        'state': 'Michigan',\n",
    "        'zipcode': 16781, \n",
    "        'coordinates':{\n",
    "       'latitude': '43.0125N', \n",
    "       'longitude': '83.6875W'\n",
    "       }\n",
    "   }\n",
    "}\n"
   ]
  },
  {
   "cell_type": "code",
   "execution_count": 11,
   "id": "1e98eb83",
   "metadata": {},
   "outputs": [],
   "source": [
    "import json\n",
    "with open('/Users/kunalarya/Downloads/AllRecordFiles/text/john.json', 'w')as f1:\n",
    "    json.dump(a, f1,indent=4)"
   ]
  },
  {
   "cell_type": "code",
   "execution_count": 13,
   "id": "712b6616",
   "metadata": {},
   "outputs": [
    {
     "data": {
      "text/plain": [
       "'{\\n    \"name\": \"John\",\\n    \"age\": 42,\\n    \"occupation\": \"Programmer\",\\n    \"married\": true,\\n    \"children\": [\\n        \"john jr\",\\n        \"Sarah\"\\n    ],\\n    \"pets\": null,\\n    \"address\": {\\n        \"street\": \"23 Main Street\",\\n        \"city\": \"Springfield\",\\n        \"state\": \"Michigan\",\\n        \"zipcode\": 16781,\\n        \"coordinates\": {\\n            \"latitude\": \"43.0125N\",\\n            \"longitude\": \"83.6875W\"\\n        }\\n    }\\n}'"
      ]
     },
     "execution_count": 13,
     "metadata": {},
     "output_type": "execute_result"
    }
   ],
   "source": [
    "a_json_str=json.dumps (a, indent=4)\n",
    "a_json_str           "
   ]
  },
  {
   "cell_type": "code",
   "execution_count": 15,
   "id": "ac8b2c95",
   "metadata": {},
   "outputs": [
    {
     "name": "stdout",
     "output_type": "stream",
     "text": [
      "{\n",
      "    \"name\": \"John\",\n",
      "    \"age\": 42,\n",
      "    \"occupation\": \"Programmer\",\n",
      "    \"married\": true,\n",
      "    \"children\": [\n",
      "        \"john jr\",\n",
      "        \"Sarah\"\n",
      "    ],\n",
      "    \"pets\": null,\n",
      "    \"address\": {\n",
      "        \"street\": \"23 Main Street\",\n",
      "        \"city\": \"Springfield\",\n",
      "        \"state\": \"Michigan\",\n",
      "        \"zipcode\": 16781,\n",
      "        \"coordinates\": {\n",
      "            \"latitude\": \"43.0125N\",\n",
      "            \"longitude\": \"83.6875W\"\n",
      "        }\n",
      "    }\n",
      "}\n"
     ]
    }
   ],
   "source": [
    "print(a_json_str)"
   ]
  },
  {
   "cell_type": "code",
   "execution_count": 16,
   "id": "f9d9ef88",
   "metadata": {},
   "outputs": [],
   "source": [
    "with open('/Users/kunalarya/Downloads/AllRecordFiles/text/jon2.json', 'w') as f1:\n",
    "    f1.write(a_json_str+'\\n')"
   ]
  },
  {
   "cell_type": "code",
   "execution_count": null,
   "id": "3c23282b",
   "metadata": {},
   "outputs": [],
   "source": []
  }
 ],
 "metadata": {
  "kernelspec": {
   "display_name": "Python 3 (ipykernel)",
   "language": "python",
   "name": "python3"
  },
  "language_info": {
   "codemirror_mode": {
    "name": "ipython",
    "version": 3
   },
   "file_extension": ".py",
   "mimetype": "text/x-python",
   "name": "python",
   "nbconvert_exporter": "python",
   "pygments_lexer": "ipython3",
   "version": "3.10.9"
  }
 },
 "nbformat": 4,
 "nbformat_minor": 5
}

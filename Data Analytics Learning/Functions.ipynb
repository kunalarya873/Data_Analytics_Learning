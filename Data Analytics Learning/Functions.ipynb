{
 "cells": [
  {
   "cell_type": "code",
   "execution_count": 5,
   "id": "42e8e887",
   "metadata": {},
   "outputs": [
    {
     "name": "stdout",
     "output_type": "stream",
     "text": [
      "100%\n",
      "50%\n",
      "0%\n"
     ]
    }
   ],
   "source": [
    "age = 70\n",
    "pension = print(\"100%\") if age > 65 else print(\"50%\") if age<=65 and age>=60 else print(\"0%\")\n",
    "age = 62\n",
    "pension = print(\"100%\") if age > 65 else print(\"50%\") if age<=65 and age>=60 else print(\"0%\")\n",
    "age = 55\n",
    "pension = print(\"100%\") if age > 65 else print(\"50%\") if age<=65 and age>=60 else print(\"0%\")"
   ]
  },
  {
   "cell_type": "code",
   "execution_count": 4,
   "id": "b543f0b6",
   "metadata": {},
   "outputs": [],
   "source": [
    "age = 70\n",
    "pension = \"100%\" if age > 65 else \"50%\" if age<=65 and age>=60 else \"0%\""
   ]
  },
  {
   "cell_type": "code",
   "execution_count": 6,
   "id": "af801658",
   "metadata": {},
   "outputs": [
    {
     "name": "stdout",
     "output_type": "stream",
     "text": [
      "4 10\n"
     ]
    }
   ],
   "source": [
    "x = [1, 2, 3, 4]\n",
    "total = 0\n",
    "for e in x:\n",
    "    total += e\n",
    "print(e, total)"
   ]
  },
  {
   "cell_type": "code",
   "execution_count": 7,
   "id": "470295ea",
   "metadata": {},
   "outputs": [
    {
     "name": "stdout",
     "output_type": "stream",
     "text": [
      "{'p', 'o', 'e', 'h', 'y', 'l', 't', 'n'}\n"
     ]
    }
   ],
   "source": [
    "x = ['hello', 'python']\n",
    "y = set()\n",
    "for e in x:\n",
    "    for e2 in e:\n",
    "        y.add(e2)\n",
    "print(y)"
   ]
  },
  {
   "cell_type": "code",
   "execution_count": 8,
   "id": "d0b36df0",
   "metadata": {},
   "outputs": [
    {
     "name": "stdout",
     "output_type": "stream",
     "text": [
      "1 2 4 5 7 8 10 "
     ]
    }
   ],
   "source": [
    "x = -1\n",
    "while x < 10:\n",
    "    x += 1\n",
    "    if x%3 == 0:\n",
    "        continue\n",
    "    print(x, end=' ')\n",
    "    "
   ]
  },
  {
   "cell_type": "code",
   "execution_count": 9,
   "id": "16894372",
   "metadata": {},
   "outputs": [
    {
     "name": "stdout",
     "output_type": "stream",
     "text": [
      "aabc\n",
      "babc\n",
      "cabc\n"
     ]
    }
   ],
   "source": [
    "x = 'abc'\n",
    "for e in x:\n",
    "    print(e + x)\n",
    "    "
   ]
  },
  {
   "cell_type": "code",
   "execution_count": 13,
   "id": "8f70afc3",
   "metadata": {},
   "outputs": [
    {
     "name": "stdout",
     "output_type": "stream",
     "text": [
      "4\n",
      "4\n",
      "0\n",
      "-2\n",
      "-4\n"
     ]
    }
   ],
   "source": [
    "x = 4\n",
    "for i in range(5):\n",
    "    z = x+i if x > i else x-i\n",
    "    x -= 1\n",
    "    print(z)"
   ]
  },
  {
   "cell_type": "code",
   "execution_count": 12,
   "id": "df94b99e",
   "metadata": {},
   "outputs": [
    {
     "name": "stdout",
     "output_type": "stream",
     "text": [
      "0\n",
      "1\n",
      "2\n",
      "3\n",
      "4\n"
     ]
    }
   ],
   "source": [
    "for i in range(5):\n",
    "    print(i)"
   ]
  },
  {
   "cell_type": "code",
   "execution_count": 16,
   "id": "788f148f",
   "metadata": {},
   "outputs": [
    {
     "name": "stdout",
     "output_type": "stream",
     "text": [
      "x is greater than zero\n",
      "x is greater than zero\n",
      "x is greater than zero\n",
      "x is greater than zero\n"
     ]
    }
   ],
   "source": [
    "if x > 0:\n",
    "    print('x is greater than zero')\n",
    "elif x > 100:\n",
    "    print('x is greater than 100')\n",
    "else:\n",
    "    print('x is greater than 200')\n",
    "x=1\n",
    "if x > 0:\n",
    "    print('x is greater than zero')\n",
    "elif x > 100:\n",
    "    print('x is greater than 100')\n",
    "else:\n",
    "    print('x is greater than 200')\n",
    "x=101\n",
    "if x > 0:\n",
    "    print('x is greater than zero')\n",
    "elif x > 100:\n",
    "    print('x is greater than 100')\n",
    "else:\n",
    "    print('x is greater than 200')\n",
    "x=201\n",
    "if x > 0:\n",
    "    print('x is greater than zero')\n",
    "elif x > 100:\n",
    "    print('x is greater than 100')\n",
    "else:\n",
    "    print('x is greater than 200')"
   ]
  },
  {
   "cell_type": "code",
   "execution_count": 29,
   "id": "9a38f513",
   "metadata": {},
   "outputs": [
    {
     "name": "stdout",
     "output_type": "stream",
     "text": [
      "[4, 3, 2, 1]\n",
      "[4, 3, 2, 1]\n"
     ]
    },
    {
     "ename": "NameError",
     "evalue": "name 'pop' is not defined",
     "output_type": "error",
     "traceback": [
      "\u001b[0;31m---------------------------------------------------------------------------\u001b[0m",
      "\u001b[0;31mNameError\u001b[0m                                 Traceback (most recent call last)",
      "Cell \u001b[0;32mIn[29], line 6\u001b[0m\n\u001b[1;32m      4\u001b[0m \u001b[38;5;28mprint\u001b[39m(x[::\u001b[38;5;241m1\u001b[39m])\n\u001b[1;32m      5\u001b[0m \u001b[38;5;28;01mfor\u001b[39;00m y \u001b[38;5;129;01min\u001b[39;00m x:\n\u001b[0;32m----> 6\u001b[0m     y\u001b[38;5;241m=\u001b[39m\u001b[43mpop\u001b[49m(x)\n\u001b[1;32m      8\u001b[0m \u001b[38;5;28mprint\u001b[39m(y)\n",
      "\u001b[0;31mNameError\u001b[0m: name 'pop' is not defined"
     ]
    }
   ],
   "source": [
    "x=[1,2,3,4]\n",
    "x.reverse()\n",
    "print(x)\n",
    "print(x[::1])\n",
    "for y in x:\n",
    "    y=pop(x)\n",
    "    \n",
    "print(y)    "
   ]
  },
  {
   "cell_type": "code",
   "execution_count": 35,
   "id": "26b220a1",
   "metadata": {},
   "outputs": [
    {
     "name": "stdout",
     "output_type": "stream",
     "text": [
      "Not a progressing day\n",
      "Progressing day\n",
      "Progressing day\n",
      "Not a progressing day\n"
     ]
    }
   ],
   "source": [
    "x= [180, 190, 190, 191,200, 190]\n",
    "for e in range(len(x)-2) :\n",
    "    if x[e+2]>x[e] and x[e+2]>x[e+1]:\n",
    "        print(\"Progressing day\") \n",
    "    else:\n",
    "        print(\"Not a progressing day\")\n",
    "    "
   ]
  },
  {
   "cell_type": "code",
   "execution_count": 41,
   "id": "afa83c7a",
   "metadata": {},
   "outputs": [
    {
     "ename": "SyntaxError",
     "evalue": "cannot assign to subscript here. Maybe you meant '==' instead of '='? (2757721797.py, line 4)",
     "output_type": "error",
     "traceback": [
      "\u001b[0;36m  Cell \u001b[0;32mIn[41], line 4\u001b[0;36m\u001b[0m\n\u001b[0;31m    if x[e]=y[e]:\u001b[0m\n\u001b[0m       ^\u001b[0m\n\u001b[0;31mSyntaxError\u001b[0m\u001b[0;31m:\u001b[0m cannot assign to subscript here. Maybe you meant '==' instead of '='?\n"
     ]
    }
   ],
   "source": [
    "x= 'Kunal'\n",
    "y= 'Ranal'\n",
    "for e in range(len(x)):\n",
    "    if x[e]=y[e]:\n",
    "        print(\"Haming distace is (e)\")\n",
    "        e +=1\n",
    "    else:\n",
    "        break\n",
    "        print('Haming distance is {e}')"
   ]
  },
  {
   "cell_type": "code",
   "execution_count": 42,
   "id": "96ac8ac4",
   "metadata": {},
   "outputs": [
    {
     "name": "stdout",
     "output_type": "stream",
     "text": [
      "Enter the no.1,2,3,4,5,6\n",
      "[1, 2, 3, 4, 5, 6]\n"
     ]
    }
   ],
   "source": [
    "x= input('Enter the no.')\n",
    "my_list = x.split(',')\n",
    "index=0\n",
    "for e in my_list :\n",
    "    my_list[index] = int(e)\n",
    "    index +=1\n",
    "print(my_list)"
   ]
  },
  {
   "cell_type": "code",
   "execution_count": null,
   "id": "15cb2b21",
   "metadata": {},
   "outputs": [],
   "source": [
    "start=1000\n",
    "stop=3000\n",
    "\n",
    "for en in range(start, stop +1):\n",
    "    str_en= str(en)\n",
    "    for ec in str_en:\n",
    "        if int(ec) %2 !=0:\n",
    "            break\n",
    "        else :\n",
    "            print(en)"
   ]
  },
  {
   "cell_type": "code",
   "execution_count": 43,
   "id": "0f5bd4eb",
   "metadata": {},
   "outputs": [
    {
     "name": "stdout",
     "output_type": "stream",
     "text": [
      "Outside function\n"
     ]
    }
   ],
   "source": [
    "def f1():\n",
    "   print(\"Hello, Python\") \n",
    "print(\"Outside function\")"
   ]
  },
  {
   "cell_type": "code",
   "execution_count": 44,
   "id": "efc06547",
   "metadata": {},
   "outputs": [
    {
     "name": "stdout",
     "output_type": "stream",
     "text": [
      "Hello, Python\n"
     ]
    }
   ],
   "source": [
    "f1()"
   ]
  },
  {
   "cell_type": "code",
   "execution_count": 45,
   "id": "f877de9b",
   "metadata": {},
   "outputs": [
    {
     "name": "stdout",
     "output_type": "stream",
     "text": [
      "Hello, Python\n"
     ]
    }
   ],
   "source": [
    "f1()"
   ]
  },
  {
   "cell_type": "code",
   "execution_count": 46,
   "id": "79cfc1a4",
   "metadata": {},
   "outputs": [],
   "source": [
    "f2 = f1"
   ]
  },
  {
   "cell_type": "code",
   "execution_count": 47,
   "id": "6c6a10cd",
   "metadata": {},
   "outputs": [
    {
     "name": "stdout",
     "output_type": "stream",
     "text": [
      "Hello, Python\n"
     ]
    }
   ],
   "source": [
    "f1()"
   ]
  },
  {
   "cell_type": "code",
   "execution_count": 48,
   "id": "9b281f1a",
   "metadata": {},
   "outputs": [
    {
     "name": "stdout",
     "output_type": "stream",
     "text": [
      "Hello, Python\n"
     ]
    }
   ],
   "source": [
    "f2()"
   ]
  },
  {
   "cell_type": "code",
   "execution_count": 49,
   "id": "aad58c5f",
   "metadata": {},
   "outputs": [
    {
     "name": "stdout",
     "output_type": "stream",
     "text": [
      "<function f1 at 0x108e957e0>\n"
     ]
    }
   ],
   "source": [
    "print (f1)"
   ]
  },
  {
   "cell_type": "code",
   "execution_count": 50,
   "id": "69b26244",
   "metadata": {},
   "outputs": [
    {
     "data": {
      "text/plain": [
       "function"
      ]
     },
     "execution_count": 50,
     "metadata": {},
     "output_type": "execute_result"
    }
   ],
   "source": [
    "type(f1)"
   ]
  },
  {
   "cell_type": "code",
   "execution_count": 51,
   "id": "1acaf7da",
   "metadata": {},
   "outputs": [
    {
     "data": {
      "text/plain": [
       "function"
      ]
     },
     "execution_count": 51,
     "metadata": {},
     "output_type": "execute_result"
    }
   ],
   "source": [
    "type (f2)"
   ]
  },
  {
   "cell_type": "code",
   "execution_count": 52,
   "id": "89741aca",
   "metadata": {},
   "outputs": [
    {
     "data": {
      "text/plain": [
       "4444477408"
      ]
     },
     "execution_count": 52,
     "metadata": {},
     "output_type": "execute_result"
    }
   ],
   "source": [
    "id(f1)"
   ]
  },
  {
   "cell_type": "code",
   "execution_count": 53,
   "id": "9644e4a3",
   "metadata": {},
   "outputs": [
    {
     "data": {
      "text/plain": [
       "4444477408"
      ]
     },
     "execution_count": 53,
     "metadata": {},
     "output_type": "execute_result"
    }
   ],
   "source": [
    "id(f2)"
   ]
  },
  {
   "cell_type": "code",
   "execution_count": 54,
   "id": "d87ff335",
   "metadata": {},
   "outputs": [],
   "source": [
    "f1=10"
   ]
  },
  {
   "cell_type": "code",
   "execution_count": 55,
   "id": "f0f48466",
   "metadata": {},
   "outputs": [
    {
     "name": "stdout",
     "output_type": "stream",
     "text": [
      "10\n"
     ]
    }
   ],
   "source": [
    "print(f1)"
   ]
  },
  {
   "cell_type": "code",
   "execution_count": 57,
   "id": "2668ac8b",
   "metadata": {},
   "outputs": [
    {
     "name": "stdout",
     "output_type": "stream",
     "text": [
      "Hello, Python\n"
     ]
    }
   ],
   "source": [
    "f2()"
   ]
  },
  {
   "cell_type": "code",
   "execution_count": null,
   "id": "803a40d9",
   "metadata": {},
   "outputs": [],
   "source": []
  }
 ],
 "metadata": {
  "kernelspec": {
   "display_name": "Python 3 (ipykernel)",
   "language": "python",
   "name": "python3"
  },
  "language_info": {
   "codemirror_mode": {
    "name": "ipython",
    "version": 3
   },
   "file_extension": ".py",
   "mimetype": "text/x-python",
   "name": "python",
   "nbconvert_exporter": "python",
   "pygments_lexer": "ipython3",
   "version": "3.10.9"
  }
 },
 "nbformat": 4,
 "nbformat_minor": 5
}

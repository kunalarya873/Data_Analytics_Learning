{
 "cells": [
  {
   "cell_type": "code",
   "execution_count": 1,
   "id": "d07f1d4b",
   "metadata": {},
   "outputs": [
    {
     "name": "stdout",
     "output_type": "stream",
     "text": [
      "True\n",
      "False\n"
     ]
    }
   ],
   "source": [
    "x = ('a', 'b', 'c', 'x', 'y','z')\n",
    "y = x[:2] + x[2:]\n",
    " \n",
    "print(x == y)\n",
    "print(x is y)"
   ]
  },
  {
   "cell_type": "code",
   "execution_count": 4,
   "id": "80363e46",
   "metadata": {},
   "outputs": [
    {
     "name": "stdout",
     "output_type": "stream",
     "text": [
      "True\n"
     ]
    }
   ],
   "source": [
    "x=(1,2,3,4,1)\n",
    "y=(1,2,3,4)\n",
    "print(x[0] is x[4])"
   ]
  },
  {
   "cell_type": "code",
   "execution_count": 6,
   "id": "31e683ec",
   "metadata": {},
   "outputs": [
    {
     "name": "stdout",
     "output_type": "stream",
     "text": [
      "r\n",
      "o\n"
     ]
    }
   ],
   "source": [
    "x = ['jupiter', 'earth', 'mars', 'io']\n",
    "print(x[1][2])\n",
    "print(x[-1][-1])"
   ]
  },
  {
   "cell_type": "code",
   "execution_count": 7,
   "id": "976659eb",
   "metadata": {},
   "outputs": [
    {
     "name": "stdout",
     "output_type": "stream",
     "text": [
      "True\n",
      "False\n"
     ]
    }
   ],
   "source": [
    "x = [1, 2, 3]\n",
    "y = [1, 2, 3]\n",
    "z1 = x\n",
    "z2 = y[:]\n",
    "z1[0] = 999\n",
    "z2[0] = 999\n",
    "print(x == z1)\n",
    "print(y == z2)"
   ]
  },
  {
   "cell_type": "code",
   "execution_count": 8,
   "id": "bc2423fc",
   "metadata": {},
   "outputs": [
    {
     "ename": "TypeError",
     "evalue": "unhashable type: 'list'",
     "output_type": "error",
     "traceback": [
      "\u001b[0;31m---------------------------------------------------------------------------\u001b[0m",
      "\u001b[0;31mTypeError\u001b[0m                                 Traceback (most recent call last)",
      "Cell \u001b[0;32mIn[8], line 1\u001b[0m\n\u001b[0;32m----> 1\u001b[0m {\u001b[38;5;241m1\u001b[39m, \u001b[38;5;241m2\u001b[39m, [\u001b[38;5;124m'\u001b[39m\u001b[38;5;124ma\u001b[39m\u001b[38;5;124m'\u001b[39m,\u001b[38;5;124m'\u001b[39m\u001b[38;5;124mb\u001b[39m\u001b[38;5;124m'\u001b[39m]}\n\u001b[1;32m      3\u001b[0m {\u001b[38;5;124m'\u001b[39m\u001b[38;5;124mx\u001b[39m\u001b[38;5;124m'\u001b[39m, (\u001b[38;5;124m'\u001b[39m\u001b[38;5;124ma\u001b[39m\u001b[38;5;124m'\u001b[39m, \u001b[38;5;124m'\u001b[39m\u001b[38;5;124mb\u001b[39m\u001b[38;5;124m'\u001b[39m)}\n",
      "\u001b[0;31mTypeError\u001b[0m: unhashable type: 'list'"
     ]
    }
   ],
   "source": [
    "{1, 2, ['a','b']}\n",
    " \n",
    "{'x', ('a', 'b')} "
   ]
  },
  {
   "cell_type": "code",
   "execution_count": 9,
   "id": "0c1d2ea5",
   "metadata": {},
   "outputs": [
    {
     "name": "stdout",
     "output_type": "stream",
     "text": [
      "{'b', 1, 2}\n",
      "{'c', 3, 4}\n"
     ]
    }
   ],
   "source": [
    "x = {1, 'a', 2, 'b'}\n",
    "y = {'a', 'c', 3, 4}\n",
    " \n",
    "print(x.difference(y))\n",
    "print(y.difference(x))"
   ]
  },
  {
   "cell_type": "code",
   "execution_count": 10,
   "id": "b2cba7ae",
   "metadata": {},
   "outputs": [
    {
     "name": "stdout",
     "output_type": "stream",
     "text": [
      "True\n",
      "False\n",
      "False\n",
      "True\n"
     ]
    }
   ],
   "source": [
    "x = {1,2,3}\n",
    "y = {1,2,3,4,5,6}\n",
    " \n",
    "print(x.issubset(y))\n",
    "print(y.issubset(x))\n",
    " \n",
    "print(x.issuperset(y))\n",
    "print(y.issuperset(x))"
   ]
  },
  {
   "cell_type": "code",
   "execution_count": null,
   "id": "f30b5f11",
   "metadata": {},
   "outputs": [],
   "source": []
  }
 ],
 "metadata": {
  "kernelspec": {
   "display_name": "Python 3 (ipykernel)",
   "language": "python",
   "name": "python3"
  },
  "language_info": {
   "codemirror_mode": {
    "name": "ipython",
    "version": 3
   },
   "file_extension": ".py",
   "mimetype": "text/x-python",
   "name": "python",
   "nbconvert_exporter": "python",
   "pygments_lexer": "ipython3",
   "version": "3.10.9"
  }
 },
 "nbformat": 4,
 "nbformat_minor": 5
}

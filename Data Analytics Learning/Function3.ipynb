{
 "cells": [
  {
   "cell_type": "code",
   "execution_count": 1,
   "id": "60e1ff2e",
   "metadata": {},
   "outputs": [],
   "source": [
    "def f1(a,b):\n",
    "    print(a,b)"
   ]
  },
  {
   "cell_type": "code",
   "execution_count": 2,
   "id": "e34c35a1",
   "metadata": {},
   "outputs": [
    {
     "name": "stdout",
     "output_type": "stream",
     "text": [
      "1 2\n"
     ]
    }
   ],
   "source": [
    "f1(1,2)"
   ]
  },
  {
   "cell_type": "code",
   "execution_count": 3,
   "id": "505bdaf7",
   "metadata": {},
   "outputs": [
    {
     "ename": "TypeError",
     "evalue": "f1() got multiple values for argument 'a'",
     "output_type": "error",
     "traceback": [
      "\u001b[0;31m---------------------------------------------------------------------------\u001b[0m",
      "\u001b[0;31mTypeError\u001b[0m                                 Traceback (most recent call last)",
      "Cell \u001b[0;32mIn[3], line 1\u001b[0m\n\u001b[0;32m----> 1\u001b[0m \u001b[43mf1\u001b[49m\u001b[43m(\u001b[49m\u001b[38;5;241;43m1\u001b[39;49m\u001b[43m,\u001b[49m\u001b[43ma\u001b[49m\u001b[38;5;241;43m=\u001b[39;49m\u001b[38;5;241;43m2\u001b[39;49m\u001b[43m)\u001b[49m\n",
      "\u001b[0;31mTypeError\u001b[0m: f1() got multiple values for argument 'a'"
     ]
    }
   ],
   "source": [
    "f1(1,a=2)"
   ]
  },
  {
   "cell_type": "code",
   "execution_count": null,
   "id": "741ec2d5",
   "metadata": {},
   "outputs": [],
   "source": [
    "f1(a=2,b=1)"
   ]
  },
  {
   "cell_type": "code",
   "execution_count": null,
   "id": "3eb43005",
   "metadata": {},
   "outputs": [],
   "source": [
    "f1(a=2,1)"
   ]
  },
  {
   "cell_type": "code",
   "execution_count": null,
   "id": "ffc7cd8b",
   "metadata": {},
   "outputs": [],
   "source": [
    "def f1(a, b, *vp, c=100 , **vkw):\n",
    "    print('a:', a, 'b:', b, 'vp:', vp, 'c:',c, 'vkw:',vkw)"
   ]
  },
  {
   "cell_type": "code",
   "execution_count": null,
   "id": "deac1031",
   "metadata": {},
   "outputs": [],
   "source": [
    "f1(c=3,a=1,b=2,x=10,y=11)\n",
    "f1(1,2)"
   ]
  },
  {
   "cell_type": "code",
   "execution_count": null,
   "id": "e97e8369",
   "metadata": {},
   "outputs": [],
   "source": [
    "def f1(x=[]):\n",
    "    x.append('a')\n",
    "    print(x)\n",
    "f1()\n",
    "f1()"
   ]
  },
  {
   "cell_type": "code",
   "execution_count": null,
   "id": "6eff7a26",
   "metadata": {},
   "outputs": [],
   "source": [
    "x= ['a', 'titan', 'mars', 'eros', 'ganemyde', 'io']"
   ]
  },
  {
   "cell_type": "code",
   "execution_count": null,
   "id": "8bce1ad0",
   "metadata": {},
   "outputs": [],
   "source": [
    "x.sort(key=lambda y:len(y))"
   ]
  },
  {
   "cell_type": "code",
   "execution_count": null,
   "id": "b2a3f180",
   "metadata": {},
   "outputs": [],
   "source": [
    "x"
   ]
  },
  {
   "cell_type": "code",
   "execution_count": null,
   "id": "49ab43d9",
   "metadata": {},
   "outputs": [],
   "source": [
    "def f1(a, b, c):\n",
    "    d = a + b + c\n",
    "    return d\n",
    "a=1\n",
    "b=2\n",
    "c=3\n",
    "d = f1(a=a, b=b, c=c)\n",
    "print(d)"
   ]
  },
  {
   "cell_type": "code",
   "execution_count": null,
   "id": "329f4fbf",
   "metadata": {},
   "outputs": [],
   "source": [
    "x = 1\n",
    "y = 2\n",
    "def f1():\n",
    "    x = 3\n",
    "    return x + y\n",
    "print(f1())\n",
    "print(x + y)"
   ]
  },
  {
   "cell_type": "code",
   "execution_count": null,
   "id": "a11b3983",
   "metadata": {},
   "outputs": [],
   "source": [
    "x = 1\n",
    "def f1(x):\n",
    "    print(x)\n",
    "f1(999)\n",
    "print(x)"
   ]
  },
  {
   "cell_type": "code",
   "execution_count": null,
   "id": "a6b1e652",
   "metadata": {},
   "outputs": [],
   "source": [
    "def f1(x=[]): \n",
    "    x.append(len(x)) \n",
    "    return x\n",
    "f1([2,6,7])\n",
    "f1(['hello', 2.3, 1, 'python'])\n",
    "f1()\n",
    "f1()\n",
    "f1() \n",
    "f1()"
   ]
  },
  {
   "cell_type": "code",
   "execution_count": null,
   "id": "ddd9ae4f",
   "metadata": {},
   "outputs": [],
   "source": [
    "x = [ (3,'Santino'), (1, 'Vito'), (4,'Fredo'), (10,'Tessio'), \n",
    "(7,'Connie'), (9,'Clemenza'), (2, 'Michael')]"
   ]
  },
  {
   "cell_type": "code",
   "execution_count": null,
   "id": "2be59df6",
   "metadata": {},
   "outputs": [],
   "source": [
    "def sort_order(each_element):\n",
    "    return each_element[0]\n",
    "x.sort(key= sort_order)\n",
    "x"
   ]
  },
  {
   "cell_type": "code",
   "execution_count": null,
   "id": "7fbbe082",
   "metadata": {},
   "outputs": [],
   "source": [
    "def f1(man, woman, child):\n",
    "    if child-man >18 or child-woman>18:\n",
    "        print(child-man)\n",
    "        print(child-woman)\n",
    "    if child- man>60 or child- woman>60:\n",
    "        print(\"age is above limit\")\n",
    "    "
   ]
  },
  {
   "cell_type": "code",
   "execution_count": null,
   "id": "02ce5d70",
   "metadata": {},
   "outputs": [],
   "source": [
    "print(f1(1981,1985,2001))"
   ]
  },
  {
   "cell_type": "code",
   "execution_count": null,
   "id": "9474396d",
   "metadata": {},
   "outputs": [],
   "source": [
    "print(f1(20,21,1))"
   ]
  },
  {
   "cell_type": "code",
   "execution_count": null,
   "id": "48845622",
   "metadata": {},
   "outputs": [],
   "source": [
    "def calc(x,y):\n",
    "    return x+y,x-y,x*y,x/y"
   ]
  },
  {
   "cell_type": "code",
   "execution_count": null,
   "id": "d2349629",
   "metadata": {},
   "outputs": [],
   "source": [
    "calc(3,2)"
   ]
  },
  {
   "cell_type": "code",
   "execution_count": null,
   "id": "32499adc",
   "metadata": {},
   "outputs": [],
   "source": [
    "def max_l(my_list):\n",
    "    my_max= float('-inf')\n",
    "    for e in my_list:\n",
    "        if e> my_max:\n",
    "            my_max=e\n",
    "            return my_max"
   ]
  },
  {
   "cell_type": "code",
   "execution_count": null,
   "id": "3bd994e4",
   "metadata": {},
   "outputs": [],
   "source": [
    "def count_case(s): \n",
    "    lower_case = 0 \n",
    "    upper_case = 0\n",
    "    for e in s:\n",
    "       if e.isupper(): upper_case += 1 \n",
    "       elif e.islower(): lower_case += 1 \n",
    "   return upper_case, lower_case"
   ]
  },
  {
   "cell_type": "code",
   "execution_count": 4,
   "id": "49086bf1",
   "metadata": {},
   "outputs": [
    {
     "data": {
      "text/plain": [
       "((0, 1), (1, 2), (2, 34), (3, 4), (4, 44))"
      ]
     },
     "execution_count": 4,
     "metadata": {},
     "output_type": "execute_result"
    }
   ],
   "source": [
    "z= {1,2,34,44,4}\n",
    "tuple(enumerate(z))"
   ]
  },
  {
   "cell_type": "code",
   "execution_count": 5,
   "id": "29d845dc",
   "metadata": {},
   "outputs": [],
   "source": [
    "from functools import reduce"
   ]
  },
  {
   "cell_type": "code",
   "execution_count": 7,
   "id": "5984f131",
   "metadata": {},
   "outputs": [
    {
     "data": {
      "text/plain": [
       "15"
      ]
     },
     "execution_count": 7,
     "metadata": {},
     "output_type": "execute_result"
    }
   ],
   "source": [
    "def add(e1,e2):\n",
    "    return e1+e2\n",
    "x=[1,2,3,4,5]\n",
    "sum= reduce(add,x)\n",
    "sum"
   ]
  },
  {
   "cell_type": "code",
   "execution_count": 9,
   "id": "756739bb",
   "metadata": {},
   "outputs": [
    {
     "data": {
      "text/plain": [
       "15"
      ]
     },
     "execution_count": 9,
     "metadata": {},
     "output_type": "execute_result"
    }
   ],
   "source": [
    "sum= reduce(lambda e1, e2: e1+e2, x)\n",
    "sum"
   ]
  },
  {
   "cell_type": "code",
   "execution_count": 10,
   "id": "0d5401d2",
   "metadata": {},
   "outputs": [],
   "source": [
    "x= [3,4,7,1,9]\n",
    "min= reduce (lambda e1, e2: e1 if e1<e2 else e2, x)"
   ]
  },
  {
   "cell_type": "code",
   "execution_count": 11,
   "id": "8d992697",
   "metadata": {},
   "outputs": [
    {
     "data": {
      "text/plain": [
       "1"
      ]
     },
     "execution_count": 11,
     "metadata": {},
     "output_type": "execute_result"
    }
   ],
   "source": [
    "min"
   ]
  },
  {
   "cell_type": "code",
   "execution_count": 15,
   "id": "aef76e95",
   "metadata": {},
   "outputs": [],
   "source": [
    "x = 'Global X'\n",
    "def f2():\n",
    "    print(x)"
   ]
  },
  {
   "cell_type": "code",
   "execution_count": 17,
   "id": "b94e882a",
   "metadata": {},
   "outputs": [
    {
     "name": "stdout",
     "output_type": "stream",
     "text": [
      "f1 X\n",
      "Global X\n"
     ]
    }
   ],
   "source": [
    "def f1():\n",
    "    x = 'f1 X'\n",
    "    print(x) \n",
    "    f2()\n",
    "f1()"
   ]
  },
  {
   "cell_type": "code",
   "execution_count": 22,
   "id": "0a54a546",
   "metadata": {},
   "outputs": [],
   "source": [
    "x = 'Global X'"
   ]
  },
  {
   "cell_type": "code",
   "execution_count": 25,
   "id": "2ab51338",
   "metadata": {},
   "outputs": [],
   "source": [
    "def f1():\n",
    "    x= 'f1 X'\n",
    "    def f2():\n",
    "        print(x)\n",
    "    f2()"
   ]
  },
  {
   "cell_type": "code",
   "execution_count": 26,
   "id": "c5418a5c",
   "metadata": {},
   "outputs": [
    {
     "name": "stdout",
     "output_type": "stream",
     "text": [
      "f1 X\n"
     ]
    }
   ],
   "source": [
    "f1()"
   ]
  },
  {
   "cell_type": "code",
   "execution_count": 27,
   "id": "0e522fdc",
   "metadata": {},
   "outputs": [],
   "source": [
    "x= 'Global X'\n"
   ]
  },
  {
   "cell_type": "code",
   "execution_count": 33,
   "id": "babb71bd",
   "metadata": {},
   "outputs": [],
   "source": [
    "def f1():\n",
    "    x= 'f1 x'\n",
    "    def f2():\n",
    "        x= 'f2 X'\n",
    "        print(x)\n",
    "    f2()"
   ]
  },
  {
   "cell_type": "code",
   "execution_count": 34,
   "id": "7caf6293",
   "metadata": {},
   "outputs": [
    {
     "name": "stdout",
     "output_type": "stream",
     "text": [
      "Global X\n"
     ]
    }
   ],
   "source": [
    "f1()"
   ]
  },
  {
   "cell_type": "code",
   "execution_count": 42,
   "id": "e7bf9b6d",
   "metadata": {},
   "outputs": [],
   "source": [
    "def f1(): \n",
    "    def f2():\n",
    "        print('Inner function f2')\n",
    "        print(id(f2))\n",
    "    return f2"
   ]
  },
  {
   "cell_type": "code",
   "execution_count": 43,
   "id": "dbdb761e",
   "metadata": {},
   "outputs": [
    {
     "name": "stdout",
     "output_type": "stream",
     "text": [
      "Inner function f2\n",
      "4444801920\n"
     ]
    }
   ],
   "source": [
    "y= f1()\n",
    "y()"
   ]
  },
  {
   "cell_type": "code",
   "execution_count": 1,
   "id": "107628ed",
   "metadata": {},
   "outputs": [],
   "source": [
    "def outer(x):\n",
    "    def adder(y):\n",
    "        print(x+y)\n",
    "    return adder"
   ]
  },
  {
   "cell_type": "code",
   "execution_count": 2,
   "id": "6ad8564a",
   "metadata": {},
   "outputs": [],
   "source": [
    "add4= outer(4)\n",
    "add5= outer(5)\n",
    "add6= outer(6)"
   ]
  },
  {
   "cell_type": "code",
   "execution_count": 3,
   "id": "584691e5",
   "metadata": {},
   "outputs": [
    {
     "name": "stdout",
     "output_type": "stream",
     "text": [
      "14\n"
     ]
    }
   ],
   "source": [
    "add4(10)"
   ]
  },
  {
   "cell_type": "code",
   "execution_count": 4,
   "id": "13706982",
   "metadata": {},
   "outputs": [
    {
     "name": "stdout",
     "output_type": "stream",
     "text": [
      "25\n"
     ]
    }
   ],
   "source": [
    "add5(20)"
   ]
  },
  {
   "cell_type": "code",
   "execution_count": 5,
   "id": "bf24ed79",
   "metadata": {},
   "outputs": [
    {
     "data": {
      "text/plain": [
       "(<cell at 0x105cbbd90: int object at 0x100c78150>,)"
      ]
     },
     "execution_count": 5,
     "metadata": {},
     "output_type": "execute_result"
    }
   ],
   "source": [
    "add4.__closure__"
   ]
  },
  {
   "cell_type": "code",
   "execution_count": 7,
   "id": "c2488994",
   "metadata": {},
   "outputs": [
    {
     "data": {
      "text/plain": [
       "4"
      ]
     },
     "execution_count": 7,
     "metadata": {},
     "output_type": "execute_result"
    }
   ],
   "source": [
    "add4.__closure__[0].cell_contents"
   ]
  },
  {
   "cell_type": "code",
   "execution_count": 8,
   "id": "945e264d",
   "metadata": {},
   "outputs": [
    {
     "data": {
      "text/plain": [
       "('x',)"
      ]
     },
     "execution_count": 8,
     "metadata": {},
     "output_type": "execute_result"
    }
   ],
   "source": [
    "add4.__code__.co_freevars"
   ]
  },
  {
   "cell_type": "code",
   "execution_count": 9,
   "id": "8afafe9d",
   "metadata": {},
   "outputs": [
    {
     "name": "stdout",
     "output_type": "stream",
     "text": [
      "Collecting openai\n",
      "  Downloading openai-0.27.8-py3-none-any.whl (73 kB)\n",
      "\u001b[2K     \u001b[90m━━━━━━━━━━━━━━━━━━━━━━━━━━━━━━━━━━━━━━━\u001b[0m \u001b[32m73.6/73.6 kB\u001b[0m \u001b[31m853.1 kB/s\u001b[0m eta \u001b[36m0:00:00\u001b[0m \u001b[36m0:00:01\u001b[0m\n",
      "\u001b[?25hCollecting aiohttp\n",
      "  Downloading aiohttp-3.8.4-cp310-cp310-macosx_11_0_arm64.whl (336 kB)\n",
      "\u001b[2K     \u001b[90m━━━━━━━━━━━━━━━━━━━━━━━━━━━━━━━━━━━━━━━\u001b[0m \u001b[32m336.9/336.9 kB\u001b[0m \u001b[31m2.5 MB/s\u001b[0m eta \u001b[36m0:00:00\u001b[0ma \u001b[36m0:00:01\u001b[0m\n",
      "\u001b[?25hRequirement already satisfied: tqdm in ./anaconda3/lib/python3.10/site-packages (from openai) (4.64.1)\n",
      "Requirement already satisfied: requests>=2.20 in ./anaconda3/lib/python3.10/site-packages (from openai) (2.28.1)\n",
      "Requirement already satisfied: urllib3<1.27,>=1.21.1 in ./anaconda3/lib/python3.10/site-packages (from requests>=2.20->openai) (1.26.14)\n",
      "Requirement already satisfied: idna<4,>=2.5 in ./anaconda3/lib/python3.10/site-packages (from requests>=2.20->openai) (3.4)\n",
      "Requirement already satisfied: certifi>=2017.4.17 in ./anaconda3/lib/python3.10/site-packages (from requests>=2.20->openai) (2023.5.7)\n",
      "Requirement already satisfied: charset-normalizer<3,>=2 in ./anaconda3/lib/python3.10/site-packages (from requests>=2.20->openai) (2.0.4)\n",
      "Collecting async-timeout<5.0,>=4.0.0a3\n",
      "  Downloading async_timeout-4.0.2-py3-none-any.whl (5.8 kB)\n",
      "Collecting frozenlist>=1.1.1\n",
      "  Downloading frozenlist-1.3.3-cp310-cp310-macosx_11_0_arm64.whl (34 kB)\n",
      "Collecting yarl<2.0,>=1.0\n",
      "  Downloading yarl-1.9.2-cp310-cp310-macosx_11_0_arm64.whl (62 kB)\n",
      "\u001b[2K     \u001b[90m━━━━━━━━━━━━━━━━━━━━━━━━━━━━━━━━━━━━━━━━\u001b[0m \u001b[32m62.6/62.6 kB\u001b[0m \u001b[31m2.8 MB/s\u001b[0m eta \u001b[36m0:00:00\u001b[0m\n",
      "\u001b[?25hRequirement already satisfied: attrs>=17.3.0 in ./anaconda3/lib/python3.10/site-packages (from aiohttp->openai) (22.1.0)\n",
      "Collecting aiosignal>=1.1.2\n",
      "  Downloading aiosignal-1.3.1-py3-none-any.whl (7.6 kB)\n",
      "Collecting multidict<7.0,>=4.5\n",
      "  Downloading multidict-6.0.4-cp310-cp310-macosx_11_0_arm64.whl (29 kB)\n",
      "Installing collected packages: multidict, frozenlist, async-timeout, yarl, aiosignal, aiohttp, openai\n",
      "Successfully installed aiohttp-3.8.4 aiosignal-1.3.1 async-timeout-4.0.2 frozenlist-1.3.3 multidict-6.0.4 openai-0.27.8 yarl-1.9.2\n",
      "Note: you may need to restart the kernel to use updated packages.\n"
     ]
    }
   ],
   "source": [
    "pip install openai"
   ]
  },
  {
   "cell_type": "code",
   "execution_count": 1,
   "id": "0fca79ed",
   "metadata": {},
   "outputs": [],
   "source": [
    "def d1(anyfunc):\n",
    "    def wrapped():\n",
    "        print(anyfunc, 'started')\n",
    "        x= anyfunc()\n",
    "        return x\n",
    "    return wrapped\n",
    "\n"
   ]
  },
  {
   "cell_type": "code",
   "execution_count": 2,
   "id": "fbcd9ada",
   "metadata": {},
   "outputs": [],
   "source": [
    "def base():\n",
    "    print('I am base function')\n",
    "    "
   ]
  },
  {
   "cell_type": "code",
   "execution_count": 3,
   "id": "2ab0c68c",
   "metadata": {},
   "outputs": [],
   "source": [
    "new_base= d1(base)"
   ]
  },
  {
   "cell_type": "code",
   "execution_count": 4,
   "id": "43f278ed",
   "metadata": {},
   "outputs": [
    {
     "data": {
      "text/plain": [
       "function"
      ]
     },
     "execution_count": 4,
     "metadata": {},
     "output_type": "execute_result"
    }
   ],
   "source": [
    "type(new_base)"
   ]
  },
  {
   "cell_type": "code",
   "execution_count": 5,
   "id": "d2984b52",
   "metadata": {},
   "outputs": [
    {
     "data": {
      "text/plain": [
       "<function __main__.d1.<locals>.wrapped()>"
      ]
     },
     "execution_count": 5,
     "metadata": {},
     "output_type": "execute_result"
    }
   ],
   "source": [
    "new_base"
   ]
  },
  {
   "cell_type": "code",
   "execution_count": 6,
   "id": "a610493e",
   "metadata": {},
   "outputs": [
    {
     "name": "stdout",
     "output_type": "stream",
     "text": [
      "<function base at 0x10b8b69e0> started\n",
      "I am base function\n"
     ]
    }
   ],
   "source": [
    "new_base()"
   ]
  },
  {
   "cell_type": "code",
   "execution_count": 8,
   "id": "fc612f40",
   "metadata": {},
   "outputs": [
    {
     "ename": "IndentationError",
     "evalue": "unindent does not match any outer indentation level (<tokenize>, line 5)",
     "output_type": "error",
     "traceback": [
      "\u001b[0;36m  File \u001b[0;32m<tokenize>:5\u001b[0;36m\u001b[0m\n\u001b[0;31m    y = anyfunc(*args, **kwargs)\u001b[0m\n\u001b[0m    ^\u001b[0m\n\u001b[0;31mIndentationError\u001b[0m\u001b[0;31m:\u001b[0m unindent does not match any outer indentation level\n"
     ]
    }
   ],
   "source": [
    "import time\n",
    "def fn_time (any func):\n",
    "             def wrapped (*args, **kwargs): \n",
    "                          start_time = time.time()\n",
    "                         y = anyfunc(*args, **kwargs)\n",
    "                          execution_time = = time.time() start_time\n",
    "                    \n",
    "                          print (f'Function (anyfunc} took {execution_time} seconds')\n",
    "                          return y \n",
    "        \n",
    "             return wrapped"
   ]
  },
  {
   "cell_type": "code",
   "execution_count": null,
   "id": "5f641cc3",
   "metadata": {},
   "outputs": [],
   "source": [
    "@fn_time \n",
    "def power2(n):\n",
    "    return 2 ** n"
   ]
  },
  {
   "cell_type": "code",
   "execution_count": null,
   "id": "8b8a7e04",
   "metadata": {},
   "outputs": [],
   "source": [
    "result = power2(1000000)"
   ]
  },
  {
   "cell_type": "code",
   "execution_count": null,
   "id": "d66d1277",
   "metadata": {},
   "outputs": [],
   "source": [
    "print(result)"
   ]
  },
  {
   "cell_type": "code",
   "execution_count": 11,
   "id": "22bc3d2a",
   "metadata": {},
   "outputs": [],
   "source": [
    "squares = [e*e for e in range(10)]"
   ]
  },
  {
   "cell_type": "code",
   "execution_count": 12,
   "id": "62eb451d",
   "metadata": {},
   "outputs": [
    {
     "name": "stdout",
     "output_type": "stream",
     "text": [
      "[0, 1, 4, 9, 16, 25, 36, 49, 64, 81]\n"
     ]
    }
   ],
   "source": [
    "print(squares)"
   ]
  },
  {
   "cell_type": "code",
   "execution_count": 13,
   "id": "4b8072c6",
   "metadata": {},
   "outputs": [
    {
     "name": "stdout",
     "output_type": "stream",
     "text": [
      "200\n"
     ]
    }
   ],
   "source": [
    "def f1(a):\n",
    "    b = 10\n",
    "    def f2(c):\n",
    "        return a + b + c\n",
    "    b = 100\n",
    "    return f2\n",
    " \n",
    "x = f1(1)(99)\n",
    "print(x)"
   ]
  },
  {
   "cell_type": "code",
   "execution_count": 16,
   "id": "c8c393b0",
   "metadata": {},
   "outputs": [
    {
     "name": "stdout",
     "output_type": "stream",
     "text": [
      "7.0710678118654755\n"
     ]
    }
   ],
   "source": [
    "import math\n",
    "x= [3,4,5]\n",
    "f1= math.sqrt(sum(e*e for e in x))\n",
    "print(f1)"
   ]
  },
  {
   "cell_type": "code",
   "execution_count": 1,
   "id": "1cbc6035",
   "metadata": {},
   "outputs": [],
   "source": [
    "c= [0,100,-40,25,50]"
   ]
  },
  {
   "cell_type": "code",
   "execution_count": 2,
   "id": "fbc7dc07",
   "metadata": {},
   "outputs": [
    {
     "name": "stdout",
     "output_type": "stream",
     "text": [
      "[32.0, 212.0, -40.0, 77.0, 122.0] [0, 100, -40, 25, 50]\n"
     ]
    }
   ],
   "source": [
    "f= [e*9/5 +32 for e in c]\n",
    "print(f,c)"
   ]
  },
  {
   "cell_type": "code",
   "execution_count": 3,
   "id": "831fb475",
   "metadata": {},
   "outputs": [],
   "source": [
    "c= [1,2,-3,-4,5,-6,7]"
   ]
  },
  {
   "cell_type": "code",
   "execution_count": 7,
   "id": "548917d7",
   "metadata": {},
   "outputs": [],
   "source": [
    "pn= [e*2 if e>=0 else e/2 for e in c\n",
    "    ]"
   ]
  },
  {
   "cell_type": "code",
   "execution_count": 8,
   "id": "c5dfa3c6",
   "metadata": {},
   "outputs": [
    {
     "name": "stdout",
     "output_type": "stream",
     "text": [
      "[2, 4, -1.5, -2.0, 10, -3.0, 14]\n"
     ]
    }
   ],
   "source": [
    "print(pn)"
   ]
  },
  {
   "cell_type": "code",
   "execution_count": 9,
   "id": "1c0d817b",
   "metadata": {},
   "outputs": [],
   "source": [
    "x= [1,2,3]\n",
    "y= ['one', 'two', 'three']"
   ]
  },
  {
   "cell_type": "code",
   "execution_count": 10,
   "id": "26c6dbf2",
   "metadata": {},
   "outputs": [
    {
     "name": "stdout",
     "output_type": "stream",
     "text": [
      "1 one\n",
      "2 two\n",
      "3 three\n"
     ]
    }
   ],
   "source": [
    "for index, e in enumerate(x):\n",
    "    print(e, y[index])\n",
    "    "
   ]
  },
  {
   "cell_type": "code",
   "execution_count": 11,
   "id": "2a27bff4",
   "metadata": {},
   "outputs": [],
   "source": [
    "weekdays = ['Mon', 'Tue', 'Wed', 'Thu', 'Fri', 'Sat','Sun']"
   ]
  },
  {
   "cell_type": "code",
   "execution_count": 12,
   "id": "d44921df",
   "metadata": {},
   "outputs": [],
   "source": [
    "new_weekdays = list(enumerate(weekdays,1))"
   ]
  },
  {
   "cell_type": "code",
   "execution_count": 13,
   "id": "c50ec42a",
   "metadata": {},
   "outputs": [
    {
     "name": "stdout",
     "output_type": "stream",
     "text": [
      "[(1, 'Mon'), (2, 'Tue'), (3, 'Wed'), (4, 'Thu'), (5, 'Fri'), (6, 'Sat'), (7, 'Sun')]\n"
     ]
    }
   ],
   "source": [
    "print(new_weekdays)"
   ]
  },
  {
   "cell_type": "code",
   "execution_count": 14,
   "id": "b5fff06e",
   "metadata": {},
   "outputs": [],
   "source": [
    "weekdays= ['monday', 'tuesday', 'wednesday', 'thursday', 'friday', 'saturday', 'sunday']"
   ]
  },
  {
   "cell_type": "code",
   "execution_count": 15,
   "id": "4e6ea0be",
   "metadata": {},
   "outputs": [],
   "source": [
    "def short(each_weekday):\n",
    "    x= each_weekday[0:3]\n",
    "    y= x.capitalize()\n",
    "    return y"
   ]
  },
  {
   "cell_type": "code",
   "execution_count": 16,
   "id": "ca330716",
   "metadata": {},
   "outputs": [
    {
     "name": "stdout",
     "output_type": "stream",
     "text": [
      "['Mon', 'Tue', 'Wed', 'Thu', 'Fri', 'Sat', 'Sun']\n"
     ]
    }
   ],
   "source": [
    "short_weekdays= list(map(short, weekdays))\n",
    "print(short_weekdays)"
   ]
  },
  {
   "cell_type": "code",
   "execution_count": 17,
   "id": "6c282cd1",
   "metadata": {},
   "outputs": [],
   "source": [
    " org  = (-1.5, -0.756, 0.91, 5.6, -10.0, 12.2)"
   ]
  },
  {
   "cell_type": "code",
   "execution_count": 24,
   "id": "9a04c76a",
   "metadata": {},
   "outputs": [],
   "source": [
    "def relu(each_number): \n",
    "    if each_number <-1: \n",
    "        each_number= 0\n",
    "    elif each_number> 1: \n",
    "        each_number=1\n",
    "    else:\n",
    "        each_number= round(each_number, 1) \n",
    "    return each_number"
   ]
  },
  {
   "cell_type": "code",
   "execution_count": 25,
   "id": "1a95f9b5",
   "metadata": {},
   "outputs": [
    {
     "name": "stdout",
     "output_type": "stream",
     "text": [
      "(-1.5, -0.756, 0.91, 5.6, -10.0, 12.2)\n",
      "[0, -0.8, 0.9, 1, 0, 1]\n"
     ]
    }
   ],
   "source": [
    "final=list(map (relu, org))\n",
    "print (org)\n",
    "print (final)"
   ]
  },
  {
   "cell_type": "code",
   "execution_count": 26,
   "id": "5555bb11",
   "metadata": {},
   "outputs": [
    {
     "data": {
      "text/plain": [
       "{1: 'one', 2: 'two', 3: 'three', 4: 'four'}"
      ]
     },
     "execution_count": 26,
     "metadata": {},
     "output_type": "execute_result"
    }
   ],
   "source": [
    "x = [1, 2, 3, 4]\n",
    "y =['one', 'two', 'three', 'four']\n",
    "z = zip(x,y)\n",
    "my_dict = dict(z)\n",
    "my_dict"
   ]
  },
  {
   "cell_type": "code",
   "execution_count": null,
   "id": "3fda1bd1",
   "metadata": {},
   "outputs": [],
   "source": []
  }
 ],
 "metadata": {
  "kernelspec": {
   "display_name": "Python 3 (ipykernel)",
   "language": "python",
   "name": "python3"
  },
  "language_info": {
   "codemirror_mode": {
    "name": "ipython",
    "version": 3
   },
   "file_extension": ".py",
   "mimetype": "text/x-python",
   "name": "python",
   "nbconvert_exporter": "python",
   "pygments_lexer": "ipython3",
   "version": "3.10.9"
  }
 },
 "nbformat": 4,
 "nbformat_minor": 5
}

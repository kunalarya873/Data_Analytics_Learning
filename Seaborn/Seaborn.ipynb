{
 "cells": [
  {
   "cell_type": "markdown",
   "metadata": {
    "id": "QYhYsyQ9HIKD"
   },
   "source": [
    "### **Seaborn**"
   ]
  },
  {
   "cell_type": "code",
   "execution_count": 1,
   "metadata": {
    "id": "uGWxD2sXyZAN"
   },
   "outputs": [],
   "source": [
    "import numpy as np\n",
    "import pandas as pd \n",
    "import seaborn as sns"
   ]
  },
  {
   "cell_type": "code",
   "execution_count": 2,
   "metadata": {
    "id": "oemO2XuDqyLu"
   },
   "outputs": [
    {
     "ename": "FileNotFoundError",
     "evalue": "[Errno 2] No such file or directory: '/content/drive/MyDrive/Black_friday_sales1.csv'",
     "output_type": "error",
     "traceback": [
      "\u001b[0;31m---------------------------------------------------------------------------\u001b[0m",
      "\u001b[0;31mFileNotFoundError\u001b[0m                         Traceback (most recent call last)",
      "Cell \u001b[0;32mIn[2], line 1\u001b[0m\n\u001b[0;32m----> 1\u001b[0m df \u001b[38;5;241m=\u001b[39m \u001b[43mpd\u001b[49m\u001b[38;5;241;43m.\u001b[39;49m\u001b[43mread_csv\u001b[49m\u001b[43m(\u001b[49m\u001b[38;5;124;43m'\u001b[39;49m\u001b[38;5;124;43m/content/drive/MyDrive/Black_friday_sales1.csv\u001b[39;49m\u001b[38;5;124;43m'\u001b[39;49m\u001b[43m)\u001b[49m\n",
      "File \u001b[0;32m~/anaconda3/lib/python3.10/site-packages/pandas/util/_decorators.py:211\u001b[0m, in \u001b[0;36mdeprecate_kwarg.<locals>._deprecate_kwarg.<locals>.wrapper\u001b[0;34m(*args, **kwargs)\u001b[0m\n\u001b[1;32m    209\u001b[0m     \u001b[38;5;28;01melse\u001b[39;00m:\n\u001b[1;32m    210\u001b[0m         kwargs[new_arg_name] \u001b[38;5;241m=\u001b[39m new_arg_value\n\u001b[0;32m--> 211\u001b[0m \u001b[38;5;28;01mreturn\u001b[39;00m \u001b[43mfunc\u001b[49m\u001b[43m(\u001b[49m\u001b[38;5;241;43m*\u001b[39;49m\u001b[43margs\u001b[49m\u001b[43m,\u001b[49m\u001b[43m \u001b[49m\u001b[38;5;241;43m*\u001b[39;49m\u001b[38;5;241;43m*\u001b[39;49m\u001b[43mkwargs\u001b[49m\u001b[43m)\u001b[49m\n",
      "File \u001b[0;32m~/anaconda3/lib/python3.10/site-packages/pandas/util/_decorators.py:331\u001b[0m, in \u001b[0;36mdeprecate_nonkeyword_arguments.<locals>.decorate.<locals>.wrapper\u001b[0;34m(*args, **kwargs)\u001b[0m\n\u001b[1;32m    325\u001b[0m \u001b[38;5;28;01mif\u001b[39;00m \u001b[38;5;28mlen\u001b[39m(args) \u001b[38;5;241m>\u001b[39m num_allow_args:\n\u001b[1;32m    326\u001b[0m     warnings\u001b[38;5;241m.\u001b[39mwarn(\n\u001b[1;32m    327\u001b[0m         msg\u001b[38;5;241m.\u001b[39mformat(arguments\u001b[38;5;241m=\u001b[39m_format_argument_list(allow_args)),\n\u001b[1;32m    328\u001b[0m         \u001b[38;5;167;01mFutureWarning\u001b[39;00m,\n\u001b[1;32m    329\u001b[0m         stacklevel\u001b[38;5;241m=\u001b[39mfind_stack_level(),\n\u001b[1;32m    330\u001b[0m     )\n\u001b[0;32m--> 331\u001b[0m \u001b[38;5;28;01mreturn\u001b[39;00m \u001b[43mfunc\u001b[49m\u001b[43m(\u001b[49m\u001b[38;5;241;43m*\u001b[39;49m\u001b[43margs\u001b[49m\u001b[43m,\u001b[49m\u001b[43m \u001b[49m\u001b[38;5;241;43m*\u001b[39;49m\u001b[38;5;241;43m*\u001b[39;49m\u001b[43mkwargs\u001b[49m\u001b[43m)\u001b[49m\n",
      "File \u001b[0;32m~/anaconda3/lib/python3.10/site-packages/pandas/io/parsers/readers.py:950\u001b[0m, in \u001b[0;36mread_csv\u001b[0;34m(filepath_or_buffer, sep, delimiter, header, names, index_col, usecols, squeeze, prefix, mangle_dupe_cols, dtype, engine, converters, true_values, false_values, skipinitialspace, skiprows, skipfooter, nrows, na_values, keep_default_na, na_filter, verbose, skip_blank_lines, parse_dates, infer_datetime_format, keep_date_col, date_parser, dayfirst, cache_dates, iterator, chunksize, compression, thousands, decimal, lineterminator, quotechar, quoting, doublequote, escapechar, comment, encoding, encoding_errors, dialect, error_bad_lines, warn_bad_lines, on_bad_lines, delim_whitespace, low_memory, memory_map, float_precision, storage_options)\u001b[0m\n\u001b[1;32m    935\u001b[0m kwds_defaults \u001b[38;5;241m=\u001b[39m _refine_defaults_read(\n\u001b[1;32m    936\u001b[0m     dialect,\n\u001b[1;32m    937\u001b[0m     delimiter,\n\u001b[0;32m   (...)\u001b[0m\n\u001b[1;32m    946\u001b[0m     defaults\u001b[38;5;241m=\u001b[39m{\u001b[38;5;124m\"\u001b[39m\u001b[38;5;124mdelimiter\u001b[39m\u001b[38;5;124m\"\u001b[39m: \u001b[38;5;124m\"\u001b[39m\u001b[38;5;124m,\u001b[39m\u001b[38;5;124m\"\u001b[39m},\n\u001b[1;32m    947\u001b[0m )\n\u001b[1;32m    948\u001b[0m kwds\u001b[38;5;241m.\u001b[39mupdate(kwds_defaults)\n\u001b[0;32m--> 950\u001b[0m \u001b[38;5;28;01mreturn\u001b[39;00m \u001b[43m_read\u001b[49m\u001b[43m(\u001b[49m\u001b[43mfilepath_or_buffer\u001b[49m\u001b[43m,\u001b[49m\u001b[43m \u001b[49m\u001b[43mkwds\u001b[49m\u001b[43m)\u001b[49m\n",
      "File \u001b[0;32m~/anaconda3/lib/python3.10/site-packages/pandas/io/parsers/readers.py:605\u001b[0m, in \u001b[0;36m_read\u001b[0;34m(filepath_or_buffer, kwds)\u001b[0m\n\u001b[1;32m    602\u001b[0m _validate_names(kwds\u001b[38;5;241m.\u001b[39mget(\u001b[38;5;124m\"\u001b[39m\u001b[38;5;124mnames\u001b[39m\u001b[38;5;124m\"\u001b[39m, \u001b[38;5;28;01mNone\u001b[39;00m))\n\u001b[1;32m    604\u001b[0m \u001b[38;5;66;03m# Create the parser.\u001b[39;00m\n\u001b[0;32m--> 605\u001b[0m parser \u001b[38;5;241m=\u001b[39m \u001b[43mTextFileReader\u001b[49m\u001b[43m(\u001b[49m\u001b[43mfilepath_or_buffer\u001b[49m\u001b[43m,\u001b[49m\u001b[43m \u001b[49m\u001b[38;5;241;43m*\u001b[39;49m\u001b[38;5;241;43m*\u001b[39;49m\u001b[43mkwds\u001b[49m\u001b[43m)\u001b[49m\n\u001b[1;32m    607\u001b[0m \u001b[38;5;28;01mif\u001b[39;00m chunksize \u001b[38;5;129;01mor\u001b[39;00m iterator:\n\u001b[1;32m    608\u001b[0m     \u001b[38;5;28;01mreturn\u001b[39;00m parser\n",
      "File \u001b[0;32m~/anaconda3/lib/python3.10/site-packages/pandas/io/parsers/readers.py:1442\u001b[0m, in \u001b[0;36mTextFileReader.__init__\u001b[0;34m(self, f, engine, **kwds)\u001b[0m\n\u001b[1;32m   1439\u001b[0m     \u001b[38;5;28mself\u001b[39m\u001b[38;5;241m.\u001b[39moptions[\u001b[38;5;124m\"\u001b[39m\u001b[38;5;124mhas_index_names\u001b[39m\u001b[38;5;124m\"\u001b[39m] \u001b[38;5;241m=\u001b[39m kwds[\u001b[38;5;124m\"\u001b[39m\u001b[38;5;124mhas_index_names\u001b[39m\u001b[38;5;124m\"\u001b[39m]\n\u001b[1;32m   1441\u001b[0m \u001b[38;5;28mself\u001b[39m\u001b[38;5;241m.\u001b[39mhandles: IOHandles \u001b[38;5;241m|\u001b[39m \u001b[38;5;28;01mNone\u001b[39;00m \u001b[38;5;241m=\u001b[39m \u001b[38;5;28;01mNone\u001b[39;00m\n\u001b[0;32m-> 1442\u001b[0m \u001b[38;5;28mself\u001b[39m\u001b[38;5;241m.\u001b[39m_engine \u001b[38;5;241m=\u001b[39m \u001b[38;5;28;43mself\u001b[39;49m\u001b[38;5;241;43m.\u001b[39;49m\u001b[43m_make_engine\u001b[49m\u001b[43m(\u001b[49m\u001b[43mf\u001b[49m\u001b[43m,\u001b[49m\u001b[43m \u001b[49m\u001b[38;5;28;43mself\u001b[39;49m\u001b[38;5;241;43m.\u001b[39;49m\u001b[43mengine\u001b[49m\u001b[43m)\u001b[49m\n",
      "File \u001b[0;32m~/anaconda3/lib/python3.10/site-packages/pandas/io/parsers/readers.py:1735\u001b[0m, in \u001b[0;36mTextFileReader._make_engine\u001b[0;34m(self, f, engine)\u001b[0m\n\u001b[1;32m   1733\u001b[0m     \u001b[38;5;28;01mif\u001b[39;00m \u001b[38;5;124m\"\u001b[39m\u001b[38;5;124mb\u001b[39m\u001b[38;5;124m\"\u001b[39m \u001b[38;5;129;01mnot\u001b[39;00m \u001b[38;5;129;01min\u001b[39;00m mode:\n\u001b[1;32m   1734\u001b[0m         mode \u001b[38;5;241m+\u001b[39m\u001b[38;5;241m=\u001b[39m \u001b[38;5;124m\"\u001b[39m\u001b[38;5;124mb\u001b[39m\u001b[38;5;124m\"\u001b[39m\n\u001b[0;32m-> 1735\u001b[0m \u001b[38;5;28mself\u001b[39m\u001b[38;5;241m.\u001b[39mhandles \u001b[38;5;241m=\u001b[39m \u001b[43mget_handle\u001b[49m\u001b[43m(\u001b[49m\n\u001b[1;32m   1736\u001b[0m \u001b[43m    \u001b[49m\u001b[43mf\u001b[49m\u001b[43m,\u001b[49m\n\u001b[1;32m   1737\u001b[0m \u001b[43m    \u001b[49m\u001b[43mmode\u001b[49m\u001b[43m,\u001b[49m\n\u001b[1;32m   1738\u001b[0m \u001b[43m    \u001b[49m\u001b[43mencoding\u001b[49m\u001b[38;5;241;43m=\u001b[39;49m\u001b[38;5;28;43mself\u001b[39;49m\u001b[38;5;241;43m.\u001b[39;49m\u001b[43moptions\u001b[49m\u001b[38;5;241;43m.\u001b[39;49m\u001b[43mget\u001b[49m\u001b[43m(\u001b[49m\u001b[38;5;124;43m\"\u001b[39;49m\u001b[38;5;124;43mencoding\u001b[39;49m\u001b[38;5;124;43m\"\u001b[39;49m\u001b[43m,\u001b[49m\u001b[43m \u001b[49m\u001b[38;5;28;43;01mNone\u001b[39;49;00m\u001b[43m)\u001b[49m\u001b[43m,\u001b[49m\n\u001b[1;32m   1739\u001b[0m \u001b[43m    \u001b[49m\u001b[43mcompression\u001b[49m\u001b[38;5;241;43m=\u001b[39;49m\u001b[38;5;28;43mself\u001b[39;49m\u001b[38;5;241;43m.\u001b[39;49m\u001b[43moptions\u001b[49m\u001b[38;5;241;43m.\u001b[39;49m\u001b[43mget\u001b[49m\u001b[43m(\u001b[49m\u001b[38;5;124;43m\"\u001b[39;49m\u001b[38;5;124;43mcompression\u001b[39;49m\u001b[38;5;124;43m\"\u001b[39;49m\u001b[43m,\u001b[49m\u001b[43m \u001b[49m\u001b[38;5;28;43;01mNone\u001b[39;49;00m\u001b[43m)\u001b[49m\u001b[43m,\u001b[49m\n\u001b[1;32m   1740\u001b[0m \u001b[43m    \u001b[49m\u001b[43mmemory_map\u001b[49m\u001b[38;5;241;43m=\u001b[39;49m\u001b[38;5;28;43mself\u001b[39;49m\u001b[38;5;241;43m.\u001b[39;49m\u001b[43moptions\u001b[49m\u001b[38;5;241;43m.\u001b[39;49m\u001b[43mget\u001b[49m\u001b[43m(\u001b[49m\u001b[38;5;124;43m\"\u001b[39;49m\u001b[38;5;124;43mmemory_map\u001b[39;49m\u001b[38;5;124;43m\"\u001b[39;49m\u001b[43m,\u001b[49m\u001b[43m \u001b[49m\u001b[38;5;28;43;01mFalse\u001b[39;49;00m\u001b[43m)\u001b[49m\u001b[43m,\u001b[49m\n\u001b[1;32m   1741\u001b[0m \u001b[43m    \u001b[49m\u001b[43mis_text\u001b[49m\u001b[38;5;241;43m=\u001b[39;49m\u001b[43mis_text\u001b[49m\u001b[43m,\u001b[49m\n\u001b[1;32m   1742\u001b[0m \u001b[43m    \u001b[49m\u001b[43merrors\u001b[49m\u001b[38;5;241;43m=\u001b[39;49m\u001b[38;5;28;43mself\u001b[39;49m\u001b[38;5;241;43m.\u001b[39;49m\u001b[43moptions\u001b[49m\u001b[38;5;241;43m.\u001b[39;49m\u001b[43mget\u001b[49m\u001b[43m(\u001b[49m\u001b[38;5;124;43m\"\u001b[39;49m\u001b[38;5;124;43mencoding_errors\u001b[39;49m\u001b[38;5;124;43m\"\u001b[39;49m\u001b[43m,\u001b[49m\u001b[43m \u001b[49m\u001b[38;5;124;43m\"\u001b[39;49m\u001b[38;5;124;43mstrict\u001b[39;49m\u001b[38;5;124;43m\"\u001b[39;49m\u001b[43m)\u001b[49m\u001b[43m,\u001b[49m\n\u001b[1;32m   1743\u001b[0m \u001b[43m    \u001b[49m\u001b[43mstorage_options\u001b[49m\u001b[38;5;241;43m=\u001b[39;49m\u001b[38;5;28;43mself\u001b[39;49m\u001b[38;5;241;43m.\u001b[39;49m\u001b[43moptions\u001b[49m\u001b[38;5;241;43m.\u001b[39;49m\u001b[43mget\u001b[49m\u001b[43m(\u001b[49m\u001b[38;5;124;43m\"\u001b[39;49m\u001b[38;5;124;43mstorage_options\u001b[39;49m\u001b[38;5;124;43m\"\u001b[39;49m\u001b[43m,\u001b[49m\u001b[43m \u001b[49m\u001b[38;5;28;43;01mNone\u001b[39;49;00m\u001b[43m)\u001b[49m\u001b[43m,\u001b[49m\n\u001b[1;32m   1744\u001b[0m \u001b[43m\u001b[49m\u001b[43m)\u001b[49m\n\u001b[1;32m   1745\u001b[0m \u001b[38;5;28;01massert\u001b[39;00m \u001b[38;5;28mself\u001b[39m\u001b[38;5;241m.\u001b[39mhandles \u001b[38;5;129;01mis\u001b[39;00m \u001b[38;5;129;01mnot\u001b[39;00m \u001b[38;5;28;01mNone\u001b[39;00m\n\u001b[1;32m   1746\u001b[0m f \u001b[38;5;241m=\u001b[39m \u001b[38;5;28mself\u001b[39m\u001b[38;5;241m.\u001b[39mhandles\u001b[38;5;241m.\u001b[39mhandle\n",
      "File \u001b[0;32m~/anaconda3/lib/python3.10/site-packages/pandas/io/common.py:856\u001b[0m, in \u001b[0;36mget_handle\u001b[0;34m(path_or_buf, mode, encoding, compression, memory_map, is_text, errors, storage_options)\u001b[0m\n\u001b[1;32m    851\u001b[0m \u001b[38;5;28;01melif\u001b[39;00m \u001b[38;5;28misinstance\u001b[39m(handle, \u001b[38;5;28mstr\u001b[39m):\n\u001b[1;32m    852\u001b[0m     \u001b[38;5;66;03m# Check whether the filename is to be opened in binary mode.\u001b[39;00m\n\u001b[1;32m    853\u001b[0m     \u001b[38;5;66;03m# Binary mode does not support 'encoding' and 'newline'.\u001b[39;00m\n\u001b[1;32m    854\u001b[0m     \u001b[38;5;28;01mif\u001b[39;00m ioargs\u001b[38;5;241m.\u001b[39mencoding \u001b[38;5;129;01mand\u001b[39;00m \u001b[38;5;124m\"\u001b[39m\u001b[38;5;124mb\u001b[39m\u001b[38;5;124m\"\u001b[39m \u001b[38;5;129;01mnot\u001b[39;00m \u001b[38;5;129;01min\u001b[39;00m ioargs\u001b[38;5;241m.\u001b[39mmode:\n\u001b[1;32m    855\u001b[0m         \u001b[38;5;66;03m# Encoding\u001b[39;00m\n\u001b[0;32m--> 856\u001b[0m         handle \u001b[38;5;241m=\u001b[39m \u001b[38;5;28;43mopen\u001b[39;49m\u001b[43m(\u001b[49m\n\u001b[1;32m    857\u001b[0m \u001b[43m            \u001b[49m\u001b[43mhandle\u001b[49m\u001b[43m,\u001b[49m\n\u001b[1;32m    858\u001b[0m \u001b[43m            \u001b[49m\u001b[43mioargs\u001b[49m\u001b[38;5;241;43m.\u001b[39;49m\u001b[43mmode\u001b[49m\u001b[43m,\u001b[49m\n\u001b[1;32m    859\u001b[0m \u001b[43m            \u001b[49m\u001b[43mencoding\u001b[49m\u001b[38;5;241;43m=\u001b[39;49m\u001b[43mioargs\u001b[49m\u001b[38;5;241;43m.\u001b[39;49m\u001b[43mencoding\u001b[49m\u001b[43m,\u001b[49m\n\u001b[1;32m    860\u001b[0m \u001b[43m            \u001b[49m\u001b[43merrors\u001b[49m\u001b[38;5;241;43m=\u001b[39;49m\u001b[43merrors\u001b[49m\u001b[43m,\u001b[49m\n\u001b[1;32m    861\u001b[0m \u001b[43m            \u001b[49m\u001b[43mnewline\u001b[49m\u001b[38;5;241;43m=\u001b[39;49m\u001b[38;5;124;43m\"\u001b[39;49m\u001b[38;5;124;43m\"\u001b[39;49m\u001b[43m,\u001b[49m\n\u001b[1;32m    862\u001b[0m \u001b[43m        \u001b[49m\u001b[43m)\u001b[49m\n\u001b[1;32m    863\u001b[0m     \u001b[38;5;28;01melse\u001b[39;00m:\n\u001b[1;32m    864\u001b[0m         \u001b[38;5;66;03m# Binary mode\u001b[39;00m\n\u001b[1;32m    865\u001b[0m         handle \u001b[38;5;241m=\u001b[39m \u001b[38;5;28mopen\u001b[39m(handle, ioargs\u001b[38;5;241m.\u001b[39mmode)\n",
      "\u001b[0;31mFileNotFoundError\u001b[0m: [Errno 2] No such file or directory: '/content/drive/MyDrive/Black_friday_sales1.csv'"
     ]
    }
   ],
   "source": [
    "df = pd.read_csv('/content/drive/MyDrive/Black_friday_sales1.csv')"
   ]
  },
  {
   "cell_type": "code",
   "execution_count": null,
   "metadata": {
    "id": "snqfWURAr5rk"
   },
   "outputs": [],
   "source": [
    "df"
   ]
  },
  {
   "cell_type": "code",
   "execution_count": null,
   "metadata": {
    "colab": {
     "base_uri": "https://localhost:8080/"
    },
    "id": "YaC84Til_d88",
    "outputId": "97c87cbc-b2ba-4488-e25c-13d9f2bd9608"
   },
   "outputs": [],
   "source": [
    "sns.get_dataset_names()"
   ]
  },
  {
   "cell_type": "code",
   "execution_count": null,
   "metadata": {
    "id": "df_QADHd_Qvj"
   },
   "outputs": [],
   "source": [
    "np.random.seed(0)\n",
    "x = np.random.randn(10)"
   ]
  },
  {
   "cell_type": "code",
   "execution_count": null,
   "metadata": {
    "colab": {
     "base_uri": "https://localhost:8080/"
    },
    "id": "a5Qp8f7jCY15",
    "outputId": "9c92940d-6a5d-48a5-9213-7246607327cb"
   },
   "outputs": [],
   "source": [
    "x"
   ]
  },
  {
   "cell_type": "code",
   "execution_count": null,
   "metadata": {
    "colab": {
     "base_uri": "https://localhost:8080/"
    },
    "id": "RaG0iJI4B-LC",
    "outputId": "5532c83d-51c2-4fe1-d374-c9a47bfc0a82"
   },
   "outputs": [],
   "source": [
    "min(x)"
   ]
  },
  {
   "cell_type": "code",
   "execution_count": null,
   "metadata": {
    "colab": {
     "base_uri": "https://localhost:8080/"
    },
    "id": "SSS216jJCAfy",
    "outputId": "79024594-1ebf-4739-e03e-fa6a13ce1268"
   },
   "outputs": [],
   "source": [
    "max(x)"
   ]
  },
  {
   "cell_type": "code",
   "execution_count": null,
   "metadata": {
    "colab": {
     "base_uri": "https://localhost:8080/",
     "height": 165
    },
    "id": "yOruNNZZFTfg",
    "outputId": "38bc1903-2b5a-4ffa-9a21-94e439957414"
   },
   "outputs": [],
   "source": [
    "ax = sns.displot(x)"
   ]
  },
  {
   "cell_type": "code",
   "execution_count": null,
   "metadata": {
    "colab": {
     "base_uri": "https://localhost:8080/",
     "height": 286
    },
    "id": "lTydqUhVGBaO",
    "outputId": "538a9816-69a1-4655-b50b-0e8fa852a1ea"
   },
   "outputs": [],
   "source": [
    "sns.rugplot(x)"
   ]
  },
  {
   "cell_type": "code",
   "execution_count": null,
   "metadata": {
    "colab": {
     "base_uri": "https://localhost:8080/",
     "height": 369
    },
    "id": "AUDt3FOY6O46",
    "outputId": "c1c5ac17-7f0e-4bf4-a204-e6cdca097954"
   },
   "outputs": [],
   "source": [
    "x = sns.displot([1,2,3,4,5])"
   ]
  },
  {
   "cell_type": "code",
   "execution_count": null,
   "metadata": {
    "colab": {
     "base_uri": "https://localhost:8080/",
     "height": 386
    },
    "id": "BFWYhgftwE3b",
    "outputId": "79db353e-ed25-4d91-fb6f-ba6bd2ed050e"
   },
   "outputs": [],
   "source": [
    "sns.displot(['a','b','c','d','e','f','g'])"
   ]
  },
  {
   "cell_type": "code",
   "execution_count": null,
   "metadata": {
    "id": "HiOgi7Z__aiS"
   },
   "outputs": [],
   "source": [
    "x = pd.Series(x, name=\"x variable\")\n",
    "ax = sns.displot(x, bins = 6)"
   ]
  },
  {
   "cell_type": "code",
   "execution_count": null,
   "metadata": {
    "colab": {
     "base_uri": "https://localhost:8080/",
     "height": 423
    },
    "id": "aUnSDvbTdwwb",
    "outputId": "abb5ad62-a5e8-4f22-d4f8-f3069633eb0a"
   },
   "outputs": [],
   "source": [
    "tips = sns.load_dataset(\"tips\")\n",
    "tips"
   ]
  },
  {
   "cell_type": "code",
   "execution_count": null,
   "metadata": {
    "colab": {
     "base_uri": "https://localhost:8080/",
     "height": 297
    },
    "id": "FYDyVm8Hez4o",
    "outputId": "2f3c9721-e9bc-4e3d-b2a8-a3694d3352b6"
   },
   "outputs": [],
   "source": [
    "sns.kdeplot(data=tips, x=\"total_bill\")"
   ]
  },
  {
   "cell_type": "code",
   "execution_count": null,
   "metadata": {
    "colab": {
     "base_uri": "https://localhost:8080/",
     "height": 296
    },
    "id": "hRbvYrd5CAQl",
    "outputId": "161249ab-3b70-4032-8695-9a4ede4995f7"
   },
   "outputs": [],
   "source": [
    "#Flip the plot by assigning the data variable to the y axis:\n",
    "sns.kdeplot(data=tips, y=\"total_bill\")"
   ]
  },
  {
   "cell_type": "code",
   "execution_count": null,
   "metadata": {
    "colab": {
     "base_uri": "https://localhost:8080/",
     "height": 424
    },
    "id": "GvwsPuyyfq3U",
    "outputId": "8467bae5-7d98-4a73-dde3-b1a150390cd3"
   },
   "outputs": [],
   "source": [
    "iris = sns.load_dataset(\"iris\")\n",
    "iris"
   ]
  },
  {
   "cell_type": "code",
   "execution_count": null,
   "metadata": {
    "colab": {
     "base_uri": "https://localhost:8080/",
     "height": 285
    },
    "id": "sF7pUSClCD3a",
    "outputId": "0916fba2-55a0-4d03-c75c-ee71974150a7"
   },
   "outputs": [],
   "source": [
    "#Plot distributions for each column of a wide-form dataset:\n",
    "sns.kdeplot(data=iris)"
   ]
  },
  {
   "cell_type": "code",
   "execution_count": null,
   "metadata": {
    "colab": {
     "base_uri": "https://localhost:8080/",
     "height": 297
    },
    "id": "xQRRlkV8DEJy",
    "outputId": "f8632a74-c634-4c57-8ece-654596cac579"
   },
   "outputs": [],
   "source": [
    "sns.kdeplot(data=tips, x=\"total_bill\", bw_adjust=.50)"
   ]
  },
  {
   "cell_type": "markdown",
   "metadata": {
    "id": "9TsypcpPyffM"
   },
   "source": []
  },
  {
   "cell_type": "code",
   "execution_count": null,
   "metadata": {
    "colab": {
     "base_uri": "https://localhost:8080/",
     "height": 280
    },
    "id": "aZtq0-QcDHM6",
    "outputId": "49eca981-41de-4b5e-d3d2-617bb1f37e70"
   },
   "outputs": [],
   "source": [
    "ax= sns.kdeplot(data=tips, x=\"total_bill\", bw_adjust=5, cut=0)"
   ]
  },
  {
   "cell_type": "code",
   "execution_count": null,
   "metadata": {
    "colab": {
     "base_uri": "https://localhost:8080/"
    },
    "id": "uTVc967kx_y7",
    "outputId": "ad722a3b-d500-43b5-f810-166f40ca30f1"
   },
   "outputs": [],
   "source": [
    "min(tips.total_bill)"
   ]
  },
  {
   "cell_type": "code",
   "execution_count": null,
   "metadata": {
    "colab": {
     "base_uri": "https://localhost:8080/"
    },
    "id": "oUIpEudRyLNW",
    "outputId": "3d6a92c9-75dd-4a53-9eac-33252f3427d1"
   },
   "outputs": [],
   "source": [
    "max(tips.total_bill)"
   ]
  },
  {
   "cell_type": "code",
   "execution_count": null,
   "metadata": {
    "colab": {
     "base_uri": "https://localhost:8080/",
     "height": 1000
    },
    "id": "8OzPMHiizpC5",
    "outputId": "009c07fb-45a5-441f-c77a-101e1b0989e2"
   },
   "outputs": [],
   "source": [
    "tips[60:100]"
   ]
  },
  {
   "cell_type": "code",
   "execution_count": null,
   "metadata": {
    "colab": {
     "base_uri": "https://localhost:8080/",
     "height": 302
    },
    "id": "vbt-B2d9DNFj",
    "outputId": "0256be81-095c-453b-897f-750d3e89866b"
   },
   "outputs": [],
   "source": [
    "sns.kdeplot(data=tips, x=\"total_bill\", hue=\"time\")"
   ]
  },
  {
   "cell_type": "code",
   "execution_count": null,
   "metadata": {
    "colab": {
     "base_uri": "https://localhost:8080/",
     "height": 302
    },
    "id": "6-PU_SGkDfyv",
    "outputId": "34a815d2-6912-4d91-bc33-a9b59441f598"
   },
   "outputs": [],
   "source": [
    "sns.kdeplot(data=tips, x=\"total_bill\", hue=\"time\", multiple=\"stack\")"
   ]
  },
  {
   "cell_type": "code",
   "execution_count": null,
   "metadata": {
    "colab": {
     "base_uri": "https://localhost:8080/",
     "height": 302
    },
    "id": "owpodjVWD6SH",
    "outputId": "30b0a7df-2d82-4807-8416-ee16ed52a193"
   },
   "outputs": [],
   "source": [
    "tips_agg = (tips\n",
    "    .groupby(\"size\")\n",
    "    .agg(total_bill=(\"total_bill\", \"mean\"), n=(\"total_bill\", \"count\"))\n",
    ")\n",
    "sns.kdeplot(data=tips_agg, x=\"total_bill\", weights=\"n\")"
   ]
  },
  {
   "cell_type": "code",
   "execution_count": null,
   "metadata": {
    "colab": {
     "base_uri": "https://localhost:8080/",
     "height": 424
    },
    "id": "1J66oGsE4gb_",
    "outputId": "f942d3aa-da33-4372-d40f-ed8f09de907b"
   },
   "outputs": [],
   "source": [
    "diamonds = sns.load_dataset(\"diamonds\")\n",
    "diamonds"
   ]
  },
  {
   "cell_type": "code",
   "execution_count": null,
   "metadata": {
    "colab": {
     "base_uri": "https://localhost:8080/",
     "height": 308
    },
    "id": "v6Xfw6CwEBET",
    "outputId": "1396805e-3057-4438-9fcd-8c3b64a9ac04"
   },
   "outputs": [],
   "source": [
    "sns.kdeplot(data=diamonds, x=\"price\", log_scale=True)"
   ]
  },
  {
   "cell_type": "code",
   "execution_count": null,
   "metadata": {
    "colab": {
     "base_uri": "https://localhost:8080/",
     "height": 302
    },
    "id": "q5w1GdJaEHKa",
    "outputId": "5a0dc151-81d3-4535-acf1-ea4522827ac6"
   },
   "outputs": [],
   "source": [
    "sns.kdeplot(data=tips, x=\"total_bill\", hue=\"size\")"
   ]
  },
  {
   "cell_type": "code",
   "execution_count": null,
   "metadata": {
    "colab": {
     "base_uri": "https://localhost:8080/",
     "height": 297
    },
    "id": "D5S6OOZYELuu",
    "outputId": "ce876dab-e309-4548-8dce-a3f293a78be3"
   },
   "outputs": [],
   "source": [
    "sns.kdeplot(\n",
    "   data=tips, x=\"total_bill\", hue=\"size\",\n",
    "   fill=True, alpha=.5, linewidth=0\n",
    ")"
   ]
  },
  {
   "cell_type": "code",
   "execution_count": null,
   "metadata": {
    "colab": {
     "base_uri": "https://localhost:8080/",
     "height": 424
    },
    "id": "_X08HHdB6uiF",
    "outputId": "1d485b8b-44ad-49d9-8fe1-0d83d1dfc2fa"
   },
   "outputs": [],
   "source": [
    "geyser = sns.load_dataset(\"geyser\")\n",
    "geyser"
   ]
  },
  {
   "cell_type": "code",
   "execution_count": null,
   "metadata": {
    "colab": {
     "base_uri": "https://localhost:8080/",
     "height": 296
    },
    "id": "N93x6kf4ERLD",
    "outputId": "30c438f7-4a19-463f-92b0-8922d3a2d9be"
   },
   "outputs": [],
   "source": [
    "sns.kdeplot(data=geyser, x=\"waiting\", y=\"duration\")"
   ]
  },
  {
   "cell_type": "code",
   "execution_count": null,
   "metadata": {
    "colab": {
     "base_uri": "https://localhost:8080/",
     "height": 302
    },
    "id": "rayFQ9tyEYoF",
    "outputId": "55bb6012-05cc-474a-aaa5-c61eddc8a328"
   },
   "outputs": [],
   "source": [
    "#Map a third variable with a hue semantic to show conditional distributions:\n",
    "\n",
    "sns.kdeplot(data=geyser, x=\"waiting\", y=\"duration\", hue=\"kind\")"
   ]
  },
  {
   "cell_type": "code",
   "execution_count": null,
   "metadata": {
    "colab": {
     "base_uri": "https://localhost:8080/",
     "height": 302
    },
    "id": "_JkledaJEgsL",
    "outputId": "65c5e936-0472-4fab-acd3-b9f3c91579b8"
   },
   "outputs": [],
   "source": [
    "#Show filled contours:\n",
    "\n",
    "sns.kdeplot(\n",
    "    data=geyser, x=\"waiting\", y=\"duration\", hue=\"kind\", fill=True,\n",
    ")"
   ]
  },
  {
   "cell_type": "code",
   "execution_count": null,
   "metadata": {
    "colab": {
     "base_uri": "https://localhost:8080/",
     "height": 296
    },
    "id": "payKMrkxErLY",
    "outputId": "23ac3ab1-d84c-4cfa-9520-276fb4586415"
   },
   "outputs": [],
   "source": [
    "#Show fewer contour levels, covering less of the distribution:\n",
    "\n",
    "sns.kdeplot(\n",
    "    data=geyser, x=\"waiting\", y=\"duration\", hue=\"kind\",\n",
    "    levels=10, thresh=.5,\n",
    ")"
   ]
  },
  {
   "cell_type": "code",
   "execution_count": null,
   "metadata": {
    "colab": {
     "base_uri": "https://localhost:8080/",
     "height": 302
    },
    "id": "5Pv1awl_E_Dw",
    "outputId": "57514adb-5f5a-4d18-dea9-53507f128bf8"
   },
   "outputs": [],
   "source": [
    "#Fill the axes extent with a smooth distribution, using a different colormap:\n",
    "\n",
    "sns.kdeplot(\n",
    "    data=geyser, x=\"waiting\", y=\"duration\",\n",
    "    fill=True, thresh=0, levels=100, cmap=\"mako\",\n",
    ")"
   ]
  },
  {
   "cell_type": "markdown",
   "metadata": {
    "id": "HfY3cBVdUUJD"
   },
   "source": [
    "**Scatterplot**"
   ]
  },
  {
   "cell_type": "code",
   "execution_count": null,
   "metadata": {
    "colab": {
     "base_uri": "https://localhost:8080/",
     "height": 303
    },
    "id": "4V1kx_NtUQxi",
    "outputId": "165947f4-a501-44e7-db82-15e0114e073a"
   },
   "outputs": [],
   "source": [
    "sns.scatterplot(data=tips, x=\"total_bill\", y=\"tip\")"
   ]
  },
  {
   "cell_type": "code",
   "execution_count": null,
   "metadata": {
    "id": "vXJ99NkWVYau"
   },
   "outputs": [],
   "source": [
    "#sns.set_theme(style=\"whitegrid\")\n",
    "sns.set_theme(style=\"ticks\")\n",
    "#sns.set_theme(style=\"darkgrid\")"
   ]
  },
  {
   "cell_type": "code",
   "execution_count": null,
   "metadata": {
    "colab": {
     "base_uri": "https://localhost:8080/",
     "height": 298
    },
    "id": "MOsC2wXjUi-m",
    "outputId": "05775526-adea-49ed-c735-26e58ef331ca"
   },
   "outputs": [],
   "source": [
    "sns.scatterplot(data=tips, x=\"total_bill\", y=\"tip\", hue=\"time\")"
   ]
  },
  {
   "cell_type": "code",
   "execution_count": null,
   "metadata": {
    "colab": {
     "base_uri": "https://localhost:8080/",
     "height": 298
    },
    "id": "8Ls0SUcBUtTa",
    "outputId": "2d7ed0cf-fba3-4c7a-8cce-7bc0009965bb"
   },
   "outputs": [],
   "source": [
    "sns.scatterplot(data=tips, x=\"total_bill\", y=\"tip\", hue=\"time\", style=\"time\")"
   ]
  },
  {
   "cell_type": "code",
   "execution_count": null,
   "metadata": {
    "colab": {
     "base_uri": "https://localhost:8080/",
     "height": 303
    },
    "id": "hUh_F48-ZnsA",
    "outputId": "80f6acbc-1ee5-4675-874c-1708446cb233"
   },
   "outputs": [],
   "source": [
    "sns.scatterplot(data=tips, x=\"total_bill\", y=\"tip\", hue=\"day\", style=\"time\")"
   ]
  },
  {
   "cell_type": "code",
   "execution_count": null,
   "metadata": {
    "colab": {
     "base_uri": "https://localhost:8080/",
     "height": 303
    },
    "id": "vBWciY8LZyOr",
    "outputId": "cea1f6e0-cdeb-4329-a0e6-28dd4cde61cd"
   },
   "outputs": [],
   "source": [
    "sns.scatterplot(data=tips, x=\"total_bill\", y=\"tip\", hue=\"size\")"
   ]
  },
  {
   "cell_type": "code",
   "execution_count": null,
   "metadata": {
    "colab": {
     "base_uri": "https://localhost:8080/",
     "height": 303
    },
    "id": "iC9CRcNHcUsR",
    "outputId": "995eedd8-b129-414e-9743-b5d49902be20"
   },
   "outputs": [],
   "source": [
    "sns.scatterplot(data=tips, x=\"total_bill\", y=\"tip\", hue=\"size\", palette=\"deep\")"
   ]
  },
  {
   "cell_type": "code",
   "execution_count": null,
   "metadata": {
    "colab": {
     "base_uri": "https://localhost:8080/",
     "height": 303
    },
    "id": "YveA1vWbeJOs",
    "outputId": "db987f03-6d67-44b1-df3b-fe33e22d21fe"
   },
   "outputs": [],
   "source": [
    "tip_rate = tips.eval(\"tip / total_bill\").rename(\"tip_rate\")\n",
    "sns.scatterplot(data=tips, x=\"total_bill\", y=\"tip\", hue=tip_rate)"
   ]
  },
  {
   "cell_type": "code",
   "execution_count": null,
   "metadata": {
    "colab": {
     "base_uri": "https://localhost:8080/",
     "height": 303
    },
    "id": "VJ7_v4MUe0Bo",
    "outputId": "36ac758e-14f5-4f22-bb28-bbcc386b9382"
   },
   "outputs": [],
   "source": [
    "sns.scatterplot(data=tips, x=\"total_bill\", y=\"tip\", hue=\"size\", size=\"size\")"
   ]
  },
  {
   "cell_type": "code",
   "execution_count": null,
   "metadata": {
    "colab": {
     "base_uri": "https://localhost:8080/",
     "height": 303
    },
    "id": "SFao8LOze5f7",
    "outputId": "de7d8751-521f-46f5-9395-13d6405dcabb"
   },
   "outputs": [],
   "source": [
    "sns.scatterplot(\n",
    "    data=tips, x=\"total_bill\", y=\"tip\", hue=\"size\", size=\"size\",\n",
    "    sizes=(20, 200), legend=\"full\"\n",
    ")"
   ]
  },
  {
   "cell_type": "code",
   "execution_count": null,
   "metadata": {
    "colab": {
     "base_uri": "https://localhost:8080/",
     "height": 303
    },
    "id": "h-6mPW_Og-kP",
    "outputId": "94cf6743-7a93-428e-845c-739a3b222f01"
   },
   "outputs": [],
   "source": [
    "markers = {\"Lunch\": \"s\", \"Dinner\": \"X\"}\n",
    "sns.scatterplot(data=tips, x=\"total_bill\", y=\"tip\", style=\"time\", markers=markers)"
   ]
  },
  {
   "cell_type": "code",
   "execution_count": null,
   "metadata": {
    "colab": {
     "base_uri": "https://localhost:8080/",
     "height": 303
    },
    "id": "dfCjV645hDmp",
    "outputId": "1977eb82-4ee4-4d30-dd22-9304fb1e09bf"
   },
   "outputs": [],
   "source": [
    "sns.scatterplot(data=tips, x=\"total_bill\", y=\"tip\", s=1000, color=\".2\", marker=\"+\")"
   ]
  },
  {
   "cell_type": "markdown",
   "metadata": {
    "id": "_zkwDwxnhdDC"
   },
   "source": [
    "**Join Plot**"
   ]
  },
  {
   "cell_type": "code",
   "execution_count": null,
   "metadata": {
    "colab": {
     "base_uri": "https://localhost:8080/",
     "height": 423
    },
    "id": "2JWCNWRM8SFd",
    "outputId": "4bd438a4-cb3c-4c8e-d40f-678ba9400151"
   },
   "outputs": [],
   "source": [
    "penguins = sns.load_dataset(\"penguins\")\n",
    "penguins"
   ]
  },
  {
   "cell_type": "code",
   "execution_count": null,
   "metadata": {
    "colab": {
     "base_uri": "https://localhost:8080/",
     "height": 458
    },
    "id": "M7NTVffo_voH",
    "outputId": "2f4aa37f-283f-487e-cebc-058a9f56e060"
   },
   "outputs": [],
   "source": [
    "sns.jointplot(data=penguins, x=\"bill_length_mm\", y=\"bill_depth_mm\")"
   ]
  },
  {
   "cell_type": "code",
   "execution_count": null,
   "metadata": {
    "colab": {
     "base_uri": "https://localhost:8080/",
     "height": 458
    },
    "id": "0fEu6rzO_-lF",
    "outputId": "68f574c9-c348-4b53-b9e0-3bec095bea34"
   },
   "outputs": [],
   "source": [
    "sns.jointplot(data=penguins, x=\"bill_length_mm\", y=\"bill_depth_mm\", hue=\"species\")"
   ]
  },
  {
   "cell_type": "code",
   "execution_count": null,
   "metadata": {
    "colab": {
     "base_uri": "https://localhost:8080/",
     "height": 458
    },
    "id": "zwtILO1OAWIf",
    "outputId": "30849814-86a1-47fe-ad90-578e1e952e87"
   },
   "outputs": [],
   "source": [
    "sns.jointplot(data=penguins, x=\"bill_length_mm\", y=\"bill_depth_mm\", hue=\"species\", kind=\"kde\")"
   ]
  },
  {
   "cell_type": "code",
   "execution_count": null,
   "metadata": {
    "colab": {
     "base_uri": "https://localhost:8080/",
     "height": 458
    },
    "id": "HIoBh5kUAjBM",
    "outputId": "e664de07-9b5c-4d8e-da3c-0ed545750e6c"
   },
   "outputs": [],
   "source": [
    "sns.jointplot(data=penguins, x=\"bill_length_mm\", y=\"bill_depth_mm\", kind=\"hist\")"
   ]
  },
  {
   "cell_type": "code",
   "execution_count": null,
   "metadata": {
    "colab": {
     "base_uri": "https://localhost:8080/",
     "height": 458
    },
    "id": "MWB4emR5A3DP",
    "outputId": "fa7c6e74-9187-40f2-b4c1-d888d9035469"
   },
   "outputs": [],
   "source": [
    "sns.jointplot(data=penguins, x=\"bill_length_mm\", y=\"bill_depth_mm\", kind=\"hex\")"
   ]
  },
  {
   "cell_type": "code",
   "execution_count": null,
   "metadata": {
    "colab": {
     "base_uri": "https://localhost:8080/",
     "height": 455
    },
    "id": "fWPRi1QUA8fP",
    "outputId": "475e3405-9fca-406b-f800-3db6e342c8cd"
   },
   "outputs": [],
   "source": [
    "sns.jointplot(\n",
    "    data=penguins, x=\"bill_length_mm\", y=\"bill_depth_mm\",\n",
    "    marker=\"+\", s=1000, marginal_kws=dict(bins=25, fill=True),\n",
    ")"
   ]
  },
  {
   "cell_type": "code",
   "execution_count": null,
   "metadata": {
    "colab": {
     "base_uri": "https://localhost:8080/",
     "height": 379
    },
    "id": "THaTVQTJBEQo",
    "outputId": "52c76b08-4481-4f72-9bf0-8b68a8615e1b"
   },
   "outputs": [],
   "source": [
    "sns.jointplot(data=penguins, x=\"bill_length_mm\", y=\"bill_depth_mm\", height=5, ratio=5, marginal_ticks=True)"
   ]
  },
  {
   "cell_type": "code",
   "execution_count": null,
   "metadata": {
    "colab": {
     "base_uri": "https://localhost:8080/",
     "height": 455
    },
    "id": "IY0MJn4FBIY9",
    "outputId": "9f17895d-ce8b-4a5d-e46b-a54ab6e7dcf5"
   },
   "outputs": [],
   "source": [
    "g = sns.jointplot(data=penguins, x=\"bill_length_mm\", y=\"bill_depth_mm\")\n",
    "g.plot_joint(sns.kdeplot, color=\"r\", levels=6)\n",
    "g.plot_marginals(sns.rugplot, color=\"r\", height=-.15, clip_on= False)\n"
   ]
  },
  {
   "cell_type": "code",
   "execution_count": null,
   "metadata": {
    "colab": {
     "base_uri": "https://localhost:8080/",
     "height": 742
    },
    "id": "LapNodPaLNGy",
    "outputId": "00870d9a-d5c8-4464-8960-77161ebb3fd7"
   },
   "outputs": [],
   "source": [
    "#The simplest invocation uses scatterplot() for each pairing of the variables and histplot() for the marginal plots along the diagonal:\n",
    "\n",
    "penguins = sns.load_dataset(\"penguins\")\n",
    "sns.pairplot(penguins)"
   ]
  },
  {
   "cell_type": "code",
   "execution_count": null,
   "metadata": {
    "colab": {
     "base_uri": "https://localhost:8080/",
     "height": 742
    },
    "id": "6faheWCsLeUt",
    "outputId": "efabda8b-a431-422b-b3cc-eb42c5bb1dce"
   },
   "outputs": [],
   "source": [
    "#Assigning a hue variable adds a semantic mapping and changes the default marginal plot to a layered kernel density estimate (KDE):\n",
    "\n",
    "sns.pairplot(penguins, hue=\"species\")"
   ]
  },
  {
   "cell_type": "code",
   "execution_count": null,
   "metadata": {
    "colab": {
     "base_uri": "https://localhost:8080/",
     "height": 742
    },
    "id": "BZh-kRPnL-Gc",
    "outputId": "976b41b8-440c-4305-b9c4-6bc999fc639a"
   },
   "outputs": [],
   "source": [
    "#It’s possible to force marginal histograms:\n",
    "\n",
    "sns.pairplot(penguins, hue=\"species\", diag_kind=\"hist\")"
   ]
  },
  {
   "cell_type": "code",
   "execution_count": null,
   "metadata": {
    "colab": {
     "base_uri": "https://localhost:8080/",
     "height": 741
    },
    "id": "t72m2ARBMECY",
    "outputId": "c1a64c1d-0d32-4954-a5d6-37636365aa83"
   },
   "outputs": [],
   "source": [
    "#The kind parameter determines both the diagonal and off-diagonal plotting style. Several options are available, including using kdeplot() to draw KDEs:\n",
    "\n",
    "sns.pairplot(penguins, kind=\"kde\")"
   ]
  },
  {
   "cell_type": "code",
   "execution_count": null,
   "metadata": {
    "colab": {
     "base_uri": "https://localhost:8080/",
     "height": 462
    },
    "id": "Y_h3JcdQNAzg",
    "outputId": "62b3714b-5889-496d-e1a8-e9f677c4bfca"
   },
   "outputs": [],
   "source": [
    "#As with other figure-level functions, the size of the figure is controlled by setting the height of each individual subplot:\n",
    "\n",
    "sns.pairplot(penguins, height=1.5)"
   ]
  },
  {
   "cell_type": "code",
   "execution_count": null,
   "metadata": {
    "colab": {
     "base_uri": "https://localhost:8080/",
     "height": 741
    },
    "id": "olxmdWZjMr1y",
    "outputId": "0c18598b-138a-42dd-d589-a8f054d075f2"
   },
   "outputs": [],
   "source": [
    "#Set corner=True to plot only the lower triangle:\n",
    "\n",
    "sns.pairplot(penguins, corner=True)"
   ]
  },
  {
   "cell_type": "code",
   "execution_count": null,
   "metadata": {
    "colab": {
     "base_uri": "https://localhost:8080/",
     "height": 302
    },
    "id": "eX0BJ5ZRNaIe",
    "outputId": "005216c9-00fd-433b-bc3e-386bf957b870"
   },
   "outputs": [],
   "source": [
    "#Add a rug along one of the axes:\n",
    "\n",
    "import seaborn as sns; sns.set_theme()\n",
    "tips = sns.load_dataset(\"tips\")\n",
    "sns.kdeplot(data=tips, x=\"total_bill\")\n",
    "sns.rugplot(data=tips, x=\"total_bill\")"
   ]
  },
  {
   "cell_type": "code",
   "execution_count": null,
   "metadata": {
    "colab": {
     "base_uri": "https://localhost:8080/",
     "height": 302
    },
    "id": "kzz7NehYNgjh",
    "outputId": "dfd1b3b5-2e47-455e-9458-667d67820afb"
   },
   "outputs": [],
   "source": [
    "#Add a rug along both axes:\n",
    "\n",
    "sns.scatterplot(data=tips, x=\"total_bill\", y=\"tip\")\n",
    "sns.rugplot(data=tips, x=\"total_bill\", y=\"tip\")"
   ]
  },
  {
   "cell_type": "code",
   "execution_count": null,
   "metadata": {
    "colab": {
     "base_uri": "https://localhost:8080/",
     "height": 302
    },
    "id": "LwEeUswSNl-L",
    "outputId": "b5d5d991-d485-4b01-97b3-a98e44c61447"
   },
   "outputs": [],
   "source": [
    "#Represent a third variable with hue mapping:\n",
    "\n",
    "sns.scatterplot(data=tips, x=\"total_bill\", y=\"tip\", hue=\"time\")\n",
    "sns.rugplot(data=tips, x=\"total_bill\", y=\"tip\", hue=\"time\")"
   ]
  },
  {
   "cell_type": "code",
   "execution_count": null,
   "metadata": {
    "colab": {
     "base_uri": "https://localhost:8080/",
     "height": 302
    },
    "id": "QDRvRpjuNrVt",
    "outputId": "19d34b97-8390-4282-81c0-04f573f15056"
   },
   "outputs": [],
   "source": [
    "#Draw a taller rug:\n",
    "\n",
    "sns.scatterplot(data=tips, x=\"total_bill\", y=\"tip\")\n",
    "sns.rugplot(data=tips, x=\"total_bill\", y=\"tip\", height=.1)"
   ]
  },
  {
   "cell_type": "code",
   "execution_count": null,
   "metadata": {
    "colab": {
     "base_uri": "https://localhost:8080/",
     "height": 305
    },
    "id": "IzqrnnPKNxlx",
    "outputId": "af243821-d636-48c2-a895-76ed44e7ef70"
   },
   "outputs": [],
   "source": [
    "#Put the rug outside the axes:\n",
    "\n",
    "sns.scatterplot(data=tips, x=\"total_bill\", y=\"tip\")\n",
    "sns.rugplot(data=tips, x=\"total_bill\", y=\"tip\", height=-.02, clip_on=False,lw = 1)\n"
   ]
  },
  {
   "cell_type": "code",
   "execution_count": null,
   "metadata": {
    "colab": {
     "base_uri": "https://localhost:8080/",
     "height": 303
    },
    "id": "DXptlkHXN220",
    "outputId": "51279d07-0266-4341-997a-b5f1f20febc8"
   },
   "outputs": [],
   "source": [
    "#Show the density of a larger dataset using thinner lines and alpha blending:\n",
    "\n",
    "diamonds = sns.load_dataset(\"diamonds\")\n",
    "sns.scatterplot(data=diamonds, x=\"carat\", y=\"price\", s=5)\n",
    "sns.rugplot(data=diamonds, x=\"carat\", y=\"price\", lw=1, alpha=.005)"
   ]
  },
  {
   "cell_type": "code",
   "execution_count": null,
   "metadata": {
    "colab": {
     "base_uri": "https://localhost:8080/",
     "height": 285
    },
    "id": "dyEOv-QcN637",
    "outputId": "172a5c81-6d57-416f-cadd-35f9028628a2"
   },
   "outputs": [],
   "source": [
    "#Call the function with the name of a seaborn style to set the default for all plots:\n",
    "\n",
    "sns.set_style(\"whitegrid\")\n",
    "sns.barplot(x=[\"A\", \"B\", \"C\"], y=[1, 3, 2])"
   ]
  },
  {
   "cell_type": "code",
   "execution_count": null,
   "metadata": {
    "colab": {
     "base_uri": "https://localhost:8080/",
     "height": 286
    },
    "id": "3YB2gNcDPjSH",
    "outputId": "2f5f883f-36ea-498d-9ff8-4742190592b8"
   },
   "outputs": [],
   "source": [
    "#You can also selectively override seaborn’s default parameter values:\n",
    "\n",
    "sns.set_style(\"darkgrid\", {\"grid.color\": \".6\", \"grid.linestyle\": \":\"})\n",
    "sns.lineplot(x=[\"A\", \"B\", \"C\"], y=[1, 3, 2])"
   ]
  },
  {
   "cell_type": "code",
   "execution_count": null,
   "metadata": {
    "colab": {
     "base_uri": "https://localhost:8080/",
     "height": 423
    },
    "id": "wHBYCk-GQZWF",
    "outputId": "421c6e09-f6d4-4ba4-e0b2-c89a249cfd31"
   },
   "outputs": [],
   "source": [
    "#Draw a set of vertical bar plots grouped by a categorical variable:\n",
    "\n",
    "sns.set_theme(style=\"whitegrid\")\n",
    "tips = sns.load_dataset(\"tips\")\n",
    "tips"
   ]
  },
  {
   "cell_type": "code",
   "execution_count": null,
   "metadata": {
    "colab": {
     "base_uri": "https://localhost:8080/",
     "height": 285
    },
    "id": "-fCh_81mJu-L",
    "outputId": "da9aa429-f1b8-4606-96fb-025a13d89601"
   },
   "outputs": [],
   "source": [
    "ax = sns.barplot(x=\"day\", y=\"total_bill\", data=tips,saturation=1, errcolor='.26', errwidth=5, capsize=0)"
   ]
  },
  {
   "cell_type": "code",
   "execution_count": null,
   "metadata": {
    "colab": {
     "base_uri": "https://localhost:8080/",
     "height": 285
    },
    "id": "yvnw9ua8Qf4_",
    "outputId": "445a91c8-4ac0-48fe-cf46-76b660789d8d"
   },
   "outputs": [],
   "source": [
    "#Draw a set of vertical bars with nested grouping by a two variables:\n",
    "\n",
    "ax = sns.barplot(x=\"day\", y=\"total_bill\", hue=\"sex\", data=tips)"
   ]
  },
  {
   "cell_type": "code",
   "execution_count": null,
   "metadata": {
    "colab": {
     "base_uri": "https://localhost:8080/",
     "height": 285
    },
    "id": "gt4_5AoHQlUB",
    "outputId": "47d57f1f-c8fb-4f83-e351-bfa9d6d44fc9"
   },
   "outputs": [],
   "source": [
    "#Draw a set of horizontal bars:\n",
    "\n",
    "ax = sns.barplot(x=\"tip\", y=\"day\", data=tips)"
   ]
  },
  {
   "cell_type": "code",
   "execution_count": null,
   "metadata": {
    "colab": {
     "base_uri": "https://localhost:8080/",
     "height": 285
    },
    "id": "YEQaTIlkQsKM",
    "outputId": "6eb0eccd-339c-4cfa-a4c6-b0d766a20898"
   },
   "outputs": [],
   "source": [
    "#Control bar order by passing an explicit order:\n",
    "\n",
    "ax = sns.barplot(x=\"time\", y=\"tip\", data=tips,\n",
    "                 order=[\"Dinner\", \"Lunch\"])\n"
   ]
  },
  {
   "cell_type": "code",
   "execution_count": null,
   "metadata": {
    "id": "UJR2okpD0K5W"
   },
   "outputs": [],
   "source": [
    "tips_agg = (tips\n",
    "    .groupby(\"day\")\n",
    "    .agg(tip=(\"tip\", \"median\"))\n",
    ")"
   ]
  },
  {
   "cell_type": "code",
   "execution_count": null,
   "metadata": {
    "colab": {
     "base_uri": "https://localhost:8080/",
     "height": 206
    },
    "id": "mRljGw1Y0PJi",
    "outputId": "8d1b2d5e-cdf3-4ece-c305-b6af21eaccb1"
   },
   "outputs": [],
   "source": [
    "tips_agg"
   ]
  },
  {
   "cell_type": "code",
   "execution_count": null,
   "metadata": {
    "colab": {
     "base_uri": "https://localhost:8080/",
     "height": 285
    },
    "id": "4TMMIksoQxaz",
    "outputId": "9e14e496-3081-4fa9-db84-f1b54c6a0d84"
   },
   "outputs": [],
   "source": [
    "#Use median as the estimate of central tendency:\n",
    "\n",
    "from numpy import median\n",
    "ax = sns.barplot(x=\"day\", y=\"tip\", data=tips, estimator=median)"
   ]
  },
  {
   "cell_type": "code",
   "execution_count": null,
   "metadata": {
    "colab": {
     "base_uri": "https://localhost:8080/",
     "height": 286
    },
    "id": "qqDbj7luQ3tX",
    "outputId": "9b0e6b13-8ced-4c28-8ade-7a9a9362b012"
   },
   "outputs": [],
   "source": [
    "#Show the standard error of the mean with the error bars:\n",
    "\n",
    "ax = sns.barplot(x=\"day\", y=\"tip\", data=tips, ci=68)\n"
   ]
  },
  {
   "cell_type": "code",
   "execution_count": null,
   "metadata": {
    "colab": {
     "base_uri": "https://localhost:8080/",
     "height": 285
    },
    "id": "uTV4IG8OQ8bF",
    "outputId": "9253121d-a9bc-4c86-b4c7-2d04e14aa58d"
   },
   "outputs": [],
   "source": [
    "#Show standard deviation of observations instead of a confidence interval:\n",
    "\n",
    "ax = sns.barplot(x=\"day\", y=\"tip\", data=tips, ci=\"sd\")"
   ]
  },
  {
   "cell_type": "code",
   "execution_count": null,
   "metadata": {
    "colab": {
     "base_uri": "https://localhost:8080/",
     "height": 285
    },
    "id": "li57gfLSRBS9",
    "outputId": "4c7eac0c-e7a7-4dab-a6e1-440ad2b38d3b"
   },
   "outputs": [],
   "source": [
    "#Add “caps” to the error bars:\n",
    "\n",
    "ax = sns.barplot(x=\"day\", y=\"tip\", data=tips, capsize=.2)"
   ]
  },
  {
   "cell_type": "code",
   "execution_count": null,
   "metadata": {
    "colab": {
     "base_uri": "https://localhost:8080/",
     "height": 285
    },
    "id": "98QQpCKFRH1e",
    "outputId": "3cebb07c-9c4e-4fd0-9605-0614ba40fb43"
   },
   "outputs": [],
   "source": [
    "#Use a different color palette for the bars:\n",
    "\n",
    "ax = sns.barplot(x=\"size\", y=\"total_bill\", data=tips,\n",
    "                 palette=\"Blues_d\")"
   ]
  },
  {
   "cell_type": "code",
   "execution_count": null,
   "metadata": {
    "colab": {
     "base_uri": "https://localhost:8080/",
     "height": 285
    },
    "id": "wkHLZagIRR0j",
    "outputId": "699b2071-9ed0-4dfe-9b71-f490e5ca58f9"
   },
   "outputs": [],
   "source": [
    "#Plot all bars in a single color:\n",
    "\n",
    "ax = sns.barplot(x=\"size\", y=\"total_bill\", data=tips,\n",
    "                 color=\"salmon\", saturation=.5)"
   ]
  },
  {
   "cell_type": "code",
   "execution_count": null,
   "metadata": {
    "colab": {
     "base_uri": "https://localhost:8080/",
     "height": 365
    },
    "id": "ai_nT7FaRd_h",
    "outputId": "e225a5df-068e-422b-d1b4-6a0e37d5c1e6"
   },
   "outputs": [],
   "source": [
    "#Use catplot() to combine a barplot() and a FacetGrid. This allows grouping within additional categorical variables. Using catplot() is safer than using FacetGrid directly, as it ensures synchronization of variable order across facets:\n",
    "\n",
    "g = sns.catplot(x=\"sex\", y=\"total_bill\",\n",
    "                hue=\"smoker\", col=\"time\",\n",
    "                data=tips, kind=\"bar\",\n",
    "                height=5, aspect=.7);"
   ]
  },
  {
   "cell_type": "markdown",
   "metadata": {
    "id": "v_5zsoz6lo1X"
   },
   "source": [
    "**Count Plot**"
   ]
  },
  {
   "cell_type": "code",
   "execution_count": null,
   "metadata": {
    "colab": {
     "base_uri": "https://localhost:8080/",
     "height": 423
    },
    "id": "iEaSmIFp35qy",
    "outputId": "79124abc-9957-48ec-b11a-aea6603e9e7b"
   },
   "outputs": [],
   "source": [
    "titanic = sns.load_dataset(\"titanic\")\n",
    "titanic"
   ]
  },
  {
   "cell_type": "code",
   "execution_count": null,
   "metadata": {
    "colab": {
     "base_uri": "https://localhost:8080/",
     "height": 285
    },
    "id": "wN6N5OZjlCcz",
    "outputId": "af0b748b-b2cc-4801-dc91-dcabfb34d93c"
   },
   "outputs": [],
   "source": [
    "#Show value counts for a single categorical variable:\n",
    "\n",
    "sns.set_theme(style=\"darkgrid\")\n",
    "titanic = sns.load_dataset(\"titanic\")\n",
    "ax = sns.countplot(x=\"class\", data=titanic)"
   ]
  },
  {
   "cell_type": "code",
   "execution_count": null,
   "metadata": {
    "colab": {
     "base_uri": "https://localhost:8080/",
     "height": 285
    },
    "id": "uzfdw0KAlyKb",
    "outputId": "1bcb7a3c-158e-4266-bf4f-7ad64bf58738"
   },
   "outputs": [],
   "source": [
    "#Show value counts for two categorical variables:\n",
    "\n",
    "ax = sns.countplot(x=\"class\", hue=\"who\", data=titanic)\n"
   ]
  },
  {
   "cell_type": "code",
   "execution_count": null,
   "metadata": {
    "colab": {
     "base_uri": "https://localhost:8080/",
     "height": 285
    },
    "id": "-B53a_dul9cZ",
    "outputId": "2520d654-3453-4bca-edc7-27b961f20a0f"
   },
   "outputs": [],
   "source": [
    "#Plot the bars horizontally:\n",
    "\n",
    "ax = sns.countplot(y=\"class\", hue=\"who\", data=titanic)"
   ]
  },
  {
   "cell_type": "code",
   "execution_count": null,
   "metadata": {
    "colab": {
     "base_uri": "https://localhost:8080/",
     "height": 285
    },
    "id": "OxkH1jWnmC-K",
    "outputId": "62dc8df5-aa27-45ee-a181-9966e661292d"
   },
   "outputs": [],
   "source": [
    "#Use a different color palette:\n",
    "\n",
    "ax = sns.countplot(x=\"who\", data=titanic, palette=\"Set3\")\n"
   ]
  },
  {
   "cell_type": "code",
   "execution_count": null,
   "metadata": {
    "colab": {
     "base_uri": "https://localhost:8080/",
     "height": 293
    },
    "id": "LjvFlkvPmQ81",
    "outputId": "22f14f9f-76ea-466d-9537-857b9856401b"
   },
   "outputs": [],
   "source": [
    "#Use catplot() to combine a countplot() and a FacetGrid. This allows grouping within additional categorical variables. Using catplot() is safer than using FacetGrid directly, as it ensures synchronization of variable order across facets:\n",
    "\n",
    "g = sns.catplot(x=\"class\", hue=\"who\", col=\"survived\",\n",
    "                data=titanic, kind=\"count\",\n",
    "                height=4, aspect=.7);"
   ]
  },
  {
   "cell_type": "code",
   "execution_count": null,
   "metadata": {
    "colab": {
     "base_uri": "https://localhost:8080/"
    },
    "id": "1rJ8x8SW9rI4",
    "outputId": "82e51e47-2481-4c92-fe09-0afc23daf232"
   },
   "outputs": [],
   "source": [
    "tips[\"total_bill\"].median()"
   ]
  },
  {
   "cell_type": "code",
   "execution_count": null,
   "metadata": {
    "colab": {
     "base_uri": "https://localhost:8080/"
    },
    "id": "V4DmE27j5roq",
    "outputId": "b7ab0131-f78d-4d40-a732-53a98048477a"
   },
   "outputs": [],
   "source": [
    "tips[\"total_bill\"].describe()"
   ]
  },
  {
   "cell_type": "code",
   "execution_count": null,
   "metadata": {
    "colab": {
     "base_uri": "https://localhost:8080/",
     "height": 285
    },
    "id": "58OZ1vnJmweU",
    "outputId": "be823736-44a3-482f-a3bb-cd865a9544e4"
   },
   "outputs": [],
   "source": [
    "#Draw a single horizontal boxplot:\n",
    "sns.set_theme(style=\"whitegrid\")\n",
    "tips = sns.load_dataset(\"tips\")\n",
    "ax = sns.boxplot(x=tips[\"total_bill\"])"
   ]
  },
  {
   "cell_type": "code",
   "execution_count": null,
   "metadata": {
    "colab": {
     "base_uri": "https://localhost:8080/",
     "height": 285
    },
    "id": "ElUlib49m2fS",
    "outputId": "6cbf703c-4e40-4b44-c5e9-8cb406cdd4b7"
   },
   "outputs": [],
   "source": [
    "#Draw a vertical boxplot grouped by a categorical variable:\n",
    "\n",
    "ax = sns.boxplot(x=\"day\", y=\"total_bill\", data=tips)"
   ]
  },
  {
   "cell_type": "code",
   "execution_count": null,
   "metadata": {
    "colab": {
     "base_uri": "https://localhost:8080/",
     "height": 285
    },
    "id": "R12t3nRznBDK",
    "outputId": "15ed8528-0067-478e-840d-af427dbf1012"
   },
   "outputs": [],
   "source": [
    "#Draw a boxplot with nested grouping by two categorical variables:\n",
    "\n",
    "ax = sns.boxplot(x=\"day\", y=\"total_bill\", hue=\"smoker\",\n",
    "                 data=tips, palette=\"Set3\")"
   ]
  },
  {
   "cell_type": "code",
   "execution_count": null,
   "metadata": {
    "colab": {
     "base_uri": "https://localhost:8080/",
     "height": 285
    },
    "id": "IOIKPyvtnHU2",
    "outputId": "29e988c9-0c59-4ff8-97ee-721b305c72e9"
   },
   "outputs": [],
   "source": [
    "#Draw a boxplot with nested grouping when some bins are empty:\n",
    "\n",
    "ax = sns.boxplot(x=\"day\", y=\"total_bill\", hue=\"time\",\n",
    "                 data=tips, linewidth=2.5)"
   ]
  },
  {
   "cell_type": "code",
   "execution_count": null,
   "metadata": {
    "colab": {
     "base_uri": "https://localhost:8080/",
     "height": 285
    },
    "id": "u4tGAxURnN5S",
    "outputId": "20ef864d-a59d-43a6-8099-8e8201ebbd18"
   },
   "outputs": [],
   "source": [
    "#Control box order by passing an explicit order:\n",
    "\n",
    "ax = sns.boxplot(x=\"time\", y=\"tip\", data=tips,\n",
    "                 order=[\"Dinner\", \"Lunch\"])"
   ]
  },
  {
   "cell_type": "code",
   "execution_count": null,
   "metadata": {
    "colab": {
     "base_uri": "https://localhost:8080/",
     "height": 268
    },
    "id": "sbWtDpfHnTP5",
    "outputId": "0bcd0787-d3b1-4dfd-bd4c-1c379fa1e5ce"
   },
   "outputs": [],
   "source": [
    "#Draw a boxplot for each numeric variable in a DataFrame:\n",
    "\n",
    "iris = sns.load_dataset(\"iris\")\n",
    "ax = sns.boxplot(data=iris, orient=\"h\", palette=\"Set2\")"
   ]
  },
  {
   "cell_type": "code",
   "execution_count": null,
   "metadata": {
    "colab": {
     "base_uri": "https://localhost:8080/",
     "height": 285
    },
    "id": "m_RDKOWpndrD",
    "outputId": "5cc2709d-9582-49b8-e187-501c0cbda9c1"
   },
   "outputs": [],
   "source": [
    "#Use swarmplot() to show the datapoints on top of the boxes:\n",
    "\n",
    "ax = sns.boxplot(x=\"day\", y=\"total_bill\", data=tips)\n",
    "ax = sns.swarmplot(x=\"day\", y=\"total_bill\", data=tips, color=\".25\")\n"
   ]
  },
  {
   "cell_type": "code",
   "execution_count": null,
   "metadata": {
    "colab": {
     "base_uri": "https://localhost:8080/",
     "height": 293
    },
    "id": "tmmnV0-nnigR",
    "outputId": "404e22f2-da5c-42f7-ea86-f578c820c9cb"
   },
   "outputs": [],
   "source": [
    "#Use catplot() to combine a boxplot() and a FacetGrid. This allows grouping within additional categorical variables. Using catplot() is safer than using FacetGrid directly, as it ensures synchronization of variable order across facets:\n",
    "\n",
    "g = sns.catplot(x=\"sex\", y=\"total_bill\",\n",
    "                hue=\"smoker\", col=\"time\",\n",
    "                data=tips, kind=\"box\",\n",
    "                height=4, aspect=.7);"
   ]
  },
  {
   "cell_type": "code",
   "execution_count": null,
   "metadata": {
    "colab": {
     "base_uri": "https://localhost:8080/",
     "height": 285
    },
    "id": "Ypw0hez5KAMB",
    "outputId": "83cdff51-8661-485c-d1cd-fd755f493c1a"
   },
   "outputs": [],
   "source": [
    "#Draw a single horizontal violinplot:\n",
    "sns.set_theme(style=\"whitegrid\")\n",
    "tips = sns.load_dataset(\"tips\")\n",
    "ax = sns.violinplot(x=tips[\"total_bill\"])"
   ]
  },
  {
   "cell_type": "code",
   "execution_count": null,
   "metadata": {
    "colab": {
     "base_uri": "https://localhost:8080/",
     "height": 285
    },
    "id": "zh7cjvRgSvOx",
    "outputId": "d25c27d6-a7c1-4d7a-8819-9d7109734866"
   },
   "outputs": [],
   "source": [
    "#Draw a vertical violinplot grouped by a categorical variable:\n",
    "\n",
    "ax = sns.violinplot(x=\"day\", y=\"total_bill\", data=tips)"
   ]
  },
  {
   "cell_type": "code",
   "execution_count": null,
   "metadata": {
    "colab": {
     "base_uri": "https://localhost:8080/",
     "height": 285
    },
    "id": "sRiFxK_rS18b",
    "outputId": "eb00d0a3-598d-48ba-98c1-b19ab99b8287"
   },
   "outputs": [],
   "source": [
    "#Draw a violinplot with nested grouping by two categorical variables:\n",
    "\n",
    "ax = sns.violinplot(x=\"day\", y=\"total_bill\", hue=\"smoker\",\n",
    "                    data=tips, palette=\"muted\")"
   ]
  },
  {
   "cell_type": "code",
   "execution_count": null,
   "metadata": {
    "colab": {
     "base_uri": "https://localhost:8080/",
     "height": 285
    },
    "id": "7W90t1uXS59R",
    "outputId": "a0e7b078-13c9-4c85-ffe7-c1d369dae176"
   },
   "outputs": [],
   "source": [
    "#Draw split violins to compare the across the hue variable:\n",
    "\n",
    "ax = sns.violinplot(x=\"day\", y=\"total_bill\", hue=\"smoker\",\n",
    "                    data=tips, palette=\"muted\", split=True)"
   ]
  },
  {
   "cell_type": "code",
   "execution_count": null,
   "metadata": {
    "colab": {
     "base_uri": "https://localhost:8080/",
     "height": 285
    },
    "id": "jB3ZoWB_S-YJ",
    "outputId": "025f92a2-9a43-4cd7-b915-78cb767e9822"
   },
   "outputs": [],
   "source": [
    "#Control violin order by passing an explicit order:\n",
    "\n",
    "ax = sns.violinplot(x=\"time\", y=\"tip\", data=tips,\n",
    "                    order=[\"Dinner\", \"Lunch\"])\n"
   ]
  },
  {
   "cell_type": "code",
   "execution_count": null,
   "metadata": {
    "colab": {
     "base_uri": "https://localhost:8080/",
     "height": 285
    },
    "id": "jgOBfPVrTCp-",
    "outputId": "a5a96398-452f-4a06-d3e8-4d7ddd75c12a"
   },
   "outputs": [],
   "source": [
    "#Scale the violin width by the number of observations in each bin:\n",
    "\n",
    "ax = sns.violinplot(x=\"day\", y=\"total_bill\", hue=\"sex\",\n",
    "                    data=tips, palette=\"Set2\", split=True,\n",
    "                    scale=\"count\")"
   ]
  },
  {
   "cell_type": "code",
   "execution_count": null,
   "metadata": {
    "colab": {
     "base_uri": "https://localhost:8080/",
     "height": 285
    },
    "id": "YJFDPGznTGe7",
    "outputId": "8b8b0635-efbc-41ef-f303-7fb43739bac7"
   },
   "outputs": [],
   "source": [
    "#Draw the quartiles as horizontal lines instead of a mini-box:\n",
    "\n",
    "ax = sns.violinplot(x=\"day\", y=\"total_bill\", hue=\"sex\",\n",
    "                    data=tips, palette=\"Set2\", split=True,\n",
    "                    scale=\"count\", inner=\"quartile\")"
   ]
  },
  {
   "cell_type": "code",
   "execution_count": null,
   "metadata": {
    "colab": {
     "base_uri": "https://localhost:8080/",
     "height": 285
    },
    "id": "IBFe6LcTTKFs",
    "outputId": "368e18ad-4daf-42bc-ee76-8925265bf0a2"
   },
   "outputs": [],
   "source": [
    "#Show each observation with a stick inside the violin:\n",
    "\n",
    "ax = sns.violinplot(x=\"day\", y=\"total_bill\", hue=\"sex\",\n",
    "                    data=tips, palette=\"Set2\", split=True,\n",
    "                    scale=\"count\", inner=\"stick\")"
   ]
  },
  {
   "cell_type": "code",
   "execution_count": null,
   "metadata": {
    "colab": {
     "base_uri": "https://localhost:8080/",
     "height": 285
    },
    "id": "Wja2KlYITV5k",
    "outputId": "3d5694ba-ad81-4f47-d4e8-6a235e5c165e"
   },
   "outputs": [],
   "source": [
    "#Use a narrow bandwidth to reduce the amount of smoothing:\n",
    "\n",
    "ax = sns.violinplot(x=\"day\", y=\"total_bill\", hue=\"sex\",\n",
    "                    data=tips, palette=\"Set2\", split=True,\n",
    "                    scale=\"count\", inner=\"stick\",\n",
    "                    scale_hue=False, bw=.2)"
   ]
  },
  {
   "cell_type": "code",
   "execution_count": null,
   "metadata": {
    "colab": {
     "base_uri": "https://localhost:8080/",
     "height": 293
    },
    "id": "hYw-_USXTpa5",
    "outputId": "9944f032-a2be-4c99-c227-c7ac8edb318f"
   },
   "outputs": [],
   "source": [
    "#Use catplot() to combine a violinplot() and a FacetGrid. This allows grouping within additional categorical variables. Using catplot() is safer than using FacetGrid directly, as it ensures synchronization of variable order across facets:\n",
    "\n",
    "g = sns.catplot(x=\"sex\", y=\"total_bill\",\n",
    "                hue=\"smoker\", col=\"time\",\n",
    "                data=tips, kind=\"violin\", split=True,\n",
    "                height=4, aspect=.7);"
   ]
  },
  {
   "cell_type": "code",
   "execution_count": null,
   "metadata": {
    "colab": {
     "base_uri": "https://localhost:8080/",
     "height": 285
    },
    "id": "i5zMPcbPvBmX",
    "outputId": "29564bb2-925a-40c8-d21d-a9c7eafacebc"
   },
   "outputs": [],
   "source": [
    "#Draw a single horizontal strip plot:\n",
    "\n",
    "sns.set_theme(style=\"whitegrid\")\n",
    "tips = sns.load_dataset(\"tips\")\n",
    "ax = sns.stripplot(x=tips[\"total_bill\"])"
   ]
  },
  {
   "cell_type": "code",
   "execution_count": null,
   "metadata": {
    "colab": {
     "base_uri": "https://localhost:8080/",
     "height": 285
    },
    "id": "dMCImfgyxyst",
    "outputId": "5cf6bb36-d937-4425-e92c-7b22958edafd"
   },
   "outputs": [],
   "source": [
    "#Group the strips by a categorical variable:\n",
    "\n",
    "ax = sns.stripplot(x=\"day\", y=\"total_bill\", data=tips)"
   ]
  },
  {
   "cell_type": "code",
   "execution_count": null,
   "metadata": {
    "colab": {
     "base_uri": "https://localhost:8080/",
     "height": 285
    },
    "id": "3dSr3A80x4RK",
    "outputId": "224d371a-3ca2-4d94-92aa-a970729aee9a"
   },
   "outputs": [],
   "source": [
    "#Use a smaller amount of jitter:\n",
    "\n",
    "ax = sns.stripplot(x=\"day\", y=\"total_bill\", data=tips, jitter=.01)"
   ]
  },
  {
   "cell_type": "code",
   "execution_count": null,
   "metadata": {
    "colab": {
     "base_uri": "https://localhost:8080/",
     "height": 285
    },
    "id": "EBWZEowlx9Rp",
    "outputId": "5d0a483b-618d-40e3-ee6a-56c1b3d949a8"
   },
   "outputs": [],
   "source": [
    "#Draw horizontal strips:\n",
    "\n",
    "ax = sns.stripplot(x=\"total_bill\", y=\"day\", data=tips)"
   ]
  },
  {
   "cell_type": "code",
   "execution_count": null,
   "metadata": {
    "colab": {
     "base_uri": "https://localhost:8080/",
     "height": 285
    },
    "id": "nqzeGwPJyBZC",
    "outputId": "474f0c0e-2db1-4bf6-f793-d669eb972b3f"
   },
   "outputs": [],
   "source": [
    "#Draw outlines around the points:\n",
    "\n",
    "ax = sns.stripplot(x=\"total_bill\", y=\"day\", data=tips,\n",
    "                   linewidth=1)"
   ]
  },
  {
   "cell_type": "code",
   "execution_count": null,
   "metadata": {
    "colab": {
     "base_uri": "https://localhost:8080/",
     "height": 285
    },
    "id": "xapXlXGByF_V",
    "outputId": "bbbf0fe6-c59b-4d4e-8f93-c6e1100d4e17"
   },
   "outputs": [],
   "source": [
    "#Nest the strips within a second categorical variable:\n",
    "\n",
    "ax = sns.stripplot(x=\"sex\", y=\"total_bill\", hue=\"day\", data=tips)\n"
   ]
  },
  {
   "cell_type": "code",
   "execution_count": null,
   "metadata": {
    "colab": {
     "base_uri": "https://localhost:8080/",
     "height": 285
    },
    "id": "RXlGC_fTyOej",
    "outputId": "4d57ec13-ff8e-47c8-f8f8-4f4fcae1037f"
   },
   "outputs": [],
   "source": [
    "#Control strip order by passing an explicit order:\n",
    "\n",
    "ax = sns.stripplot(x=\"time\", y=\"tip\", data=tips,\n",
    "                   order=[\"Dinner\", \"Lunch\"])"
   ]
  },
  {
   "cell_type": "code",
   "execution_count": null,
   "metadata": {
    "colab": {
     "base_uri": "https://localhost:8080/",
     "height": 285
    },
    "id": "nPLjL0xiyT4u",
    "outputId": "7e0c76e6-0c11-45d5-89cc-f4eb963e5bf8"
   },
   "outputs": [],
   "source": [
    "#Draw strips with large points and different aesthetics:\n",
    "\n",
    "ax =  sns.stripplot(x=\"day\", y=\"total_bill\", hue=\"smoker\",\n",
    "                   data=tips, palette=\"Set2\", size=20, marker=\"D\",\n",
    "                   edgecolor=\"gray\", alpha=.25)\n"
   ]
  },
  {
   "cell_type": "code",
   "execution_count": null,
   "metadata": {
    "colab": {
     "base_uri": "https://localhost:8080/",
     "height": 285
    },
    "id": "-vjUylPRymRV",
    "outputId": "c41eb951-6fd0-4a1c-bf7b-d72b0b1df6cf"
   },
   "outputs": [],
   "source": [
    "#Draw strips of observations on top of a box plot:\n",
    "\n",
    "import numpy as np\n",
    "ax = sns.boxplot(x=\"tip\", y=\"day\", data=tips, whis=np.inf)\n",
    "ax = sns.stripplot(x=\"tip\", y=\"day\", data=tips, color=\".3\")"
   ]
  },
  {
   "cell_type": "code",
   "execution_count": null,
   "metadata": {
    "colab": {
     "base_uri": "https://localhost:8080/",
     "height": 285
    },
    "id": "38dWtvfPytCD",
    "outputId": "e188e91e-674b-4aaf-f6a3-de81c020fc5e"
   },
   "outputs": [],
   "source": [
    "#Draw strips of observations on top of a violin plot:\n",
    "\n",
    "ax = sns.violinplot(x=\"day\", y=\"total_bill\", data=tips,\n",
    "                    inner=None, color=\".8\")\n",
    "ax = sns.stripplot(x=\"day\", y=\"total_bill\", data=tips)"
   ]
  },
  {
   "cell_type": "code",
   "execution_count": null,
   "metadata": {
    "colab": {
     "base_uri": "https://localhost:8080/",
     "height": 293
    },
    "id": "i59LIN0Zy0Lz",
    "outputId": "1c1f347a-486e-4a09-e323-9547814dac05"
   },
   "outputs": [],
   "source": [
    "#Use catplot() to combine a stripplot() and a FacetGrid. This allows grouping within additional categorical variables. Using catplot() is safer than using FacetGrid directly, as it ensures synchronization of variable order across facets:\n",
    "\n",
    "g = sns.catplot(x=\"sex\", y=\"total_bill\",\n",
    "                hue=\"smoker\", col=\"time\",\n",
    "                data=tips, kind=\"strip\",\n",
    "                height=4, aspect=.7);\n"
   ]
  },
  {
   "cell_type": "code",
   "execution_count": null,
   "metadata": {
    "colab": {
     "base_uri": "https://localhost:8080/",
     "height": 285
    },
    "id": "don8j-L9zKpL",
    "outputId": "cc554ae4-6642-41c6-f5cf-83d2517224b9"
   },
   "outputs": [],
   "source": [
    "#Draw a single horizontal swarm plot:\n",
    "\n",
    "sns.set_theme(style=\"whitegrid\")\n",
    "tips = sns.load_dataset(\"tips\")\n",
    "ax = sns.swarmplot(x=tips[\"total_bill\"])"
   ]
  },
  {
   "cell_type": "code",
   "execution_count": null,
   "metadata": {
    "colab": {
     "base_uri": "https://localhost:8080/",
     "height": 285
    },
    "id": "MGvbK_trzQMA",
    "outputId": "efec81ff-9699-4d16-867e-b5fb2984a83c"
   },
   "outputs": [],
   "source": [
    "#Group the swarms by a categorical variable:\n",
    "\n",
    "ax = sns.swarmplot(x=\"day\", y=\"total_bill\", data=tips)"
   ]
  },
  {
   "cell_type": "code",
   "execution_count": null,
   "metadata": {
    "colab": {
     "base_uri": "https://localhost:8080/",
     "height": 285
    },
    "id": "vM2WWXvszWOZ",
    "outputId": "0caf65d9-a2c0-400f-da4d-2f4e7d6aea4a"
   },
   "outputs": [],
   "source": [
    "#Draw horizontal swarms:\n",
    "\n",
    "ax = sns.swarmplot(x=\"total_bill\", y=\"day\", data=tips)"
   ]
  },
  {
   "cell_type": "code",
   "execution_count": null,
   "metadata": {
    "colab": {
     "base_uri": "https://localhost:8080/",
     "height": 285
    },
    "id": "VdSPByqrzZrd",
    "outputId": "a3f1e7c9-9a33-4800-acc1-803806c76a41"
   },
   "outputs": [],
   "source": [
    "#Color the points using a second categorical variable:\n",
    "\n",
    "ax = sns.swarmplot(x=\"day\", y=\"total_bill\", hue=\"sex\", data=tips)"
   ]
  },
  {
   "cell_type": "code",
   "execution_count": null,
   "metadata": {
    "colab": {
     "base_uri": "https://localhost:8080/",
     "height": 340
    },
    "id": "V2L72c82zfzz",
    "outputId": "1bea34bd-0584-4ec4-c0f8-920fd7d3286b"
   },
   "outputs": [],
   "source": [
    "#Split each level of the hue variable along the categorical axis:\n",
    "\n",
    "ax = sns.swarmplot(x=\"day\", y=\"total_bill\", hue=\"smoker\",\n",
    "                   data=tips, palette=\"Set2\", dodge=True)"
   ]
  },
  {
   "cell_type": "code",
   "execution_count": null,
   "metadata": {
    "colab": {
     "base_uri": "https://localhost:8080/",
     "height": 285
    },
    "id": "7lehirSfzkbD",
    "outputId": "c0d70a08-9535-4bb0-a4f2-d245d218ad8a"
   },
   "outputs": [],
   "source": [
    "#Control swarm order by passing an explicit order:\n",
    "\n",
    "ax = sns.swarmplot(x=\"time\", y=\"total_bill\", data=tips,\n",
    "                   order=[\"Dinner\", \"Lunch\"])"
   ]
  },
  {
   "cell_type": "code",
   "execution_count": null,
   "metadata": {
    "colab": {
     "base_uri": "https://localhost:8080/",
     "height": 285
    },
    "id": "o9uoXorwzqcY",
    "outputId": "63dc7bab-1d21-4f96-cca4-4daab55b50fa"
   },
   "outputs": [],
   "source": [
    "#Plot using larger points:\n",
    "\n",
    "ax = sns.swarmplot(x=\"time\", y=\"total_bill\", data=tips, size=6)"
   ]
  },
  {
   "cell_type": "code",
   "execution_count": null,
   "metadata": {
    "colab": {
     "base_uri": "https://localhost:8080/",
     "height": 285
    },
    "id": "f8lGZPTszupD",
    "outputId": "7d846ad7-0d1f-43c7-b541-67b13bb01ee9"
   },
   "outputs": [],
   "source": [
    "#Draw swarms of observations on top of a box plot:\n",
    "\n",
    "ax = sns.boxplot(x=\"total_bill\", y=\"day\", data=tips, whis=np.inf)\n",
    "ax = sns.swarmplot(x=\"total_bill\", y=\"day\", data=tips, color=\".2\")"
   ]
  },
  {
   "cell_type": "code",
   "execution_count": null,
   "metadata": {
    "colab": {
     "base_uri": "https://localhost:8080/",
     "height": 285
    },
    "id": "rSL1ixHnz9Mk",
    "outputId": "470e047a-2543-4458-f53c-43e918d06c33"
   },
   "outputs": [],
   "source": [
    "#Draw swarms of observations on top of a violin plot:\n",
    "\n",
    "ax = sns.violinplot(x=\"day\", y=\"total_bill\", data=tips, inner=None)\n",
    "ax = sns.swarmplot(x=\"day\", y=\"total_bill\", data=tips,\n",
    "                   color=\"white\", edgecolor=\"gray\")"
   ]
  },
  {
   "cell_type": "code",
   "execution_count": null,
   "metadata": {
    "colab": {
     "base_uri": "https://localhost:8080/",
     "height": 293
    },
    "id": "i34pqet40BX3",
    "outputId": "b1d31f99-373e-47be-ea6d-df0c393dad8a"
   },
   "outputs": [],
   "source": [
    "#Use catplot() to combine a swarmplot() and a FacetGrid. This allows grouping within additional categorical variables. Using catplot() is safer than using FacetGrid directly, as it ensures synchronization of variable order across facets:\n",
    "\n",
    "g = sns.catplot(x=\"sex\", y=\"total_bill\",\n",
    "                hue=\"smoker\", col=\"time\",\n",
    "                data=tips, kind=\"swarm\",\n",
    "                height=4, aspect=.7);"
   ]
  },
  {
   "cell_type": "code",
   "execution_count": null,
   "metadata": {
    "id": "ydwKdFWk2IW2"
   },
   "outputs": [],
   "source": [
    "#Plot a heatmap for a numpy array:"
   ]
  },
  {
   "cell_type": "code",
   "execution_count": null,
   "metadata": {
    "id": "_QZ_n4Y10vwW"
   },
   "outputs": [],
   "source": [
    "import numpy as np; np.random.seed(0)\n",
    "import seaborn as sns; sns.set_theme()\n",
    "uniform_data = np.random.rand(10, 12)\n",
    "uniform_data"
   ]
  },
  {
   "cell_type": "code",
   "execution_count": null,
   "metadata": {
    "colab": {
     "base_uri": "https://localhost:8080/",
     "height": 268
    },
    "id": "-s3G3NYR2E_Z",
    "outputId": "9def192d-47f0-4a83-f19c-41188aafee5d"
   },
   "outputs": [],
   "source": [
    "ax = sns.heatmap(uniform_data)"
   ]
  },
  {
   "cell_type": "code",
   "execution_count": null,
   "metadata": {
    "colab": {
     "base_uri": "https://localhost:8080/",
     "height": 272
    },
    "id": "Kxq5XIyp2RpR",
    "outputId": "4285cb20-9b11-46fe-950f-6d03d56dc5d0"
   },
   "outputs": [],
   "source": [
    "#Change the limits of the colormap:\n",
    "\n",
    "ax = sns.heatmap(uniform_data, vmin=0, vmax=1)"
   ]
  },
  {
   "cell_type": "code",
   "execution_count": null,
   "metadata": {
    "colab": {
     "base_uri": "https://localhost:8080/"
    },
    "id": "DrG4iqeq1rrP",
    "outputId": "3aeaf209-a331-47e9-e267-b2822cda6645"
   },
   "outputs": [],
   "source": [
    "normal_data = np.random.randn(10, 12)\n",
    "normal_data"
   ]
  },
  {
   "cell_type": "code",
   "execution_count": null,
   "metadata": {
    "colab": {
     "base_uri": "https://localhost:8080/",
     "height": 268
    },
    "id": "m78sg3h22eAm",
    "outputId": "34defc30-66a9-4eb2-b8d6-ccb28ff19181"
   },
   "outputs": [],
   "source": [
    "#Plot a heatmap for data centered on 0 with a diverging colormap:\n",
    "\n",
    "normal_data = np.random.randn(10, 12)\n",
    "ax = sns.heatmap(normal_data, center=0)"
   ]
  },
  {
   "cell_type": "code",
   "execution_count": null,
   "metadata": {
    "colab": {
     "base_uri": "https://localhost:8080/",
     "height": 423
    },
    "id": "wUhtznsmpmQb",
    "outputId": "300732c3-9c2f-47e8-f376-9d2bb582f0dd"
   },
   "outputs": [],
   "source": [
    "flights = sns.load_dataset(\"flights\")\n",
    "flights"
   ]
  },
  {
   "cell_type": "code",
   "execution_count": null,
   "metadata": {
    "colab": {
     "base_uri": "https://localhost:8080/",
     "height": 457
    },
    "id": "h39gDnFD2tBt",
    "outputId": "4bb6f0a9-04ee-4523-8f9c-17e6a7cfeb45"
   },
   "outputs": [],
   "source": [
    "flights = flights.pivot(\"month\", \"year\", \"passengers\")\n",
    "flights"
   ]
  },
  {
   "cell_type": "code",
   "execution_count": null,
   "metadata": {
    "colab": {
     "base_uri": "https://localhost:8080/",
     "height": 303
    },
    "id": "l_H-EF0p2ilJ",
    "outputId": "3365fcfc-a1a2-45f1-ffb5-d137b804312b"
   },
   "outputs": [],
   "source": [
    "#Plot a dataframe with meaningful row and column labels:\n",
    "ax = sns.heatmap(flights)"
   ]
  },
  {
   "cell_type": "code",
   "execution_count": null,
   "metadata": {
    "colab": {
     "base_uri": "https://localhost:8080/",
     "height": 295
    },
    "id": "rQIEahsb2nyQ",
    "outputId": "95ca32c5-3a59-4370-d004-00b4df3efc1f"
   },
   "outputs": [],
   "source": [
    "#Annotate each cell with the numeric value using integer formatting:\n",
    "\n",
    "ax = sns.heatmap(flights, annot=True, fmt=\"d\")"
   ]
  },
  {
   "cell_type": "code",
   "execution_count": null,
   "metadata": {
    "colab": {
     "base_uri": "https://localhost:8080/",
     "height": 303
    },
    "id": "iY0OsHxC2x2J",
    "outputId": "4ba6485d-f2b4-4646-b76b-cb7d3fb3f64c"
   },
   "outputs": [],
   "source": [
    "#Add lines between each cell:\n",
    "\n",
    "ax = sns.heatmap(flights, linewidths=.5)"
   ]
  },
  {
   "cell_type": "code",
   "execution_count": null,
   "metadata": {
    "colab": {
     "base_uri": "https://localhost:8080/",
     "height": 303
    },
    "id": "ss9-JEco21pV",
    "outputId": "d2a37ce5-d4b2-4cca-8992-d32036297487"
   },
   "outputs": [],
   "source": [
    "#Use a different colormap:\n",
    "\n",
    "ax = sns.heatmap(flights, cmap=\"YlGnBu\")\n"
   ]
  },
  {
   "cell_type": "code",
   "execution_count": null,
   "metadata": {
    "colab": {
     "base_uri": "https://localhost:8080/",
     "height": 268
    },
    "id": "W8012x__2_7U",
    "outputId": "a7134050-ec45-4ef3-e14a-41cbe5bc8841"
   },
   "outputs": [],
   "source": [
    "#Plot every other column label and don’t plot row labels:\n",
    "\n",
    "data = np.random.randn(50, 20)\n",
    "ax = sns.heatmap(data, xticklabels=3, yticklabels=False)"
   ]
  },
  {
   "cell_type": "code",
   "execution_count": null,
   "metadata": {
    "colab": {
     "base_uri": "https://localhost:8080/",
     "height": 303
    },
    "id": "BiWyGxw03Sr2",
    "outputId": "f130bfae-7d4f-43d8-84cf-1760c5251085"
   },
   "outputs": [],
   "source": [
    "#Don’t draw a colorbar:\n",
    "\n",
    "ax = sns.heatmap(flights, cbar=False)"
   ]
  },
  {
   "cell_type": "code",
   "execution_count": null,
   "metadata": {
    "colab": {
     "base_uri": "https://localhost:8080/",
     "height": 724
    },
    "id": "gybU_Nsa5-Yn",
    "outputId": "7b439db2-cbc0-419b-9ec6-5efd3efc6509"
   },
   "outputs": [],
   "source": [
    "#Calling the constructor sets up a blank grid of subplots with each row and one column corresponding to a numeric variable in the dataset:\n",
    "\n",
    "penguins = sns.load_dataset(\"penguins\")\n",
    "g = sns.PairGrid(penguins)"
   ]
  },
  {
   "cell_type": "code",
   "execution_count": null,
   "metadata": {
    "colab": {
     "base_uri": "https://localhost:8080/",
     "height": 737
    },
    "id": "HP668oow6TMF",
    "outputId": "2df2667a-bdbd-47e5-d053-5c6fc2d38385"
   },
   "outputs": [],
   "source": [
    "#Passing a bivariate function to PairGrid.map() will draw a bivariate plot on every axes:\n",
    "\n",
    "g = sns.PairGrid(penguins)\n",
    "g.map(sns.scatterplot)"
   ]
  },
  {
   "cell_type": "code",
   "execution_count": null,
   "metadata": {
    "colab": {
     "base_uri": "https://localhost:8080/",
     "height": 737
    },
    "id": "PC0RIOQG6XFf",
    "outputId": "bb223ff7-85ec-4219-af7a-4ac717155cf3"
   },
   "outputs": [],
   "source": [
    "#Passing separate functions to PairGrid.map_diag() and PairGrid.map_offdiag() will show each variable’s marginal distribution on the diagonal:\n",
    "\n",
    "g = sns.PairGrid(penguins)\n",
    "g.map_diag(sns.histplot)\n",
    "g.map_offdiag(sns.scatterplot)"
   ]
  },
  {
   "cell_type": "code",
   "execution_count": null,
   "metadata": {
    "colab": {
     "base_uri": "https://localhost:8080/",
     "height": 737
    },
    "id": "QgzXCDLq6eGR",
    "outputId": "fb2dde9e-975c-4d16-c09d-ddd221a2ea83"
   },
   "outputs": [],
   "source": [
    "#It’s also possible to use different functions on the upper and lower triangles of the plot (which are otherwise redundant):\n",
    "\n",
    "g = sns.PairGrid(penguins, diag_sharey=False)\n",
    "g.map_upper(sns.scatterplot)\n",
    "g.map_lower(sns.kdeplot)\n",
    "g.map_diag(sns.kdeplot)"
   ]
  },
  {
   "cell_type": "code",
   "execution_count": null,
   "metadata": {
    "colab": {
     "base_uri": "https://localhost:8080/",
     "height": 738
    },
    "id": "0LOZ4yT-6y74",
    "outputId": "133c5908-e673-4094-9073-b312f5f5e6cb"
   },
   "outputs": [],
   "source": [
    "#Or to avoid the redundancy altogether:\n",
    "\n",
    "g = sns.PairGrid(penguins,diag_sharey=False, corner=True)\n",
    "g.map_lower(sns.scatterplot)\n",
    "g.map_diag(sns.kdeplot)"
   ]
  },
  {
   "cell_type": "code",
   "execution_count": null,
   "metadata": {
    "colab": {
     "base_uri": "https://localhost:8080/",
     "height": 737
    },
    "id": "CC9gvOfk7BcP",
    "outputId": "33168527-f110-4240-c746-f133f5782f2c"
   },
   "outputs": [],
   "source": [
    "#The PairGrid constructor accepts a hue variable. This variable is passed directly to functions that understand it:\n",
    "\n",
    "g = sns.PairGrid(penguins, hue=\"species\")\n",
    "g.map_diag(sns.histplot)\n",
    "g.map_offdiag(sns.scatterplot)\n",
    "g.add_legend()"
   ]
  },
  {
   "cell_type": "code",
   "execution_count": null,
   "metadata": {
    "colab": {
     "base_uri": "https://localhost:8080/",
     "height": 737
    },
    "id": "2hfrh3C47FKF",
    "outputId": "61c65a67-a4c2-4cb2-fd5a-5c374d9ea99a"
   },
   "outputs": [],
   "source": [
    "#But you can also pass matplotlib functions, in which case a groupby is performed internally and a separate plot is drawn for each level:\n",
    "\n",
    "g = sns.PairGrid(penguins, hue=\"species\")\n",
    "g.map_diag(plt.hist)\n",
    "g.map_offdiag(plt.scatter)\n",
    "g.add_legend()"
   ]
  },
  {
   "cell_type": "code",
   "execution_count": null,
   "metadata": {
    "colab": {
     "base_uri": "https://localhost:8080/",
     "height": 737
    },
    "id": "UUbvP4J77J_4",
    "outputId": "cac2fb9c-4b74-4d98-ec25-50fba237723b"
   },
   "outputs": [],
   "source": [
    "#Additional semantic variables can be assigned by passing data vectors directly while mapping the function:\n",
    "\n",
    "g = sns.PairGrid(penguins, hue=\"species\")\n",
    "g.map_diag(sns.histplot)\n",
    "g.map_offdiag(sns.scatterplot, size=penguins[\"sex\"])\n",
    "g.add_legend(title=\"\", adjust_subtitles=True)\n"
   ]
  },
  {
   "cell_type": "code",
   "execution_count": null,
   "metadata": {
    "colab": {
     "base_uri": "https://localhost:8080/",
     "height": 561
    },
    "id": "SWzh6kjM7OMD",
    "outputId": "225cc12b-026e-4820-b92e-f608382f64aa"
   },
   "outputs": [],
   "source": [
    "#When using seaborn functions that can implement a numeric hue mapping, you will want to disable mapping of the variable on the diagonal axes. Note that the hue variable is excluded from the list of variables shown by default:\n",
    "\n",
    "g = sns.PairGrid(penguins, hue=\"body_mass_g\")\n",
    "g.map_diag(sns.histplot, hue=None, color=\".3\")\n",
    "g.map_offdiag(sns.scatterplot)\n",
    "g.add_legend()"
   ]
  },
  {
   "cell_type": "code",
   "execution_count": null,
   "metadata": {
    "colab": {
     "base_uri": "https://localhost:8080/",
     "height": 561
    },
    "id": "aQYH1_tp7SiW",
    "outputId": "6a546749-777b-4c5c-879a-aea22ac1eff3"
   },
   "outputs": [],
   "source": [
    "#The vars parameter can be used to control exactly which variables are used:\n",
    "\n",
    "variables = [\"body_mass_g\", \"bill_length_mm\", \"flipper_length_mm\"]\n",
    "g = sns.PairGrid(penguins, hue=\"body_mass_g\", vars=variables)\n",
    "g.map_diag(sns.histplot, hue=None, color=\".3\")\n",
    "g.map_offdiag(sns.scatterplot)\n",
    "g.add_legend()"
   ]
  },
  {
   "cell_type": "code",
   "execution_count": null,
   "metadata": {
    "colab": {
     "base_uri": "https://localhost:8080/",
     "height": 208
    },
    "id": "5o1HizLV7XHU",
    "outputId": "b8f5e6eb-9da3-486b-dce5-6214f0ff0d02"
   },
   "outputs": [],
   "source": [
    "#The plot need not be square: separate variables can be used to define the rows and columns:\n",
    "\n",
    "x_vars = [\"body_mass_g\", \"bill_length_mm\", \"bill_depth_mm\", \"flipper_length_mm\"]\n",
    "y_vars = [\"body_mass_g\"]\n",
    "g = sns.PairGrid(penguins, hue=\"species\", x_vars=x_vars, y_vars=y_vars)\n",
    "g.map_diag(sns.histplot, color=\".3\")\n",
    "g.map_offdiag(sns.scatterplot)\n",
    "g.add_legend()"
   ]
  },
  {
   "cell_type": "code",
   "execution_count": null,
   "metadata": {
    "colab": {
     "base_uri": "https://localhost:8080/",
     "height": 737
    },
    "id": "MbYHDy1J7a0B",
    "outputId": "5d460b05-f66c-4ccc-b803-b266b4f0fbf7"
   },
   "outputs": [],
   "source": [
    "#It can be useful to explore different approaches to resolving multiple distributions on the diagonal axes:\n",
    "\n",
    "g = sns.PairGrid(penguins, hue=\"species\")\n",
    "g.map_diag(sns.histplot, multiple=\"stack\", element=\"step\")\n",
    "g.map_offdiag(sns.scatterplot)\n",
    "g.add_legend()"
   ]
  },
  {
   "cell_type": "code",
   "execution_count": null,
   "metadata": {
    "colab": {
     "base_uri": "https://localhost:8080/",
     "height": 238
    },
    "id": "DPA4OdoJ7qVH",
    "outputId": "055d8a95-140d-4ba5-bd86-be9fd422c5de"
   },
   "outputs": [],
   "source": [
    "#Calling the constructor requires a long-form data object. This initializes the grid, but doesn’t plot anything on it:\n",
    "\n",
    "tips = sns.load_dataset(\"tips\")\n",
    "sns.FacetGrid(tips)\n"
   ]
  },
  {
   "cell_type": "code",
   "execution_count": null,
   "metadata": {
    "colab": {
     "base_uri": "https://localhost:8080/",
     "height": 454
    },
    "id": "Ibl_rkXf7v67",
    "outputId": "4f3ec3a9-83e7-4882-a538-f566c002be4d"
   },
   "outputs": [],
   "source": [
    "#Assign column and/or row variables to add more subplots to the figure:\n",
    "\n",
    "sns.FacetGrid(tips, col=\"time\", row=\"sex\")\n"
   ]
  },
  {
   "cell_type": "code",
   "execution_count": null,
   "metadata": {
    "colab": {
     "base_uri": "https://localhost:8080/",
     "height": 454
    },
    "id": "Q5nZAAYW7zIR",
    "outputId": "9bca8827-4391-4415-cb73-f54992e63550"
   },
   "outputs": [],
   "source": [
    "#To draw a plot on every facet, pass a function and the name of one or more columns in the dataframe to FacetGrid.map():\n",
    "\n",
    "g = sns.FacetGrid(tips, col=\"time\",  row=\"sex\")\n",
    "g.map(sns.scatterplot, \"total_bill\", \"tip\")"
   ]
  },
  {
   "cell_type": "code",
   "execution_count": null,
   "metadata": {
    "colab": {
     "base_uri": "https://localhost:8080/",
     "height": 454
    },
    "id": "lTXBB5Xo74CQ",
    "outputId": "d84e4f5b-78b7-4a99-8567-611417aceea9"
   },
   "outputs": [],
   "source": [
    "#The variable specification in FacetGrid.map() requires a positional argument mapping, but if the function has a data parameter and accepts named variable assignments, you can also use FacetGrid.map_dataframe():\n",
    "\n",
    "g = sns.FacetGrid(tips, col=\"time\",  row=\"sex\")\n",
    "g.map_dataframe(sns.histplot, x=\"total_bill\")\n"
   ]
  },
  {
   "cell_type": "code",
   "execution_count": null,
   "metadata": {
    "colab": {
     "base_uri": "https://localhost:8080/",
     "height": 454
    },
    "id": "RqtTQc6t785H",
    "outputId": "86282fbd-f625-4ca5-b810-1da89d4018cc"
   },
   "outputs": [],
   "source": [
    "#Notice how the bins have different widths in each facet. A separate plot is drawn on each facet, so if the plotting function derives any parameters from the data, they may not be shared across facets. You can pass additional keyword arguments to synchronize them. But when possible, using a figure-level function like displot() will take care of this bookkeeping for you:\n",
    "\n",
    "g = sns.FacetGrid(tips, col=\"time\", row=\"sex\")\n",
    "g.map_dataframe(sns.histplot, x=\"total_bill\", binwidth=2, binrange=(0, 60))\n"
   ]
  },
  {
   "cell_type": "code",
   "execution_count": null,
   "metadata": {
    "colab": {
     "base_uri": "https://localhost:8080/",
     "height": 238
    },
    "id": "GmtbYyqa8BjY",
    "outputId": "31d63699-c778-45eb-c6a2-65ebfb9174b7"
   },
   "outputs": [],
   "source": [
    "#The FacetGrid constructor accepts a hue parameter. Setting this will condition the data on another variable and make multiple plots in different colors. Where possible, label information is tracked so that a single legend can be drawn:\n",
    "\n",
    "g = sns.FacetGrid(tips, col=\"time\", hue=\"sex\")\n",
    "g.map_dataframe(sns.scatterplot, x=\"total_bill\", y=\"tip\")\n",
    "g.add_legend()"
   ]
  },
  {
   "cell_type": "code",
   "execution_count": null,
   "metadata": {
    "colab": {
     "base_uri": "https://localhost:8080/",
     "height": 238
    },
    "id": "VQhADM_i8Gwv",
    "outputId": "83030d1e-4aa2-4909-9980-73d55854ef0a"
   },
   "outputs": [],
   "source": [
    "#When hue is set on the FacetGrid, however, a separate plot is drawn for each level of the variable. If the plotting function understands hue, it is better to let it handle that logic. But it is important to ensure that each facet will use the same hue mapping. In the sample tips data, the sex column has a categorical datatype, which ensures this. Otherwise, you may want to use the hue_order or similar parameter:\n",
    "\n",
    "g = sns.FacetGrid(tips, col=\"time\")\n",
    "g.map_dataframe(sns.scatterplot, x=\"total_bill\", y=\"tip\", hue=\"sex\")\n",
    "g.add_legend()"
   ]
  },
  {
   "cell_type": "code",
   "execution_count": null,
   "metadata": {
    "colab": {
     "base_uri": "https://localhost:8080/",
     "height": 274
    },
    "id": "jEw131Jw8Ktt",
    "outputId": "3677e706-9bf9-4d61-f36b-157460ce749a"
   },
   "outputs": [],
   "source": [
    "#The size and shape of the plot is specified at the level of each subplot using the height and aspect parameters:\n",
    "\n",
    "g = sns.FacetGrid(tips, col=\"day\", height=3.5, aspect=.65)\n",
    "g.map(sns.histplot, \"total_bill\")"
   ]
  },
  {
   "cell_type": "code",
   "execution_count": null,
   "metadata": {
    "colab": {
     "base_uri": "https://localhost:8080/",
     "height": 382
    },
    "id": "eEYZ39wv8Pqi",
    "outputId": "b7e76355-a649-4afc-f430-0b09bdbb976b"
   },
   "outputs": [],
   "source": [
    "#If the variable assigned to col has many levels, it is possible to “wrap” it so that it spans multiple rows:\n",
    "\n",
    "g = sns.FacetGrid(tips, col=\"size\", height=2.5, col_wrap=3)\n",
    "g.map(sns.histplot, \"total_bill\")\n"
   ]
  },
  {
   "cell_type": "code",
   "execution_count": null,
   "metadata": {
    "colab": {
     "base_uri": "https://localhost:8080/",
     "height": 221
    },
    "id": "6tVdjVWW8UEg",
    "outputId": "77bc1360-9989-4411-c584-5f92b6804487"
   },
   "outputs": [],
   "source": [
    "#To add horizontal or vertical reference lines on every facet, use FacetGrid.refline():\n",
    "\n",
    "g = sns.FacetGrid(tips, col=\"time\", margin_titles=True)\n",
    "g.map_dataframe(sns.scatterplot, x=\"total_bill\", y=\"tip\")\n",
    "g.refline(y=tips[\"tip\"].median())"
   ]
  },
  {
   "cell_type": "code",
   "execution_count": null,
   "metadata": {
    "colab": {
     "base_uri": "https://localhost:8080/",
     "height": 238
    },
    "id": "KmiDxLLn8aFE",
    "outputId": "effd5535-6670-4c14-96e6-d971e3fb08d4"
   },
   "outputs": [],
   "source": [
    "#You can pass custom functions to plot with, or to annotate each facet. Your custom function must use the matplotlib state-machine interface to plot on the “current” axes, and it should catch additional keyword arguments:\n",
    "\n",
    "import matplotlib.pyplot as plt\n",
    "def annotate(data, **kws):\n",
    "    n = len(data)\n",
    "    ax = plt.gca()\n",
    "    ax.text(.1, .6, f\"N = {n}\", transform=ax.transAxes)\n",
    "\n",
    "g = sns.FacetGrid(tips, col=\"time\")\n",
    "g.map_dataframe(sns.scatterplot, x=\"total_bill\", y=\"tip\")\n",
    "g.map_dataframe(annotate)"
   ]
  },
  {
   "cell_type": "code",
   "execution_count": null,
   "metadata": {
    "colab": {
     "base_uri": "https://localhost:8080/",
     "height": 437
    },
    "id": "SQCf3hO08eiN",
    "outputId": "166eb8b9-e013-4f20-facb-6d54a67cc527"
   },
   "outputs": [],
   "source": [
    "#The FacetGrid object has some other useful parameters and methods for tweaking the plot:\n",
    "\n",
    "g = sns.FacetGrid(tips, col=\"sex\", row=\"time\", margin_titles=True)\n",
    "g.map_dataframe(sns.scatterplot, x=\"total_bill\", y=\"tip\")\n",
    "g.set_axis_labels(\"Total bill ($)\", \"Tip ($)\")\n",
    "g.set_titles(col_template=\"{col_name} patrons\", row_template=\"{row_name}\")\n",
    "g.set(xlim=(0, 60), ylim=(0, 12), xticks=[10, 30, 50], yticks=[2, 6, 10])\n",
    "g.tight_layout()\n",
    "g.savefig(\"facet_plot.png\")\n"
   ]
  },
  {
   "cell_type": "code",
   "execution_count": null,
   "metadata": {
    "colab": {
     "base_uri": "https://localhost:8080/",
     "height": 437
    },
    "id": "i66McRAq8i7n",
    "outputId": "9761566f-b868-41ec-93de-1d3b0749ca45"
   },
   "outputs": [],
   "source": [
    "#You also have access to the underlying matplotlib objects for additional tweaking:\n",
    "\n",
    "g = sns.FacetGrid(tips, col=\"sex\", row=\"time\", margin_titles=True, despine=False)\n",
    "g.map_dataframe(sns.scatterplot, x=\"total_bill\", y=\"tip\")\n",
    "g.figure.subplots_adjust(wspace=0, hspace=0)\n",
    "for (row_val, col_val), ax in g.axes_dict.items():\n",
    "    if row_val == \"Lunch\" and col_val == \"Female\":\n",
    "        ax.set_facecolor(\".95\")\n",
    "    else:\n",
    "        ax.set_facecolor((0, 0, 0, 0))\n"
   ]
  },
  {
   "cell_type": "code",
   "execution_count": null,
   "metadata": {
    "id": "0bhPmxY9-TPP"
   },
   "outputs": [],
   "source": [
    "sns.set_theme(color_codes=True)"
   ]
  },
  {
   "cell_type": "code",
   "execution_count": null,
   "metadata": {
    "id": "sgBO1b1_-ju-"
   },
   "outputs": [],
   "source": [
    "tips = sns.load_dataset(\"tips\")\n"
   ]
  }
 ],
 "metadata": {
  "colab": {
   "collapsed_sections": [],
   "name": "Seaborn.ipynb",
   "provenance": []
  },
  "kernelspec": {
   "display_name": "Python 3 (ipykernel)",
   "language": "python",
   "name": "python3"
  },
  "language_info": {
   "codemirror_mode": {
    "name": "ipython",
    "version": 3
   },
   "file_extension": ".py",
   "mimetype": "text/x-python",
   "name": "python",
   "nbconvert_exporter": "python",
   "pygments_lexer": "ipython3",
   "version": "3.10.9"
  }
 },
 "nbformat": 4,
 "nbformat_minor": 1
}

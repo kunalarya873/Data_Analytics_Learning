{
 "cells": [
  {
   "cell_type": "code",
   "execution_count": null,
   "id": "a25444e9",
   "metadata": {},
   "outputs": [],
   "source": [
    "class Car:\n",
    "    pass\n",
    "class GasCar(Car):\n",
    "    pass\n",
    "class ECar(Car):\n",
    "    pass\n",
    "class HybridCar(GasCar, ECar):\n",
    "    pass"
   ]
  },
  {
   "cell_type": "code",
   "execution_count": null,
   "id": "b066eb8a",
   "metadata": {},
   "outputs": [],
   "source": []
  },
  {
   "cell_type": "code",
   "execution_count": null,
   "id": "77a7cbde",
   "metadata": {},
   "outputs": [],
   "source": []
  },
  {
   "cell_type": "code",
   "execution_count": null,
   "id": "7cda356d",
   "metadata": {},
   "outputs": [],
   "source": []
  },
  {
   "cell_type": "code",
   "execution_count": null,
   "id": "b3904a64",
   "metadata": {},
   "outputs": [],
   "source": []
  },
  {
   "cell_type": "code",
   "execution_count": null,
   "id": "6310127e",
   "metadata": {},
   "outputs": [],
   "source": []
  },
  {
   "cell_type": "code",
   "execution_count": null,
   "id": "359541d9",
   "metadata": {},
   "outputs": [],
   "source": []
  },
  {
   "cell_type": "code",
   "execution_count": null,
   "id": "220cefe5",
   "metadata": {},
   "outputs": [],
   "source": [
    "class Car:\n",
    "    @classmethod\n",
    "    def drive(cls):\n",
    "        print('Car is driving')\n",
    "class GasCar(Car):\n",
    "    @classmethod\n",
    "    def drive(cls):\n",
    "        print('GasCar is driving')\n",
    "class ECar(Car):\n",
    "    @classmethod\n",
    "    def drive(cls):\n",
    "        print('ECar is driving')\n",
    "class HybridCar(GasCar, ECar):\n",
    "    @classmethod\n",
    "    def drive(cls):\n",
    "        print('HybridCar is driving')"
   ]
  },
  {
   "cell_type": "code",
   "execution_count": null,
   "id": "5e19a1dc",
   "metadata": {},
   "outputs": [],
   "source": []
  },
  {
   "cell_type": "code",
   "execution_count": null,
   "id": "44362d44",
   "metadata": {},
   "outputs": [],
   "source": []
  },
  {
   "cell_type": "code",
   "execution_count": null,
   "id": "fcf696a9",
   "metadata": {},
   "outputs": [],
   "source": []
  },
  {
   "cell_type": "code",
   "execution_count": null,
   "id": "77bf29a6",
   "metadata": {},
   "outputs": [],
   "source": []
  },
  {
   "cell_type": "code",
   "execution_count": null,
   "id": "2531e32f",
   "metadata": {},
   "outputs": [],
   "source": [
    "class Car:\n",
    "    def __init__(self):\n",
    "        print(\"Car init\")\n",
    "class GasCar(Car):\n",
    "    def __init__(self):\n",
    "        print(\"GasCar init\")\n",
    "class ECar(Car):\n",
    "    def __init__(self):\n",
    "        print(\"ECar init\")\n",
    "class HybridCar(GasCar, ECar):\n",
    "    def __init__(self):\n",
    "        print(\"HybridCar init\")"
   ]
  },
  {
   "cell_type": "code",
   "execution_count": null,
   "id": "4b1fd85f",
   "metadata": {},
   "outputs": [],
   "source": []
  },
  {
   "cell_type": "code",
   "execution_count": null,
   "id": "4cb94e1f",
   "metadata": {},
   "outputs": [],
   "source": []
  }
 ],
 "metadata": {
  "kernelspec": {
   "display_name": "Python 3 (ipykernel)",
   "language": "python",
   "name": "python3"
  },
  "language_info": {
   "codemirror_mode": {
    "name": "ipython",
    "version": 3
   },
   "file_extension": ".py",
   "mimetype": "text/x-python",
   "name": "python",
   "nbconvert_exporter": "python",
   "pygments_lexer": "ipython3",
   "version": "3.11.4"
  }
 },
 "nbformat": 4,
 "nbformat_minor": 5
}
